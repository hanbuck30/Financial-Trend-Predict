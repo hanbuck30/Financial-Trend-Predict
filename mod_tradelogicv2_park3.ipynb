{
 "cells": [
  {
   "cell_type": "markdown",
   "metadata": {
    "id": "cFtaSn_APY4F"
   },
   "source": [
    "# **필요 라이브러리 다운로드**"
   ]
  },
  {
   "cell_type": "code",
   "execution_count": 1,
   "metadata": {
    "colab": {
     "base_uri": "https://localhost:8080/"
    },
    "id": "3v3SpMx6NFn8",
    "outputId": "5b40d11f-c59d-4cc7-92f6-db62854d352e"
   },
   "outputs": [
    {
     "name": "stdout",
     "output_type": "stream",
     "text": [
      "--2023-12-05 04:57:51--  http://prdownloads.sourceforge.net/ta-lib/ta-lib-0.4.0-src.tar.gz\n",
      "Resolving prdownloads.sourceforge.net (prdownloads.sourceforge.net)... 204.68.111.105\n",
      "Connecting to prdownloads.sourceforge.net (prdownloads.sourceforge.net)|204.68.111.105|:80... connected.\n",
      "HTTP request sent, awaiting response... 301 Moved Permanently\n",
      "Location: http://downloads.sourceforge.net/project/ta-lib/ta-lib/0.4.0/ta-lib-0.4.0-src.tar.gz [following]\n",
      "--2023-12-05 04:57:51--  http://downloads.sourceforge.net/project/ta-lib/ta-lib/0.4.0/ta-lib-0.4.0-src.tar.gz\n",
      "Resolving downloads.sourceforge.net (downloads.sourceforge.net)... 204.68.111.105\n",
      "Reusing existing connection to prdownloads.sourceforge.net:80.\n",
      "HTTP request sent, awaiting response... 302 Found\n",
      "Location: http://nchc.dl.sourceforge.net/project/ta-lib/ta-lib/0.4.0/ta-lib-0.4.0-src.tar.gz [following]\n",
      "--2023-12-05 04:57:51--  http://nchc.dl.sourceforge.net/project/ta-lib/ta-lib/0.4.0/ta-lib-0.4.0-src.tar.gz\n",
      "Resolving nchc.dl.sourceforge.net (nchc.dl.sourceforge.net)... 140.110.96.69, 2001:e10:ffff:1f02::17\n",
      "Connecting to nchc.dl.sourceforge.net (nchc.dl.sourceforge.net)|140.110.96.69|:80... connected.\n",
      "HTTP request sent, awaiting response... 200 OK\n",
      "Length: 1330299 (1.3M) [application/x-gzip]\n",
      "Saving to: ‘ta-lib-0.4.0-src.tar.gz.7’\n",
      "\n",
      "100%[======================================>] 1,330,299   1.12MB/s   in 1.1s   \n",
      "\n",
      "2023-12-05 04:57:52 (1.12 MB/s) - ‘ta-lib-0.4.0-src.tar.gz.7’ saved [1330299/1330299]\n",
      "\n",
      "ta-lib/\n",
      "ta-lib/config.sub\n",
      "ta-lib/aclocal.m4\n",
      "ta-lib/CHANGELOG.TXT\n",
      "ta-lib/include/\n",
      "ta-lib/include/ta_abstract.h\n",
      "ta-lib/include/ta_func.h\n",
      "ta-lib/include/ta_common.h\n",
      "ta-lib/include/ta_config.h.in\n",
      "ta-lib/include/Makefile.am\n",
      "ta-lib/include/ta_libc.h\n",
      "ta-lib/include/ta_defs.h\n",
      "ta-lib/missing\n",
      "ta-lib/ta-lib.spec.in\n",
      "ta-lib/config.guess\n",
      "ta-lib/Makefile.in\n",
      "ta-lib/ta-lib.dpkg.in\n",
      "ta-lib/Makefile.am\n",
      "ta-lib/autogen.sh\n",
      "ta-lib/install-sh\n",
      "ta-lib/configure\n",
      "ta-lib/depcomp\n",
      "ta-lib/HISTORY.TXT\n",
      "ta-lib/configure.in\n",
      "ta-lib/autom4te.cache/\n",
      "ta-lib/autom4te.cache/output.0\n",
      "ta-lib/autom4te.cache/requests\n",
      "ta-lib/autom4te.cache/output.1\n",
      "ta-lib/autom4te.cache/traces.0\n",
      "ta-lib/autom4te.cache/traces.1\n",
      "ta-lib/ltmain.sh\n",
      "ta-lib/ta-lib-config.in\n",
      "ta-lib/src/\n",
      "ta-lib/src/ta_func/\n",
      "ta-lib/src/ta_func/ta_MACDFIX.c\n",
      "ta-lib/src/ta_func/ta_CDLPIERCING.c\n",
      "ta-lib/src/ta_func/ta_DIV.c\n",
      "ta-lib/src/ta_func/ta_ROCR100.c\n",
      "ta-lib/src/ta_func/ta_ADXR.c\n",
      "ta-lib/src/ta_func/ta_MAVP.c\n",
      "ta-lib/src/ta_func/ta_CDLCLOSINGMARUBOZU.c\n",
      "ta-lib/src/ta_func/ta_COSH.c\n",
      "ta-lib/src/ta_func/ta_EXP.c\n",
      "ta-lib/src/ta_func/ta_MINMAXINDEX.c\n",
      "ta-lib/src/ta_func/ta_SQRT.c\n",
      "ta-lib/src/ta_func/ta_FLOOR.c\n",
      "ta-lib/src/ta_func/ta_CDLCONCEALBABYSWALL.c\n",
      "ta-lib/src/ta_func/ta_NATR.c\n",
      "ta-lib/src/ta_func/ta_CDLHARAMICROSS.c\n",
      "ta-lib/src/ta_func/ta_MINUS_DM.c\n",
      "ta-lib/src/ta_func/ta_LOG10.c\n",
      "ta-lib/src/ta_func/ta_LINEARREG_ANGLE.c\n",
      "ta-lib/src/ta_func/ta_RSI.c\n",
      "ta-lib/src/ta_func/ta_CDLABANDONEDBABY.c\n",
      "ta-lib/src/ta_func/ta_SAR.c\n",
      "ta-lib/src/ta_func/ta_CDLBREAKAWAY.c\n",
      "ta-lib/src/ta_func/ta_CDLDRAGONFLYDOJI.c\n",
      "ta-lib/src/ta_func/ta_CDLHIGHWAVE.c\n",
      "ta-lib/src/ta_func/ta_CDLKICKING.c\n",
      "ta-lib/src/ta_func/ta_CDLDOJISTAR.c\n",
      "ta-lib/src/ta_func/ta_VAR.c\n",
      "ta-lib/src/ta_func/ta_CDLMATCHINGLOW.c\n",
      "ta-lib/src/ta_func/ta_CDLGAPSIDESIDEWHITE.c\n",
      "ta-lib/src/ta_func/ta_CDLMARUBOZU.c\n",
      "ta-lib/src/ta_func/ta_AROONOSC.c\n",
      "ta-lib/src/ta_func/ta_WCLPRICE.c\n",
      "ta-lib/src/ta_func/ta_CDLEVENINGDOJISTAR.c\n",
      "ta-lib/src/ta_func/ta_CDL3INSIDE.c\n",
      "ta-lib/src/ta_func/ta_OBV.c\n",
      "ta-lib/src/ta_func/ta_AROON.c\n",
      "ta-lib/src/ta_func/ta_CDLBELTHOLD.c\n",
      "ta-lib/src/ta_func/ta_CDLSPINNINGTOP.c\n",
      "ta-lib/src/ta_func/ta_AD.c\n",
      "ta-lib/src/ta_func/ta_MAX.c\n",
      "ta-lib/src/ta_func/ta_CDLENGULFING.c\n",
      "ta-lib/src/ta_func/ta_MINMAX.c\n",
      "ta-lib/src/ta_func/ta_CDLINNECK.c\n",
      "ta-lib/src/ta_func/ta_STDDEV.c\n",
      "ta-lib/src/ta_func/ta_NVI.c\n",
      "ta-lib/src/ta_func/ta_CDLHAMMER.c\n",
      "ta-lib/src/ta_func/ta_ASIN.c\n",
      "ta-lib/src/ta_func/ta_SUM.c\n",
      "ta-lib/src/ta_func/ta_STOCH.c\n",
      "ta-lib/src/ta_func/ta_CDLLONGLEGGEDDOJI.c\n",
      "ta-lib/src/ta_func/ta_MEDPRICE.c\n",
      "ta-lib/src/ta_func/ta_CDL3STARSINSOUTH.c\n",
      "ta-lib/src/ta_func/ta_HT_TRENDMODE.c\n",
      "ta-lib/src/ta_func/ta_BBANDS.c\n",
      "ta-lib/src/ta_func/ta_CDLMORNINGSTAR.c\n",
      "ta-lib/src/ta_func/ta_HT_DCPHASE.c\n",
      "ta-lib/src/ta_func/ta_CDLLONGLINE.c\n",
      "ta-lib/src/ta_func/ta_TAN.c\n",
      "ta-lib/src/ta_func/ta_SMA.c\n",
      "ta-lib/src/ta_func/ta_DX.c\n",
      "ta-lib/src/ta_func/ta_MIDPOINT.c\n",
      "ta-lib/src/ta_func/ta_CDL2CROWS.c\n",
      "ta-lib/src/ta_func/ta_CORREL.c\n",
      "ta-lib/src/ta_func/ta_CDL3BLACKCROWS.c\n",
      "ta-lib/src/ta_func/ta_ADD.c\n",
      "ta-lib/src/ta_func/Makefile.in\n",
      "ta-lib/src/ta_func/ta_CDLTHRUSTING.c\n",
      "ta-lib/src/ta_func/ta_SUB.c\n",
      "ta-lib/src/ta_func/ta_CDLSTALLEDPATTERN.c\n",
      "ta-lib/src/ta_func/ta_CDLTRISTAR.c\n",
      "ta-lib/src/ta_func/ta_MA.c\n",
      "ta-lib/src/ta_func/ta_HT_SINE.c\n",
      "ta-lib/src/ta_func/ta_ACOS.c\n",
      "ta-lib/src/ta_func/ta_CDLSTICKSANDWICH.c\n",
      "ta-lib/src/ta_func/ta_SINH.c\n",
      "ta-lib/src/ta_func/ta_utility.h\n",
      "ta-lib/src/ta_func/ta_CDLSHORTLINE.c\n",
      "ta-lib/src/ta_func/ta_ATAN.c\n",
      "ta-lib/src/ta_func/ta_CDLADVANCEBLOCK.c\n",
      "ta-lib/src/ta_func/ta_CDLKICKINGBYLENGTH.c\n",
      "ta-lib/src/ta_func/ta_CDLSHOOTINGSTAR.c\n",
      "ta-lib/src/ta_func/ta_ROCR.c\n",
      "ta-lib/src/ta_func/ta_WMA.c\n",
      "ta-lib/src/ta_func/ta_CDLDARKCLOUDCOVER.c\n",
      "ta-lib/src/ta_func/ta_CDLXSIDEGAP3METHODS.c\n",
      "ta-lib/src/ta_func/ta_TYPPRICE.c\n",
      "ta-lib/src/ta_func/ta_CDL3WHITESOLDIERS.c\n",
      "ta-lib/src/ta_func/Makefile.am\n",
      "ta-lib/src/ta_func/ta_MACDEXT.c\n",
      "ta-lib/src/ta_func/ta_ADX.c\n",
      "ta-lib/src/ta_func/ta_PLUS_DM.c\n",
      "ta-lib/src/ta_func/ta_CDLUPSIDEGAP2CROWS.c\n",
      "ta-lib/src/ta_func/ta_LN.c\n",
      "ta-lib/src/ta_func/ta_DEMA.c\n",
      "ta-lib/src/ta_func/ta_CDL3OUTSIDE.c\n",
      "ta-lib/src/ta_func/ta_CDLTASUKIGAP.c\n",
      "ta-lib/src/ta_func/ta_MAMA.c\n",
      "ta-lib/src/ta_func/ta_CDLMORNINGDOJISTAR.c\n",
      "ta-lib/src/ta_func/ta_PLUS_DI.c\n",
      "ta-lib/src/ta_func/ta_MININDEX.c\n",
      "ta-lib/src/ta_func/ta_COS.c\n",
      "ta-lib/src/ta_func/ta_HT_TRENDLINE.c\n",
      "ta-lib/src/ta_func/ta_MIDPRICE.c\n",
      "ta-lib/src/ta_func/ta_CEIL.c\n",
      "ta-lib/src/ta_func/ta_TRIMA.c\n",
      "ta-lib/src/ta_func/ta_CDLSEPARATINGLINES.c\n",
      "ta-lib/src/ta_func/ta_ROCP.c\n",
      "ta-lib/src/ta_func/ta_CDLHOMINGPIGEON.c\n",
      "ta-lib/src/ta_func/ta_CDLHANGINGMAN.c\n",
      "ta-lib/src/ta_func/ta_AVGPRICE.c\n",
      "ta-lib/src/ta_func/ta_APO.c\n",
      "ta-lib/src/ta_func/ta_CDLRISEFALL3METHODS.c\n",
      "ta-lib/src/ta_func/ta_TRANGE.c\n",
      "ta-lib/src/ta_func/ta_TSF.c\n",
      "ta-lib/src/ta_func/ta_LINEARREG.c\n",
      "ta-lib/src/ta_func/ta_PVI.c\n",
      "ta-lib/src/ta_func/ta_CDLHIKKAKEMOD.c\n",
      "ta-lib/src/ta_func/ta_MFI.c\n",
      "ta-lib/src/ta_func/ta_CDLHARAMI.c\n",
      "ta-lib/src/ta_func/ta_MACD.c\n",
      "ta-lib/src/ta_func/ta_BETA.c\n",
      "ta-lib/src/ta_func/ta_CDLINVERTEDHAMMER.c\n",
      "ta-lib/src/ta_func/ta_LINEARREG_SLOPE.c\n",
      "ta-lib/src/ta_func/ta_STOCHF.c\n",
      "ta-lib/src/ta_func/ta_MIN.c\n",
      "ta-lib/src/ta_func/ta_CDLIDENTICAL3CROWS.c\n",
      "ta-lib/src/ta_func/ta_CDLRICKSHAWMAN.c\n",
      "ta-lib/src/ta_func/ta_T3.c\n",
      "ta-lib/src/ta_func/ta_CDLMATHOLD.c\n",
      "ta-lib/src/ta_func/ta_CDLUNIQUE3RIVER.c\n",
      "ta-lib/src/ta_func/ta_ADOSC.c\n",
      "ta-lib/src/ta_func/ta_MAXINDEX.c\n",
      "ta-lib/src/ta_func/ta_ULTOSC.c\n",
      "ta-lib/src/ta_func/ta_TRIX.c\n",
      "ta-lib/src/ta_func/ta_MOM.c\n",
      "ta-lib/src/ta_func/ta_CDLDOJI.c\n",
      "ta-lib/src/ta_func/ta_EMA.c\n",
      "ta-lib/src/ta_func/ta_STOCHRSI.c\n",
      "ta-lib/src/ta_func/ta_ROC.c\n",
      "ta-lib/src/ta_func/ta_CDLEVENINGSTAR.c\n",
      "ta-lib/src/ta_func/ta_CDLCOUNTERATTACK.c\n",
      "ta-lib/src/ta_func/ta_LINEARREG_INTERCEPT.c\n",
      "ta-lib/src/ta_func/ta_SAREXT.c\n",
      "ta-lib/src/ta_func/ta_WILLR.c\n",
      "ta-lib/src/ta_func/ta_MULT.c\n",
      "ta-lib/src/ta_func/ta_ATR.c\n",
      "ta-lib/src/ta_func/ta_BOP.c\n",
      "ta-lib/src/ta_func/ta_CMO.c\n",
      "ta-lib/src/ta_func/ta_CDLONNECK.c\n",
      "ta-lib/src/ta_func/ta_CCI.c\n",
      "ta-lib/src/ta_func/ta_CDLLADDERBOTTOM.c\n",
      "ta-lib/src/ta_func/ta_HT_PHASOR.c\n",
      "ta-lib/src/ta_func/ta_utility.c\n",
      "ta-lib/src/ta_func/ta_PPO.c\n",
      "ta-lib/src/ta_func/ta_CDLHIKKAKE.c\n",
      "ta-lib/src/ta_func/ta_HT_DCPERIOD.c\n",
      "ta-lib/src/ta_func/ta_CDL3LINESTRIKE.c\n",
      "ta-lib/src/ta_func/ta_TEMA.c\n",
      "ta-lib/src/ta_func/ta_SIN.c\n",
      "ta-lib/src/ta_func/ta_MINUS_DI.c\n",
      "ta-lib/src/ta_func/ta_KAMA.c\n",
      "ta-lib/src/ta_func/ta_TANH.c\n",
      "ta-lib/src/ta_func/ta_CDLTAKURI.c\n",
      "ta-lib/src/ta_func/ta_CDLGRAVESTONEDOJI.c\n",
      "ta-lib/src/ta_common/\n",
      "ta-lib/src/ta_common/ta_pragma.h\n",
      "ta-lib/src/ta_common/ta_magic_nb.h\n",
      "ta-lib/src/ta_common/ta_retcode.csv\n",
      "ta-lib/src/ta_common/Makefile.in\n",
      "ta-lib/src/ta_common/Makefile.am\n",
      "ta-lib/src/ta_common/ta_memory.h\n",
      "ta-lib/src/ta_common/ta_version.c\n",
      "ta-lib/src/ta_common/ta_global.h\n",
      "ta-lib/src/ta_common/ta_global.c\n",
      "ta-lib/src/ta_common/ta_retcode.c\n",
      "ta-lib/src/Makefile.in\n",
      "ta-lib/src/ta_abstract/\n",
      "ta-lib/src/ta_abstract/frames/\n",
      "ta-lib/src/ta_abstract/frames/ta_frame.c\n",
      "ta-lib/src/ta_abstract/frames/ta_frame.h\n",
      "ta-lib/src/ta_abstract/excel_glue.c\n",
      "ta-lib/src/ta_abstract/ta_frame_priv.h\n",
      "ta-lib/src/ta_abstract/ta_func_api.c\n",
      "ta-lib/src/ta_abstract/Makefile.in\n",
      "ta-lib/src/ta_abstract/ta_def_ui.h\n",
      "ta-lib/src/ta_abstract/Makefile.am\n",
      "ta-lib/src/ta_abstract/ta_abstract.c\n",
      "ta-lib/src/ta_abstract/ta_group_idx.c\n",
      "ta-lib/src/ta_abstract/tables/\n",
      "ta-lib/src/ta_abstract/tables/table_u.c\n",
      "ta-lib/src/ta_abstract/tables/table_x.c\n",
      "ta-lib/src/ta_abstract/tables/table_r.c\n",
      "ta-lib/src/ta_abstract/tables/table_f.c\n",
      "ta-lib/src/ta_abstract/tables/table_j.c\n",
      "ta-lib/src/ta_abstract/tables/table_e.c\n",
      "ta-lib/src/ta_abstract/tables/table_t.c\n",
      "ta-lib/src/ta_abstract/tables/table_n.c\n",
      "ta-lib/src/ta_abstract/tables/table_i.c\n",
      "ta-lib/src/ta_abstract/tables/table_c.c\n",
      "ta-lib/src/ta_abstract/tables/table_l.c\n",
      "ta-lib/src/ta_abstract/tables/table_k.c\n",
      "ta-lib/src/ta_abstract/tables/table_g.c\n",
      "ta-lib/src/ta_abstract/tables/table_d.c\n",
      "ta-lib/src/ta_abstract/tables/table_h.c\n",
      "ta-lib/src/ta_abstract/tables/table_o.c\n",
      "ta-lib/src/ta_abstract/tables/table_b.c\n",
      "ta-lib/src/ta_abstract/tables/table_q.c\n",
      "ta-lib/src/ta_abstract/tables/table_v.c\n",
      "ta-lib/src/ta_abstract/tables/table_m.c\n",
      "ta-lib/src/ta_abstract/tables/table_s.c\n",
      "ta-lib/src/ta_abstract/tables/table_y.c\n",
      "ta-lib/src/ta_abstract/tables/table_p.c\n",
      "ta-lib/src/ta_abstract/tables/table_z.c\n",
      "ta-lib/src/ta_abstract/tables/table_a.c\n",
      "ta-lib/src/ta_abstract/tables/table_w.c\n",
      "ta-lib/src/ta_abstract/ta_def_ui.c\n",
      "ta-lib/src/ta_abstract/templates/\n",
      "ta-lib/src/ta_abstract/templates/ta_x.c.template\n",
      "ta-lib/src/ta_abstract/templates/ta_java_defs.h.template\n",
      "ta-lib/src/ta_abstract/templates/excel_glue.c.template\n",
      "ta-lib/src/ta_abstract/templates/ta_group_idx.c.template\n",
      "ta-lib/src/ta_abstract/templates/ta_frame.c.template\n",
      "ta-lib/src/ta_abstract/templates/CoreAnnotated.java.template\n",
      "ta-lib/src/ta_abstract/templates/ta_func.h.template\n",
      "ta-lib/src/ta_abstract/templates/ta_frame.h.template\n",
      "ta-lib/src/ta_abstract/templates/Makefile.am.template\n",
      "ta-lib/src/ta_abstract/templates/ta_func_api.c.template\n",
      "ta-lib/src/ta_abstract/templates/ta_func.swg.template\n",
      "ta-lib/src/ta_abstract/templates/ta_retcode.c.template\n",
      "ta-lib/src/ta_abstract/ta_java_defs.h\n",
      "ta-lib/src/Makefile.am\n",
      "ta-lib/src/tools/\n",
      "ta-lib/src/tools/ta_regtest/\n",
      "ta-lib/src/tools/ta_regtest/test_util.c\n",
      "ta-lib/src/tools/ta_regtest/ta_test_func.h\n",
      "ta-lib/src/tools/ta_regtest/test_data.c\n",
      "ta-lib/src/tools/ta_regtest/ta_gDataHigh.c\n",
      "ta-lib/src/tools/ta_regtest/Makefile.in\n",
      "ta-lib/src/tools/ta_regtest/test_internals.c\n",
      "ta-lib/src/tools/ta_regtest/Makefile.am\n",
      "ta-lib/src/tools/ta_regtest/ta_regtest.c\n",
      "ta-lib/src/tools/ta_regtest/ta_gDataOpen.c\n",
      "ta-lib/src/tools/ta_regtest/ta_gDataClose.c\n",
      "ta-lib/src/tools/ta_regtest/test_abstract.c\n",
      "ta-lib/src/tools/ta_regtest/ta_test_func/\n",
      "ta-lib/src/tools/ta_regtest/ta_test_func/test_bbands.c\n",
      "ta-lib/src/tools/ta_regtest/ta_test_func/test_stddev.c\n",
      "ta-lib/src/tools/ta_regtest/ta_test_func/test_1in_2out.c\n",
      "ta-lib/src/tools/ta_regtest/ta_test_func/test_sar.c\n",
      "ta-lib/src/tools/ta_regtest/ta_test_func/test_1in_1out.c\n",
      "ta-lib/src/tools/ta_regtest/ta_test_func/test_trange.c\n",
      "ta-lib/src/tools/ta_regtest/ta_test_func/test_macd.c\n",
      "ta-lib/src/tools/ta_regtest/ta_test_func/test_po.c\n",
      "ta-lib/src/tools/ta_regtest/ta_test_func/test_per_hlc.c\n",
      "ta-lib/src/tools/ta_regtest/ta_test_func/test_mom.c\n",
      "ta-lib/src/tools/ta_regtest/ta_test_func/test_per_ohlc.c\n",
      "ta-lib/src/tools/ta_regtest/ta_test_func/test_adx.c\n",
      "ta-lib/src/tools/ta_regtest/ta_test_func/test_candlestick.c\n",
      "ta-lib/src/tools/ta_regtest/ta_test_func/test_rsi.c\n",
      "ta-lib/src/tools/ta_regtest/ta_test_func/test_per_ema.c\n",
      "ta-lib/src/tools/ta_regtest/ta_test_func/test_minmax.c\n",
      "ta-lib/src/tools/ta_regtest/ta_test_func/test_per_hlcv.c\n",
      "ta-lib/src/tools/ta_regtest/ta_test_func/test_per_hl.c\n",
      "ta-lib/src/tools/ta_regtest/ta_test_func/test_stoch.c\n",
      "ta-lib/src/tools/ta_regtest/ta_test_func/test_ma.c\n",
      "ta-lib/src/tools/ta_regtest/ta_error_number.h\n",
      "ta-lib/src/tools/ta_regtest/ta_test_priv.h\n",
      "ta-lib/src/tools/ta_regtest/ReadMe.txt\n",
      "ta-lib/src/tools/ta_regtest/ta_gDataLow.c\n",
      "ta-lib/src/tools/Makefile.in\n",
      "ta-lib/src/tools/Makefile.am\n",
      "ta-lib/src/tools/gen_code/\n",
      "ta-lib/src/tools/gen_code/java/\n",
      "ta-lib/src/tools/gen_code/java/PrettyCode.java\n",
      "ta-lib/src/tools/gen_code/java/Main.java\n",
      "ta-lib/src/tools/gen_code/gen_code.c\n",
      "ta-lib/src/tools/gen_code/Makefile.in\n",
      "ta-lib/src/tools/gen_code/Makefile.am\n",
      "ta-lib/src/tools/gen_code/mcpp.exe\n",
      "/home/ec2-user/SageMaker/Capstone/ta-lib\n",
      "checking for a BSD-compatible install... /usr/bin/install -c\n",
      "checking whether build environment is sane... yes\n",
      "checking for a thread-safe mkdir -p... /usr/bin/mkdir -p\n",
      "checking for gawk... gawk\n",
      "checking whether make sets $(MAKE)... yes\n",
      "checking for gcc... gcc\n",
      "checking for C compiler default output file name... a.out\n",
      "checking whether the C compiler works... yes\n",
      "checking whether we are cross compiling... no\n",
      "checking for suffix of executables... \n",
      "checking for suffix of object files... o\n",
      "checking whether we are using the GNU C compiler... yes\n",
      "checking whether gcc accepts -g... yes\n",
      "checking for gcc option to accept ISO C89... none needed\n",
      "checking for style of include used by make... GNU\n",
      "checking dependency style of gcc... gcc3\n",
      "checking build system type... x86_64-unknown-linux-gnu\n",
      "checking host system type... x86_64-unknown-linux-gnu\n",
      "checking for a sed that does not truncate output... /usr/bin/sed\n",
      "checking for grep that handles long lines and -e... /usr/bin/grep\n",
      "checking for egrep... /usr/bin/grep -E\n",
      "checking for ld used by gcc... /usr/bin/ld\n",
      "checking if the linker (/usr/bin/ld) is GNU ld... yes\n",
      "checking for /usr/bin/ld option to reload object files... -r\n",
      "checking for BSD-compatible nm... /usr/bin/nm -B\n",
      "checking whether ln -s works... yes\n",
      "checking how to recognise dependent libraries... pass_all\n",
      "checking how to run the C preprocessor... gcc -E\n",
      "checking for ANSI C header files... yes\n",
      "checking for sys/types.h... yes\n",
      "checking for sys/stat.h... yes\n",
      "checking for stdlib.h... yes\n",
      "checking for string.h... yes\n",
      "checking for memory.h... yes\n",
      "checking for strings.h... yes\n",
      "checking for inttypes.h... yes\n",
      "checking for stdint.h... yes\n",
      "checking for unistd.h... yes\n",
      "checking dlfcn.h usability... yes\n",
      "checking dlfcn.h presence... yes\n",
      "checking for dlfcn.h... yes\n",
      "checking for g++... g++\n",
      "checking whether we are using the GNU C++ compiler... yes\n",
      "checking whether g++ accepts -g... yes\n",
      "checking dependency style of g++... gcc3\n",
      "checking how to run the C++ preprocessor... g++ -E\n",
      "checking for g77... no\n",
      "checking for xlf... no\n",
      "checking for f77... no\n",
      "checking for frt... no\n",
      "checking for pgf77... no\n",
      "checking for cf77... no\n",
      "checking for fort77... no\n",
      "checking for fl32... no\n",
      "checking for af77... no\n",
      "checking for xlf90... no\n",
      "checking for f90... no\n",
      "checking for pgf90... no\n",
      "checking for pghpf... no\n",
      "checking for epcf90... no\n",
      "checking for gfortran... gfortran\n",
      "checking whether we are using the GNU Fortran 77 compiler... yes\n",
      "checking whether gfortran accepts -g... yes\n",
      "checking the maximum length of command line arguments... 32768\n",
      "checking command to parse /usr/bin/nm -B output from gcc object... ok\n",
      "checking for objdir... .libs\n",
      "checking for ar... ar\n",
      "checking for ranlib... ranlib\n",
      "checking for strip... strip\n",
      "checking if gcc supports -fno-rtti -fno-exceptions... no\n",
      "checking for gcc option to produce PIC... -fPIC\n",
      "checking if gcc PIC flag -fPIC works... yes\n",
      "checking if gcc static flag -static works... no\n",
      "checking if gcc supports -c -o file.o... yes\n",
      "checking whether the gcc linker (/usr/bin/ld -m elf_x86_64) supports shared libraries... yes\n",
      "checking whether -lc should be explicitly linked in... no\n",
      "checking dynamic linker characteristics... GNU/Linux ld.so\n",
      "checking how to hardcode library paths into programs... immediate\n",
      "checking whether stripping libraries is possible... yes\n",
      "checking if libtool supports shared libraries... yes\n",
      "checking whether to build shared libraries... yes\n",
      "checking whether to build static libraries... yes\n",
      "configure: creating libtool\n",
      "appending configuration tag \"CXX\" to libtool\n",
      "checking for ld used by g++... /usr/bin/ld -m elf_x86_64\n",
      "checking if the linker (/usr/bin/ld -m elf_x86_64) is GNU ld... yes\n",
      "checking whether the g++ linker (/usr/bin/ld -m elf_x86_64) supports shared libraries... yes\n",
      "checking for g++ option to produce PIC... -fPIC\n",
      "checking if g++ PIC flag -fPIC works... yes\n",
      "checking if g++ static flag -static works... no\n",
      "checking if g++ supports -c -o file.o... yes\n",
      "checking whether the g++ linker (/usr/bin/ld -m elf_x86_64) supports shared libraries... yes\n",
      "checking dynamic linker characteristics... GNU/Linux ld.so\n",
      "checking how to hardcode library paths into programs... immediate\n",
      "appending configuration tag \"F77\" to libtool\n",
      "checking if libtool supports shared libraries... yes\n",
      "checking whether to build shared libraries... yes\n",
      "checking whether to build static libraries... yes\n",
      "checking for gfortran option to produce PIC... -fPIC\n",
      "checking if gfortran PIC flag -fPIC works... yes\n",
      "checking if gfortran static flag -static works... no\n",
      "checking if gfortran supports -c -o file.o... yes\n",
      "checking whether the gfortran linker (/usr/bin/ld -m elf_x86_64) supports shared libraries... yes\n",
      "checking dynamic linker characteristics... GNU/Linux ld.so\n",
      "checking how to hardcode library paths into programs... immediate\n",
      "checking for dlopen in -ldl... yes\n",
      "checking for pthread_create in -lpthread... yes\n",
      "checking for ANSI C header files... (cached) yes\n",
      "checking float.h usability... yes\n",
      "checking float.h presence... yes\n",
      "checking for float.h... yes\n",
      "checking for inttypes.h... (cached) yes\n",
      "checking limits.h usability... yes\n",
      "checking limits.h presence... yes\n",
      "checking for limits.h... yes\n",
      "checking locale.h usability... yes\n",
      "checking locale.h presence... yes\n",
      "checking for locale.h... yes\n",
      "checking stddef.h usability... yes\n",
      "checking stddef.h presence... yes\n",
      "checking for stddef.h... yes\n",
      "checking for stdint.h... (cached) yes\n",
      "checking for stdlib.h... (cached) yes\n",
      "checking for string.h... (cached) yes\n",
      "checking for unistd.h... (cached) yes\n",
      "checking wchar.h usability... yes\n",
      "checking wchar.h presence... yes\n",
      "checking for wchar.h... yes\n",
      "checking wctype.h usability... yes\n",
      "checking wctype.h presence... yes\n",
      "checking for wctype.h... yes\n",
      "checking for an ANSI C-conforming const... yes\n",
      "checking for size_t... yes\n",
      "checking whether struct tm is in sys/time.h or time.h... time.h\n",
      "checking for working volatile... yes\n",
      "checking for ptrdiff_t... yes\n",
      "checking return type of signal handlers... void\n",
      "checking for working strcoll... yes\n",
      "checking for strftime... yes\n",
      "checking for working strtod... yes\n",
      "checking for vprintf... yes\n",
      "checking for _doprnt... no\n",
      "checking for floor... no\n",
      "checking for isascii... yes\n",
      "checking for localeconv... yes\n",
      "checking for mblen... yes\n",
      "checking for memmove... yes\n",
      "checking for memset... yes\n",
      "checking for modf... yes\n",
      "checking for pow... no\n",
      "checking for sqrt... no\n",
      "checking for strcasecmp... yes\n",
      "checking for strchr... yes\n",
      "checking for strerror... yes\n",
      "checking for strncasecmp... yes\n",
      "checking for strrchr... yes\n",
      "checking for strstr... yes\n",
      "checking for strtol... yes\n",
      "checking for strtoul... yes\n",
      "configure: creating ./config.status\n",
      "config.status: creating Makefile\n",
      "config.status: creating src/Makefile\n",
      "config.status: creating src/ta_abstract/Makefile\n",
      "config.status: creating src/ta_common/Makefile\n",
      "config.status: creating src/ta_func/Makefile\n",
      "config.status: creating src/tools/Makefile\n",
      "config.status: creating src/tools/gen_code/Makefile\n",
      "config.status: creating src/tools/ta_regtest/Makefile\n",
      "config.status: creating ta-lib-config\n",
      "config.status: creating ta-lib.spec\n",
      "config.status: creating ta-lib.dpkg\n",
      "config.status: creating include/ta_config.h\n",
      "config.status: include/ta_config.h is unchanged\n",
      "config.status: executing depfiles commands\n",
      "Making all in src\n",
      "make[1]: Entering directory `/home/ec2-user/SageMaker/Capstone/ta-lib/src'\n",
      "Making all in ta_abstract\n",
      "make[2]: Entering directory `/home/ec2-user/SageMaker/Capstone/ta-lib/src/ta_abstract'\n",
      "make[2]: Nothing to be done for `all'.\n",
      "make[2]: Leaving directory `/home/ec2-user/SageMaker/Capstone/ta-lib/src/ta_abstract'\n",
      "Making all in ta_common\n",
      "make[2]: Entering directory `/home/ec2-user/SageMaker/Capstone/ta-lib/src/ta_common'\n",
      "make[2]: Nothing to be done for `all'.\n",
      "make[2]: Leaving directory `/home/ec2-user/SageMaker/Capstone/ta-lib/src/ta_common'\n",
      "Making all in ta_func\n",
      "make[2]: Entering directory `/home/ec2-user/SageMaker/Capstone/ta-lib/src/ta_func'\n",
      "make[2]: Nothing to be done for `all'.\n",
      "make[2]: Leaving directory `/home/ec2-user/SageMaker/Capstone/ta-lib/src/ta_func'\n",
      "make[2]: Entering directory `/home/ec2-user/SageMaker/Capstone/ta-lib/src'\n",
      "make[2]: Nothing to be done for `all-am'.\n",
      "make[2]: Leaving directory `/home/ec2-user/SageMaker/Capstone/ta-lib/src'\n",
      "make[1]: Leaving directory `/home/ec2-user/SageMaker/Capstone/ta-lib/src'\n",
      "Making all in src/tools\n",
      "make[1]: Entering directory `/home/ec2-user/SageMaker/Capstone/ta-lib/src/tools'\n",
      "Making all in gen_code\n",
      "make[2]: Entering directory `/home/ec2-user/SageMaker/Capstone/ta-lib/src/tools/gen_code'\n",
      "make  gen_code\n",
      "make[3]: Entering directory `/home/ec2-user/SageMaker/Capstone/ta-lib/src/tools/gen_code'\n",
      "make[3]: `gen_code' is up to date.\n",
      "make[3]: Leaving directory `/home/ec2-user/SageMaker/Capstone/ta-lib/src/tools/gen_code'\n",
      "cp gen_code ../../../bin\n",
      "make[2]: Leaving directory `/home/ec2-user/SageMaker/Capstone/ta-lib/src/tools/gen_code'\n",
      "Making all in ta_regtest\n",
      "make[2]: Entering directory `/home/ec2-user/SageMaker/Capstone/ta-lib/src/tools/ta_regtest'\n",
      "make[2]: Nothing to be done for `all'.\n",
      "make[2]: Leaving directory `/home/ec2-user/SageMaker/Capstone/ta-lib/src/tools/ta_regtest'\n",
      "make[2]: Entering directory `/home/ec2-user/SageMaker/Capstone/ta-lib/src/tools'\n",
      "make[2]: Nothing to be done for `all-am'.\n",
      "make[2]: Leaving directory `/home/ec2-user/SageMaker/Capstone/ta-lib/src/tools'\n",
      "make[1]: Leaving directory `/home/ec2-user/SageMaker/Capstone/ta-lib/src/tools'\n",
      "make[1]: Entering directory `/home/ec2-user/SageMaker/Capstone/ta-lib'\n",
      "make[1]: Nothing to be done for `all-am'.\n",
      "make[1]: Leaving directory `/home/ec2-user/SageMaker/Capstone/ta-lib'\n",
      "Making install in src\n",
      "make[1]: Entering directory `/home/ec2-user/SageMaker/Capstone/ta-lib/src'\n",
      "Making install in ta_abstract\n",
      "make[2]: Entering directory `/home/ec2-user/SageMaker/Capstone/ta-lib/src/ta_abstract'\n",
      "make[3]: Entering directory `/home/ec2-user/SageMaker/Capstone/ta-lib/src/ta_abstract'\n",
      "make[3]: Nothing to be done for `install-exec-am'.\n",
      "test -z \"/usr/include/ta-lib/\" || /usr/bin/mkdir -p \"/usr/include/ta-lib/\"\n",
      " /usr/bin/install -c -m 644 '../../include/ta_defs.h' '/usr/include/ta-lib//ta_defs.h'\n",
      " /usr/bin/install -c -m 644 '../../include/ta_libc.h' '/usr/include/ta-lib//ta_libc.h'\n",
      " /usr/bin/install -c -m 644 '../../include/ta_abstract.h' '/usr/include/ta-lib//ta_abstract.h'\n",
      "make[3]: Leaving directory `/home/ec2-user/SageMaker/Capstone/ta-lib/src/ta_abstract'\n",
      "make[2]: Leaving directory `/home/ec2-user/SageMaker/Capstone/ta-lib/src/ta_abstract'\n",
      "Making install in ta_common\n",
      "make[2]: Entering directory `/home/ec2-user/SageMaker/Capstone/ta-lib/src/ta_common'\n",
      "make[3]: Entering directory `/home/ec2-user/SageMaker/Capstone/ta-lib/src/ta_common'\n",
      "make[3]: Nothing to be done for `install-exec-am'.\n",
      "test -z \"/usr/include/ta-lib/\" || /usr/bin/mkdir -p \"/usr/include/ta-lib/\"\n",
      " /usr/bin/install -c -m 644 '../../include/ta_defs.h' '/usr/include/ta-lib//ta_defs.h'\n",
      " /usr/bin/install -c -m 644 '../../include/ta_libc.h' '/usr/include/ta-lib//ta_libc.h'\n",
      " /usr/bin/install -c -m 644 '../../include/ta_common.h' '/usr/include/ta-lib//ta_common.h'\n",
      "make[3]: Leaving directory `/home/ec2-user/SageMaker/Capstone/ta-lib/src/ta_common'\n",
      "make[2]: Leaving directory `/home/ec2-user/SageMaker/Capstone/ta-lib/src/ta_common'\n",
      "Making install in ta_func\n",
      "make[2]: Entering directory `/home/ec2-user/SageMaker/Capstone/ta-lib/src/ta_func'\n",
      "make[3]: Entering directory `/home/ec2-user/SageMaker/Capstone/ta-lib/src/ta_func'\n",
      "make[3]: Nothing to be done for `install-exec-am'.\n",
      "test -z \"/usr/include/ta-lib/\" || /usr/bin/mkdir -p \"/usr/include/ta-lib/\"\n",
      " /usr/bin/install -c -m 644 '../../include/ta_defs.h' '/usr/include/ta-lib//ta_defs.h'\n",
      " /usr/bin/install -c -m 644 '../../include/ta_libc.h' '/usr/include/ta-lib//ta_libc.h'\n",
      " /usr/bin/install -c -m 644 '../../include/ta_func.h' '/usr/include/ta-lib//ta_func.h'\n",
      "make[3]: Leaving directory `/home/ec2-user/SageMaker/Capstone/ta-lib/src/ta_func'\n",
      "make[2]: Leaving directory `/home/ec2-user/SageMaker/Capstone/ta-lib/src/ta_func'\n",
      "make[2]: Entering directory `/home/ec2-user/SageMaker/Capstone/ta-lib/src'\n",
      "make[3]: Entering directory `/home/ec2-user/SageMaker/Capstone/ta-lib/src'\n",
      "test -z \"/usr/lib\" || /usr/bin/mkdir -p \"/usr/lib\"\n",
      " /bin/sh ../libtool --mode=install /usr/bin/install -c  'libta_lib.la' '/usr/lib/libta_lib.la'\n",
      "/usr/bin/install -c .libs/libta_lib.so.0.0.0 /usr/lib/libta_lib.so.0.0.0\n",
      "(cd /usr/lib && { ln -s -f libta_lib.so.0.0.0 libta_lib.so.0 || { rm -f libta_lib.so.0 && ln -s libta_lib.so.0.0.0 libta_lib.so.0; }; })\n",
      "(cd /usr/lib && { ln -s -f libta_lib.so.0.0.0 libta_lib.so || { rm -f libta_lib.so && ln -s libta_lib.so.0.0.0 libta_lib.so; }; })\n",
      "/usr/bin/install -c .libs/libta_lib.lai /usr/lib/libta_lib.la\n",
      "/usr/bin/install -c .libs/libta_lib.a /usr/lib/libta_lib.a\n",
      "chmod 644 /usr/lib/libta_lib.a\n",
      "ranlib /usr/lib/libta_lib.a\n",
      "PATH=\"$PATH:/sbin\" ldconfig -n /usr/lib\n",
      "----------------------------------------------------------------------\n",
      "Libraries have been installed in:\n",
      "   /usr/lib\n",
      "\n",
      "If you ever happen to want to link against installed libraries\n",
      "in a given directory, LIBDIR, you must either use libtool, and\n",
      "specify the full pathname of the library, or use the `-LLIBDIR'\n",
      "flag during linking and do at least one of the following:\n",
      "   - add LIBDIR to the `LD_LIBRARY_PATH' environment variable\n",
      "     during execution\n",
      "   - add LIBDIR to the `LD_RUN_PATH' environment variable\n",
      "     during linking\n",
      "   - use the `-Wl,--rpath -Wl,LIBDIR' linker flag\n",
      "   - have your system administrator add LIBDIR to `/etc/ld.so.conf'\n",
      "\n",
      "See any operating system documentation about shared libraries for\n",
      "more information, such as the ld(1) and ld.so(8) manual pages.\n",
      "----------------------------------------------------------------------\n",
      "make[3]: Nothing to be done for `install-data-am'.\n",
      "make[3]: Leaving directory `/home/ec2-user/SageMaker/Capstone/ta-lib/src'\n",
      "make[2]: Leaving directory `/home/ec2-user/SageMaker/Capstone/ta-lib/src'\n",
      "make[1]: Leaving directory `/home/ec2-user/SageMaker/Capstone/ta-lib/src'\n",
      "Making install in src/tools\n",
      "make[1]: Entering directory `/home/ec2-user/SageMaker/Capstone/ta-lib/src/tools'\n",
      "Making install in gen_code\n",
      "make[2]: Entering directory `/home/ec2-user/SageMaker/Capstone/ta-lib/src/tools/gen_code'\n",
      "make  gen_code\n",
      "make[3]: Entering directory `/home/ec2-user/SageMaker/Capstone/ta-lib/src/tools/gen_code'\n",
      "make[3]: `gen_code' is up to date.\n",
      "make[3]: Leaving directory `/home/ec2-user/SageMaker/Capstone/ta-lib/src/tools/gen_code'\n",
      "cp gen_code ../../../bin\n",
      "make[3]: Entering directory `/home/ec2-user/SageMaker/Capstone/ta-lib/src/tools/gen_code'\n",
      "make[3]: Nothing to be done for `install-exec-am'.\n",
      "make[3]: Nothing to be done for `install-data-am'.\n",
      "make[3]: Leaving directory `/home/ec2-user/SageMaker/Capstone/ta-lib/src/tools/gen_code'\n",
      "make[2]: Leaving directory `/home/ec2-user/SageMaker/Capstone/ta-lib/src/tools/gen_code'\n",
      "Making install in ta_regtest\n",
      "make[2]: Entering directory `/home/ec2-user/SageMaker/Capstone/ta-lib/src/tools/ta_regtest'\n",
      "make[3]: Entering directory `/home/ec2-user/SageMaker/Capstone/ta-lib/src/tools/ta_regtest'\n",
      "make[3]: Nothing to be done for `install-exec-am'.\n",
      "make[3]: Nothing to be done for `install-data-am'.\n",
      "make[3]: Leaving directory `/home/ec2-user/SageMaker/Capstone/ta-lib/src/tools/ta_regtest'\n",
      "make[2]: Leaving directory `/home/ec2-user/SageMaker/Capstone/ta-lib/src/tools/ta_regtest'\n",
      "make[2]: Entering directory `/home/ec2-user/SageMaker/Capstone/ta-lib/src/tools'\n",
      "make[3]: Entering directory `/home/ec2-user/SageMaker/Capstone/ta-lib/src/tools'\n",
      "make[3]: Nothing to be done for `install-exec-am'.\n",
      "make[3]: Nothing to be done for `install-data-am'.\n",
      "make[3]: Leaving directory `/home/ec2-user/SageMaker/Capstone/ta-lib/src/tools'\n",
      "make[2]: Leaving directory `/home/ec2-user/SageMaker/Capstone/ta-lib/src/tools'\n",
      "make[1]: Leaving directory `/home/ec2-user/SageMaker/Capstone/ta-lib/src/tools'\n",
      "make[1]: Entering directory `/home/ec2-user/SageMaker/Capstone/ta-lib'\n",
      "make[2]: Entering directory `/home/ec2-user/SageMaker/Capstone/ta-lib'\n",
      "test -z \"/usr/bin\" || /usr/bin/mkdir -p \"/usr/bin\"\n",
      " /usr/bin/install -c 'ta-lib-config' '/usr/bin/ta-lib-config'\n",
      "make[2]: Nothing to be done for `install-data-am'.\n",
      "make[2]: Leaving directory `/home/ec2-user/SageMaker/Capstone/ta-lib'\n",
      "make[1]: Leaving directory `/home/ec2-user/SageMaker/Capstone/ta-lib'\n",
      "/home/ec2-user/SageMaker/Capstone\n"
     ]
    }
   ],
   "source": [
    "!wget http://prdownloads.sourceforge.net/ta-lib/ta-lib-0.4.0-src.tar.gz\n",
    "!tar -xzvf ta-lib-0.4.0-src.tar.gz\n",
    "%cd ta-lib\n",
    "!./configure --prefix=/usr\n",
    "!make\n",
    "!sudo make install\n",
    "%cd .."
   ]
  },
  {
   "cell_type": "code",
   "execution_count": 2,
   "metadata": {
    "colab": {
     "base_uri": "https://localhost:8080/"
    },
    "id": "e2wPjylXM1Ds",
    "outputId": "37866fd5-dcc1-4a2b-beea-f5ed0c825563",
    "scrolled": false
   },
   "outputs": [
    {
     "name": "stdout",
     "output_type": "stream",
     "text": [
      "Collecting TA-Lib\n",
      "  Downloading TA-Lib-0.4.28.tar.gz (357 kB)\n",
      "\u001b[2K     \u001b[90m━━━━━━━━━━━━━━━━━━━━━━━━━━━━━━━━━━━━━━━\u001b[0m \u001b[32m357.1/357.1 kB\u001b[0m \u001b[31m6.1 MB/s\u001b[0m eta \u001b[36m0:00:00\u001b[0m00:01\u001b[0m\n",
      "\u001b[?25h  Installing build dependencies ... \u001b[?25ldone\n",
      "\u001b[?25h  Getting requirements to build wheel ... \u001b[?25ldone\n",
      "\u001b[?25h  Installing backend dependencies ... \u001b[?25ldone\n",
      "\u001b[?25h  Preparing metadata (pyproject.toml) ... \u001b[?25ldone\n",
      "\u001b[?25hRequirement already satisfied: numpy in /home/ec2-user/anaconda3/envs/python3/lib/python3.10/site-packages (from TA-Lib) (1.22.4)\n",
      "Building wheels for collected packages: TA-Lib\n",
      "  Building wheel for TA-Lib (pyproject.toml) ... \u001b[?25ldone\n",
      "\u001b[?25h  Created wheel for TA-Lib: filename=TA_Lib-0.4.28-cp310-cp310-linux_x86_64.whl size=464307 sha256=3e6cb92158e4ec08f076694443634fdd4a01cb9edc868dc2952452627fb96aad\n",
      "  Stored in directory: /home/ec2-user/.cache/pip/wheels/66/54/9d/10bfd00931c0c993f373269d350635df520b5064e5290a9d94\n",
      "Successfully built TA-Lib\n",
      "Installing collected packages: TA-Lib\n",
      "Successfully installed TA-Lib-0.4.28\n"
     ]
    }
   ],
   "source": [
    "!pip install TA-Lib"
   ]
  },
  {
   "cell_type": "code",
   "execution_count": 3,
   "metadata": {
    "colab": {
     "base_uri": "https://localhost:8080/"
    },
    "id": "0XRhZwKdM1Ds",
    "outputId": "99df4d2f-2b02-4df4-e503-700033b3fa63",
    "scrolled": true
   },
   "outputs": [
    {
     "name": "stdout",
     "output_type": "stream",
     "text": [
      "Collecting backtrader\n",
      "  Downloading backtrader-1.9.78.123-py2.py3-none-any.whl (419 kB)\n",
      "\u001b[2K     \u001b[90m━━━━━━━━━━━━━━━━━━━━━━━━━━━━━━━━━━━━━━\u001b[0m \u001b[32m419.5/419.5 kB\u001b[0m \u001b[31m11.7 MB/s\u001b[0m eta \u001b[36m0:00:00\u001b[0m00:01\u001b[0m\n",
      "\u001b[?25hInstalling collected packages: backtrader\n",
      "Successfully installed backtrader-1.9.78.123\n"
     ]
    }
   ],
   "source": [
    "!pip install backtrader"
   ]
  },
  {
   "cell_type": "code",
   "execution_count": 4,
   "metadata": {
    "scrolled": true
   },
   "outputs": [
    {
     "name": "stdout",
     "output_type": "stream",
     "text": [
      "Collecting torch\n",
      "  Downloading torch-2.1.1-cp310-cp310-manylinux1_x86_64.whl.metadata (25 kB)\n",
      "Requirement already satisfied: filelock in /home/ec2-user/anaconda3/envs/python3/lib/python3.10/site-packages (from torch) (3.12.4)\n",
      "Requirement already satisfied: typing-extensions in /home/ec2-user/anaconda3/envs/python3/lib/python3.10/site-packages (from torch) (4.8.0)\n",
      "Requirement already satisfied: sympy in /home/ec2-user/anaconda3/envs/python3/lib/python3.10/site-packages (from torch) (1.12)\n",
      "Requirement already satisfied: networkx in /home/ec2-user/anaconda3/envs/python3/lib/python3.10/site-packages (from torch) (3.2)\n",
      "Requirement already satisfied: jinja2 in /home/ec2-user/anaconda3/envs/python3/lib/python3.10/site-packages (from torch) (3.1.2)\n",
      "Requirement already satisfied: fsspec in /home/ec2-user/anaconda3/envs/python3/lib/python3.10/site-packages (from torch) (2023.10.0)\n",
      "Collecting nvidia-cuda-nvrtc-cu12==12.1.105 (from torch)\n",
      "  Downloading nvidia_cuda_nvrtc_cu12-12.1.105-py3-none-manylinux1_x86_64.whl (23.7 MB)\n",
      "\u001b[2K     \u001b[90m━━━━━━━━━━━━━━━━━━━━━━━━━━━━━━━━━━━━━━━━\u001b[0m \u001b[32m23.7/23.7 MB\u001b[0m \u001b[31m26.8 MB/s\u001b[0m eta \u001b[36m0:00:00\u001b[0m00:01\u001b[0m00:01\u001b[0m\n",
      "\u001b[?25hCollecting nvidia-cuda-runtime-cu12==12.1.105 (from torch)\n",
      "  Downloading nvidia_cuda_runtime_cu12-12.1.105-py3-none-manylinux1_x86_64.whl (823 kB)\n",
      "\u001b[2K     \u001b[90m━━━━━━━━━━━━━━━━━━━━━━━━━━━━━━━━━━━━━━\u001b[0m \u001b[32m823.6/823.6 kB\u001b[0m \u001b[31m23.3 MB/s\u001b[0m eta \u001b[36m0:00:00\u001b[0m00:01\u001b[0m\n",
      "\u001b[?25hCollecting nvidia-cuda-cupti-cu12==12.1.105 (from torch)\n",
      "  Downloading nvidia_cuda_cupti_cu12-12.1.105-py3-none-manylinux1_x86_64.whl (14.1 MB)\n",
      "\u001b[2K     \u001b[90m━━━━━━━━━━━━━━━━━━━━━━━━━━━━━━━━━━━━━━━━\u001b[0m \u001b[32m14.1/14.1 MB\u001b[0m \u001b[31m14.5 MB/s\u001b[0m eta \u001b[36m0:00:00\u001b[0m00:01\u001b[0m00:01\u001b[0m\n",
      "\u001b[?25hCollecting nvidia-cudnn-cu12==8.9.2.26 (from torch)\n",
      "  Downloading nvidia_cudnn_cu12-8.9.2.26-py3-none-manylinux1_x86_64.whl.metadata (1.6 kB)\n",
      "Collecting nvidia-cublas-cu12==12.1.3.1 (from torch)\n",
      "  Downloading nvidia_cublas_cu12-12.1.3.1-py3-none-manylinux1_x86_64.whl (410.6 MB)\n",
      "\u001b[2K     \u001b[90m━━━━━━━━━━━━━━━━━━━━━━━━━━━━━━━━━━━━━━━\u001b[0m \u001b[32m410.6/410.6 MB\u001b[0m \u001b[31m2.4 MB/s\u001b[0m eta \u001b[36m0:00:00\u001b[0m00:01\u001b[0m00:01\u001b[0m\n",
      "\u001b[?25hCollecting nvidia-cufft-cu12==11.0.2.54 (from torch)\n",
      "  Downloading nvidia_cufft_cu12-11.0.2.54-py3-none-manylinux1_x86_64.whl (121.6 MB)\n",
      "\u001b[2K     \u001b[90m━━━━━━━━━━━━━━━━━━━━━━━━━━━━━━━━━━━━━━━\u001b[0m \u001b[32m121.6/121.6 MB\u001b[0m \u001b[31m8.5 MB/s\u001b[0m eta \u001b[36m0:00:00\u001b[0m00:01\u001b[0m00:01\u001b[0m\n",
      "\u001b[?25hCollecting nvidia-curand-cu12==10.3.2.106 (from torch)\n",
      "  Downloading nvidia_curand_cu12-10.3.2.106-py3-none-manylinux1_x86_64.whl (56.5 MB)\n",
      "\u001b[2K     \u001b[90m━━━━━━━━━━━━━━━━━━━━━━━━━━━━━━━━━━━━━━━━\u001b[0m \u001b[32m56.5/56.5 MB\u001b[0m \u001b[31m14.6 MB/s\u001b[0m eta \u001b[36m0:00:00\u001b[0m00:01\u001b[0m00:01\u001b[0m\n",
      "\u001b[?25hCollecting nvidia-cusolver-cu12==11.4.5.107 (from torch)\n",
      "  Downloading nvidia_cusolver_cu12-11.4.5.107-py3-none-manylinux1_x86_64.whl (124.2 MB)\n",
      "\u001b[2K     \u001b[90m━━━━━━━━━━━━━━━━━━━━━━━━━━━━━━━━━━━━━━━\u001b[0m \u001b[32m124.2/124.2 MB\u001b[0m \u001b[31m5.1 MB/s\u001b[0m eta \u001b[36m0:00:00\u001b[0m00:01\u001b[0m00:01\u001b[0m\n",
      "\u001b[?25hCollecting nvidia-cusparse-cu12==12.1.0.106 (from torch)\n",
      "  Downloading nvidia_cusparse_cu12-12.1.0.106-py3-none-manylinux1_x86_64.whl (196.0 MB)\n",
      "\u001b[2K     \u001b[90m━━━━━━━━━━━━━━━━━━━━━━━━━━━━━━━━━━━━━━━\u001b[0m \u001b[32m196.0/196.0 MB\u001b[0m \u001b[31m3.2 MB/s\u001b[0m eta \u001b[36m0:00:00\u001b[0m00:01\u001b[0m00:01\u001b[0m\n",
      "\u001b[?25hCollecting nvidia-nccl-cu12==2.18.1 (from torch)\n",
      "  Downloading nvidia_nccl_cu12-2.18.1-py3-none-manylinux1_x86_64.whl (209.8 MB)\n",
      "\u001b[2K     \u001b[90m━━━━━━━━━━━━━━━━━━━━━━━━━━━━━━━━━━━━━━\u001b[0m \u001b[32m209.8/209.8 MB\u001b[0m \u001b[31m14.0 MB/s\u001b[0m eta \u001b[36m0:00:00\u001b[0m00:01\u001b[0m00:01\u001b[0m\n",
      "\u001b[?25hCollecting nvidia-nvtx-cu12==12.1.105 (from torch)\n",
      "  Downloading nvidia_nvtx_cu12-12.1.105-py3-none-manylinux1_x86_64.whl (99 kB)\n",
      "\u001b[2K     \u001b[90m━━━━━━━━━━━━━━━━━━━━━━━━━━━━━━━━━━━━━━━━\u001b[0m \u001b[32m99.1/99.1 kB\u001b[0m \u001b[31m20.3 MB/s\u001b[0m eta \u001b[36m0:00:00\u001b[0m\n",
      "\u001b[?25hCollecting triton==2.1.0 (from torch)\n",
      "  Downloading triton-2.1.0-0-cp310-cp310-manylinux2014_x86_64.manylinux_2_17_x86_64.whl.metadata (1.3 kB)\n",
      "Collecting nvidia-nvjitlink-cu12 (from nvidia-cusolver-cu12==11.4.5.107->torch)\n",
      "  Downloading nvidia_nvjitlink_cu12-12.3.101-py3-none-manylinux1_x86_64.whl.metadata (1.5 kB)\n",
      "Requirement already satisfied: MarkupSafe>=2.0 in /home/ec2-user/anaconda3/envs/python3/lib/python3.10/site-packages (from jinja2->torch) (2.1.3)\n",
      "Requirement already satisfied: mpmath>=0.19 in /home/ec2-user/anaconda3/envs/python3/lib/python3.10/site-packages (from sympy->torch) (1.3.0)\n",
      "Downloading torch-2.1.1-cp310-cp310-manylinux1_x86_64.whl (670.2 MB)\n",
      "\u001b[2K   \u001b[90m━━━━━━━━━━━━━━━━━━━━━━━━━━━━━━━━━━━━━━━\u001b[0m \u001b[32m670.2/670.2 MB\u001b[0m \u001b[31m735.7 kB/s\u001b[0m eta \u001b[36m0:00:00\u001b[0m00:01\u001b[0m00:01\u001b[0m\n",
      "\u001b[?25hDownloading nvidia_cudnn_cu12-8.9.2.26-py3-none-manylinux1_x86_64.whl (731.7 MB)\n",
      "\u001b[2K   \u001b[90m━━━━━━━━━━━━━━━━━━━━━━━━━━━━━━━━━━━━━━━━\u001b[0m \u001b[32m731.7/731.7 MB\u001b[0m \u001b[31m1.6 MB/s\u001b[0m eta \u001b[36m0:00:00\u001b[0m:00:01\u001b[0m00:01\u001b[0m\n",
      "\u001b[?25hDownloading triton-2.1.0-0-cp310-cp310-manylinux2014_x86_64.manylinux_2_17_x86_64.whl (89.2 MB)\n",
      "\u001b[2K   \u001b[90m━━━━━━━━━━━━━━━━━━━━━━━━━━━━━━━━━━━━━━━━\u001b[0m \u001b[32m89.2/89.2 MB\u001b[0m \u001b[31m2.3 MB/s\u001b[0m eta \u001b[36m0:00:00\u001b[0m0:00:01\u001b[0m00:01\u001b[0m\n",
      "\u001b[?25hDownloading nvidia_nvjitlink_cu12-12.3.101-py3-none-manylinux1_x86_64.whl (20.5 MB)\n",
      "\u001b[2K   \u001b[90m━━━━━━━━━━━━━━━━━━━━━━━━━━━━━━━━━━━━━━━━\u001b[0m \u001b[32m20.5/20.5 MB\u001b[0m \u001b[31m7.7 MB/s\u001b[0m eta \u001b[36m0:00:00\u001b[0m:00:01\u001b[0m00:01\u001b[0mm\n",
      "\u001b[?25hInstalling collected packages: triton, nvidia-nvtx-cu12, nvidia-nvjitlink-cu12, nvidia-nccl-cu12, nvidia-curand-cu12, nvidia-cufft-cu12, nvidia-cuda-runtime-cu12, nvidia-cuda-nvrtc-cu12, nvidia-cuda-cupti-cu12, nvidia-cublas-cu12, nvidia-cusparse-cu12, nvidia-cudnn-cu12, nvidia-cusolver-cu12, torch\n",
      "Successfully installed nvidia-cublas-cu12-12.1.3.1 nvidia-cuda-cupti-cu12-12.1.105 nvidia-cuda-nvrtc-cu12-12.1.105 nvidia-cuda-runtime-cu12-12.1.105 nvidia-cudnn-cu12-8.9.2.26 nvidia-cufft-cu12-11.0.2.54 nvidia-curand-cu12-10.3.2.106 nvidia-cusolver-cu12-11.4.5.107 nvidia-cusparse-cu12-12.1.0.106 nvidia-nccl-cu12-2.18.1 nvidia-nvjitlink-cu12-12.3.101 nvidia-nvtx-cu12-12.1.105 torch-2.1.1 triton-2.1.0\n"
     ]
    }
   ],
   "source": [
    "!pip install torch"
   ]
  },
  {
   "cell_type": "code",
   "execution_count": 5,
   "metadata": {
    "colab": {
     "base_uri": "https://localhost:8080/"
    },
    "id": "m1Q76C0cM1Ds",
    "outputId": "f243c4a9-b401-47db-a813-3b6994872b84",
    "scrolled": true
   },
   "outputs": [
    {
     "name": "stdout",
     "output_type": "stream",
     "text": [
      "Collecting pygad\n",
      "  Downloading pygad-3.2.0-py3-none-any.whl.metadata (17 kB)\n",
      "Requirement already satisfied: cloudpickle in /home/ec2-user/anaconda3/envs/python3/lib/python3.10/site-packages (from pygad) (2.2.1)\n",
      "Requirement already satisfied: matplotlib in /home/ec2-user/anaconda3/envs/python3/lib/python3.10/site-packages (from pygad) (3.8.0)\n",
      "Requirement already satisfied: numpy in /home/ec2-user/anaconda3/envs/python3/lib/python3.10/site-packages (from pygad) (1.22.4)\n",
      "Requirement already satisfied: contourpy>=1.0.1 in /home/ec2-user/anaconda3/envs/python3/lib/python3.10/site-packages (from matplotlib->pygad) (1.1.1)\n",
      "Requirement already satisfied: cycler>=0.10 in /home/ec2-user/anaconda3/envs/python3/lib/python3.10/site-packages (from matplotlib->pygad) (0.12.1)\n",
      "Requirement already satisfied: fonttools>=4.22.0 in /home/ec2-user/anaconda3/envs/python3/lib/python3.10/site-packages (from matplotlib->pygad) (4.43.1)\n",
      "Requirement already satisfied: kiwisolver>=1.0.1 in /home/ec2-user/anaconda3/envs/python3/lib/python3.10/site-packages (from matplotlib->pygad) (1.4.5)\n",
      "Requirement already satisfied: packaging>=20.0 in /home/ec2-user/anaconda3/envs/python3/lib/python3.10/site-packages (from matplotlib->pygad) (21.3)\n",
      "Requirement already satisfied: pillow>=6.2.0 in /home/ec2-user/anaconda3/envs/python3/lib/python3.10/site-packages (from matplotlib->pygad) (10.0.1)\n",
      "Requirement already satisfied: pyparsing>=2.3.1 in /home/ec2-user/anaconda3/envs/python3/lib/python3.10/site-packages (from matplotlib->pygad) (3.1.1)\n",
      "Requirement already satisfied: python-dateutil>=2.7 in /home/ec2-user/anaconda3/envs/python3/lib/python3.10/site-packages (from matplotlib->pygad) (2.8.2)\n",
      "Requirement already satisfied: six>=1.5 in /home/ec2-user/anaconda3/envs/python3/lib/python3.10/site-packages (from python-dateutil>=2.7->matplotlib->pygad) (1.16.0)\n",
      "Downloading pygad-3.2.0-py3-none-any.whl (80 kB)\n",
      "\u001b[2K   \u001b[90m━━━━━━━━━━━━━━━━━━━━━━━━━━━━━━━━━━━━━━━━\u001b[0m \u001b[32m80.8/80.8 kB\u001b[0m \u001b[31m1.7 MB/s\u001b[0m eta \u001b[36m0:00:00\u001b[0mta \u001b[36m0:00:01\u001b[0m\n",
      "\u001b[?25hInstalling collected packages: pygad\n",
      "Successfully installed pygad-3.2.0\n"
     ]
    }
   ],
   "source": [
    "!pip install pygad"
   ]
  },
  {
   "cell_type": "markdown",
   "metadata": {},
   "source": [
    "## 파일 업로드 ##"
   ]
  },
  {
   "cell_type": "code",
   "execution_count": 6,
   "metadata": {
    "colab": {
     "base_uri": "https://localhost:8080/"
    },
    "id": "Cf97Ivs8Nm93",
    "outputId": "9e5f1174-cc8f-43de-9bc2-16e7990e10b2",
    "scrolled": true
   },
   "outputs": [
    {
     "name": "stdout",
     "output_type": "stream",
     "text": [
      "/home/ec2-user/SageMaker/Capstone/trending\n"
     ]
    }
   ],
   "source": [
    "%cd ~/SageMaker/Capstone/trending"
   ]
  },
  {
   "cell_type": "code",
   "execution_count": 7,
   "metadata": {
    "id": "QeFGBftGFpn0"
   },
   "outputs": [
    {
     "name": "stderr",
     "output_type": "stream",
     "text": [
      "/home/ec2-user/anaconda3/envs/python3/lib/python3.10/site-packages/pandas/core/computation/expressions.py:21: UserWarning: Pandas requires version '2.8.0' or newer of 'numexpr' (version '2.7.3' currently installed).\n",
      "  from pandas.core.computation.check import NUMEXPR_INSTALLED\n"
     ]
    }
   ],
   "source": [
    "import talib\n",
    "import pandas as pd\n",
    "import numpy as np\n",
    "from sklearn.preprocessing import MinMaxScaler\n",
    "from decimal import Decimal, getcontext\n",
    "\n",
    "\n",
    "from FNC_02_Preprocessing import FNC_02_Preprocessing\n",
    "from FNC_Func_Extrema import FNC_Func_Extrema\n",
    "from FNC_Func_PST import FNC_Func_PST\n",
    "\n",
    "import matplotlib.pyplot as plt"
   ]
  },
  {
   "cell_type": "code",
   "execution_count": 8,
   "metadata": {},
   "outputs": [],
   "source": [
    "import boto3\n",
    "import pandas as pd\n",
    "from io import StringIO\n",
    "\n",
    "s3 = boto3.client('s3')\n",
    "BUCKET_NAME = 'sagemaker-crawling-s3-bucket'\n",
    "DIR_NAME = 'krx/' #저장된 폴더명"
   ]
  },
  {
   "cell_type": "code",
   "execution_count": 9,
   "metadata": {},
   "outputs": [
    {
     "name": "stdout",
     "output_type": "stream",
     "text": [
      "2781\n"
     ]
    }
   ],
   "source": [
    "#저장된 csv파일 모두 가져오기(1000개 이상의 객체 제한을 고려한 코드)\n",
    "def list_all_objects(bucket_name, prefix=''):\n",
    "    s3 = boto3.client('s3')\n",
    "    objects = []\n",
    "    continuation_token = None\n",
    "\n",
    "    while True:\n",
    "        if continuation_token:\n",
    "            response = s3.list_objects_v2(Bucket=bucket_name, Prefix=prefix, ContinuationToken=continuation_token)\n",
    "        else:\n",
    "            response = s3.list_objects_v2(Bucket=bucket_name, Prefix=prefix)\n",
    "\n",
    "        # 객체 추가\n",
    "        objects.extend(response.get('Contents', []))\n",
    "\n",
    "        # 다음 토큰 확인\n",
    "        if response.get('NextContinuationToken'):\n",
    "            continuation_token = response['NextContinuationToken']\n",
    "        else:\n",
    "            break\n",
    "\n",
    "    return objects\n",
    "\n",
    "all_objects = list_all_objects(BUCKET_NAME, prefix=DIR_NAME)\n",
    "print(len(all_objects)) #전체 데이터 수"
   ]
  },
  {
   "cell_type": "code",
   "execution_count": 10,
   "metadata": {},
   "outputs": [],
   "source": [
    "#.csv 파일을 읽어와서 데이터프레임으로 변환/ dfs 딕셔너리에 파일명 저장\n",
    "dfs = {}\n",
    "for obj in all_objects:\n",
    "    file_key = obj['Key']\n",
    "    if file_key.endswith('.csv'):\n",
    "        file_content = s3.get_object(Bucket=BUCKET_NAME, Key=file_key)['Body'].read().decode('utf-8')\n",
    "        df = pd.read_csv(StringIO(file_content))\n",
    "        file_name = file_key.split('/')[-1].split('.')[0]\n",
    "        dfs[file_name] = df"
   ]
  },
  {
   "cell_type": "code",
   "execution_count": 11,
   "metadata": {
    "scrolled": true
   },
   "outputs": [
    {
     "data": {
      "text/plain": [
       "array(['KR7000300004', 'KR7000500009', 'KR7000910000', 'KR7001200005',\n",
       "       'KR7001250000', 'KR7001290006', 'KR7001440007', 'KR7001500008',\n",
       "       'KR7001620004', 'KR7001840008', 'KR7001940006', 'KR7002410009',\n",
       "       'KR7002780005', 'KR7002990000', 'KR7002991008', 'KR7004080008',\n",
       "       'KR7004720009', 'KR7005430004', 'KR7006380000', 'KR7009440009',\n",
       "       'KR7010060002', 'KR7010770006', 'KR7011150000', 'KR7011420007',\n",
       "       'KR7011810009', 'KR7013870001', 'KR7014190003', 'KR7014940001',\n",
       "       'KR7014990006', 'KR7015890007', 'KR7016100000', 'KR7016880007',\n",
       "       'KR7017900002', 'KR7023770001', 'KR7023790009', 'KR7024120008',\n",
       "       'KR7024840001', 'KR7025860008', 'KR7029480001', 'KR7030350003',\n",
       "       'KR7032560005', 'KR7032980005', 'KR7034230003', 'KR7036670008',\n",
       "       'KR7037370004', 'KR7037950003', 'KR7047560008', 'KR7048770002',\n",
       "       'KR7050960004', 'KR7052420007', 'KR7052960002', 'KR7053800009',\n",
       "       'KR7073560005', 'KR7084690007', 'KR7088390000', 'KR7092790005',\n",
       "       'KR7093510006', 'KR7098660004', 'KR7099410003', 'KR7100660000',\n",
       "       'KR7101400000', 'KR7104040001', 'KR7109740001', 'KR7118000009',\n",
       "       'KR7122690001', 'KR7131090003', 'KR7137080008', 'KR7139050009',\n",
       "       'KR7147830004', 'KR7149010001', 'KR7162120000', 'KR7169330008',\n",
       "       'KR7172670002', 'KR7185190006', 'KR7196450001', 'KR7220180004',\n",
       "       'KR7224760009', 'KR7232830000', 'KR7236200002', 'KR7238120000',\n",
       "       'KR7241790005', 'KR7261200000', 'KR7262260003', 'KR7264660002',\n",
       "       'KR726490K013', 'KR7267320000', 'KR7271980005', 'KR7285130001',\n",
       "       'KR7290660000', 'KR7298020009', 'KR7298050006', 'KR7299170001',\n",
       "       'KR7299660001', 'KR7307280008', 'KR7307750000', 'KR7307870006',\n",
       "       'KR7310870001', 'KR7318660008', 'KR7319400008', 'KR7321260002',\n",
       "       'KR7321370009', 'KR7331380006', 'KR7331660001', 'KR7332290006',\n",
       "       'KR7336060009', 'KR7340810001', 'KR7347740003', 'KR7348030008',\n",
       "       'KR7352700009', 'KR7359090008', 'KR7368770004', 'KR7373170000',\n",
       "       'KR7373200005', 'KR737550K011', 'KR7378340004', 'KR7382840007',\n",
       "       'KR7396470007', 'KR7406760009', 'KR7413630005', 'KR7417310000',\n",
       "       'KR7418550000', 'KR7446440000', 'KR7446540007', 'KR7446750002',\n",
       "       'KR7448370007', 'KR7449020007', 'KR7450940002', 'KR7451220008',\n",
       "       'KR745226K018', 'KR7452980006', 'KR7453860009', 'KR7454640004',\n",
       "       'KR7457190007', 'KR7457940005', 'KR7462520008', 'KYG2114A1094'],\n",
       "      dtype='<U12')"
      ]
     },
     "execution_count": 11,
     "metadata": {},
     "output_type": "execute_result"
    }
   ],
   "source": [
    "a= np.loadtxt('/home/ec2-user/SageMaker/Capstone/hurst_exponent.txt',dtype=str)\n",
    "a"
   ]
  },
  {
   "cell_type": "code",
   "execution_count": 12,
   "metadata": {
    "id": "_3HgZwlrM1Dt"
   },
   "outputs": [],
   "source": [
    "def bt_data(data_bt):\n",
    "    check_dtype = data_bt.dtype == 'object'\n",
    "    if (check_dtype):\n",
    "        return data_bt.str.replace(',','').astype('float')\n",
    "    else :\n",
    "        return data_bt.astype('float')"
   ]
  },
  {
   "cell_type": "code",
   "execution_count": 13,
   "metadata": {
    "id": "GoPoO08UM1Dt"
   },
   "outputs": [],
   "source": [
    "import pygad\n",
    "import backtrader\n",
    "import pandas as pd\n",
    "import talib\n",
    "\n",
    "class Trading:\n",
    "    def __init__(self, df):\n",
    "        self.df = df.copy()\n",
    "\n",
    "    def rsi(self,ga_instance, solution, solution_idx ):\n",
    "        period, rsi_low, rsi_high = solution\n",
    "        self.df['rsi'] = talib.RSI(self.df['Marketcap'], timeperiod=int(period))\n",
    "        self.df['signal'] = np.where(self.df['rsi'] < rsi_low, 1, np.where(self.df['rsi'] > rsi_high, -1, 0))\n",
    "        return self.trade_logic(self.df['Marketcap'],self.df['signal'])\n",
    "\n",
    "    def sma_cross(self,ga_instance, solution, solution_idx):\n",
    "        pfast, pslow = solution\n",
    "        self.df['sma1'] = talib.SMA(self.df['Marketcap'], timeperiod=int(pfast))\n",
    "        self.df['sma2'] = talib.SMA(self.df['Marketcap'], timeperiod=int(pslow))\n",
    "        self.df['signal'] = np.where(self.df['sma1'] > self.df['sma2'], 1, -1)\n",
    "        return self.trade_logic(self.df['Marketcap'],self.df['signal'])\n",
    "\n",
    "    def ema_cross(self, ga_instance, solution, solution_idx):\n",
    "        pfast, pslow=solution\n",
    "        self.df['ema1'] = talib.EMA(self.df['Marketcap'], timeperiod=int(pfast))\n",
    "        self.df['ema2'] = talib.EMA(self.df['Marketcap'], timeperiod=int(pslow))\n",
    "        self.df['signal'] = np.where(self.df['ema1'] > self.df['ema2'], 1, -1)\n",
    "        return self.trade_logic(self.df['Marketcap'],self.df['signal'])\n",
    "\n",
    "    def roc(self,ga_instance, solution, solution_idx):\n",
    "        period = solution\n",
    "        self.df['roc'] = talib.ROC(self.df['Marketcap'], timeperiod=int(period))\n",
    "        self.df['signal'] = np.where(self.df['roc'] > 0, 1, -1)\n",
    "        return self.trade_logic(self.df['Marketcap'],self.df['signal'])\n",
    "\n",
    "    def stochastic(self,ga_instance, solution, solution_idx):\n",
    "        period, d_period, overbought, oversold = solution\n",
    "\n",
    "        k, d = talib.STOCH(self.df['High']*self.df['Marketcap']/self.df['Close'], self.df['Low']*self.df['Marketcap']/self.df['Close'], self.df['Marketcap'], fastk_period=int(period), slowk_period=int(d_period))\n",
    "        self.df['signal'] = np.where(k < oversold, 1, np.where(k > overbought, -1, 0))\n",
    "        return self.trade_logic(self.df['Marketcap'],self.df['signal'])\n",
    "\n",
    "    \n",
    "    def trade_logic(self, price_data, signals):\n",
    "        \"\"\"\n",
    "        Backtest function to calculate percentage of profit based on trading signals.\n",
    "\n",
    "        :param price_data: List of stock prices (time series data).\n",
    "        :param signals: List of trading signals (-1 for buy, 1 for sell, 0 for hold).\n",
    "        :return: Tuple containing percentage of profit and Maximum Drawdown (MDD).\n",
    "        \"\"\"\n",
    "        if len(price_data) != len(signals):\n",
    "            raise ValueError(\"Length of price data and signals must be the same.\")\n",
    "            \n",
    "\n",
    "        # 수수료율 및 슬리피지율 설정 (예: 수수료 0.1%, 슬리피지 0.05%)\n",
    "        commission_rate = 0.001\n",
    "        slippage_rate = 0.0005\n",
    "\n",
    "        profit_value = 1.0\n",
    "        peak = price_data.iloc[0]\n",
    "        max_drawdown = 0.0\n",
    "        holding = False\n",
    "        buy_price = 0.0\n",
    "        asset_value = 1.0\n",
    "\n",
    "\n",
    "\n",
    "        for i in range(1, len(price_data)):\n",
    "            current_price = price_data.iloc[i]\n",
    "\n",
    "            if signals.iloc[i] == 1 and not holding:  # Buy\n",
    "                # 슬리피지 반영\n",
    "                slippage = current_price * slippage_rate\n",
    "                buy_price = current_price + slippage\n",
    "                # 수수료 반영\n",
    "                buy_commission = buy_price * commission_rate\n",
    "                asset_value -= (buy_commission + slippage)\n",
    "                holding = True\n",
    "\n",
    "            elif signals.iloc[i] == -1 and holding:  # Sell\n",
    "                # 슬리피지 반영\n",
    "                slippage = current_price * slippage_rate\n",
    "                sell_price = current_price - slippage\n",
    "                # 수수료 반영\n",
    "                sell_commission = sell_price * commission_rate\n",
    "                profit = (sell_price - sell_commission - buy_price) / buy_price\n",
    "                profit_value *= (1 + profit)\n",
    "\n",
    "                holding = False\n",
    "                asset_value = profit_value\n",
    "\n",
    "            elif holding:\n",
    "                asset_value = 1 + ((current_price - buy_price) / buy_price)\n",
    "\n",
    "            # Update peak\n",
    "            if holding:\n",
    "                peak = max(peak, current_price)\n",
    "\n",
    "            # Calculate drawdown\n",
    "            if holding:\n",
    "                drawdown = (peak - current_price) / peak\n",
    "                max_drawdown = max(max_drawdown, drawdown)\n",
    "            if max_drawdown <= 0.01:\n",
    "                max_drawdown = 0.01\n",
    "\n",
    "        return_value = 0.9 * (profit_value- 1.0)*100 + 0.1 * (1/max_drawdown)\n",
    "        return return_value"
   ]
  },
  {
   "cell_type": "code",
   "execution_count": 14,
   "metadata": {
    "id": "pNUITh8kM1Dt"
   },
   "outputs": [],
   "source": [
    "import talib\n",
    "import numpy as np\n",
    "\n",
    "class SHOW_SIGNAL:\n",
    "    def __init__(self, df):\n",
    "        self.df = df.copy()\n",
    "\n",
    "    def rsi(self, period, rsi_low, rsi_high):\n",
    "        self.df['rsi'] = talib.RSI(self.df['Marketcap'], timeperiod=int(period))\n",
    "        self.df['signal'] = np.where(self.df['rsi'] < rsi_low, 1, np.where(self.df['rsi'] > rsi_high, -1, 0))\n",
    "        return self.trade_logic(self.df['Marketcap'],self.df['signal'])\n",
    "\n",
    "    def sma_cross(self, pfast, pslow):\n",
    "        self.df['sma1'] = talib.SMA(self.df['Marketcap'], timeperiod=int(pfast))\n",
    "        self.df['sma2'] = talib.SMA(self.df['Marketcap'], timeperiod=int(pslow))\n",
    "        self.df['signal'] = np.where(self.df['sma1'] > self.df['sma2'], 1, -1)\n",
    "        return self.trade_logic(self.df['Marketcap'],self.df['signal'])\n",
    "\n",
    "    def ema_cross(self, pfast, pslow):\n",
    "        self.df['ema1'] = talib.EMA(self.df['Marketcap'], timeperiod=int(pfast))\n",
    "        self.df['ema2'] = talib.EMA(self.df['Marketcap'], timeperiod=int(pslow))\n",
    "        self.df['signal'] = np.where(self.df['ema1'] > self.df['ema2'], 1, -1)\n",
    "        return self.trade_logic(self.df['Marketcap'],self.df['signal'])\n",
    "\n",
    "    def roc(self, period):\n",
    "        self.df['roc'] = talib.ROC(self.df['Marketcap'], timeperiod=int(period))\n",
    "        self.df['signal'] = np.where(self.df['roc'] > 0, 1, -1)\n",
    "        return self.trade_logic(self.df['Marketcap'],self.df['signal'])\n",
    "\n",
    "    def stochastic(self, period, d_period, overbought, oversold):\n",
    "        k, d = talib.STOCH(self.df['High']*self.df['Marketcap']/self.df['Close'], self.df['Low']*self.df['Marketcap']/self.df['Close'], self.df['Marketcap'], fastk_period=int(period), slowk_period=int(d_period))\n",
    "        self.df['signal'] = np.where(k < oversold, 1, np.where(k > overbought, -1, 0))\n",
    "        return self.trade_logic(self.df['Marketcap'],self.df['signal'])\n",
    "\n",
    "    def trade_logic(self, price_data, signals):\n",
    "        \"\"\"\n",
    "        Backtest function to calculate percentage of profit based on trading signals.\n",
    "\n",
    "        :param price_data: List of stock prices (time series data).\n",
    "        :param signals: List of trading signals (-1 for buy, 1 for sell, 0 for hold).\n",
    "        :return: Tuple containing percentage of profit and Maximum Drawdown (MDD).\n",
    "        \"\"\"\n",
    "        if len(price_data) != len(signals):\n",
    "            raise ValueError(\"Length of price data and signals must be the same.\")\n",
    "\n",
    "\n",
    "\n",
    "        # 수수료율 및 슬리피지율 설정 (예: 수수료 0.1%, 슬리피지 0.05%)\n",
    "        commission_rate = 0.001\n",
    "        slippage_rate = 0.0005\n",
    "\n",
    "        profit_value = 1.0\n",
    "        peak = price_data.iloc[0]\n",
    "        max_drawdown = 0.0\n",
    "        holding = False\n",
    "        buy_price = 0.0\n",
    "        asset_value = 1.0\n",
    "\n",
    "\n",
    "\n",
    "        for i in range(1, len(price_data)):\n",
    "            current_price = price_data.iloc[i]\n",
    "\n",
    "            if signals.iloc[i] == 1 and not holding:  # Buy\n",
    "                # 슬리피지 반영\n",
    "                slippage = current_price * slippage_rate\n",
    "                buy_price = current_price + slippage\n",
    "                # 수수료 반영\n",
    "                buy_commission = buy_price * commission_rate\n",
    "                asset_value -= (buy_commission + slippage)\n",
    "                holding = True\n",
    "\n",
    "            elif signals.iloc[i] == -1 and holding:  # Sell\n",
    "                # 슬리피지 반영\n",
    "                slippage = current_price * slippage_rate\n",
    "                sell_price = current_price - slippage\n",
    "                # 수수료 반영\n",
    "                sell_commission = sell_price * commission_rate\n",
    "                profit = (sell_price - sell_commission - buy_price) / buy_price\n",
    "                profit_value *= (1 + profit)\n",
    "\n",
    "                holding = False\n",
    "                asset_value = profit_value\n",
    "\n",
    "            elif holding:\n",
    "                asset_value = 1 + ((current_price - buy_price) / buy_price)\n",
    "\n",
    "            # Update peak\n",
    "            if holding:\n",
    "                peak = max(peak, current_price)\n",
    "\n",
    "            # Calculate drawdown\n",
    "            if holding:\n",
    "                drawdown = (peak - current_price) / peak\n",
    "                max_drawdown = max(max_drawdown, drawdown)\n",
    "            if max_drawdown <= 0.01:\n",
    "                max_drawdown = 0.01\n",
    "\n",
    "        return_value = 0.9 * (profit_value- 1.0) *100+ 0.1 * (1/max_drawdown)\n",
    "        return return_value\n",
    "        "
   ]
  },
  {
   "cell_type": "code",
   "execution_count": 15,
   "metadata": {
    "id": "rs7B5gnKM1Dt"
   },
   "outputs": [],
   "source": [
    "def callback_generation(ga_instance):\n",
    "    # 최대 적합도 값 가져오기\n",
    "    max_fitness = ga_instance.best_solution()[1]\n",
    "    if max_fitness/100000.0 > df_bt['Marketcap'][-1]/df_bt['Marketcap'][0]:\n",
    "        ga_instance.stop_training = True"
   ]
  },
  {
   "cell_type": "code",
   "execution_count": 16,
   "metadata": {
    "id": "yc_SJD09M1Dt"
   },
   "outputs": [],
   "source": [
    "def genetic(g_space,Trading,n_gen):\n",
    "    ga_instance = pygad.GA(\n",
    "        num_generations=10,\n",
    "        num_parents_mating=15,\n",
    "        fitness_func=Trading,  # RSI 전략의 적합도 함수\n",
    "        sol_per_pop=30,\n",
    "        num_genes=n_gen,\n",
    "        gene_space=g_space,\n",
    "        parent_selection_type=\"rws\",\n",
    "        keep_parents=3,\n",
    "        crossover_type=\"uniform\",\n",
    "         #on_generation=callback_generation,\n",
    "        mutation_type=\"random\",\n",
    "        mutation_num_genes=1\n",
    "    )\n",
    "\n",
    "    ga_instance.run()\n",
    "\n",
    "    solution, solution_fitness, solution_idx = ga_instance.best_solution()\n",
    "    return solution, solution_fitness"
   ]
  },
  {
   "cell_type": "code",
   "execution_count": 17,
   "metadata": {
    "id": "R_ukSX7uM1Du"
   },
   "outputs": [],
   "source": [
    "def get_signals(df):\n",
    "    trading = Trading(df)\n",
    "\n",
    "    strategies = {\n",
    "        \"rsi\": {\"period\": 14, \"rsi_low\": 30, \"rsi_high\": 70},\n",
    "        \"sma_cross\": {\"pfast\": 20, \"pslow\": 60},\n",
    "        \"ema_cross\": {\"pfast\": 20, \"pslow\": 60},\n",
    "        \"roc\": {\"period\": 10},\n",
    "        \"stochastic\": {\"period\": 14, \"d_period\": 3, \"overbought\": 70, \"oversold\": 30}\n",
    "    }\n",
    "    for i in [\"rsi\", \"sma_cross\", \"roc\", \"ema_cross\", \"stochastic\"]:\n",
    "\n",
    "        if i == \"rsi\":\n",
    "            g_space = [range(2, 30), range(1, 100), range(1, 100)]\n",
    "            rsi_sol, rsi_fitness = genetic(g_space, trading.rsi, 3)\n",
    "            strategies['rsi'] = {\"period\": rsi_sol[0], \"rsi_low\": rsi_sol[1], \"rsi_high\": rsi_sol[2]}\n",
    "\n",
    "        elif i ==  \"sma_cross\":\n",
    "            g_space = [range(2, 100), range(2, 100)]\n",
    "            sma_sol, sma_fitness = genetic(g_space, trading.sma_cross, 2)\n",
    "            strategies['sma_cross'] = {\"pfast\": sma_sol[0], \"pslow\": sma_sol[1]}\n",
    "\n",
    "        elif i == \"roc\":\n",
    "            g_space = [range(2, 100)]\n",
    "            roc_sol, roc_fitness = genetic(g_space, trading.roc, 1)\n",
    "            strategies['roc'] = {\"period\": roc_sol[0]}\n",
    "\n",
    "        elif i == \"ema_cross\":\n",
    "            g_space = [range(2, 100), range(2, 100)]\n",
    "            ema_sol, ema_fitness = genetic(g_space, trading.ema_cross,2)\n",
    "            strategies['ema_cross'] = {\"pfast\": ema_sol[0], \"pslow\": ema_sol[1]}\n",
    "\n",
    "        elif i == \"stochastic\":\n",
    "            g_space = [range(2, 30),range(2, 100), range(2, 100), range(2, 100)]\n",
    "            sto_sol, sto_fitness = genetic(g_space, trading.stochastic,4)\n",
    "            strategies[\"stochastic\"] = {\"period\": sto_sol[0], \"d_period\": sto_sol[1], \"overbought\": sto_sol[2], \"oversold\": sto_sol[3]}\n",
    "\n",
    "    signal_dataframes = pd.DataFrame()\n",
    "    show_sig = SHOW_SIGNAL(df)\n",
    "    for name, params in strategies.items():\n",
    "        show_sig.df = df.copy()\n",
    "        getattr(show_sig, name)(**params)\n",
    "        signal_dataframes[name] = show_sig.df[['signal']].copy()\n",
    "\n",
    "    return signal_dataframes"
   ]
  },
  {
   "cell_type": "markdown",
   "metadata": {},
   "source": [
    "## ESN-Realtime(optimization)"
   ]
  },
  {
   "cell_type": "code",
   "execution_count": 20,
   "metadata": {
    "id": "4ytuaB9Zl8el"
   },
   "outputs": [
    {
     "ename": "ModuleNotFoundError",
     "evalue": "No module named 'ESN'",
     "output_type": "error",
     "traceback": [
      "\u001b[0;31m---------------------------------------------------------------------------\u001b[0m",
      "\u001b[0;31mModuleNotFoundError\u001b[0m                       Traceback (most recent call last)",
      "Cell \u001b[0;32mIn[20], line 1\u001b[0m\n\u001b[0;32m----> 1\u001b[0m \u001b[38;5;28;01mfrom\u001b[39;00m \u001b[38;5;21;01mESN\u001b[39;00m \u001b[38;5;28;01mimport\u001b[39;00m ESN\n\u001b[1;32m      2\u001b[0m \u001b[38;5;28;01mimport\u001b[39;00m \u001b[38;5;21;01mtorch\u001b[39;00m\n",
      "\u001b[0;31mModuleNotFoundError\u001b[0m: No module named 'ESN'"
     ]
    }
   ],
   "source": [
    "from ESN import ESN\n",
    "import torch"
   ]
  },
  {
   "cell_type": "code",
   "execution_count": 24,
   "metadata": {},
   "outputs": [],
   "source": [
    "global best_portfolio_real \n",
    "best_portfolio_real = {}\n",
    "def add_to_portfolio_real(portfolio_value, solution):\n",
    "    best_portfolio_real[portfolio_value] = solution"
   ]
  },
  {
   "cell_type": "code",
   "execution_count": 25,
   "metadata": {},
   "outputs": [],
   "source": [
    "class ML_Trading_real:\n",
    "    def __init__(self, X_train, y_train, X_test,df_bt):\n",
    "        self.df_bt = df_bt.copy()\n",
    "        self.initial_capital = 1e+18\n",
    "\n",
    "    def esn_op(self, ga_instance, solution, solution_idx ):\n",
    "        initial_capital = 1e+18\n",
    "        shares = 0  # 주식 보유량\n",
    "        tra_shares = 0\n",
    "        capital = initial_capital\n",
    "        spectral_radius, sparsity, alpha, damping, Trade_low, Trade_high , reg_lambda, weight_scaling = solution\n",
    "        esn = ESN(resSize=1000,\n",
    "              output_dim=1,\n",
    "              sparsity=sparsity,\n",
    "              spectral_radius=spectral_radius,\n",
    "              alpha=alpha,\n",
    "              lambda_leak=1,\n",
    "              n_feature=5,\n",
    "              random_state=42,\n",
    "              weight_scaling=weight_scaling,\n",
    "              damping=damping)\n",
    "        esn.fit(torch.tensor(X_train), torch.tensor(y_train).reshape(-1,1), reg_lambda)\n",
    "        y_pred = esn.predict(torch.tensor(X_test))\n",
    "        df_bt = self.df_bt[\"Marketcap\"].iloc[int(len(self.df_bt)*0.7):].reset_index()#.drop(columns=['index'])\n",
    "        Tr = pd.DataFrame(y_pred.detach().numpy(),columns = [\"pred_Trend\"])\n",
    "        Tr = pd.concat([Tr,df_bt,pd.DataFrame(y_test,columns=[\"Trend\"])],axis=1)\n",
    "        for _, row in Tr.iterrows():\n",
    "            if row[\"pred_Trend\"] <Trade_low:\n",
    "                tra_shares = capital // row['Marketcap']  # 현재 자본으로 최대한 매수\n",
    "                shares += tra_shares\n",
    "                capital -= tra_shares * row['Marketcap']\n",
    "\n",
    "            elif row[\"pred_Trend\"] >= Trade_high:\n",
    "                capital += shares * row['Marketcap']  # 모든 주식을 판매하고 현금을 얻습니다.\n",
    "                shares = 0.0  # 주식은 0이 됩니다.\n",
    "                \n",
    "        portfolio_value = capital + shares * row['Marketcap']\n",
    "        return_rate = (portfolio_value-initial_capital)/initial_capital*100\n",
    "        add_to_portfolio_real(portfolio_value, solution)\n",
    "        print(portfolio_value, solution)\n",
    "        return return_rate\n"
   ]
  },
  {
   "cell_type": "code",
   "execution_count": 26,
   "metadata": {},
   "outputs": [],
   "source": [
    "def Trade_ML_real(df, spectral_radius, sparsity, alpha, damping, trade_low,trade_high, reg_lambda, weight_scaling):\n",
    "    df_bt = df[\"Marketcap\"].iloc[int(len(df)*0.7):]\n",
    "    initial_capital = 1e+18\n",
    "    shares = 0  # 주식 보유량\n",
    "    tra_shares = 0\n",
    "    capital = initial_capital\n",
    "    esn = ESN(resSize=1000,\n",
    "              output_dim=1,\n",
    "              sparsity=sparsity,\n",
    "              spectral_radius=spectral_radius,\n",
    "              alpha=alpha,\n",
    "              lambda_leak=1,\n",
    "              n_feature=5,\n",
    "              random_state=42,\n",
    "              weight_scaling=weight_scaling,\n",
    "              damping=damping)\n",
    "    \n",
    "    esn.fit(torch.tensor(X_train), torch.tensor(y_train).reshape(-1,1), reg_lambda)\n",
    "    y_pred = esn.predict(torch.tensor(X_test))\n",
    "    df_bt = df_bt[\"Marketcap\"].iloc[int(len(df_bt)*0.7):].reset_index()#.drop(columns=['index'])\n",
    "    Tr = pd.DataFrame(y_pred.detach().numpy(), columns = [\"pred_Trend\"])\n",
    "    Tr = pd.concat([Tr,df_bt,pd.DataFrame(y_test,columns=[\"Trend\"])],axis=1)\n",
    "\n",
    "    for _, row in Tr.iterrows():\n",
    "        if row[\"pred_Trend\"] <trade_low:\n",
    "            tra_shares = capital // row['Marketcap']  # 현재 자본으로 최대한 매수\n",
    "            shares += tra_shares\n",
    "            capital -= tra_shares * row['Marketcap']\n",
    "\n",
    "        elif row[\"pred_Trend\"] >= trade_high:\n",
    "            capital += shares * row['Marketcap']  # 모든 주식을 판매하고 현금을 얻습니다.\n",
    "            shares = 0.0  # 주식은 0이 됩니다.\n",
    "    portfolio_value = capital + shares * row['Marketcap']\n",
    "    return portfolio_value"
   ]
  },
  {
   "cell_type": "code",
   "execution_count": 27,
   "metadata": {},
   "outputs": [],
   "source": [
    "def optimize_ESN(X_train,y_train,X_test,df_bt):\n",
    "    #인풋 데이터 모양 맞춰주기(backtest에 들어갈 데이터 모양)\n",
    "\n",
    "\n",
    "    hyper = ML_Trading_real(X_train,y_train,X_test,df_bt)\n",
    "    strategies = {\"ESN\":{\"spectral_radius\":0.1, \"sparsity\" : 0.001, \"alpha\" : 5e-4, \"damping\" : 0.3, \"Trade_low\" : -0.7, \"Trade_high\" : 0.7, \"reg_lambda\" : 0.001, \"weight_scaling\": 1.25}}\n",
    "    g_space = [np.arange(0.1, 1, 0.1),np.arange(0.001,0.01, 0.001),np.arange(5e-4, 1e-3, 1e-4), np.arange(0.1, 0.9, 0.1) ,np.arange(-0.9,-0.1,0.1), np.arange(0.1, 0.9, 0.1),np.arange(0.001 ,0.01,0.001),np.arange(1.0,1.25, 0.05) ]\n",
    "    ESN_sol, ESN_fitness = genetic_hyper(g_space, hyper.esn_op, 8)\n",
    "    strategies['ESN'] = {\"spectral_radius\": ESN_sol[0], \"sparsity\": ESN_sol[1], \"alpha\": ESN_sol[2], \"damping\" :ESN_sol[3], \"Trade_low\": ESN_sol[4], \"Trade_high\": ESN_sol[5],\"reg_lambda\":ESN_sol[6], \"weight_scaling\":ESN_sol[7]}\n",
    "    print(ESN_sol)\n",
    "\n",
    "\n",
    "    max_portfolio_value = max(best_portfolio.keys())\n",
    "    best_solution = best_portfolio_real[max_portfolio_value]\n",
    "    val = Trade_ML_real(df_bt, best_solution[0], best_solution[1], best_solution[2], best_solution[3], best_solution[4], best_solution[5], best_solution[6], best_solution[7])\n",
    "\n",
    "\n",
    "    return val, best_solution"
   ]
  },
  {
   "cell_type": "code",
   "execution_count": 28,
   "metadata": {},
   "outputs": [],
   "source": [
    "def genetic_hyper(g_space, Trading, n_gen):\n",
    "    ga_instance_hyper = pygad.GA(\n",
    "        num_generations=20,\n",
    "        num_parents_mating=15,\n",
    "        fitness_func=Trading,\n",
    "        sol_per_pop=30,\n",
    "        num_genes=n_gen,\n",
    "        gene_space=g_space,\n",
    "        parent_selection_type=\"rws\",\n",
    "        keep_parents=3,\n",
    "        crossover_type=\"uniform\",\n",
    "         #on_generation=callback_generation,\n",
    "        mutation_type=\"random\",\n",
    "        mutation_num_genes=1\n",
    "    )\n",
    "\n",
    "    ga_instance_hyper.run()\n",
    "\n",
    "    solution, solution_fitness, solution_idx = ga_instance_hyper.best_solution()\n",
    "    return solution, solution_fitness"
   ]
  },
  {
   "cell_type": "code",
   "execution_count": null,
   "metadata": {
    "scrolled": true
   },
   "outputs": [
    {
     "data": {
      "application/vnd.jupyter.widget-view+json": {
       "model_id": "58f27301ba634305b519d576f06375ad",
       "version_major": 2,
       "version_minor": 0
      },
      "text/plain": [
       "  0%|          | 0/4733 [00:00<?, ?it/s]"
      ]
     },
     "metadata": {},
     "output_type": "display_data"
    },
    {
     "data": {
      "application/vnd.jupyter.widget-view+json": {
       "model_id": "c217759cc83847e4ba9a0d11559e5f22",
       "version_major": 2,
       "version_minor": 0
      },
      "text/plain": [
       "  0%|          | 0/2029 [00:00<?, ?it/s]"
      ]
     },
     "metadata": {},
     "output_type": "display_data"
    },
    {
     "name": "stdout",
     "output_type": "stream",
     "text": [
      "1e+18 [ 8.00e-01  9.00e-03  8.00e-04  1.00e-01 -4.00e-01  5.00e-01  7.00e-03\n",
      "  1.15e+00]\n"
     ]
    },
    {
     "data": {
      "application/vnd.jupyter.widget-view+json": {
       "model_id": "acabe89738094d529d39ba9f7b23e768",
       "version_major": 2,
       "version_minor": 0
      },
      "text/plain": [
       "  0%|          | 0/4733 [00:00<?, ?it/s]"
      ]
     },
     "metadata": {},
     "output_type": "display_data"
    },
    {
     "data": {
      "application/vnd.jupyter.widget-view+json": {
       "model_id": "5d96102985024531bb5cbbd4ad2bc731",
       "version_major": 2,
       "version_minor": 0
      },
      "text/plain": [
       "  0%|          | 0/2029 [00:00<?, ?it/s]"
      ]
     },
     "metadata": {},
     "output_type": "display_data"
    },
    {
     "name": "stdout",
     "output_type": "stream",
     "text": [
      "1e+18 [ 7.e-01  9.e-03  6.e-04  2.e-01 -5.e-01  8.e-01  2.e-03  1.e+00]\n"
     ]
    },
    {
     "data": {
      "application/vnd.jupyter.widget-view+json": {
       "model_id": "82e236131328410796c7814c12609d73",
       "version_major": 2,
       "version_minor": 0
      },
      "text/plain": [
       "  0%|          | 0/4733 [00:00<?, ?it/s]"
      ]
     },
     "metadata": {},
     "output_type": "display_data"
    },
    {
     "data": {
      "application/vnd.jupyter.widget-view+json": {
       "model_id": "237b74c39e55477aa76b8c50c628f71c",
       "version_major": 2,
       "version_minor": 0
      },
      "text/plain": [
       "  0%|          | 0/2029 [00:00<?, ?it/s]"
      ]
     },
     "metadata": {},
     "output_type": "display_data"
    },
    {
     "name": "stdout",
     "output_type": "stream",
     "text": [
      "1.7086934587462743e+18 [ 1.00e-01  7.00e-03  9.00e-04  8.00e-01 -3.00e-01  6.00e-01  1.00e-03\n",
      "  1.15e+00]\n"
     ]
    },
    {
     "data": {
      "application/vnd.jupyter.widget-view+json": {
       "model_id": "e3114ce231b24f879fa81ecfb32de9a9",
       "version_major": 2,
       "version_minor": 0
      },
      "text/plain": [
       "  0%|          | 0/4733 [00:00<?, ?it/s]"
      ]
     },
     "metadata": {},
     "output_type": "display_data"
    },
    {
     "data": {
      "application/vnd.jupyter.widget-view+json": {
       "model_id": "173bb0478d314d02a4fb8978440fe0d0",
       "version_major": 2,
       "version_minor": 0
      },
      "text/plain": [
       "  0%|          | 0/2029 [00:00<?, ?it/s]"
      ]
     },
     "metadata": {},
     "output_type": "display_data"
    },
    {
     "name": "stdout",
     "output_type": "stream",
     "text": [
      "1e+18 [ 2.e-01  8.e-03  8.e-04  1.e-01 -7.e-01  5.e-01  9.e-03  1.e+00]\n"
     ]
    },
    {
     "data": {
      "application/vnd.jupyter.widget-view+json": {
       "model_id": "f28579e91ed64d228625d94897fa6ca3",
       "version_major": 2,
       "version_minor": 0
      },
      "text/plain": [
       "  0%|          | 0/4733 [00:00<?, ?it/s]"
      ]
     },
     "metadata": {},
     "output_type": "display_data"
    },
    {
     "data": {
      "application/vnd.jupyter.widget-view+json": {
       "model_id": "49bc6f387dd547e0be17d371589378e6",
       "version_major": 2,
       "version_minor": 0
      },
      "text/plain": [
       "  0%|          | 0/2029 [00:00<?, ?it/s]"
      ]
     },
     "metadata": {},
     "output_type": "display_data"
    },
    {
     "name": "stdout",
     "output_type": "stream",
     "text": [
      "1e+18 [ 4.00e-01  8.00e-03  8.00e-04  5.00e-01 -7.00e-01  6.00e-01  6.00e-03\n",
      "  1.05e+00]\n"
     ]
    },
    {
     "data": {
      "application/vnd.jupyter.widget-view+json": {
       "model_id": "76edcdf5a532444397e87272c1cec4a4",
       "version_major": 2,
       "version_minor": 0
      },
      "text/plain": [
       "  0%|          | 0/4733 [00:00<?, ?it/s]"
      ]
     },
     "metadata": {},
     "output_type": "display_data"
    },
    {
     "data": {
      "application/vnd.jupyter.widget-view+json": {
       "model_id": "680cf1ee2e0448e7b78134a3160f36c9",
       "version_major": 2,
       "version_minor": 0
      },
      "text/plain": [
       "  0%|          | 0/2029 [00:00<?, ?it/s]"
      ]
     },
     "metadata": {},
     "output_type": "display_data"
    },
    {
     "name": "stdout",
     "output_type": "stream",
     "text": [
      "2.0681072595456402e+18 [ 3.0e-01  5.0e-03  7.0e-04  6.0e-01 -7.0e-01  5.0e-01  6.0e-03  1.1e+00]\n"
     ]
    },
    {
     "data": {
      "application/vnd.jupyter.widget-view+json": {
       "model_id": "22150a6eb9c14a88afa5e91ac46e46cc",
       "version_major": 2,
       "version_minor": 0
      },
      "text/plain": [
       "  0%|          | 0/4733 [00:00<?, ?it/s]"
      ]
     },
     "metadata": {},
     "output_type": "display_data"
    },
    {
     "data": {
      "application/vnd.jupyter.widget-view+json": {
       "model_id": "e558d4c2a24c4fa082be7eb874fefe91",
       "version_major": 2,
       "version_minor": 0
      },
      "text/plain": [
       "  0%|          | 0/2029 [00:00<?, ?it/s]"
      ]
     },
     "metadata": {},
     "output_type": "display_data"
    },
    {
     "name": "stdout",
     "output_type": "stream",
     "text": [
      "1e+18 [ 2.0e-01  5.0e-03  7.0e-04  5.0e-01 -7.0e-01  4.0e-01  8.0e-03  1.1e+00]\n"
     ]
    },
    {
     "data": {
      "application/vnd.jupyter.widget-view+json": {
       "model_id": "0127a96758a949a787c34932625798b8",
       "version_major": 2,
       "version_minor": 0
      },
      "text/plain": [
       "  0%|          | 0/4733 [00:00<?, ?it/s]"
      ]
     },
     "metadata": {},
     "output_type": "display_data"
    },
    {
     "data": {
      "application/vnd.jupyter.widget-view+json": {
       "model_id": "c52a89db60434b4e9692742dd8b7d499",
       "version_major": 2,
       "version_minor": 0
      },
      "text/plain": [
       "  0%|          | 0/2029 [00:00<?, ?it/s]"
      ]
     },
     "metadata": {},
     "output_type": "display_data"
    },
    {
     "name": "stdout",
     "output_type": "stream",
     "text": [
      "1.734548779541235e+18 [ 6.0e-01  3.0e-03  8.0e-04  5.0e-01 -5.0e-01  1.0e-01  4.0e-03  1.2e+00]\n"
     ]
    },
    {
     "data": {
      "application/vnd.jupyter.widget-view+json": {
       "model_id": "18f4c84f3a7d4410afde151d5378e2aa",
       "version_major": 2,
       "version_minor": 0
      },
      "text/plain": [
       "  0%|          | 0/4733 [00:00<?, ?it/s]"
      ]
     },
     "metadata": {},
     "output_type": "display_data"
    },
    {
     "data": {
      "application/vnd.jupyter.widget-view+json": {
       "model_id": "7489210543c244008ad02faa810c6341",
       "version_major": 2,
       "version_minor": 0
      },
      "text/plain": [
       "  0%|          | 0/2029 [00:00<?, ?it/s]"
      ]
     },
     "metadata": {},
     "output_type": "display_data"
    },
    {
     "name": "stdout",
     "output_type": "stream",
     "text": [
      "1e+18 [ 1.00e-01  4.00e-03  5.00e-04  7.00e-01 -9.00e-01  2.00e-01  7.00e-03\n",
      "  1.15e+00]\n"
     ]
    },
    {
     "data": {
      "application/vnd.jupyter.widget-view+json": {
       "model_id": "09449c34c5c24998b246ddc689e1367f",
       "version_major": 2,
       "version_minor": 0
      },
      "text/plain": [
       "  0%|          | 0/4733 [00:00<?, ?it/s]"
      ]
     },
     "metadata": {},
     "output_type": "display_data"
    },
    {
     "data": {
      "application/vnd.jupyter.widget-view+json": {
       "model_id": "ef0a57b95cab403bb022fa29e896a90f",
       "version_major": 2,
       "version_minor": 0
      },
      "text/plain": [
       "  0%|          | 0/2029 [00:00<?, ?it/s]"
      ]
     },
     "metadata": {},
     "output_type": "display_data"
    },
    {
     "name": "stdout",
     "output_type": "stream",
     "text": [
      "1e+18 [ 9.e-01  7.e-03  5.e-04  2.e-01 -4.e-01  3.e-01  8.e-03  1.e+00]\n"
     ]
    },
    {
     "data": {
      "application/vnd.jupyter.widget-view+json": {
       "model_id": "387879bd501f474285062d9e2e4d72bf",
       "version_major": 2,
       "version_minor": 0
      },
      "text/plain": [
       "  0%|          | 0/4733 [00:00<?, ?it/s]"
      ]
     },
     "metadata": {},
     "output_type": "display_data"
    },
    {
     "data": {
      "application/vnd.jupyter.widget-view+json": {
       "model_id": "c8d118ab303a4a00abcc33740c57a74d",
       "version_major": 2,
       "version_minor": 0
      },
      "text/plain": [
       "  0%|          | 0/2029 [00:00<?, ?it/s]"
      ]
     },
     "metadata": {},
     "output_type": "display_data"
    },
    {
     "name": "stdout",
     "output_type": "stream",
     "text": [
      "1.9434661888885952e+18 [ 8.0e-01  6.0e-03  8.0e-04  7.0e-01 -6.0e-01  3.0e-01  1.0e-03  1.2e+00]\n"
     ]
    },
    {
     "data": {
      "application/vnd.jupyter.widget-view+json": {
       "model_id": "d9a9cbc9b4ec45c9820a13f08ef215e7",
       "version_major": 2,
       "version_minor": 0
      },
      "text/plain": [
       "  0%|          | 0/4733 [00:00<?, ?it/s]"
      ]
     },
     "metadata": {},
     "output_type": "display_data"
    },
    {
     "data": {
      "application/vnd.jupyter.widget-view+json": {
       "model_id": "ca8bf76f93d94ce78fa65f287ab26602",
       "version_major": 2,
       "version_minor": 0
      },
      "text/plain": [
       "  0%|          | 0/2029 [00:00<?, ?it/s]"
      ]
     },
     "metadata": {},
     "output_type": "display_data"
    },
    {
     "name": "stdout",
     "output_type": "stream",
     "text": [
      "1e+18 [ 5.00e-01  6.00e-03  7.00e-04  2.00e-01 -5.00e-01  7.00e-01  5.00e-03\n",
      "  1.15e+00]\n"
     ]
    },
    {
     "data": {
      "application/vnd.jupyter.widget-view+json": {
       "model_id": "9380b7b7784b4eecb2d29cf9515d42ea",
       "version_major": 2,
       "version_minor": 0
      },
      "text/plain": [
       "  0%|          | 0/4733 [00:00<?, ?it/s]"
      ]
     },
     "metadata": {},
     "output_type": "display_data"
    },
    {
     "data": {
      "application/vnd.jupyter.widget-view+json": {
       "model_id": "37ca2adff8184036b87884046e41250a",
       "version_major": 2,
       "version_minor": 0
      },
      "text/plain": [
       "  0%|          | 0/2029 [00:00<?, ?it/s]"
      ]
     },
     "metadata": {},
     "output_type": "display_data"
    },
    {
     "name": "stdout",
     "output_type": "stream",
     "text": [
      "1.509142117204324e+18 [ 2.00e-01  5.00e-03  9.00e-04  3.00e-01 -5.00e-01  7.00e-01  6.00e-03\n",
      "  1.15e+00]\n"
     ]
    },
    {
     "data": {
      "application/vnd.jupyter.widget-view+json": {
       "model_id": "150cd2ae403944c99be9786a6a19685b",
       "version_major": 2,
       "version_minor": 0
      },
      "text/plain": [
       "  0%|          | 0/4733 [00:00<?, ?it/s]"
      ]
     },
     "metadata": {},
     "output_type": "display_data"
    },
    {
     "data": {
      "application/vnd.jupyter.widget-view+json": {
       "model_id": "e8159eacb3c84b41aef4a6099701195a",
       "version_major": 2,
       "version_minor": 0
      },
      "text/plain": [
       "  0%|          | 0/2029 [00:00<?, ?it/s]"
      ]
     },
     "metadata": {},
     "output_type": "display_data"
    },
    {
     "name": "stdout",
     "output_type": "stream",
     "text": [
      "1.01632610318598e+18 [ 1.e-01  9.e-03  9.e-04  4.e-01 -9.e-01  2.e-01  4.e-03  1.e+00]\n"
     ]
    },
    {
     "data": {
      "application/vnd.jupyter.widget-view+json": {
       "model_id": "b89d9c6a3cd3477b973ea79a4c50acaf",
       "version_major": 2,
       "version_minor": 0
      },
      "text/plain": [
       "  0%|          | 0/4733 [00:00<?, ?it/s]"
      ]
     },
     "metadata": {},
     "output_type": "display_data"
    },
    {
     "data": {
      "application/vnd.jupyter.widget-view+json": {
       "model_id": "8acb1285424c41fe9e72be21f10a737d",
       "version_major": 2,
       "version_minor": 0
      },
      "text/plain": [
       "  0%|          | 0/2029 [00:00<?, ?it/s]"
      ]
     },
     "metadata": {},
     "output_type": "display_data"
    },
    {
     "name": "stdout",
     "output_type": "stream",
     "text": [
      "1e+18 [ 5.00e-01  7.00e-03  6.00e-04  2.00e-01 -8.00e-01  1.00e-01  2.00e-03\n",
      "  1.15e+00]\n"
     ]
    },
    {
     "data": {
      "application/vnd.jupyter.widget-view+json": {
       "model_id": "28ed1d27027743749974015b5e250afa",
       "version_major": 2,
       "version_minor": 0
      },
      "text/plain": [
       "  0%|          | 0/4733 [00:00<?, ?it/s]"
      ]
     },
     "metadata": {},
     "output_type": "display_data"
    },
    {
     "data": {
      "application/vnd.jupyter.widget-view+json": {
       "model_id": "d5d23fd311ec415293a0ad2a5db2b2fe",
       "version_major": 2,
       "version_minor": 0
      },
      "text/plain": [
       "  0%|          | 0/2029 [00:00<?, ?it/s]"
      ]
     },
     "metadata": {},
     "output_type": "display_data"
    },
    {
     "name": "stdout",
     "output_type": "stream",
     "text": [
      "1e+18 [ 3.e-01  4.e-03  8.e-04  2.e-01 -9.e-01  5.e-01  8.e-03  1.e+00]\n"
     ]
    },
    {
     "data": {
      "application/vnd.jupyter.widget-view+json": {
       "model_id": "dde432be700e47889be742aa56e443ca",
       "version_major": 2,
       "version_minor": 0
      },
      "text/plain": [
       "  0%|          | 0/4733 [00:00<?, ?it/s]"
      ]
     },
     "metadata": {},
     "output_type": "display_data"
    },
    {
     "data": {
      "application/vnd.jupyter.widget-view+json": {
       "model_id": "70c7a408d7b24860a6a646e2830d7ff9",
       "version_major": 2,
       "version_minor": 0
      },
      "text/plain": [
       "  0%|          | 0/2029 [00:00<?, ?it/s]"
      ]
     },
     "metadata": {},
     "output_type": "display_data"
    },
    {
     "name": "stdout",
     "output_type": "stream",
     "text": [
      "1e+18 [ 4.e-01  2.e-03  6.e-04  1.e-01 -5.e-01  6.e-01  9.e-03  1.e+00]\n"
     ]
    },
    {
     "data": {
      "application/vnd.jupyter.widget-view+json": {
       "model_id": "1124487ecb5541ecb80974150ca1dc73",
       "version_major": 2,
       "version_minor": 0
      },
      "text/plain": [
       "  0%|          | 0/4733 [00:00<?, ?it/s]"
      ]
     },
     "metadata": {},
     "output_type": "display_data"
    },
    {
     "data": {
      "application/vnd.jupyter.widget-view+json": {
       "model_id": "52d817375ab446908902f76e257a754d",
       "version_major": 2,
       "version_minor": 0
      },
      "text/plain": [
       "  0%|          | 0/2029 [00:00<?, ?it/s]"
      ]
     },
     "metadata": {},
     "output_type": "display_data"
    },
    {
     "name": "stdout",
     "output_type": "stream",
     "text": [
      "1e+18 [ 4.e-01  1.e-03  7.e-04  6.e-01 -4.e-01  2.e-01  4.e-03  1.e+00]\n"
     ]
    },
    {
     "data": {
      "application/vnd.jupyter.widget-view+json": {
       "model_id": "f218c4db08ca476293e724da700afdbe",
       "version_major": 2,
       "version_minor": 0
      },
      "text/plain": [
       "  0%|          | 0/4733 [00:00<?, ?it/s]"
      ]
     },
     "metadata": {},
     "output_type": "display_data"
    },
    {
     "data": {
      "application/vnd.jupyter.widget-view+json": {
       "model_id": "6fa35ce5dcb24602b8d0fc0a7679b844",
       "version_major": 2,
       "version_minor": 0
      },
      "text/plain": [
       "  0%|          | 0/2029 [00:00<?, ?it/s]"
      ]
     },
     "metadata": {},
     "output_type": "display_data"
    },
    {
     "name": "stdout",
     "output_type": "stream",
     "text": [
      "1e+18 [ 6.00e-01  3.00e-03  9.00e-04  7.00e-01 -9.00e-01  4.00e-01  7.00e-03\n",
      "  1.15e+00]\n"
     ]
    },
    {
     "data": {
      "application/vnd.jupyter.widget-view+json": {
       "model_id": "dcb719b8f70d44c791f017cada918da7",
       "version_major": 2,
       "version_minor": 0
      },
      "text/plain": [
       "  0%|          | 0/4733 [00:00<?, ?it/s]"
      ]
     },
     "metadata": {},
     "output_type": "display_data"
    },
    {
     "data": {
      "application/vnd.jupyter.widget-view+json": {
       "model_id": "12f21422f805469c9112e301a52524b9",
       "version_major": 2,
       "version_minor": 0
      },
      "text/plain": [
       "  0%|          | 0/2029 [00:00<?, ?it/s]"
      ]
     },
     "metadata": {},
     "output_type": "display_data"
    },
    {
     "name": "stdout",
     "output_type": "stream",
     "text": [
      "1.3903405131030144e+18 [ 3.0e-01  5.0e-03  5.0e-04  5.0e-01 -5.0e-01  4.0e-01  4.0e-03  1.2e+00]\n"
     ]
    },
    {
     "data": {
      "application/vnd.jupyter.widget-view+json": {
       "model_id": "0d857b711fb34d9d9588b452ab993c2a",
       "version_major": 2,
       "version_minor": 0
      },
      "text/plain": [
       "  0%|          | 0/4733 [00:00<?, ?it/s]"
      ]
     },
     "metadata": {},
     "output_type": "display_data"
    },
    {
     "data": {
      "application/vnd.jupyter.widget-view+json": {
       "model_id": "42dc56052a34402eaadd312b8e9d63b7",
       "version_major": 2,
       "version_minor": 0
      },
      "text/plain": [
       "  0%|          | 0/2029 [00:00<?, ?it/s]"
      ]
     },
     "metadata": {},
     "output_type": "display_data"
    },
    {
     "name": "stdout",
     "output_type": "stream",
     "text": [
      "2.193733998917074e+18 [ 7.0e-01  8.0e-03  6.0e-04  8.0e-01 -3.0e-01  4.0e-01  6.0e-03  1.1e+00]\n"
     ]
    },
    {
     "data": {
      "application/vnd.jupyter.widget-view+json": {
       "model_id": "5b3f4be1be9c42588b04045545f466a7",
       "version_major": 2,
       "version_minor": 0
      },
      "text/plain": [
       "  0%|          | 0/4733 [00:00<?, ?it/s]"
      ]
     },
     "metadata": {},
     "output_type": "display_data"
    },
    {
     "data": {
      "application/vnd.jupyter.widget-view+json": {
       "model_id": "516c9d357a0448b19b70570e16aeff43",
       "version_major": 2,
       "version_minor": 0
      },
      "text/plain": [
       "  0%|          | 0/2029 [00:00<?, ?it/s]"
      ]
     },
     "metadata": {},
     "output_type": "display_data"
    },
    {
     "name": "stdout",
     "output_type": "stream",
     "text": [
      "1.152114878946056e+18 [ 4.00e-01  7.00e-03  7.00e-04  6.00e-01 -9.00e-01  1.00e-01  2.00e-03\n",
      "  1.05e+00]\n"
     ]
    },
    {
     "data": {
      "application/vnd.jupyter.widget-view+json": {
       "model_id": "7118c3ae29a44ba78cad32af75f6271b",
       "version_major": 2,
       "version_minor": 0
      },
      "text/plain": [
       "  0%|          | 0/4733 [00:00<?, ?it/s]"
      ]
     },
     "metadata": {},
     "output_type": "display_data"
    },
    {
     "data": {
      "application/vnd.jupyter.widget-view+json": {
       "model_id": "658eec31a7324a19b22173e0eb42386f",
       "version_major": 2,
       "version_minor": 0
      },
      "text/plain": [
       "  0%|          | 0/2029 [00:00<?, ?it/s]"
      ]
     },
     "metadata": {},
     "output_type": "display_data"
    },
    {
     "name": "stdout",
     "output_type": "stream",
     "text": [
      "1.512572815166737e+18 [ 1.00e-01  4.00e-03  6.00e-04  3.00e-01 -8.00e-01  7.00e-01  5.00e-03\n",
      "  1.05e+00]\n"
     ]
    },
    {
     "data": {
      "application/vnd.jupyter.widget-view+json": {
       "model_id": "6354ec2d3ab94f168ad8070fa22bf120",
       "version_major": 2,
       "version_minor": 0
      },
      "text/plain": [
       "  0%|          | 0/4733 [00:00<?, ?it/s]"
      ]
     },
     "metadata": {},
     "output_type": "display_data"
    },
    {
     "data": {
      "application/vnd.jupyter.widget-view+json": {
       "model_id": "6f6cab2fb1e149ea90a40f4ab77237f8",
       "version_major": 2,
       "version_minor": 0
      },
      "text/plain": [
       "  0%|          | 0/2029 [00:00<?, ?it/s]"
      ]
     },
     "metadata": {},
     "output_type": "display_data"
    },
    {
     "name": "stdout",
     "output_type": "stream",
     "text": [
      "1.6790751606022735e+18 [ 3.00e-01  6.00e-03  8.00e-04  5.00e-01 -8.00e-01  7.00e-01  2.00e-03\n",
      "  1.15e+00]\n"
     ]
    },
    {
     "data": {
      "application/vnd.jupyter.widget-view+json": {
       "model_id": "43871deb4d7841e1b4a46c8df0b0c214",
       "version_major": 2,
       "version_minor": 0
      },
      "text/plain": [
       "  0%|          | 0/4733 [00:00<?, ?it/s]"
      ]
     },
     "metadata": {},
     "output_type": "display_data"
    },
    {
     "data": {
      "application/vnd.jupyter.widget-view+json": {
       "model_id": "05a83fc4c65b41ae85b6fca31e897ab8",
       "version_major": 2,
       "version_minor": 0
      },
      "text/plain": [
       "  0%|          | 0/2029 [00:00<?, ?it/s]"
      ]
     },
     "metadata": {},
     "output_type": "display_data"
    },
    {
     "name": "stdout",
     "output_type": "stream",
     "text": [
      "1e+18 [ 9.0e-01  8.0e-03  9.0e-04  2.0e-01 -6.0e-01  6.0e-01  9.0e-03  1.1e+00]\n"
     ]
    },
    {
     "data": {
      "application/vnd.jupyter.widget-view+json": {
       "model_id": "4e476bd5a71a4fdd875f266b3b31ce0e",
       "version_major": 2,
       "version_minor": 0
      },
      "text/plain": [
       "  0%|          | 0/4733 [00:00<?, ?it/s]"
      ]
     },
     "metadata": {},
     "output_type": "display_data"
    },
    {
     "data": {
      "application/vnd.jupyter.widget-view+json": {
       "model_id": "ef91a73d9bf74e21b721efcd7e861335",
       "version_major": 2,
       "version_minor": 0
      },
      "text/plain": [
       "  0%|          | 0/2029 [00:00<?, ?it/s]"
      ]
     },
     "metadata": {},
     "output_type": "display_data"
    },
    {
     "name": "stdout",
     "output_type": "stream",
     "text": [
      "1.4167952114977098e+18 [ 1.00e-01  3.00e-03  8.00e-04  3.00e-01 -7.00e-01  6.00e-01  2.00e-03\n",
      "  1.15e+00]\n"
     ]
    },
    {
     "data": {
      "application/vnd.jupyter.widget-view+json": {
       "model_id": "20bfdfb67ee94b22936b6dcc484683e3",
       "version_major": 2,
       "version_minor": 0
      },
      "text/plain": [
       "  0%|          | 0/4733 [00:00<?, ?it/s]"
      ]
     },
     "metadata": {},
     "output_type": "display_data"
    },
    {
     "data": {
      "application/vnd.jupyter.widget-view+json": {
       "model_id": "830f4e5fbce24ee5b0c5ec54d6a88ebc",
       "version_major": 2,
       "version_minor": 0
      },
      "text/plain": [
       "  0%|          | 0/2029 [00:00<?, ?it/s]"
      ]
     },
     "metadata": {},
     "output_type": "display_data"
    },
    {
     "name": "stdout",
     "output_type": "stream",
     "text": [
      "1.296550538670602e+18 [ 2.0e-01  2.0e-03  5.0e-04  5.0e-01 -9.0e-01  3.0e-01  1.0e-03  1.1e+00]\n"
     ]
    },
    {
     "data": {
      "application/vnd.jupyter.widget-view+json": {
       "model_id": "021847d4afce4c1d99265443b9bc1d7e",
       "version_major": 2,
       "version_minor": 0
      },
      "text/plain": [
       "  0%|          | 0/4733 [00:00<?, ?it/s]"
      ]
     },
     "metadata": {},
     "output_type": "display_data"
    },
    {
     "data": {
      "application/vnd.jupyter.widget-view+json": {
       "model_id": "8e207ae0e421492789a5b1685afb8bbb",
       "version_major": 2,
       "version_minor": 0
      },
      "text/plain": [
       "  0%|          | 0/2029 [00:00<?, ?it/s]"
      ]
     },
     "metadata": {},
     "output_type": "display_data"
    },
    {
     "name": "stdout",
     "output_type": "stream",
     "text": [
      "1.4075141179418852e+18 [ 1.0e-01  4.0e-03  8.0e-04  7.0e-01 -4.0e-01  5.0e-01  2.0e-03  1.2e+00]\n"
     ]
    },
    {
     "data": {
      "application/vnd.jupyter.widget-view+json": {
       "model_id": "681036fb2a2443988926b3c1aa015671",
       "version_major": 2,
       "version_minor": 0
      },
      "text/plain": [
       "  0%|          | 0/4733 [00:00<?, ?it/s]"
      ]
     },
     "metadata": {},
     "output_type": "display_data"
    },
    {
     "data": {
      "application/vnd.jupyter.widget-view+json": {
       "model_id": "e8258017bfa0417baee3a1757963ff4b",
       "version_major": 2,
       "version_minor": 0
      },
      "text/plain": [
       "  0%|          | 0/2029 [00:00<?, ?it/s]"
      ]
     },
     "metadata": {},
     "output_type": "display_data"
    },
    {
     "name": "stdout",
     "output_type": "stream",
     "text": [
      "1.1174617823580708e+18 [ 7.e-01  9.e-03  7.e-04  6.e-01 -5.e-01  2.e-01  3.e-03  1.e+00]\n"
     ]
    },
    {
     "data": {
      "application/vnd.jupyter.widget-view+json": {
       "model_id": "463cd92d1cae4fc19a1280587b207708",
       "version_major": 2,
       "version_minor": 0
      },
      "text/plain": [
       "  0%|          | 0/4733 [00:00<?, ?it/s]"
      ]
     },
     "metadata": {},
     "output_type": "display_data"
    },
    {
     "data": {
      "application/vnd.jupyter.widget-view+json": {
       "model_id": "564ae6f54dbc4346b2cf1483b84cfbad",
       "version_major": 2,
       "version_minor": 0
      },
      "text/plain": [
       "  0%|          | 0/2029 [00:00<?, ?it/s]"
      ]
     },
     "metadata": {},
     "output_type": "display_data"
    },
    {
     "name": "stdout",
     "output_type": "stream",
     "text": [
      "1e+18 [ 8.e-01  9.e-03  7.e-04  1.e-01 -6.e-01  4.e-01  8.e-03  1.e+00]\n"
     ]
    },
    {
     "data": {
      "application/vnd.jupyter.widget-view+json": {
       "model_id": "f7e6cc1bb4fb4f4c96ecf90371ada7fd",
       "version_major": 2,
       "version_minor": 0
      },
      "text/plain": [
       "  0%|          | 0/4733 [00:00<?, ?it/s]"
      ]
     },
     "metadata": {},
     "output_type": "display_data"
    },
    {
     "data": {
      "application/vnd.jupyter.widget-view+json": {
       "model_id": "f637b36105fc4845b6032f1c7ba18086",
       "version_major": 2,
       "version_minor": 0
      },
      "text/plain": [
       "  0%|          | 0/2029 [00:00<?, ?it/s]"
      ]
     },
     "metadata": {},
     "output_type": "display_data"
    },
    {
     "name": "stdout",
     "output_type": "stream",
     "text": [
      "1e+18 [ 8.00e-01  5.00e-03  9.00e-04  3.00e-01 -6.00e-01  3.00e-01  6.00e-03\n",
      "  1.15e+00]\n"
     ]
    },
    {
     "data": {
      "application/vnd.jupyter.widget-view+json": {
       "model_id": "da68ab6b37cf4b70b11145d1cd520406",
       "version_major": 2,
       "version_minor": 0
      },
      "text/plain": [
       "  0%|          | 0/4733 [00:00<?, ?it/s]"
      ]
     },
     "metadata": {},
     "output_type": "display_data"
    },
    {
     "data": {
      "application/vnd.jupyter.widget-view+json": {
       "model_id": "2a68062ff4f0408290347375e8f9c23e",
       "version_major": 2,
       "version_minor": 0
      },
      "text/plain": [
       "  0%|          | 0/2029 [00:00<?, ?it/s]"
      ]
     },
     "metadata": {},
     "output_type": "display_data"
    },
    {
     "name": "stdout",
     "output_type": "stream",
     "text": [
      "1.234165343011804e+18 [ 2.00e-01  8.00e-03  6.00e-04  8.00e-01 -5.00e-01  1.00e-01  6.00e-03\n",
      "  1.15e+00]\n"
     ]
    },
    {
     "data": {
      "application/vnd.jupyter.widget-view+json": {
       "model_id": "12748b057fb34ac7885b8b26409fb8eb",
       "version_major": 2,
       "version_minor": 0
      },
      "text/plain": [
       "  0%|          | 0/4733 [00:00<?, ?it/s]"
      ]
     },
     "metadata": {},
     "output_type": "display_data"
    },
    {
     "data": {
      "application/vnd.jupyter.widget-view+json": {
       "model_id": "e684dd22d1ba41589964442f12019a3c",
       "version_major": 2,
       "version_minor": 0
      },
      "text/plain": [
       "  0%|          | 0/2029 [00:00<?, ?it/s]"
      ]
     },
     "metadata": {},
     "output_type": "display_data"
    },
    {
     "name": "stdout",
     "output_type": "stream",
     "text": [
      "2.413086689947793e+18 [ 7.0e-01  3.0e-03  6.0e-04  8.0e-01 -3.0e-01  6.0e-01  6.0e-03  1.2e+00]\n"
     ]
    },
    {
     "data": {
      "application/vnd.jupyter.widget-view+json": {
       "model_id": "bc455d293d7640fda05928af5317ecd4",
       "version_major": 2,
       "version_minor": 0
      },
      "text/plain": [
       "  0%|          | 0/4733 [00:00<?, ?it/s]"
      ]
     },
     "metadata": {},
     "output_type": "display_data"
    },
    {
     "data": {
      "application/vnd.jupyter.widget-view+json": {
       "model_id": "a5d65874702941ba91f6a2e87e87436b",
       "version_major": 2,
       "version_minor": 0
      },
      "text/plain": [
       "  0%|          | 0/2029 [00:00<?, ?it/s]"
      ]
     },
     "metadata": {},
     "output_type": "display_data"
    },
    {
     "name": "stdout",
     "output_type": "stream",
     "text": [
      "1.7634407599538634e+18 [ 6.00e-01  7.00e-03  8.00e-04  8.00e-01 -3.00e-01  1.00e-01  4.00e-03\n",
      "  1.15e+00]\n"
     ]
    },
    {
     "data": {
      "application/vnd.jupyter.widget-view+json": {
       "model_id": "2432015056d64ef9a025141926bfe93e",
       "version_major": 2,
       "version_minor": 0
      },
      "text/plain": [
       "  0%|          | 0/4733 [00:00<?, ?it/s]"
      ]
     },
     "metadata": {},
     "output_type": "display_data"
    },
    {
     "data": {
      "application/vnd.jupyter.widget-view+json": {
       "model_id": "ca3df296c7f4427f9941a87f5414660d",
       "version_major": 2,
       "version_minor": 0
      },
      "text/plain": [
       "  0%|          | 0/2029 [00:00<?, ?it/s]"
      ]
     },
     "metadata": {},
     "output_type": "display_data"
    },
    {
     "name": "stdout",
     "output_type": "stream",
     "text": [
      "3.680641512413844e+18 [ 7.0e-01  7.0e-03  7.0e-04  8.0e-01 -3.0e-01  6.0e-01  6.0e-03  1.1e+00]\n"
     ]
    },
    {
     "data": {
      "application/vnd.jupyter.widget-view+json": {
       "model_id": "7ab2180dca254b669c0e7d9fd12ee468",
       "version_major": 2,
       "version_minor": 0
      },
      "text/plain": [
       "  0%|          | 0/4733 [00:00<?, ?it/s]"
      ]
     },
     "metadata": {},
     "output_type": "display_data"
    },
    {
     "data": {
      "application/vnd.jupyter.widget-view+json": {
       "model_id": "ea87c0a03f4c4db591bcef55bee63116",
       "version_major": 2,
       "version_minor": 0
      },
      "text/plain": [
       "  0%|          | 0/2029 [00:00<?, ?it/s]"
      ]
     },
     "metadata": {},
     "output_type": "display_data"
    },
    {
     "name": "stdout",
     "output_type": "stream",
     "text": [
      "1e+18 [ 2.e-01  8.e-03  6.e-04  4.e-01 -9.e-01  4.e-01  4.e-03  1.e+00]\n"
     ]
    },
    {
     "data": {
      "application/vnd.jupyter.widget-view+json": {
       "model_id": "ab88d487ce274460acf32805658736e5",
       "version_major": 2,
       "version_minor": 0
      },
      "text/plain": [
       "  0%|          | 0/4733 [00:00<?, ?it/s]"
      ]
     },
     "metadata": {},
     "output_type": "display_data"
    },
    {
     "data": {
      "application/vnd.jupyter.widget-view+json": {
       "model_id": "8ab0f75d87ef421eb4c7dfe11899e191",
       "version_major": 2,
       "version_minor": 0
      },
      "text/plain": [
       "  0%|          | 0/2029 [00:00<?, ?it/s]"
      ]
     },
     "metadata": {},
     "output_type": "display_data"
    },
    {
     "name": "stdout",
     "output_type": "stream",
     "text": [
      "1e+18 [ 1.0e-01  9.0e-03  9.0e-04  8.0e-01 -9.0e-01  2.0e-01  4.0e-03  1.1e+00]\n"
     ]
    },
    {
     "data": {
      "application/vnd.jupyter.widget-view+json": {
       "model_id": "dbbf97fef9cd450d8bd3901c26f7ce6c",
       "version_major": 2,
       "version_minor": 0
      },
      "text/plain": [
       "  0%|          | 0/4733 [00:00<?, ?it/s]"
      ]
     },
     "metadata": {},
     "output_type": "display_data"
    },
    {
     "data": {
      "application/vnd.jupyter.widget-view+json": {
       "model_id": "12c909dc620d4447bd564d4bc44cfed5",
       "version_major": 2,
       "version_minor": 0
      },
      "text/plain": [
       "  0%|          | 0/2029 [00:00<?, ?it/s]"
      ]
     },
     "metadata": {},
     "output_type": "display_data"
    },
    {
     "name": "stdout",
     "output_type": "stream",
     "text": [
      "2.4527117177681193e+18 [ 2.00e-01  2.00e-03  9.00e-04  5.00e-01 -5.00e-01  8.00e-01  6.00e-03\n",
      "  1.15e+00]\n"
     ]
    },
    {
     "data": {
      "application/vnd.jupyter.widget-view+json": {
       "model_id": "c637f361aaa9453095c13772588e6634",
       "version_major": 2,
       "version_minor": 0
      },
      "text/plain": [
       "  0%|          | 0/4733 [00:00<?, ?it/s]"
      ]
     },
     "metadata": {},
     "output_type": "display_data"
    },
    {
     "data": {
      "application/vnd.jupyter.widget-view+json": {
       "model_id": "2b2c5e310b7e4bd1a0de4233042bc15c",
       "version_major": 2,
       "version_minor": 0
      },
      "text/plain": [
       "  0%|          | 0/2029 [00:00<?, ?it/s]"
      ]
     },
     "metadata": {},
     "output_type": "display_data"
    },
    {
     "name": "stdout",
     "output_type": "stream",
     "text": [
      "2.088578618811325e+18 [ 2.00e-01  5.00e-03  9.00e-04  3.00e-01 -5.00e-01  5.00e-01  6.00e-03\n",
      "  1.05e+00]\n"
     ]
    },
    {
     "data": {
      "application/vnd.jupyter.widget-view+json": {
       "model_id": "23227306213f4801adef4ecb58043ff4",
       "version_major": 2,
       "version_minor": 0
      },
      "text/plain": [
       "  0%|          | 0/4733 [00:00<?, ?it/s]"
      ]
     },
     "metadata": {},
     "output_type": "display_data"
    },
    {
     "data": {
      "application/vnd.jupyter.widget-view+json": {
       "model_id": "9f188f47c9564c89a4a72eef6ad6e0c5",
       "version_major": 2,
       "version_minor": 0
      },
      "text/plain": [
       "  0%|          | 0/2029 [00:00<?, ?it/s]"
      ]
     },
     "metadata": {},
     "output_type": "display_data"
    },
    {
     "name": "stdout",
     "output_type": "stream",
     "text": [
      "8.53598077094099e+17 [ 7.0e-01  8.0e-03  7.0e-04  8.0e-01 -7.0e-01  4.0e-01  6.0e-03  1.1e+00]\n"
     ]
    },
    {
     "data": {
      "application/vnd.jupyter.widget-view+json": {
       "model_id": "c78877637b654a29bc4a9a338178082e",
       "version_major": 2,
       "version_minor": 0
      },
      "text/plain": [
       "  0%|          | 0/4733 [00:00<?, ?it/s]"
      ]
     },
     "metadata": {},
     "output_type": "display_data"
    },
    {
     "data": {
      "application/vnd.jupyter.widget-view+json": {
       "model_id": "d2da86278c65482787a11af48764c088",
       "version_major": 2,
       "version_minor": 0
      },
      "text/plain": [
       "  0%|          | 0/2029 [00:00<?, ?it/s]"
      ]
     },
     "metadata": {},
     "output_type": "display_data"
    },
    {
     "name": "stdout",
     "output_type": "stream",
     "text": [
      "1.6976620259674048e+18 [ 6.0e-01  8.0e-03  8.0e-04  8.0e-01 -3.0e-01  4.0e-01  6.0e-03  1.1e+00]\n"
     ]
    },
    {
     "data": {
      "application/vnd.jupyter.widget-view+json": {
       "model_id": "9f45759d651f4ac5b218bff3c300dd8d",
       "version_major": 2,
       "version_minor": 0
      },
      "text/plain": [
       "  0%|          | 0/4733 [00:00<?, ?it/s]"
      ]
     },
     "metadata": {},
     "output_type": "display_data"
    },
    {
     "data": {
      "application/vnd.jupyter.widget-view+json": {
       "model_id": "9a857d4d06904804862ba9555c631c3b",
       "version_major": 2,
       "version_minor": 0
      },
      "text/plain": [
       "  0%|          | 0/2029 [00:00<?, ?it/s]"
      ]
     },
     "metadata": {},
     "output_type": "display_data"
    },
    {
     "name": "stdout",
     "output_type": "stream",
     "text": [
      "2.1345211251228708e+18 [ 2.00e-01  7.00e-03  9.00e-04  8.00e-01 -3.00e-01  6.00e-01  2.00e-03\n",
      "  1.15e+00]\n"
     ]
    },
    {
     "data": {
      "application/vnd.jupyter.widget-view+json": {
       "model_id": "f12e04136a4a4b3ca6a876e9393c45eb",
       "version_major": 2,
       "version_minor": 0
      },
      "text/plain": [
       "  0%|          | 0/4733 [00:00<?, ?it/s]"
      ]
     },
     "metadata": {},
     "output_type": "display_data"
    },
    {
     "data": {
      "application/vnd.jupyter.widget-view+json": {
       "model_id": "d5d5b9aa974a48379b701abdee81a235",
       "version_major": 2,
       "version_minor": 0
      },
      "text/plain": [
       "  0%|          | 0/2029 [00:00<?, ?it/s]"
      ]
     },
     "metadata": {},
     "output_type": "display_data"
    },
    {
     "name": "stdout",
     "output_type": "stream",
     "text": [
      "1e+18 [ 3.0e-01  7.0e-03  9.0e-04  6.0e-01 -7.0e-01  6.0e-01  6.0e-03  1.1e+00]\n"
     ]
    },
    {
     "data": {
      "application/vnd.jupyter.widget-view+json": {
       "model_id": "2cd04f333b6d489f8f1346e8bdfb8d08",
       "version_major": 2,
       "version_minor": 0
      },
      "text/plain": [
       "  0%|          | 0/4733 [00:00<?, ?it/s]"
      ]
     },
     "metadata": {},
     "output_type": "display_data"
    },
    {
     "data": {
      "application/vnd.jupyter.widget-view+json": {
       "model_id": "b3049611bc2041d09f909c0648268197",
       "version_major": 2,
       "version_minor": 0
      },
      "text/plain": [
       "  0%|          | 0/2029 [00:00<?, ?it/s]"
      ]
     },
     "metadata": {},
     "output_type": "display_data"
    },
    {
     "name": "stdout",
     "output_type": "stream",
     "text": [
      "1.02069843005736e+18 [ 3.0e-01  6.0e-03  7.0e-04  6.0e-01 -7.0e-01  5.0e-01  6.0e-03  1.1e+00]\n"
     ]
    },
    {
     "data": {
      "application/vnd.jupyter.widget-view+json": {
       "model_id": "8aa2374b8f5349188e09690a4faccbc1",
       "version_major": 2,
       "version_minor": 0
      },
      "text/plain": [
       "  0%|          | 0/4733 [00:00<?, ?it/s]"
      ]
     },
     "metadata": {},
     "output_type": "display_data"
    },
    {
     "data": {
      "application/vnd.jupyter.widget-view+json": {
       "model_id": "93cecdb9953b44278c62b10b962c30ff",
       "version_major": 2,
       "version_minor": 0
      },
      "text/plain": [
       "  0%|          | 0/2029 [00:00<?, ?it/s]"
      ]
     },
     "metadata": {},
     "output_type": "display_data"
    },
    {
     "name": "stdout",
     "output_type": "stream",
     "text": [
      "1.1528204927701512e+18 [ 8.0e-01  5.0e-03  8.0e-04  7.0e-01 -5.0e-01  3.0e-01  1.0e-03  1.1e+00]\n"
     ]
    },
    {
     "data": {
      "application/vnd.jupyter.widget-view+json": {
       "model_id": "4b9494316ad140609269798c830c7dc4",
       "version_major": 2,
       "version_minor": 0
      },
      "text/plain": [
       "  0%|          | 0/4733 [00:00<?, ?it/s]"
      ]
     },
     "metadata": {},
     "output_type": "display_data"
    },
    {
     "data": {
      "application/vnd.jupyter.widget-view+json": {
       "model_id": "ec12840ff7a24c0e8fba265d9c2e143a",
       "version_major": 2,
       "version_minor": 0
      },
      "text/plain": [
       "  0%|          | 0/2029 [00:00<?, ?it/s]"
      ]
     },
     "metadata": {},
     "output_type": "display_data"
    },
    {
     "name": "stdout",
     "output_type": "stream",
     "text": [
      "1e+18 [ 8.0e-01  5.0e-03  9.0e-04  3.0e-01 -5.0e-01  7.0e-01  5.0e-03  1.2e+00]\n"
     ]
    },
    {
     "data": {
      "application/vnd.jupyter.widget-view+json": {
       "model_id": "67bacea77ade4473b2ebf6c29b0a01cc",
       "version_major": 2,
       "version_minor": 0
      },
      "text/plain": [
       "  0%|          | 0/4733 [00:00<?, ?it/s]"
      ]
     },
     "metadata": {},
     "output_type": "display_data"
    },
    {
     "data": {
      "application/vnd.jupyter.widget-view+json": {
       "model_id": "b151274cd1f44dc881e08d5879b66f69",
       "version_major": 2,
       "version_minor": 0
      },
      "text/plain": [
       "  0%|          | 0/2029 [00:00<?, ?it/s]"
      ]
     },
     "metadata": {},
     "output_type": "display_data"
    },
    {
     "name": "stdout",
     "output_type": "stream",
     "text": [
      "2.6230942740598415e+18 [ 2.0e-01  5.0e-03  6.0e-04  3.0e-01 -3.0e-01  7.0e-01  3.0e-03  1.1e+00]\n"
     ]
    },
    {
     "data": {
      "application/vnd.jupyter.widget-view+json": {
       "model_id": "b57bad11b7104498b895819e2729a17e",
       "version_major": 2,
       "version_minor": 0
      },
      "text/plain": [
       "  0%|          | 0/4733 [00:00<?, ?it/s]"
      ]
     },
     "metadata": {},
     "output_type": "display_data"
    },
    {
     "data": {
      "application/vnd.jupyter.widget-view+json": {
       "model_id": "8d37d164aaf144b39bc39fc3258f432d",
       "version_major": 2,
       "version_minor": 0
      },
      "text/plain": [
       "  0%|          | 0/2029 [00:00<?, ?it/s]"
      ]
     },
     "metadata": {},
     "output_type": "display_data"
    },
    {
     "name": "stdout",
     "output_type": "stream",
     "text": [
      "1.6521082070911357e+18 [ 8.0e-01  3.0e-03  8.0e-04  5.0e-01 -5.0e-01  4.0e-01  6.0e-03  1.2e+00]\n"
     ]
    },
    {
     "data": {
      "application/vnd.jupyter.widget-view+json": {
       "model_id": "3f61699f06364febab85652709ff9e4e",
       "version_major": 2,
       "version_minor": 0
      },
      "text/plain": [
       "  0%|          | 0/4733 [00:00<?, ?it/s]"
      ]
     },
     "metadata": {},
     "output_type": "display_data"
    },
    {
     "data": {
      "application/vnd.jupyter.widget-view+json": {
       "model_id": "578e3bd54cba45d58ccf059b801cfcde",
       "version_major": 2,
       "version_minor": 0
      },
      "text/plain": [
       "  0%|          | 0/2029 [00:00<?, ?it/s]"
      ]
     },
     "metadata": {},
     "output_type": "display_data"
    },
    {
     "name": "stdout",
     "output_type": "stream",
     "text": [
      "6.862083421461791e+17 [ 1.0e-01  3.0e-03  8.0e-04  8.0e-01 -5.0e-01  1.0e-01  1.0e-03  1.2e+00]\n"
     ]
    },
    {
     "data": {
      "application/vnd.jupyter.widget-view+json": {
       "model_id": "b23bab22e87a4aa4bacfbcd4085a0e81",
       "version_major": 2,
       "version_minor": 0
      },
      "text/plain": [
       "  0%|          | 0/4733 [00:00<?, ?it/s]"
      ]
     },
     "metadata": {},
     "output_type": "display_data"
    },
    {
     "data": {
      "application/vnd.jupyter.widget-view+json": {
       "model_id": "89002fa2b42b402c9ade652289ae6cb6",
       "version_major": 2,
       "version_minor": 0
      },
      "text/plain": [
       "  0%|          | 0/2029 [00:00<?, ?it/s]"
      ]
     },
     "metadata": {},
     "output_type": "display_data"
    },
    {
     "name": "stdout",
     "output_type": "stream",
     "text": [
      "2.692117627983971e+18 [ 1.00e-01  5.00e-03  6.00e-04  8.00e-01 -3.00e-01  6.00e-01  6.00e-03\n",
      "  1.15e+00]\n"
     ]
    },
    {
     "data": {
      "application/vnd.jupyter.widget-view+json": {
       "model_id": "cc94eb74113f463eb4413f52fbb19f2f",
       "version_major": 2,
       "version_minor": 0
      },
      "text/plain": [
       "  0%|          | 0/4733 [00:00<?, ?it/s]"
      ]
     },
     "metadata": {},
     "output_type": "display_data"
    },
    {
     "data": {
      "application/vnd.jupyter.widget-view+json": {
       "model_id": "87f8a982e9d54b67a1f01dadcf720733",
       "version_major": 2,
       "version_minor": 0
      },
      "text/plain": [
       "  0%|          | 0/2029 [00:00<?, ?it/s]"
      ]
     },
     "metadata": {},
     "output_type": "display_data"
    },
    {
     "name": "stdout",
     "output_type": "stream",
     "text": [
      "1.6742437783712238e+18 [ 1.e-01  7.e-03  6.e-04  4.e-01 -3.e-01  4.e-01  6.e-03  1.e+00]\n"
     ]
    },
    {
     "data": {
      "application/vnd.jupyter.widget-view+json": {
       "model_id": "9cdad6a5b6ec41a5a472eae4be0d64d0",
       "version_major": 2,
       "version_minor": 0
      },
      "text/plain": [
       "  0%|          | 0/4733 [00:00<?, ?it/s]"
      ]
     },
     "metadata": {},
     "output_type": "display_data"
    },
    {
     "data": {
      "application/vnd.jupyter.widget-view+json": {
       "model_id": "d980fa59dbe6434fa1c4c1e9cb99ff11",
       "version_major": 2,
       "version_minor": 0
      },
      "text/plain": [
       "  0%|          | 0/2029 [00:00<?, ?it/s]"
      ]
     },
     "metadata": {},
     "output_type": "display_data"
    },
    {
     "name": "stdout",
     "output_type": "stream",
     "text": [
      "8.984913646506089e+17 [ 2.e-01  2.e-03  5.e-04  4.e-01 -9.e-01  3.e-01  1.e-03  1.e+00]\n"
     ]
    },
    {
     "data": {
      "application/vnd.jupyter.widget-view+json": {
       "model_id": "6f7115586b4245ab9d425ee1c2849012",
       "version_major": 2,
       "version_minor": 0
      },
      "text/plain": [
       "  0%|          | 0/4733 [00:00<?, ?it/s]"
      ]
     },
     "metadata": {},
     "output_type": "display_data"
    },
    {
     "data": {
      "application/vnd.jupyter.widget-view+json": {
       "model_id": "f129c23b6aa54fdd816cd9bc7e5bc2fa",
       "version_major": 2,
       "version_minor": 0
      },
      "text/plain": [
       "  0%|          | 0/2029 [00:00<?, ?it/s]"
      ]
     },
     "metadata": {},
     "output_type": "display_data"
    },
    {
     "name": "stdout",
     "output_type": "stream",
     "text": [
      "2.6952132912861604e+18 [ 2.e-01  5.e-03  5.e-04  3.e-01 -5.e-01  7.e-01  1.e-03  1.e+00]\n"
     ]
    },
    {
     "data": {
      "application/vnd.jupyter.widget-view+json": {
       "model_id": "f8179e3bb3f94b50bd10a06673c5c12b",
       "version_major": 2,
       "version_minor": 0
      },
      "text/plain": [
       "  0%|          | 0/4733 [00:00<?, ?it/s]"
      ]
     },
     "metadata": {},
     "output_type": "display_data"
    },
    {
     "data": {
      "application/vnd.jupyter.widget-view+json": {
       "model_id": "75d8b543a1b34a75b367efe52c2bb4de",
       "version_major": 2,
       "version_minor": 0
      },
      "text/plain": [
       "  0%|          | 0/2029 [00:00<?, ?it/s]"
      ]
     },
     "metadata": {},
     "output_type": "display_data"
    },
    {
     "name": "stdout",
     "output_type": "stream",
     "text": [
      "2.398598390951608e+18 [ 3.0e-01  5.0e-03  9.0e-04  3.0e-01 -5.0e-01  7.0e-01  6.0e-03  1.1e+00]\n"
     ]
    },
    {
     "data": {
      "application/vnd.jupyter.widget-view+json": {
       "model_id": "26e919b1d3bd4e2d92e86f6a8beb87e1",
       "version_major": 2,
       "version_minor": 0
      },
      "text/plain": [
       "  0%|          | 0/4733 [00:00<?, ?it/s]"
      ]
     },
     "metadata": {},
     "output_type": "display_data"
    },
    {
     "data": {
      "application/vnd.jupyter.widget-view+json": {
       "model_id": "01505941e93f47969b68427e3b0e8516",
       "version_major": 2,
       "version_minor": 0
      },
      "text/plain": [
       "  0%|          | 0/2029 [00:00<?, ?it/s]"
      ]
     },
     "metadata": {},
     "output_type": "display_data"
    },
    {
     "name": "stdout",
     "output_type": "stream",
     "text": [
      "1.1863402495751524e+18 [ 7.0e-01  8.0e-03  7.0e-04  6.0e-01 -3.0e-01  5.0e-01  7.0e-03  1.1e+00]\n"
     ]
    },
    {
     "data": {
      "application/vnd.jupyter.widget-view+json": {
       "model_id": "4199d9bf5c424ca0ad1a11d1bd2da40d",
       "version_major": 2,
       "version_minor": 0
      },
      "text/plain": [
       "  0%|          | 0/4733 [00:00<?, ?it/s]"
      ]
     },
     "metadata": {},
     "output_type": "display_data"
    },
    {
     "data": {
      "application/vnd.jupyter.widget-view+json": {
       "model_id": "66dbf60b7c8947afbfc22b3ee832ce4f",
       "version_major": 2,
       "version_minor": 0
      },
      "text/plain": [
       "  0%|          | 0/2029 [00:00<?, ?it/s]"
      ]
     },
     "metadata": {},
     "output_type": "display_data"
    },
    {
     "name": "stdout",
     "output_type": "stream",
     "text": [
      "1e+18 [ 5.0e-01  8.0e-03  6.0e-04  3.0e-01 -7.0e-01  6.0e-01  6.0e-03  1.1e+00]\n"
     ]
    },
    {
     "data": {
      "application/vnd.jupyter.widget-view+json": {
       "model_id": "c2a5d41c38034b9593e365af4e762ab3",
       "version_major": 2,
       "version_minor": 0
      },
      "text/plain": [
       "  0%|          | 0/4733 [00:00<?, ?it/s]"
      ]
     },
     "metadata": {},
     "output_type": "display_data"
    },
    {
     "data": {
      "application/vnd.jupyter.widget-view+json": {
       "model_id": "0a09f70eb68e46489b98828799960e80",
       "version_major": 2,
       "version_minor": 0
      },
      "text/plain": [
       "  0%|          | 0/2029 [00:00<?, ?it/s]"
      ]
     },
     "metadata": {},
     "output_type": "display_data"
    },
    {
     "name": "stdout",
     "output_type": "stream",
     "text": [
      "1.9427405084298353e+18 [ 1.00e-01  7.00e-03  8.00e-04  8.00e-01 -4.00e-01  6.00e-01  1.00e-03\n",
      "  1.15e+00]\n"
     ]
    },
    {
     "data": {
      "application/vnd.jupyter.widget-view+json": {
       "model_id": "dab0c60abc3e405199baa03ef6bd398d",
       "version_major": 2,
       "version_minor": 0
      },
      "text/plain": [
       "  0%|          | 0/4733 [00:00<?, ?it/s]"
      ]
     },
     "metadata": {},
     "output_type": "display_data"
    },
    {
     "data": {
      "application/vnd.jupyter.widget-view+json": {
       "model_id": "f6a1070e4e0e4f7d8b0af2cc9a12ffc1",
       "version_major": 2,
       "version_minor": 0
      },
      "text/plain": [
       "  0%|          | 0/2029 [00:00<?, ?it/s]"
      ]
     },
     "metadata": {},
     "output_type": "display_data"
    },
    {
     "name": "stdout",
     "output_type": "stream",
     "text": [
      "1.6097578143304233e+18 [ 3.0e-01  5.0e-03  9.0e-04  8.0e-01 -3.0e-01  5.0e-01  1.0e-03  1.1e+00]\n"
     ]
    },
    {
     "data": {
      "application/vnd.jupyter.widget-view+json": {
       "model_id": "2be4578bf08443e08385d62d509ae0d9",
       "version_major": 2,
       "version_minor": 0
      },
      "text/plain": [
       "  0%|          | 0/4733 [00:00<?, ?it/s]"
      ]
     },
     "metadata": {},
     "output_type": "display_data"
    },
    {
     "data": {
      "application/vnd.jupyter.widget-view+json": {
       "model_id": "372dd255de10482f9b5f49f5b6ffab34",
       "version_major": 2,
       "version_minor": 0
      },
      "text/plain": [
       "  0%|          | 0/2029 [00:00<?, ?it/s]"
      ]
     },
     "metadata": {},
     "output_type": "display_data"
    },
    {
     "name": "stdout",
     "output_type": "stream",
     "text": [
      "1e+18 [ 3.0e-01  5.0e-03  7.0e-04  6.0e-01 -9.0e-01  5.0e-01  6.0e-03  1.1e+00]\n"
     ]
    },
    {
     "data": {
      "application/vnd.jupyter.widget-view+json": {
       "model_id": "194bfa0749fb4137902aa65d26c202ea",
       "version_major": 2,
       "version_minor": 0
      },
      "text/plain": [
       "  0%|          | 0/4733 [00:00<?, ?it/s]"
      ]
     },
     "metadata": {},
     "output_type": "display_data"
    },
    {
     "data": {
      "application/vnd.jupyter.widget-view+json": {
       "model_id": "32fafd291851487ab21c9b049866940b",
       "version_major": 2,
       "version_minor": 0
      },
      "text/plain": [
       "  0%|          | 0/2029 [00:00<?, ?it/s]"
      ]
     },
     "metadata": {},
     "output_type": "display_data"
    },
    {
     "name": "stdout",
     "output_type": "stream",
     "text": [
      "1.3938485310101366e+18 [ 2.0e-01  8.0e-03  9.0e-04  8.0e-01 -5.0e-01  6.0e-01  6.0e-03  1.2e+00]\n"
     ]
    },
    {
     "data": {
      "application/vnd.jupyter.widget-view+json": {
       "model_id": "da5e1597ab704888a1f754b7ffd3489d",
       "version_major": 2,
       "version_minor": 0
      },
      "text/plain": [
       "  0%|          | 0/4733 [00:00<?, ?it/s]"
      ]
     },
     "metadata": {},
     "output_type": "display_data"
    },
    {
     "data": {
      "application/vnd.jupyter.widget-view+json": {
       "model_id": "c6c4e1ebb800473fa15fd671b844f1f2",
       "version_major": 2,
       "version_minor": 0
      },
      "text/plain": [
       "  0%|          | 0/2029 [00:00<?, ?it/s]"
      ]
     },
     "metadata": {},
     "output_type": "display_data"
    },
    {
     "name": "stdout",
     "output_type": "stream",
     "text": [
      "1.936818251727882e+18 [ 1.00e-01  7.00e-03  6.00e-04  8.00e-01 -3.00e-01  6.00e-01  4.00e-03\n",
      "  1.15e+00]\n"
     ]
    },
    {
     "data": {
      "application/vnd.jupyter.widget-view+json": {
       "model_id": "68a2253038614accadeeb8fb26d1f681",
       "version_major": 2,
       "version_minor": 0
      },
      "text/plain": [
       "  0%|          | 0/4733 [00:00<?, ?it/s]"
      ]
     },
     "metadata": {},
     "output_type": "display_data"
    },
    {
     "data": {
      "application/vnd.jupyter.widget-view+json": {
       "model_id": "fad50ab93e584a96b5b9423c2b3c0763",
       "version_major": 2,
       "version_minor": 0
      },
      "text/plain": [
       "  0%|          | 0/2029 [00:00<?, ?it/s]"
      ]
     },
     "metadata": {},
     "output_type": "display_data"
    },
    {
     "name": "stdout",
     "output_type": "stream",
     "text": [
      "1e+18 [ 7.0e-01  7.0e-03  8.0e-04  8.0e-01 -9.0e-01  6.0e-01  6.0e-03  1.2e+00]\n"
     ]
    },
    {
     "data": {
      "application/vnd.jupyter.widget-view+json": {
       "model_id": "0f05e081d60c414cb8be2d7f8ea99b83",
       "version_major": 2,
       "version_minor": 0
      },
      "text/plain": [
       "  0%|          | 0/4733 [00:00<?, ?it/s]"
      ]
     },
     "metadata": {},
     "output_type": "display_data"
    },
    {
     "data": {
      "application/vnd.jupyter.widget-view+json": {
       "model_id": "c325430e659f4e54bc82387177cca086",
       "version_major": 2,
       "version_minor": 0
      },
      "text/plain": [
       "  0%|          | 0/2029 [00:00<?, ?it/s]"
      ]
     },
     "metadata": {},
     "output_type": "display_data"
    },
    {
     "name": "stdout",
     "output_type": "stream",
     "text": [
      "2.411292545422627e+18 [ 1.0e-01  3.0e-03  6.0e-04  3.0e-01 -3.0e-01  7.0e-01  6.0e-03  1.1e+00]\n"
     ]
    },
    {
     "data": {
      "application/vnd.jupyter.widget-view+json": {
       "model_id": "46ca348c29cb4f86916ca8ea7a01b363",
       "version_major": 2,
       "version_minor": 0
      },
      "text/plain": [
       "  0%|          | 0/4733 [00:00<?, ?it/s]"
      ]
     },
     "metadata": {},
     "output_type": "display_data"
    },
    {
     "data": {
      "application/vnd.jupyter.widget-view+json": {
       "model_id": "978f28ddaf334bff9b9bd07877ff5fca",
       "version_major": 2,
       "version_minor": 0
      },
      "text/plain": [
       "  0%|          | 0/2029 [00:00<?, ?it/s]"
      ]
     },
     "metadata": {},
     "output_type": "display_data"
    },
    {
     "name": "stdout",
     "output_type": "stream",
     "text": [
      "3.053906103348409e+18 [ 7.0e-01  5.0e-03  7.0e-04  8.0e-01 -3.0e-01  4.0e-01  3.0e-03  1.1e+00]\n"
     ]
    },
    {
     "data": {
      "application/vnd.jupyter.widget-view+json": {
       "model_id": "621ee2302dec43298cb4f380b436f81a",
       "version_major": 2,
       "version_minor": 0
      },
      "text/plain": [
       "  0%|          | 0/4733 [00:00<?, ?it/s]"
      ]
     },
     "metadata": {},
     "output_type": "display_data"
    },
    {
     "data": {
      "application/vnd.jupyter.widget-view+json": {
       "model_id": "2d9ec0077a5045f4aa811942bf0ecbc3",
       "version_major": 2,
       "version_minor": 0
      },
      "text/plain": [
       "  0%|          | 0/2029 [00:00<?, ?it/s]"
      ]
     },
     "metadata": {},
     "output_type": "display_data"
    },
    {
     "name": "stdout",
     "output_type": "stream",
     "text": [
      "2.9793217439874007e+18 [ 7.0e-01  7.0e-03  7.0e-04  8.0e-01 -3.0e-01  7.0e-01  6.0e-03  1.1e+00]\n"
     ]
    },
    {
     "data": {
      "application/vnd.jupyter.widget-view+json": {
       "model_id": "ead0b202637842dbb9e4a72ee35f460b",
       "version_major": 2,
       "version_minor": 0
      },
      "text/plain": [
       "  0%|          | 0/4733 [00:00<?, ?it/s]"
      ]
     },
     "metadata": {},
     "output_type": "display_data"
    },
    {
     "data": {
      "application/vnd.jupyter.widget-view+json": {
       "model_id": "00d3c46813df4dae913f095a7695d30a",
       "version_major": 2,
       "version_minor": 0
      },
      "text/plain": [
       "  0%|          | 0/2029 [00:00<?, ?it/s]"
      ]
     },
     "metadata": {},
     "output_type": "display_data"
    },
    {
     "name": "stdout",
     "output_type": "stream",
     "text": [
      "1e+18 [ 1.e-01  5.e-03  5.e-04  3.e-01 -9.e-01  6.e-01  6.e-03  1.e+00]\n"
     ]
    },
    {
     "data": {
      "application/vnd.jupyter.widget-view+json": {
       "model_id": "0fadd1139fa54570b2f28010293549e4",
       "version_major": 2,
       "version_minor": 0
      },
      "text/plain": [
       "  0%|          | 0/4733 [00:00<?, ?it/s]"
      ]
     },
     "metadata": {},
     "output_type": "display_data"
    },
    {
     "data": {
      "application/vnd.jupyter.widget-view+json": {
       "model_id": "1ba5df189362474f9fb24bd81a49c1fd",
       "version_major": 2,
       "version_minor": 0
      },
      "text/plain": [
       "  0%|          | 0/2029 [00:00<?, ?it/s]"
      ]
     },
     "metadata": {},
     "output_type": "display_data"
    },
    {
     "name": "stdout",
     "output_type": "stream",
     "text": [
      "1.2992100050794276e+18 [ 2.0e-01  5.0e-03  5.0e-04  3.0e-01 -5.0e-01  7.0e-01  1.0e-03  1.1e+00]\n"
     ]
    },
    {
     "data": {
      "application/vnd.jupyter.widget-view+json": {
       "model_id": "5b568959a8a34d87bc8b730edc56afaa",
       "version_major": 2,
       "version_minor": 0
      },
      "text/plain": [
       "  0%|          | 0/4733 [00:00<?, ?it/s]"
      ]
     },
     "metadata": {},
     "output_type": "display_data"
    },
    {
     "data": {
      "application/vnd.jupyter.widget-view+json": {
       "model_id": "dff825db96944a43b4ead77b66fddcfe",
       "version_major": 2,
       "version_minor": 0
      },
      "text/plain": [
       "  0%|          | 0/2029 [00:00<?, ?it/s]"
      ]
     },
     "metadata": {},
     "output_type": "display_data"
    },
    {
     "name": "stdout",
     "output_type": "stream",
     "text": [
      "1.018820120572465e+18 [ 8.0e-01  5.0e-03  8.0e-04  3.0e-01 -8.0e-01  4.0e-01  1.0e-03  1.2e+00]\n"
     ]
    },
    {
     "data": {
      "application/vnd.jupyter.widget-view+json": {
       "model_id": "b2f1763ef05947a0b2d20ef576ec3140",
       "version_major": 2,
       "version_minor": 0
      },
      "text/plain": [
       "  0%|          | 0/4733 [00:00<?, ?it/s]"
      ]
     },
     "metadata": {},
     "output_type": "display_data"
    },
    {
     "data": {
      "application/vnd.jupyter.widget-view+json": {
       "model_id": "61dab6a62aba48faacbafbdd2fb26c28",
       "version_major": 2,
       "version_minor": 0
      },
      "text/plain": [
       "  0%|          | 0/2029 [00:00<?, ?it/s]"
      ]
     },
     "metadata": {},
     "output_type": "display_data"
    },
    {
     "name": "stdout",
     "output_type": "stream",
     "text": [
      "1.792212067717374e+18 [ 9.0e-01  3.0e-03  8.0e-04  5.0e-01 -3.0e-01  4.0e-01  6.0e-03  1.2e+00]\n"
     ]
    },
    {
     "data": {
      "application/vnd.jupyter.widget-view+json": {
       "model_id": "398fee5e61cb442d924c545b5e0cca56",
       "version_major": 2,
       "version_minor": 0
      },
      "text/plain": [
       "  0%|          | 0/4733 [00:00<?, ?it/s]"
      ]
     },
     "metadata": {},
     "output_type": "display_data"
    },
    {
     "data": {
      "application/vnd.jupyter.widget-view+json": {
       "model_id": "880f31c0550647f49593e33eb1638df4",
       "version_major": 2,
       "version_minor": 0
      },
      "text/plain": [
       "  0%|          | 0/2029 [00:00<?, ?it/s]"
      ]
     },
     "metadata": {},
     "output_type": "display_data"
    },
    {
     "name": "stdout",
     "output_type": "stream",
     "text": [
      "1.770831312371668e+18 [ 2.00e-01  5.00e-03  5.00e-04  8.00e-01 -5.00e-01  2.00e-01  1.00e-03\n",
      "  1.15e+00]\n"
     ]
    },
    {
     "data": {
      "application/vnd.jupyter.widget-view+json": {
       "model_id": "479df99811ba42c5b1d49de04cacc2eb",
       "version_major": 2,
       "version_minor": 0
      },
      "text/plain": [
       "  0%|          | 0/4733 [00:00<?, ?it/s]"
      ]
     },
     "metadata": {},
     "output_type": "display_data"
    },
    {
     "data": {
      "application/vnd.jupyter.widget-view+json": {
       "model_id": "b5bb4067c9e74f88b32e838671659c1c",
       "version_major": 2,
       "version_minor": 0
      },
      "text/plain": [
       "  0%|          | 0/2029 [00:00<?, ?it/s]"
      ]
     },
     "metadata": {},
     "output_type": "display_data"
    },
    {
     "name": "stdout",
     "output_type": "stream",
     "text": [
      "1.9936060593609923e+18 [ 2.e-01  5.e-03  9.e-04  3.e-01 -5.e-01  7.e-01  1.e-03  1.e+00]\n"
     ]
    },
    {
     "data": {
      "application/vnd.jupyter.widget-view+json": {
       "model_id": "67533420069a4820985bbf5f9327aa2f",
       "version_major": 2,
       "version_minor": 0
      },
      "text/plain": [
       "  0%|          | 0/4733 [00:00<?, ?it/s]"
      ]
     },
     "metadata": {},
     "output_type": "display_data"
    },
    {
     "data": {
      "application/vnd.jupyter.widget-view+json": {
       "model_id": "1014cf46f7234a0c895c4e25a0e483fe",
       "version_major": 2,
       "version_minor": 0
      },
      "text/plain": [
       "  0%|          | 0/2029 [00:00<?, ?it/s]"
      ]
     },
     "metadata": {},
     "output_type": "display_data"
    },
    {
     "name": "stdout",
     "output_type": "stream",
     "text": [
      "2.4615763471616323e+18 [ 2.0e-01  5.0e-03  8.0e-04  3.0e-01 -5.0e-01  7.0e-01  6.0e-03  1.1e+00]\n"
     ]
    },
    {
     "data": {
      "application/vnd.jupyter.widget-view+json": {
       "model_id": "39e05644d1e743b2aba2dd78fe1722ee",
       "version_major": 2,
       "version_minor": 0
      },
      "text/plain": [
       "  0%|          | 0/4733 [00:00<?, ?it/s]"
      ]
     },
     "metadata": {},
     "output_type": "display_data"
    },
    {
     "data": {
      "application/vnd.jupyter.widget-view+json": {
       "model_id": "f13a02f006c345d09b429b6b3ea6ff34",
       "version_major": 2,
       "version_minor": 0
      },
      "text/plain": [
       "  0%|          | 0/2029 [00:00<?, ?it/s]"
      ]
     },
     "metadata": {},
     "output_type": "display_data"
    },
    {
     "name": "stdout",
     "output_type": "stream",
     "text": [
      "2.1318215090220431e+18 [ 7.0e-01  5.0e-03  6.0e-04  8.0e-01 -3.0e-01  7.0e-01  6.0e-03  1.1e+00]\n"
     ]
    },
    {
     "data": {
      "application/vnd.jupyter.widget-view+json": {
       "model_id": "d3682496cb8344ba8b586bafd3abdf2e",
       "version_major": 2,
       "version_minor": 0
      },
      "text/plain": [
       "  0%|          | 0/4733 [00:00<?, ?it/s]"
      ]
     },
     "metadata": {},
     "output_type": "display_data"
    },
    {
     "data": {
      "application/vnd.jupyter.widget-view+json": {
       "model_id": "bed195b85422447d986fe69168080d92",
       "version_major": 2,
       "version_minor": 0
      },
      "text/plain": [
       "  0%|          | 0/2029 [00:00<?, ?it/s]"
      ]
     },
     "metadata": {},
     "output_type": "display_data"
    },
    {
     "name": "stdout",
     "output_type": "stream",
     "text": [
      "2.3004615311122598e+18 [ 2.00e-01  2.00e-03  9.00e-04  5.00e-01 -3.00e-01  8.00e-01  6.00e-03\n",
      "  1.05e+00]\n"
     ]
    },
    {
     "data": {
      "application/vnd.jupyter.widget-view+json": {
       "model_id": "738e246c60e742978f3ba39382acf3a6",
       "version_major": 2,
       "version_minor": 0
      },
      "text/plain": [
       "  0%|          | 0/4733 [00:00<?, ?it/s]"
      ]
     },
     "metadata": {},
     "output_type": "display_data"
    },
    {
     "data": {
      "application/vnd.jupyter.widget-view+json": {
       "model_id": "82d7447e50f04878bd87b524c47648c1",
       "version_major": 2,
       "version_minor": 0
      },
      "text/plain": [
       "  0%|          | 0/2029 [00:00<?, ?it/s]"
      ]
     },
     "metadata": {},
     "output_type": "display_data"
    },
    {
     "name": "stdout",
     "output_type": "stream",
     "text": [
      "1e+18 [ 7.00e-01  2.00e-03  9.00e-04  8.00e-01 -3.00e-01  6.00e-01  6.00e-03\n",
      "  1.15e+00]\n"
     ]
    },
    {
     "data": {
      "application/vnd.jupyter.widget-view+json": {
       "model_id": "962dc66cd9f64ab1b8ac03b4e9f63e09",
       "version_major": 2,
       "version_minor": 0
      },
      "text/plain": [
       "  0%|          | 0/4733 [00:00<?, ?it/s]"
      ]
     },
     "metadata": {},
     "output_type": "display_data"
    },
    {
     "data": {
      "application/vnd.jupyter.widget-view+json": {
       "model_id": "c088f8f422c849ffbbfc057bc01a6e4d",
       "version_major": 2,
       "version_minor": 0
      },
      "text/plain": [
       "  0%|          | 0/2029 [00:00<?, ?it/s]"
      ]
     },
     "metadata": {},
     "output_type": "display_data"
    },
    {
     "name": "stdout",
     "output_type": "stream",
     "text": [
      "2.269754238978404e+18 [ 7.00e-01  7.00e-03  8.00e-04  8.00e-01 -4.00e-01  6.00e-01  6.00e-03\n",
      "  1.15e+00]\n"
     ]
    },
    {
     "data": {
      "application/vnd.jupyter.widget-view+json": {
       "model_id": "182afc363eb446259b0ff1c994c8e325",
       "version_major": 2,
       "version_minor": 0
      },
      "text/plain": [
       "  0%|          | 0/4733 [00:00<?, ?it/s]"
      ]
     },
     "metadata": {},
     "output_type": "display_data"
    },
    {
     "data": {
      "application/vnd.jupyter.widget-view+json": {
       "model_id": "9efe0d923ba64e16899b06eba548a795",
       "version_major": 2,
       "version_minor": 0
      },
      "text/plain": [
       "  0%|          | 0/2029 [00:00<?, ?it/s]"
      ]
     },
     "metadata": {},
     "output_type": "display_data"
    },
    {
     "name": "stdout",
     "output_type": "stream",
     "text": [
      "1.9181498005639416e+18 [ 1.0e-01  3.0e-03  7.0e-04  8.0e-01 -3.0e-01  6.0e-01  6.0e-03  1.2e+00]\n"
     ]
    },
    {
     "data": {
      "application/vnd.jupyter.widget-view+json": {
       "model_id": "20e44e9fd2634503a949e355f664b5fc",
       "version_major": 2,
       "version_minor": 0
      },
      "text/plain": [
       "  0%|          | 0/4733 [00:00<?, ?it/s]"
      ]
     },
     "metadata": {},
     "output_type": "display_data"
    },
    {
     "data": {
      "application/vnd.jupyter.widget-view+json": {
       "model_id": "10cfaf6bd666447ba8e2874cd93decd7",
       "version_major": 2,
       "version_minor": 0
      },
      "text/plain": [
       "  0%|          | 0/2029 [00:00<?, ?it/s]"
      ]
     },
     "metadata": {},
     "output_type": "display_data"
    },
    {
     "name": "stdout",
     "output_type": "stream",
     "text": [
      "2.140319679610048e+18 [ 7.0e-01  5.0e-03  6.0e-04  8.0e-01 -3.0e-01  7.0e-01  7.0e-03  1.2e+00]\n"
     ]
    },
    {
     "data": {
      "application/vnd.jupyter.widget-view+json": {
       "model_id": "657d1b3d136142a9a4a08423f5405ae9",
       "version_major": 2,
       "version_minor": 0
      },
      "text/plain": [
       "  0%|          | 0/4733 [00:00<?, ?it/s]"
      ]
     },
     "metadata": {},
     "output_type": "display_data"
    },
    {
     "data": {
      "application/vnd.jupyter.widget-view+json": {
       "model_id": "1cfc6ef56fbd4869ba1bd808a2550424",
       "version_major": 2,
       "version_minor": 0
      },
      "text/plain": [
       "  0%|          | 0/2029 [00:00<?, ?it/s]"
      ]
     },
     "metadata": {},
     "output_type": "display_data"
    },
    {
     "name": "stdout",
     "output_type": "stream",
     "text": [
      "2.3809897738682204e+18 [ 5.0e-01  5.0e-03  6.0e-04  8.0e-01 -3.0e-01  7.0e-01  6.0e-03  1.1e+00]\n"
     ]
    },
    {
     "data": {
      "application/vnd.jupyter.widget-view+json": {
       "model_id": "10170d861e8a412cb667376391d3803b",
       "version_major": 2,
       "version_minor": 0
      },
      "text/plain": [
       "  0%|          | 0/4733 [00:00<?, ?it/s]"
      ]
     },
     "metadata": {},
     "output_type": "display_data"
    },
    {
     "data": {
      "application/vnd.jupyter.widget-view+json": {
       "model_id": "1c88d005b2614421ae9ce94484853a68",
       "version_major": 2,
       "version_minor": 0
      },
      "text/plain": [
       "  0%|          | 0/2029 [00:00<?, ?it/s]"
      ]
     },
     "metadata": {},
     "output_type": "display_data"
    },
    {
     "name": "stdout",
     "output_type": "stream",
     "text": [
      "1.8856691450877394e+18 [ 1.00e-01  7.00e-03  7.00e-04  8.00e-01 -3.00e-01  6.00e-01  3.00e-03\n",
      "  1.15e+00]\n"
     ]
    },
    {
     "data": {
      "application/vnd.jupyter.widget-view+json": {
       "model_id": "fd5d5572be6745cf909818c8ed248111",
       "version_major": 2,
       "version_minor": 0
      },
      "text/plain": [
       "  0%|          | 0/4733 [00:00<?, ?it/s]"
      ]
     },
     "metadata": {},
     "output_type": "display_data"
    },
    {
     "data": {
      "application/vnd.jupyter.widget-view+json": {
       "model_id": "871f62b0971e4922ac45f6f6b745800e",
       "version_major": 2,
       "version_minor": 0
      },
      "text/plain": [
       "  0%|          | 0/2029 [00:00<?, ?it/s]"
      ]
     },
     "metadata": {},
     "output_type": "display_data"
    },
    {
     "name": "stdout",
     "output_type": "stream",
     "text": [
      "2.4187292245619354e+18 [ 6.e-01  5.e-03  6.e-04  8.e-01 -5.e-01  7.e-01  6.e-03  1.e+00]\n"
     ]
    },
    {
     "data": {
      "application/vnd.jupyter.widget-view+json": {
       "model_id": "99c42addf7cc45219a12cf2eb066ff90",
       "version_major": 2,
       "version_minor": 0
      },
      "text/plain": [
       "  0%|          | 0/4733 [00:00<?, ?it/s]"
      ]
     },
     "metadata": {},
     "output_type": "display_data"
    },
    {
     "data": {
      "application/vnd.jupyter.widget-view+json": {
       "model_id": "ebb7ae31072244dd84d287b18ae4ffd4",
       "version_major": 2,
       "version_minor": 0
      },
      "text/plain": [
       "  0%|          | 0/2029 [00:00<?, ?it/s]"
      ]
     },
     "metadata": {},
     "output_type": "display_data"
    },
    {
     "name": "stdout",
     "output_type": "stream",
     "text": [
      "2.172800568661297e+18 [ 2.e-01  5.e-03  5.e-04  2.e-01 -5.e-01  7.e-01  1.e-03  1.e+00]\n"
     ]
    },
    {
     "data": {
      "application/vnd.jupyter.widget-view+json": {
       "model_id": "e627144599534b0a835fb6fb6895e269",
       "version_major": 2,
       "version_minor": 0
      },
      "text/plain": [
       "  0%|          | 0/4733 [00:00<?, ?it/s]"
      ]
     },
     "metadata": {},
     "output_type": "display_data"
    },
    {
     "data": {
      "application/vnd.jupyter.widget-view+json": {
       "model_id": "57b4c3367c7b4e4b8bacc73e753456c9",
       "version_major": 2,
       "version_minor": 0
      },
      "text/plain": [
       "  0%|          | 0/2029 [00:00<?, ?it/s]"
      ]
     },
     "metadata": {},
     "output_type": "display_data"
    },
    {
     "name": "stdout",
     "output_type": "stream",
     "text": [
      "1.7414300421957816e+18 [ 2.0e-01  3.0e-03  9.0e-04  5.0e-01 -5.0e-01  4.0e-01  1.0e-03  1.2e+00]\n"
     ]
    },
    {
     "data": {
      "application/vnd.jupyter.widget-view+json": {
       "model_id": "083b2ed124c7419cbca2a8626c02ad6e",
       "version_major": 2,
       "version_minor": 0
      },
      "text/plain": [
       "  0%|          | 0/4733 [00:00<?, ?it/s]"
      ]
     },
     "metadata": {},
     "output_type": "display_data"
    },
    {
     "data": {
      "application/vnd.jupyter.widget-view+json": {
       "model_id": "411c6357dba14da6b46d5db4314ab7c9",
       "version_major": 2,
       "version_minor": 0
      },
      "text/plain": [
       "  0%|          | 0/2029 [00:00<?, ?it/s]"
      ]
     },
     "metadata": {},
     "output_type": "display_data"
    },
    {
     "name": "stdout",
     "output_type": "stream",
     "text": [
      "1.5794876106811686e+18 [ 8.0e-01  5.0e-03  8.0e-04  5.0e-01 -3.0e-01  4.0e-01  6.0e-03  1.2e+00]\n"
     ]
    },
    {
     "data": {
      "application/vnd.jupyter.widget-view+json": {
       "model_id": "359cd90baa67490bbf918878c058038b",
       "version_major": 2,
       "version_minor": 0
      },
      "text/plain": [
       "  0%|          | 0/4733 [00:00<?, ?it/s]"
      ]
     },
     "metadata": {},
     "output_type": "display_data"
    },
    {
     "data": {
      "application/vnd.jupyter.widget-view+json": {
       "model_id": "162229dd5c61456dbe73f1a570dc705d",
       "version_major": 2,
       "version_minor": 0
      },
      "text/plain": [
       "  0%|          | 0/2029 [00:00<?, ?it/s]"
      ]
     },
     "metadata": {},
     "output_type": "display_data"
    },
    {
     "name": "stdout",
     "output_type": "stream",
     "text": [
      "2.093972943415254e+18 [ 4.0e-01  5.0e-03  7.0e-04  8.0e-01 -3.0e-01  6.0e-01  6.0e-03  1.1e+00]\n"
     ]
    },
    {
     "data": {
      "application/vnd.jupyter.widget-view+json": {
       "model_id": "39a6ea6660f4496c8bf4f0edd05c4f17",
       "version_major": 2,
       "version_minor": 0
      },
      "text/plain": [
       "  0%|          | 0/4733 [00:00<?, ?it/s]"
      ]
     },
     "metadata": {},
     "output_type": "display_data"
    },
    {
     "data": {
      "application/vnd.jupyter.widget-view+json": {
       "model_id": "1b71429d797643c9a60925083c87b921",
       "version_major": 2,
       "version_minor": 0
      },
      "text/plain": [
       "  0%|          | 0/2029 [00:00<?, ?it/s]"
      ]
     },
     "metadata": {},
     "output_type": "display_data"
    },
    {
     "name": "stdout",
     "output_type": "stream",
     "text": [
      "1.85823393438364e+18 [ 8.0e-01  3.0e-03  7.0e-04  8.0e-01 -3.0e-01  6.0e-01  6.0e-03  1.2e+00]\n"
     ]
    },
    {
     "data": {
      "application/vnd.jupyter.widget-view+json": {
       "model_id": "d9339cc852db49e2982327b7850d03fd",
       "version_major": 2,
       "version_minor": 0
      },
      "text/plain": [
       "  0%|          | 0/4733 [00:00<?, ?it/s]"
      ]
     },
     "metadata": {},
     "output_type": "display_data"
    },
    {
     "data": {
      "application/vnd.jupyter.widget-view+json": {
       "model_id": "bc46b14fdda042a88bd476d60069d735",
       "version_major": 2,
       "version_minor": 0
      },
      "text/plain": [
       "  0%|          | 0/2029 [00:00<?, ?it/s]"
      ]
     },
     "metadata": {},
     "output_type": "display_data"
    },
    {
     "name": "stdout",
     "output_type": "stream",
     "text": [
      "1.0185518356754711e+18 [ 1.0e-01  3.0e-03  7.0e-04  8.0e-01 -3.0e-01  1.0e-01  6.0e-03  1.2e+00]\n"
     ]
    },
    {
     "data": {
      "application/vnd.jupyter.widget-view+json": {
       "model_id": "800a7d3eebaf4270bec727983a9735aa",
       "version_major": 2,
       "version_minor": 0
      },
      "text/plain": [
       "  0%|          | 0/4733 [00:00<?, ?it/s]"
      ]
     },
     "metadata": {},
     "output_type": "display_data"
    },
    {
     "data": {
      "application/vnd.jupyter.widget-view+json": {
       "model_id": "5658422dfc8d47f99805c2c5f2e5199e",
       "version_major": 2,
       "version_minor": 0
      },
      "text/plain": [
       "  0%|          | 0/2029 [00:00<?, ?it/s]"
      ]
     },
     "metadata": {},
     "output_type": "display_data"
    },
    {
     "name": "stdout",
     "output_type": "stream",
     "text": [
      "2.1800325362444483e+18 [ 3.e-01  5.e-03  7.e-04  3.e-01 -3.e-01  7.e-01  1.e-03  1.e+00]\n"
     ]
    },
    {
     "data": {
      "application/vnd.jupyter.widget-view+json": {
       "model_id": "b84b86dbdfd54d83b67523eda0507929",
       "version_major": 2,
       "version_minor": 0
      },
      "text/plain": [
       "  0%|          | 0/4733 [00:00<?, ?it/s]"
      ]
     },
     "metadata": {},
     "output_type": "display_data"
    },
    {
     "data": {
      "application/vnd.jupyter.widget-view+json": {
       "model_id": "04fed6c07cee400fabff41fcfdd025ee",
       "version_major": 2,
       "version_minor": 0
      },
      "text/plain": [
       "  0%|          | 0/2029 [00:00<?, ?it/s]"
      ]
     },
     "metadata": {},
     "output_type": "display_data"
    },
    {
     "name": "stdout",
     "output_type": "stream",
     "text": [
      "1.444940203046488e+18 [ 3.0e-01  5.0e-03  5.0e-04  3.0e-01 -5.0e-01  8.0e-01  1.0e-03  1.1e+00]\n"
     ]
    },
    {
     "data": {
      "application/vnd.jupyter.widget-view+json": {
       "model_id": "26936f126e254b178c3c2fa8e0746d9b",
       "version_major": 2,
       "version_minor": 0
      },
      "text/plain": [
       "  0%|          | 0/4733 [00:00<?, ?it/s]"
      ]
     },
     "metadata": {},
     "output_type": "display_data"
    },
    {
     "data": {
      "application/vnd.jupyter.widget-view+json": {
       "model_id": "203bc62b6315441b99d4c84ae686e9b9",
       "version_major": 2,
       "version_minor": 0
      },
      "text/plain": [
       "  0%|          | 0/2029 [00:00<?, ?it/s]"
      ]
     },
     "metadata": {},
     "output_type": "display_data"
    },
    {
     "name": "stdout",
     "output_type": "stream",
     "text": [
      "1.9769924550701573e+18 [ 2.00e-01  5.00e-03  7.00e-04  7.00e-01 -3.00e-01  4.00e-01  1.00e-03\n",
      "  1.05e+00]\n"
     ]
    },
    {
     "data": {
      "application/vnd.jupyter.widget-view+json": {
       "model_id": "c3a28896b4a8459e8fb3c8d3974d4898",
       "version_major": 2,
       "version_minor": 0
      },
      "text/plain": [
       "  0%|          | 0/4733 [00:00<?, ?it/s]"
      ]
     },
     "metadata": {},
     "output_type": "display_data"
    },
    {
     "data": {
      "application/vnd.jupyter.widget-view+json": {
       "model_id": "4951c17eaa5d4c78a9b12059c9c0d978",
       "version_major": 2,
       "version_minor": 0
      },
      "text/plain": [
       "  0%|          | 0/2029 [00:00<?, ?it/s]"
      ]
     },
     "metadata": {},
     "output_type": "display_data"
    },
    {
     "name": "stdout",
     "output_type": "stream",
     "text": [
      "2.5925613660524534e+18 [ 7.0e-01  3.0e-03  7.0e-04  8.0e-01 -3.0e-01  4.0e-01  3.0e-03  1.1e+00]\n"
     ]
    },
    {
     "data": {
      "application/vnd.jupyter.widget-view+json": {
       "model_id": "755470b306fe4791b0137908a5e67643",
       "version_major": 2,
       "version_minor": 0
      },
      "text/plain": [
       "  0%|          | 0/4733 [00:00<?, ?it/s]"
      ]
     },
     "metadata": {},
     "output_type": "display_data"
    },
    {
     "data": {
      "application/vnd.jupyter.widget-view+json": {
       "model_id": "dc53a0b9123f420b939b5a53a92bfb6b",
       "version_major": 2,
       "version_minor": 0
      },
      "text/plain": [
       "  0%|          | 0/2029 [00:00<?, ?it/s]"
      ]
     },
     "metadata": {},
     "output_type": "display_data"
    },
    {
     "name": "stdout",
     "output_type": "stream",
     "text": [
      "2.643918286370556e+18 [ 7.0e-01  7.0e-03  7.0e-04  8.0e-01 -3.0e-01  4.0e-01  6.0e-03  1.1e+00]\n"
     ]
    },
    {
     "data": {
      "application/vnd.jupyter.widget-view+json": {
       "model_id": "901ddfe8a04d4185adc1b3992a3661b7",
       "version_major": 2,
       "version_minor": 0
      },
      "text/plain": [
       "  0%|          | 0/4733 [00:00<?, ?it/s]"
      ]
     },
     "metadata": {},
     "output_type": "display_data"
    },
    {
     "data": {
      "application/vnd.jupyter.widget-view+json": {
       "model_id": "eb445af1f32e4943895ea97cd8246dd2",
       "version_major": 2,
       "version_minor": 0
      },
      "text/plain": [
       "  0%|          | 0/2029 [00:00<?, ?it/s]"
      ]
     },
     "metadata": {},
     "output_type": "display_data"
    },
    {
     "name": "stdout",
     "output_type": "stream",
     "text": [
      "2.616686475277097e+18 [ 7.0e-01  3.0e-03  7.0e-04  8.0e-01 -3.0e-01  6.0e-01  6.0e-03  1.1e+00]\n"
     ]
    },
    {
     "data": {
      "application/vnd.jupyter.widget-view+json": {
       "model_id": "1ef33c2c444f4ac39815d3b6fc907b05",
       "version_major": 2,
       "version_minor": 0
      },
      "text/plain": [
       "  0%|          | 0/4733 [00:00<?, ?it/s]"
      ]
     },
     "metadata": {},
     "output_type": "display_data"
    },
    {
     "data": {
      "application/vnd.jupyter.widget-view+json": {
       "model_id": "6f4891548a104421ba0e0d74bc4dc211",
       "version_major": 2,
       "version_minor": 0
      },
      "text/plain": [
       "  0%|          | 0/2029 [00:00<?, ?it/s]"
      ]
     },
     "metadata": {},
     "output_type": "display_data"
    },
    {
     "name": "stdout",
     "output_type": "stream",
     "text": [
      "2.754976729939133e+18 [ 7.0e-01  7.0e-03  6.0e-04  8.0e-01 -2.0e-01  6.0e-01  7.0e-03  1.1e+00]\n"
     ]
    },
    {
     "data": {
      "application/vnd.jupyter.widget-view+json": {
       "model_id": "7868680ece04425593b62f2d3fac6ea0",
       "version_major": 2,
       "version_minor": 0
      },
      "text/plain": [
       "  0%|          | 0/4733 [00:00<?, ?it/s]"
      ]
     },
     "metadata": {},
     "output_type": "display_data"
    },
    {
     "data": {
      "application/vnd.jupyter.widget-view+json": {
       "model_id": "d275c267eb134b91b2f092cc64c125a3",
       "version_major": 2,
       "version_minor": 0
      },
      "text/plain": [
       "  0%|          | 0/2029 [00:00<?, ?it/s]"
      ]
     },
     "metadata": {},
     "output_type": "display_data"
    },
    {
     "name": "stdout",
     "output_type": "stream",
     "text": [
      "1.6618621763303201e+18 [ 7.0e-01  5.0e-03  6.0e-04  8.0e-01 -5.0e-01  7.0e-01  6.0e-03  1.2e+00]\n"
     ]
    },
    {
     "data": {
      "application/vnd.jupyter.widget-view+json": {
       "model_id": "2f8b3cd0035a423b8fe88404778e1c2f",
       "version_major": 2,
       "version_minor": 0
      },
      "text/plain": [
       "  0%|          | 0/4733 [00:00<?, ?it/s]"
      ]
     },
     "metadata": {},
     "output_type": "display_data"
    },
    {
     "data": {
      "application/vnd.jupyter.widget-view+json": {
       "model_id": "3a1cc7d3e6ba400c8d2f7b9eccb5a807",
       "version_major": 2,
       "version_minor": 0
      },
      "text/plain": [
       "  0%|          | 0/2029 [00:00<?, ?it/s]"
      ]
     },
     "metadata": {},
     "output_type": "display_data"
    },
    {
     "name": "stdout",
     "output_type": "stream",
     "text": [
      "1e+18 [ 2.0e-01  8.0e-03  9.0e-04  8.0e-01 -7.0e-01  6.0e-01  6.0e-03  1.2e+00]\n"
     ]
    },
    {
     "data": {
      "application/vnd.jupyter.widget-view+json": {
       "model_id": "95507218ddd24795a2232dc3a4e479e7",
       "version_major": 2,
       "version_minor": 0
      },
      "text/plain": [
       "  0%|          | 0/4733 [00:00<?, ?it/s]"
      ]
     },
     "metadata": {},
     "output_type": "display_data"
    },
    {
     "data": {
      "application/vnd.jupyter.widget-view+json": {
       "model_id": "4dd29fd4537941deaa585fd90911e95a",
       "version_major": 2,
       "version_minor": 0
      },
      "text/plain": [
       "  0%|          | 0/2029 [00:00<?, ?it/s]"
      ]
     },
     "metadata": {},
     "output_type": "display_data"
    },
    {
     "name": "stdout",
     "output_type": "stream",
     "text": [
      "2.1359012130566807e+18 [ 6.0e-01  5.0e-03  5.0e-04  8.0e-01 -5.0e-01  7.0e-01  1.0e-03  1.1e+00]\n"
     ]
    },
    {
     "data": {
      "application/vnd.jupyter.widget-view+json": {
       "model_id": "fe70bb640367449eadf1ff2de3186c73",
       "version_major": 2,
       "version_minor": 0
      },
      "text/plain": [
       "  0%|          | 0/4733 [00:00<?, ?it/s]"
      ]
     },
     "metadata": {},
     "output_type": "display_data"
    },
    {
     "data": {
      "application/vnd.jupyter.widget-view+json": {
       "model_id": "18323f95f81c41c1ac0b469c491599a0",
       "version_major": 2,
       "version_minor": 0
      },
      "text/plain": [
       "  0%|          | 0/2029 [00:00<?, ?it/s]"
      ]
     },
     "metadata": {},
     "output_type": "display_data"
    },
    {
     "name": "stdout",
     "output_type": "stream",
     "text": [
      "1.6795663162205926e+18 [ 1.0e-01  5.0e-03  6.0e-04  3.0e-01 -5.0e-01  4.0e-01  6.0e-03  1.1e+00]\n"
     ]
    },
    {
     "data": {
      "application/vnd.jupyter.widget-view+json": {
       "model_id": "6b2710df6c014542b4c315e9893d21ca",
       "version_major": 2,
       "version_minor": 0
      },
      "text/plain": [
       "  0%|          | 0/4733 [00:00<?, ?it/s]"
      ]
     },
     "metadata": {},
     "output_type": "display_data"
    },
    {
     "data": {
      "application/vnd.jupyter.widget-view+json": {
       "model_id": "04b68d9cdc874c558703132c0650f983",
       "version_major": 2,
       "version_minor": 0
      },
      "text/plain": [
       "  0%|          | 0/2029 [00:00<?, ?it/s]"
      ]
     },
     "metadata": {},
     "output_type": "display_data"
    },
    {
     "name": "stdout",
     "output_type": "stream",
     "text": [
      "2.3809897738682204e+18 [ 5.0e-01  5.0e-03  6.0e-04  8.0e-01 -3.0e-01  7.0e-01  6.0e-03  1.1e+00]\n"
     ]
    },
    {
     "data": {
      "application/vnd.jupyter.widget-view+json": {
       "model_id": "7d3b8bfab94e4399a1a89d8c53139552",
       "version_major": 2,
       "version_minor": 0
      },
      "text/plain": [
       "  0%|          | 0/4733 [00:00<?, ?it/s]"
      ]
     },
     "metadata": {},
     "output_type": "display_data"
    },
    {
     "data": {
      "application/vnd.jupyter.widget-view+json": {
       "model_id": "a954b982010f4b328053906fa2f23910",
       "version_major": 2,
       "version_minor": 0
      },
      "text/plain": [
       "  0%|          | 0/2029 [00:00<?, ?it/s]"
      ]
     },
     "metadata": {},
     "output_type": "display_data"
    },
    {
     "name": "stdout",
     "output_type": "stream",
     "text": [
      "2.5034621941008205e+18 [ 7.0e-01  5.0e-03  6.0e-04  8.0e-01 -3.0e-01  7.0e-01  2.0e-03  1.1e+00]\n"
     ]
    },
    {
     "data": {
      "application/vnd.jupyter.widget-view+json": {
       "model_id": "62d59137b216444ea4ec81a9d000b88d",
       "version_major": 2,
       "version_minor": 0
      },
      "text/plain": [
       "  0%|          | 0/4733 [00:00<?, ?it/s]"
      ]
     },
     "metadata": {},
     "output_type": "display_data"
    },
    {
     "data": {
      "application/vnd.jupyter.widget-view+json": {
       "model_id": "926d577a09a54b9f8a730d543819c9d2",
       "version_major": 2,
       "version_minor": 0
      },
      "text/plain": [
       "  0%|          | 0/2029 [00:00<?, ?it/s]"
      ]
     },
     "metadata": {},
     "output_type": "display_data"
    },
    {
     "name": "stdout",
     "output_type": "stream",
     "text": [
      "1.85823393438364e+18 [ 8.0e-01  3.0e-03  7.0e-04  8.0e-01 -3.0e-01  6.0e-01  6.0e-03  1.2e+00]\n"
     ]
    },
    {
     "data": {
      "application/vnd.jupyter.widget-view+json": {
       "model_id": "42b251cf59ad4e05894443e0a93b0915",
       "version_major": 2,
       "version_minor": 0
      },
      "text/plain": [
       "  0%|          | 0/4733 [00:00<?, ?it/s]"
      ]
     },
     "metadata": {},
     "output_type": "display_data"
    },
    {
     "data": {
      "application/vnd.jupyter.widget-view+json": {
       "model_id": "03fb8e399ebd40e490739f81894550ba",
       "version_major": 2,
       "version_minor": 0
      },
      "text/plain": [
       "  0%|          | 0/2029 [00:00<?, ?it/s]"
      ]
     },
     "metadata": {},
     "output_type": "display_data"
    },
    {
     "name": "stdout",
     "output_type": "stream",
     "text": [
      "1.996177570311209e+18 [ 1.0e-01  3.0e-03  6.0e-04  8.0e-01 -3.0e-01  6.0e-01  6.0e-03  1.2e+00]\n"
     ]
    },
    {
     "data": {
      "application/vnd.jupyter.widget-view+json": {
       "model_id": "cb0b497f9da94c5092fec26c4085a8d8",
       "version_major": 2,
       "version_minor": 0
      },
      "text/plain": [
       "  0%|          | 0/4733 [00:00<?, ?it/s]"
      ]
     },
     "metadata": {},
     "output_type": "display_data"
    },
    {
     "data": {
      "application/vnd.jupyter.widget-view+json": {
       "model_id": "cee2b53fd6b54ea2853ab46f2d176383",
       "version_major": 2,
       "version_minor": 0
      },
      "text/plain": [
       "  0%|          | 0/2029 [00:00<?, ?it/s]"
      ]
     },
     "metadata": {},
     "output_type": "display_data"
    },
    {
     "name": "stdout",
     "output_type": "stream",
     "text": [
      "1.8486207373937503e+18 [ 1.0e-01  3.0e-03  7.0e-04  8.0e-01 -2.0e-01  7.0e-01  1.0e-03  1.1e+00]\n"
     ]
    },
    {
     "data": {
      "application/vnd.jupyter.widget-view+json": {
       "model_id": "c9659901e0324d45bfac9c5393d2c899",
       "version_major": 2,
       "version_minor": 0
      },
      "text/plain": [
       "  0%|          | 0/4733 [00:00<?, ?it/s]"
      ]
     },
     "metadata": {},
     "output_type": "display_data"
    },
    {
     "data": {
      "application/vnd.jupyter.widget-view+json": {
       "model_id": "2a1403d42c6f4829aba46fd79558cba1",
       "version_major": 2,
       "version_minor": 0
      },
      "text/plain": [
       "  0%|          | 0/2029 [00:00<?, ?it/s]"
      ]
     },
     "metadata": {},
     "output_type": "display_data"
    },
    {
     "name": "stdout",
     "output_type": "stream",
     "text": [
      "2.28222669212101e+18 [ 2.00e-01  5.00e-03  6.00e-04  6.00e-01 -3.00e-01  7.00e-01  6.00e-03\n",
      "  1.05e+00]\n"
     ]
    },
    {
     "data": {
      "application/vnd.jupyter.widget-view+json": {
       "model_id": "056c2fe5a08b4c80b41988f99270ee61",
       "version_major": 2,
       "version_minor": 0
      },
      "text/plain": [
       "  0%|          | 0/4733 [00:00<?, ?it/s]"
      ]
     },
     "metadata": {},
     "output_type": "display_data"
    },
    {
     "data": {
      "application/vnd.jupyter.widget-view+json": {
       "model_id": "98b1d5a2cea940519c9ad38424b14fd1",
       "version_major": 2,
       "version_minor": 0
      },
      "text/plain": [
       "  0%|          | 0/2029 [00:00<?, ?it/s]"
      ]
     },
     "metadata": {},
     "output_type": "display_data"
    },
    {
     "name": "stdout",
     "output_type": "stream",
     "text": [
      "1.8028724941998794e+18 [ 6.0e-01  5.0e-03  9.0e-04  8.0e-01 -3.0e-01  6.0e-01  6.0e-03  1.1e+00]\n"
     ]
    },
    {
     "data": {
      "application/vnd.jupyter.widget-view+json": {
       "model_id": "42849fea8f7044119938fbd3320f307a",
       "version_major": 2,
       "version_minor": 0
      },
      "text/plain": [
       "  0%|          | 0/4733 [00:00<?, ?it/s]"
      ]
     },
     "metadata": {},
     "output_type": "display_data"
    },
    {
     "data": {
      "application/vnd.jupyter.widget-view+json": {
       "model_id": "4a7b78bd58844cac9e85201f91aa730e",
       "version_major": 2,
       "version_minor": 0
      },
      "text/plain": [
       "  0%|          | 0/2029 [00:00<?, ?it/s]"
      ]
     },
     "metadata": {},
     "output_type": "display_data"
    },
    {
     "name": "stdout",
     "output_type": "stream",
     "text": [
      "3.0518247303591465e+18 [ 7.0e-01  7.0e-03  7.0e-04  8.0e-01 -2.0e-01  6.0e-01  4.0e-03  1.1e+00]\n"
     ]
    },
    {
     "data": {
      "application/vnd.jupyter.widget-view+json": {
       "model_id": "8433662a3fc844a7a93745ce6f120afb",
       "version_major": 2,
       "version_minor": 0
      },
      "text/plain": [
       "  0%|          | 0/4733 [00:00<?, ?it/s]"
      ]
     },
     "metadata": {},
     "output_type": "display_data"
    },
    {
     "data": {
      "application/vnd.jupyter.widget-view+json": {
       "model_id": "df6ebb4148fb415ba4ac3a5f2542edcc",
       "version_major": 2,
       "version_minor": 0
      },
      "text/plain": [
       "  0%|          | 0/2029 [00:00<?, ?it/s]"
      ]
     },
     "metadata": {},
     "output_type": "display_data"
    },
    {
     "name": "stdout",
     "output_type": "stream",
     "text": [
      "2.203885165438834e+18 [ 6.0e-01  7.0e-03  6.0e-04  8.0e-01 -2.0e-01  6.0e-01  6.0e-03  1.1e+00]\n"
     ]
    },
    {
     "data": {
      "application/vnd.jupyter.widget-view+json": {
       "model_id": "c38d2884ce3b4958baa04b858b72992d",
       "version_major": 2,
       "version_minor": 0
      },
      "text/plain": [
       "  0%|          | 0/4733 [00:00<?, ?it/s]"
      ]
     },
     "metadata": {},
     "output_type": "display_data"
    },
    {
     "data": {
      "application/vnd.jupyter.widget-view+json": {
       "model_id": "49e57cf4789147e98086ffd1b6f08bec",
       "version_major": 2,
       "version_minor": 0
      },
      "text/plain": [
       "  0%|          | 0/2029 [00:00<?, ?it/s]"
      ]
     },
     "metadata": {},
     "output_type": "display_data"
    },
    {
     "name": "stdout",
     "output_type": "stream",
     "text": [
      "2.503973959621336e+18 [ 4.0e-01  7.0e-03  7.0e-04  8.0e-01 -3.0e-01  7.0e-01  6.0e-03  1.1e+00]\n"
     ]
    },
    {
     "data": {
      "application/vnd.jupyter.widget-view+json": {
       "model_id": "0a4e6777aa8a4d33b1deeb48eaa0b61d",
       "version_major": 2,
       "version_minor": 0
      },
      "text/plain": [
       "  0%|          | 0/4733 [00:00<?, ?it/s]"
      ]
     },
     "metadata": {},
     "output_type": "display_data"
    },
    {
     "data": {
      "application/vnd.jupyter.widget-view+json": {
       "model_id": "20bce9e72e9f472baa0224e2aa14a19d",
       "version_major": 2,
       "version_minor": 0
      },
      "text/plain": [
       "  0%|          | 0/2029 [00:00<?, ?it/s]"
      ]
     },
     "metadata": {},
     "output_type": "display_data"
    },
    {
     "name": "stdout",
     "output_type": "stream",
     "text": [
      "1.55605300770673e+18 [ 7.00e-01  4.00e-03  7.00e-04  3.00e-01 -3.00e-01  7.00e-01  6.00e-03\n",
      "  1.15e+00]\n"
     ]
    },
    {
     "data": {
      "application/vnd.jupyter.widget-view+json": {
       "model_id": "0d2811498d83487faaf80ffa355666ed",
       "version_major": 2,
       "version_minor": 0
      },
      "text/plain": [
       "  0%|          | 0/4733 [00:00<?, ?it/s]"
      ]
     },
     "metadata": {},
     "output_type": "display_data"
    },
    {
     "data": {
      "application/vnd.jupyter.widget-view+json": {
       "model_id": "792d895a4c59404995d7d6a88a8e4fcf",
       "version_major": 2,
       "version_minor": 0
      },
      "text/plain": [
       "  0%|          | 0/2029 [00:00<?, ?it/s]"
      ]
     },
     "metadata": {},
     "output_type": "display_data"
    },
    {
     "name": "stdout",
     "output_type": "stream",
     "text": [
      "2.2461587545772861e+18 [ 7.0e-01  9.0e-03  6.0e-04  8.0e-01 -3.0e-01  7.0e-01  1.0e-03  1.2e+00]\n"
     ]
    },
    {
     "data": {
      "application/vnd.jupyter.widget-view+json": {
       "model_id": "d4a8b59d610f4f7c928d11758ee88d3b",
       "version_major": 2,
       "version_minor": 0
      },
      "text/plain": [
       "  0%|          | 0/4733 [00:00<?, ?it/s]"
      ]
     },
     "metadata": {},
     "output_type": "display_data"
    },
    {
     "data": {
      "application/vnd.jupyter.widget-view+json": {
       "model_id": "4fd82837367f4a9eb551baff2797f446",
       "version_major": 2,
       "version_minor": 0
      },
      "text/plain": [
       "  0%|          | 0/2029 [00:00<?, ?it/s]"
      ]
     },
     "metadata": {},
     "output_type": "display_data"
    },
    {
     "name": "stdout",
     "output_type": "stream",
     "text": [
      "1.147358845932148e+18 [ 7.0e-01  9.0e-03  6.0e-04  3.0e-01 -7.0e-01  7.0e-01  1.0e-03  1.2e+00]\n"
     ]
    },
    {
     "data": {
      "application/vnd.jupyter.widget-view+json": {
       "model_id": "592b50fdff934eebbcc6257756ddd70b",
       "version_major": 2,
       "version_minor": 0
      },
      "text/plain": [
       "  0%|          | 0/4733 [00:00<?, ?it/s]"
      ]
     },
     "metadata": {},
     "output_type": "display_data"
    },
    {
     "data": {
      "application/vnd.jupyter.widget-view+json": {
       "model_id": "35f693ce9ada479aab5e0af6c4cd7354",
       "version_major": 2,
       "version_minor": 0
      },
      "text/plain": [
       "  0%|          | 0/2029 [00:00<?, ?it/s]"
      ]
     },
     "metadata": {},
     "output_type": "display_data"
    },
    {
     "name": "stdout",
     "output_type": "stream",
     "text": [
      "1.9638970160724787e+18 [ 7.0e-01  5.0e-03  7.0e-04  5.0e-01 -3.0e-01  7.0e-01  1.0e-03  1.1e+00]\n"
     ]
    },
    {
     "data": {
      "application/vnd.jupyter.widget-view+json": {
       "model_id": "6cd9a2c64e9b4cc4b69efca7f544a8ff",
       "version_major": 2,
       "version_minor": 0
      },
      "text/plain": [
       "  0%|          | 0/4733 [00:00<?, ?it/s]"
      ]
     },
     "metadata": {},
     "output_type": "display_data"
    },
    {
     "data": {
      "application/vnd.jupyter.widget-view+json": {
       "model_id": "7a4fa1b91f3543c083e57d37b349d724",
       "version_major": 2,
       "version_minor": 0
      },
      "text/plain": [
       "  0%|          | 0/2029 [00:00<?, ?it/s]"
      ]
     },
     "metadata": {},
     "output_type": "display_data"
    },
    {
     "name": "stdout",
     "output_type": "stream",
     "text": [
      "2.0046212197233784e+18 [ 7.0e-01  6.0e-03  7.0e-04  8.0e-01 -3.0e-01  7.0e-01  3.0e-03  1.1e+00]\n"
     ]
    },
    {
     "data": {
      "application/vnd.jupyter.widget-view+json": {
       "model_id": "56f600a53a9e4357bb02a4cf891b5599",
       "version_major": 2,
       "version_minor": 0
      },
      "text/plain": [
       "  0%|          | 0/4733 [00:00<?, ?it/s]"
      ]
     },
     "metadata": {},
     "output_type": "display_data"
    },
    {
     "data": {
      "application/vnd.jupyter.widget-view+json": {
       "model_id": "304291c60a4f4f38bcd81e379a96aa06",
       "version_major": 2,
       "version_minor": 0
      },
      "text/plain": [
       "  0%|          | 0/2029 [00:00<?, ?it/s]"
      ]
     },
     "metadata": {},
     "output_type": "display_data"
    },
    {
     "name": "stdout",
     "output_type": "stream",
     "text": [
      "1.5950113070850698e+18 [ 5.0e-01  5.0e-03  6.0e-04  3.0e-01 -3.0e-01  7.0e-01  6.0e-03  1.1e+00]\n"
     ]
    },
    {
     "data": {
      "application/vnd.jupyter.widget-view+json": {
       "model_id": "adda9e2046b0493d9c24e76fa34b8557",
       "version_major": 2,
       "version_minor": 0
      },
      "text/plain": [
       "  0%|          | 0/4733 [00:00<?, ?it/s]"
      ]
     },
     "metadata": {},
     "output_type": "display_data"
    },
    {
     "data": {
      "application/vnd.jupyter.widget-view+json": {
       "model_id": "93564c3fbc7b44a9af3bcb9da400fce5",
       "version_major": 2,
       "version_minor": 0
      },
      "text/plain": [
       "  0%|          | 0/2029 [00:00<?, ?it/s]"
      ]
     },
     "metadata": {},
     "output_type": "display_data"
    },
    {
     "name": "stdout",
     "output_type": "stream",
     "text": [
      "2.6778733719346447e+18 [ 5.0e-01  5.0e-03  6.0e-04  8.0e-01 -5.0e-01  7.0e-01  6.0e-03  1.1e+00]\n"
     ]
    },
    {
     "data": {
      "application/vnd.jupyter.widget-view+json": {
       "model_id": "920f33602a464336b0671a3a9f81a898",
       "version_major": 2,
       "version_minor": 0
      },
      "text/plain": [
       "  0%|          | 0/4733 [00:00<?, ?it/s]"
      ]
     },
     "metadata": {},
     "output_type": "display_data"
    },
    {
     "data": {
      "application/vnd.jupyter.widget-view+json": {
       "model_id": "22cf80751e2f400abd515cbd42e189c0",
       "version_major": 2,
       "version_minor": 0
      },
      "text/plain": [
       "  0%|          | 0/2029 [00:00<?, ?it/s]"
      ]
     },
     "metadata": {},
     "output_type": "display_data"
    },
    {
     "name": "stdout",
     "output_type": "stream",
     "text": [
      "2.2437455518505224e+18 [ 5.0e-01  3.0e-03  7.0e-04  8.0e-01 -3.0e-01  6.0e-01  6.0e-03  1.2e+00]\n"
     ]
    },
    {
     "data": {
      "application/vnd.jupyter.widget-view+json": {
       "model_id": "a55478ce2cde49babe370c72378d2233",
       "version_major": 2,
       "version_minor": 0
      },
      "text/plain": [
       "  0%|          | 0/4733 [00:00<?, ?it/s]"
      ]
     },
     "metadata": {},
     "output_type": "display_data"
    },
    {
     "data": {
      "application/vnd.jupyter.widget-view+json": {
       "model_id": "5e61e267eac84c42accb79c6ee293b7b",
       "version_major": 2,
       "version_minor": 0
      },
      "text/plain": [
       "  0%|          | 0/2029 [00:00<?, ?it/s]"
      ]
     },
     "metadata": {},
     "output_type": "display_data"
    },
    {
     "name": "stdout",
     "output_type": "stream",
     "text": [
      "2.028736879452959e+18 [ 7.00e-01  7.00e-03  7.00e-04  8.00e-01 -3.00e-01  6.00e-01  6.00e-03\n",
      "  1.15e+00]\n"
     ]
    },
    {
     "data": {
      "application/vnd.jupyter.widget-view+json": {
       "model_id": "f29e7b589b3445a28578239bd47ea1e0",
       "version_major": 2,
       "version_minor": 0
      },
      "text/plain": [
       "  0%|          | 0/4733 [00:00<?, ?it/s]"
      ]
     },
     "metadata": {},
     "output_type": "display_data"
    },
    {
     "data": {
      "application/vnd.jupyter.widget-view+json": {
       "model_id": "9853c4b3cc494de0bce53a9ab11d9e32",
       "version_major": 2,
       "version_minor": 0
      },
      "text/plain": [
       "  0%|          | 0/2029 [00:00<?, ?it/s]"
      ]
     },
     "metadata": {},
     "output_type": "display_data"
    },
    {
     "name": "stdout",
     "output_type": "stream",
     "text": [
      "1.9360848478556854e+18 [ 2.00e-01  7.00e-03  7.00e-04  8.00e-01 -5.00e-01  4.00e-01  6.00e-03\n",
      "  1.05e+00]\n"
     ]
    },
    {
     "data": {
      "application/vnd.jupyter.widget-view+json": {
       "model_id": "6d31afd4882e4de49921c23db3ed4640",
       "version_major": 2,
       "version_minor": 0
      },
      "text/plain": [
       "  0%|          | 0/4733 [00:00<?, ?it/s]"
      ]
     },
     "metadata": {},
     "output_type": "display_data"
    },
    {
     "data": {
      "application/vnd.jupyter.widget-view+json": {
       "model_id": "4e000e966f5b4972aefbde1d3adeed38",
       "version_major": 2,
       "version_minor": 0
      },
      "text/plain": [
       "  0%|          | 0/2029 [00:00<?, ?it/s]"
      ]
     },
     "metadata": {},
     "output_type": "display_data"
    },
    {
     "name": "stdout",
     "output_type": "stream",
     "text": [
      "2.6055947815755817e+18 [ 2.00e-01  5.00e-03  7.00e-04  4.00e-01 -3.00e-01  7.00e-01  1.00e-03\n",
      "  1.05e+00]\n"
     ]
    },
    {
     "data": {
      "application/vnd.jupyter.widget-view+json": {
       "model_id": "61287b483c494371896805364a73a57d",
       "version_major": 2,
       "version_minor": 0
      },
      "text/plain": [
       "  0%|          | 0/4733 [00:00<?, ?it/s]"
      ]
     },
     "metadata": {},
     "output_type": "display_data"
    },
    {
     "data": {
      "application/vnd.jupyter.widget-view+json": {
       "model_id": "a06e9a1d8d4f4bc0b4cfc338a7f5fbdf",
       "version_major": 2,
       "version_minor": 0
      },
      "text/plain": [
       "  0%|          | 0/2029 [00:00<?, ?it/s]"
      ]
     },
     "metadata": {},
     "output_type": "display_data"
    },
    {
     "name": "stdout",
     "output_type": "stream",
     "text": [
      "1.8363468433475996e+18 [ 7.00e-01  3.00e-03  8.00e-04  8.00e-01 -3.00e-01  6.00e-01  6.00e-03\n",
      "  1.05e+00]\n"
     ]
    },
    {
     "data": {
      "application/vnd.jupyter.widget-view+json": {
       "model_id": "7d8b0c1865d646aeb67b181c9f309b7a",
       "version_major": 2,
       "version_minor": 0
      },
      "text/plain": [
       "  0%|          | 0/4733 [00:00<?, ?it/s]"
      ]
     },
     "metadata": {},
     "output_type": "display_data"
    },
    {
     "data": {
      "application/vnd.jupyter.widget-view+json": {
       "model_id": "a5feea52bbfb42e8bc988a423cff89dd",
       "version_major": 2,
       "version_minor": 0
      },
      "text/plain": [
       "  0%|          | 0/2029 [00:00<?, ?it/s]"
      ]
     },
     "metadata": {},
     "output_type": "display_data"
    },
    {
     "name": "stdout",
     "output_type": "stream",
     "text": [
      "2.712750978113794e+18 [ 7.0e-01  3.0e-03  6.0e-04  8.0e-01 -2.0e-01  6.0e-01  6.0e-03  1.1e+00]\n"
     ]
    },
    {
     "data": {
      "application/vnd.jupyter.widget-view+json": {
       "model_id": "3e3ff97652d7473e8483855aa27fe0ab",
       "version_major": 2,
       "version_minor": 0
      },
      "text/plain": [
       "  0%|          | 0/4733 [00:00<?, ?it/s]"
      ]
     },
     "metadata": {},
     "output_type": "display_data"
    },
    {
     "data": {
      "application/vnd.jupyter.widget-view+json": {
       "model_id": "1faca5289d55410b9f8cf8985564c9cb",
       "version_major": 2,
       "version_minor": 0
      },
      "text/plain": [
       "  0%|          | 0/2029 [00:00<?, ?it/s]"
      ]
     },
     "metadata": {},
     "output_type": "display_data"
    },
    {
     "name": "stdout",
     "output_type": "stream",
     "text": [
      "1.2731993935359557e+18 [ 4.0e-01  5.0e-03  6.0e-04  8.0e-01 -2.0e-01  1.0e-01  6.0e-03  1.1e+00]\n"
     ]
    },
    {
     "data": {
      "application/vnd.jupyter.widget-view+json": {
       "model_id": "5c858fdcd24c42188b85aa97b049f856",
       "version_major": 2,
       "version_minor": 0
      },
      "text/plain": [
       "  0%|          | 0/4733 [00:00<?, ?it/s]"
      ]
     },
     "metadata": {},
     "output_type": "display_data"
    },
    {
     "data": {
      "application/vnd.jupyter.widget-view+json": {
       "model_id": "94d01dcfd98b4a8aa0a2fa5361812a61",
       "version_major": 2,
       "version_minor": 0
      },
      "text/plain": [
       "  0%|          | 0/2029 [00:00<?, ?it/s]"
      ]
     },
     "metadata": {},
     "output_type": "display_data"
    },
    {
     "name": "stdout",
     "output_type": "stream",
     "text": [
      "1.94813519206912e+18 [ 4.0e-01  5.0e-03  7.0e-04  2.0e-01 -3.0e-01  7.0e-01  6.0e-03  1.1e+00]\n"
     ]
    },
    {
     "data": {
      "application/vnd.jupyter.widget-view+json": {
       "model_id": "0d60c444f4d04cbaa2faca9808baed11",
       "version_major": 2,
       "version_minor": 0
      },
      "text/plain": [
       "  0%|          | 0/4733 [00:00<?, ?it/s]"
      ]
     },
     "metadata": {},
     "output_type": "display_data"
    },
    {
     "data": {
      "application/vnd.jupyter.widget-view+json": {
       "model_id": "9e67d386605e40d682537e9d443afb18",
       "version_major": 2,
       "version_minor": 0
      },
      "text/plain": [
       "  0%|          | 0/2029 [00:00<?, ?it/s]"
      ]
     },
     "metadata": {},
     "output_type": "display_data"
    },
    {
     "name": "stdout",
     "output_type": "stream",
     "text": [
      "2.1979785922946097e+18 [ 3.00e-01  5.00e-03  7.00e-04  3.00e-01 -2.00e-01  7.00e-01  1.00e-03\n",
      "  1.15e+00]\n"
     ]
    },
    {
     "data": {
      "application/vnd.jupyter.widget-view+json": {
       "model_id": "a93db319036b4dc2b621d27290612e04",
       "version_major": 2,
       "version_minor": 0
      },
      "text/plain": [
       "  0%|          | 0/4733 [00:00<?, ?it/s]"
      ]
     },
     "metadata": {},
     "output_type": "display_data"
    },
    {
     "data": {
      "application/vnd.jupyter.widget-view+json": {
       "model_id": "61e71c712a6041e4ba9d85fa7e78ce35",
       "version_major": 2,
       "version_minor": 0
      },
      "text/plain": [
       "  0%|          | 0/2029 [00:00<?, ?it/s]"
      ]
     },
     "metadata": {},
     "output_type": "display_data"
    },
    {
     "name": "stdout",
     "output_type": "stream",
     "text": [
      "2.348969620081157e+18 [ 7.00e-01  9.00e-03  7.00e-04  8.00e-01 -3.00e-01  5.00e-01  6.00e-03\n",
      "  1.15e+00]\n"
     ]
    },
    {
     "data": {
      "application/vnd.jupyter.widget-view+json": {
       "model_id": "79773d9f274d4feaaab0d6db0366303e",
       "version_major": 2,
       "version_minor": 0
      },
      "text/plain": [
       "  0%|          | 0/4733 [00:00<?, ?it/s]"
      ]
     },
     "metadata": {},
     "output_type": "display_data"
    },
    {
     "data": {
      "application/vnd.jupyter.widget-view+json": {
       "model_id": "a596dbad656948beacd853dd4dc67a47",
       "version_major": 2,
       "version_minor": 0
      },
      "text/plain": [
       "  0%|          | 0/2029 [00:00<?, ?it/s]"
      ]
     },
     "metadata": {},
     "output_type": "display_data"
    },
    {
     "name": "stdout",
     "output_type": "stream",
     "text": [
      "1.237785862389165e+18 [ 7.0e-01  9.0e-03  6.0e-04  8.0e-01 -3.0e-01  3.0e-01  1.0e-03  1.2e+00]\n"
     ]
    },
    {
     "data": {
      "application/vnd.jupyter.widget-view+json": {
       "model_id": "5f958d51cd764fdc9a0fe828e2f9ebbe",
       "version_major": 2,
       "version_minor": 0
      },
      "text/plain": [
       "  0%|          | 0/4733 [00:00<?, ?it/s]"
      ]
     },
     "metadata": {},
     "output_type": "display_data"
    },
    {
     "data": {
      "application/vnd.jupyter.widget-view+json": {
       "model_id": "db12d901e3c746f4a967a9ac2db3f2f6",
       "version_major": 2,
       "version_minor": 0
      },
      "text/plain": [
       "  0%|          | 0/2029 [00:00<?, ?it/s]"
      ]
     },
     "metadata": {},
     "output_type": "display_data"
    },
    {
     "name": "stdout",
     "output_type": "stream",
     "text": [
      "1.7859825488306857e+18 [ 7.e-01  3.e-03  7.e-04  8.e-01 -3.e-01  1.e-01  3.e-03  1.e+00]\n"
     ]
    },
    {
     "data": {
      "application/vnd.jupyter.widget-view+json": {
       "model_id": "75782a18119941fd85f03e255f19ba3f",
       "version_major": 2,
       "version_minor": 0
      },
      "text/plain": [
       "  0%|          | 0/4733 [00:00<?, ?it/s]"
      ]
     },
     "metadata": {},
     "output_type": "display_data"
    },
    {
     "data": {
      "application/vnd.jupyter.widget-view+json": {
       "model_id": "30c8b143b30a4d56acb8905903c7f337",
       "version_major": 2,
       "version_minor": 0
      },
      "text/plain": [
       "  0%|          | 0/2029 [00:00<?, ?it/s]"
      ]
     },
     "metadata": {},
     "output_type": "display_data"
    },
    {
     "name": "stdout",
     "output_type": "stream",
     "text": [
      "2.1162580170996436e+18 [ 5.0e-01  3.0e-03  7.0e-04  8.0e-01 -2.0e-01  4.0e-01  6.0e-03  1.1e+00]\n"
     ]
    },
    {
     "data": {
      "application/vnd.jupyter.widget-view+json": {
       "model_id": "5c0a42c77067424fa427d99e6ecf5547",
       "version_major": 2,
       "version_minor": 0
      },
      "text/plain": [
       "  0%|          | 0/4733 [00:00<?, ?it/s]"
      ]
     },
     "metadata": {},
     "output_type": "display_data"
    },
    {
     "data": {
      "application/vnd.jupyter.widget-view+json": {
       "model_id": "7646ee3a2e354c38b537a4fa8163470f",
       "version_major": 2,
       "version_minor": 0
      },
      "text/plain": [
       "  0%|          | 0/2029 [00:00<?, ?it/s]"
      ]
     },
     "metadata": {},
     "output_type": "display_data"
    },
    {
     "name": "stdout",
     "output_type": "stream",
     "text": [
      "2.511929526888364e+18 [ 3.0e-01  5.0e-03  6.0e-04  3.0e-01 -4.0e-01  7.0e-01  6.0e-03  1.1e+00]\n"
     ]
    },
    {
     "data": {
      "application/vnd.jupyter.widget-view+json": {
       "model_id": "2cca58e6849244c3beb8819c0bb2a316",
       "version_major": 2,
       "version_minor": 0
      },
      "text/plain": [
       "  0%|          | 0/4733 [00:00<?, ?it/s]"
      ]
     },
     "metadata": {},
     "output_type": "display_data"
    },
    {
     "data": {
      "application/vnd.jupyter.widget-view+json": {
       "model_id": "942358a7d47f4c1faad68035fddd0d0d",
       "version_major": 2,
       "version_minor": 0
      },
      "text/plain": [
       "  0%|          | 0/2029 [00:00<?, ?it/s]"
      ]
     },
     "metadata": {},
     "output_type": "display_data"
    },
    {
     "name": "stdout",
     "output_type": "stream",
     "text": [
      "1.581680635749102e+18 [ 3.0e-01  5.0e-03  7.0e-04  2.0e-01 -3.0e-01  7.0e-01  6.0e-03  1.1e+00]\n"
     ]
    },
    {
     "data": {
      "application/vnd.jupyter.widget-view+json": {
       "model_id": "35f522252ebb44c8aaf8116a37afdc56",
       "version_major": 2,
       "version_minor": 0
      },
      "text/plain": [
       "  0%|          | 0/4733 [00:00<?, ?it/s]"
      ]
     },
     "metadata": {},
     "output_type": "display_data"
    },
    {
     "data": {
      "application/vnd.jupyter.widget-view+json": {
       "model_id": "89718c1f809346b083694e56f2b671e4",
       "version_major": 2,
       "version_minor": 0
      },
      "text/plain": [
       "  0%|          | 0/2029 [00:00<?, ?it/s]"
      ]
     },
     "metadata": {},
     "output_type": "display_data"
    },
    {
     "name": "stdout",
     "output_type": "stream",
     "text": [
      "1.929871078064259e+18 [ 7.0e-01  3.0e-03  7.0e-04  8.0e-01 -3.0e-01  3.0e-01  6.0e-03  1.1e+00]\n"
     ]
    },
    {
     "data": {
      "application/vnd.jupyter.widget-view+json": {
       "model_id": "e343e3bdec90438f9bc3feb6a6afd7bb",
       "version_major": 2,
       "version_minor": 0
      },
      "text/plain": [
       "  0%|          | 0/4733 [00:00<?, ?it/s]"
      ]
     },
     "metadata": {},
     "output_type": "display_data"
    },
    {
     "data": {
      "application/vnd.jupyter.widget-view+json": {
       "model_id": "70b19d21486f46d3a185c152da2691f9",
       "version_major": 2,
       "version_minor": 0
      },
      "text/plain": [
       "  0%|          | 0/2029 [00:00<?, ?it/s]"
      ]
     },
     "metadata": {},
     "output_type": "display_data"
    },
    {
     "name": "stdout",
     "output_type": "stream",
     "text": [
      "2.511929526888364e+18 [ 7.e-01  3.e-03  7.e-04  8.e-01 -3.e-01  7.e-01  6.e-03  1.e+00]\n"
     ]
    },
    {
     "data": {
      "application/vnd.jupyter.widget-view+json": {
       "model_id": "6f74ed3686904e50a1a7d84ef4eef174",
       "version_major": 2,
       "version_minor": 0
      },
      "text/plain": [
       "  0%|          | 0/4733 [00:00<?, ?it/s]"
      ]
     },
     "metadata": {},
     "output_type": "display_data"
    },
    {
     "data": {
      "application/vnd.jupyter.widget-view+json": {
       "model_id": "33e27c5c007e43e3861f1e01a6f71533",
       "version_major": 2,
       "version_minor": 0
      },
      "text/plain": [
       "  0%|          | 0/2029 [00:00<?, ?it/s]"
      ]
     },
     "metadata": {},
     "output_type": "display_data"
    },
    {
     "name": "stdout",
     "output_type": "stream",
     "text": [
      "1e+18 [ 2.00e-01  5.00e-03  7.00e-04  4.00e-01 -9.00e-01  6.00e-01  6.00e-03\n",
      "  1.05e+00]\n"
     ]
    },
    {
     "data": {
      "application/vnd.jupyter.widget-view+json": {
       "model_id": "ce611f55d5a9404abb0d690c9dc03e26",
       "version_major": 2,
       "version_minor": 0
      },
      "text/plain": [
       "  0%|          | 0/4733 [00:00<?, ?it/s]"
      ]
     },
     "metadata": {},
     "output_type": "display_data"
    },
    {
     "data": {
      "application/vnd.jupyter.widget-view+json": {
       "model_id": "5d6e03f12f11432ba16bc11c8af83eff",
       "version_major": 2,
       "version_minor": 0
      },
      "text/plain": [
       "  0%|          | 0/2029 [00:00<?, ?it/s]"
      ]
     },
     "metadata": {},
     "output_type": "display_data"
    },
    {
     "name": "stdout",
     "output_type": "stream",
     "text": [
      "9.297122677495378e+17 [ 2.0e-01  7.0e-03  7.0e-04  4.0e-01 -3.0e-01  5.0e-01  1.0e-03  1.1e+00]\n"
     ]
    },
    {
     "data": {
      "application/vnd.jupyter.widget-view+json": {
       "model_id": "4c4ff93d2e9c40a991169ca0391464fc",
       "version_major": 2,
       "version_minor": 0
      },
      "text/plain": [
       "  0%|          | 0/4733 [00:00<?, ?it/s]"
      ]
     },
     "metadata": {},
     "output_type": "display_data"
    },
    {
     "data": {
      "application/vnd.jupyter.widget-view+json": {
       "model_id": "14332e7adf9f449d983102a7719780cf",
       "version_major": 2,
       "version_minor": 0
      },
      "text/plain": [
       "  0%|          | 0/2029 [00:00<?, ?it/s]"
      ]
     },
     "metadata": {},
     "output_type": "display_data"
    },
    {
     "name": "stdout",
     "output_type": "stream",
     "text": [
      "2.180359663856916e+18 [ 7.0e-01  7.0e-03  7.0e-04  7.0e-01 -3.0e-01  6.0e-01  6.0e-03  1.1e+00]\n"
     ]
    },
    {
     "data": {
      "application/vnd.jupyter.widget-view+json": {
       "model_id": "3f9217d3eb434fe49e05d98f8f5a7046",
       "version_major": 2,
       "version_minor": 0
      },
      "text/plain": [
       "  0%|          | 0/4733 [00:00<?, ?it/s]"
      ]
     },
     "metadata": {},
     "output_type": "display_data"
    },
    {
     "data": {
      "application/vnd.jupyter.widget-view+json": {
       "model_id": "36a029d1eb654209affbf2f778e0e49d",
       "version_major": 2,
       "version_minor": 0
      },
      "text/plain": [
       "  0%|          | 0/2029 [00:00<?, ?it/s]"
      ]
     },
     "metadata": {},
     "output_type": "display_data"
    },
    {
     "name": "stdout",
     "output_type": "stream",
     "text": [
      "1.580901771955228e+18 [ 7.0e-01  7.0e-03  7.0e-04  8.0e-01 -3.0e-01  1.0e-01  6.0e-03  1.1e+00]\n"
     ]
    },
    {
     "data": {
      "application/vnd.jupyter.widget-view+json": {
       "model_id": "52325d4200934503813d0deeaa779365",
       "version_major": 2,
       "version_minor": 0
      },
      "text/plain": [
       "  0%|          | 0/4733 [00:00<?, ?it/s]"
      ]
     },
     "metadata": {},
     "output_type": "display_data"
    },
    {
     "data": {
      "application/vnd.jupyter.widget-view+json": {
       "model_id": "6e1bda54663a4843a364fa1a80fc7a9d",
       "version_major": 2,
       "version_minor": 0
      },
      "text/plain": [
       "  0%|          | 0/2029 [00:00<?, ?it/s]"
      ]
     },
     "metadata": {},
     "output_type": "display_data"
    },
    {
     "name": "stdout",
     "output_type": "stream",
     "text": [
      "1e+18 [ 4.0e-01  5.0e-03  6.0e-04  2.0e-01 -5.0e-01  7.0e-01  6.0e-03  1.1e+00]\n"
     ]
    },
    {
     "data": {
      "application/vnd.jupyter.widget-view+json": {
       "model_id": "7330c85d0248403599e8d458650d9b46",
       "version_major": 2,
       "version_minor": 0
      },
      "text/plain": [
       "  0%|          | 0/4733 [00:00<?, ?it/s]"
      ]
     },
     "metadata": {},
     "output_type": "display_data"
    },
    {
     "data": {
      "application/vnd.jupyter.widget-view+json": {
       "model_id": "424585126ca64da2916b73bf7bf0227f",
       "version_major": 2,
       "version_minor": 0
      },
      "text/plain": [
       "  0%|          | 0/2029 [00:00<?, ?it/s]"
      ]
     },
     "metadata": {},
     "output_type": "display_data"
    },
    {
     "name": "stdout",
     "output_type": "stream",
     "text": [
      "1e+18 [ 7.e-01  3.e-03  6.e-04  3.e-01 -5.e-01  7.e-01  6.e-03  1.e+00]\n"
     ]
    },
    {
     "data": {
      "application/vnd.jupyter.widget-view+json": {
       "model_id": "8ded9a2ba8d7472b9db982fea6ef838a",
       "version_major": 2,
       "version_minor": 0
      },
      "text/plain": [
       "  0%|          | 0/4733 [00:00<?, ?it/s]"
      ]
     },
     "metadata": {},
     "output_type": "display_data"
    },
    {
     "data": {
      "application/vnd.jupyter.widget-view+json": {
       "model_id": "a8d1e9667ce0406fba7d82ea243969b9",
       "version_major": 2,
       "version_minor": 0
      },
      "text/plain": [
       "  0%|          | 0/2029 [00:00<?, ?it/s]"
      ]
     },
     "metadata": {},
     "output_type": "display_data"
    },
    {
     "name": "stdout",
     "output_type": "stream",
     "text": [
      "2.9793217439874007e+18 [ 7.0e-01  7.0e-03  7.0e-04  8.0e-01 -3.0e-01  7.0e-01  6.0e-03  1.1e+00]\n"
     ]
    },
    {
     "data": {
      "application/vnd.jupyter.widget-view+json": {
       "model_id": "55aab359e33a4d82980e50c36a1e364c",
       "version_major": 2,
       "version_minor": 0
      },
      "text/plain": [
       "  0%|          | 0/4733 [00:00<?, ?it/s]"
      ]
     },
     "metadata": {},
     "output_type": "display_data"
    },
    {
     "data": {
      "application/vnd.jupyter.widget-view+json": {
       "model_id": "eebef44fb9304f8bb5dd8af2482860f6",
       "version_major": 2,
       "version_minor": 0
      },
      "text/plain": [
       "  0%|          | 0/2029 [00:00<?, ?it/s]"
      ]
     },
     "metadata": {},
     "output_type": "display_data"
    },
    {
     "name": "stdout",
     "output_type": "stream",
     "text": [
      "2.1620049681134802e+18 [ 7.0e-01  7.0e-03  7.0e-04  2.0e-01 -3.0e-01  4.0e-01  6.0e-03  1.1e+00]\n"
     ]
    },
    {
     "data": {
      "application/vnd.jupyter.widget-view+json": {
       "model_id": "a7b9613090c9412684395e861a351462",
       "version_major": 2,
       "version_minor": 0
      },
      "text/plain": [
       "  0%|          | 0/4733 [00:00<?, ?it/s]"
      ]
     },
     "metadata": {},
     "output_type": "display_data"
    },
    {
     "data": {
      "application/vnd.jupyter.widget-view+json": {
       "model_id": "f683194fd1f8438e878afdebe75ef0f6",
       "version_major": 2,
       "version_minor": 0
      },
      "text/plain": [
       "  0%|          | 0/2029 [00:00<?, ?it/s]"
      ]
     },
     "metadata": {},
     "output_type": "display_data"
    },
    {
     "name": "stdout",
     "output_type": "stream",
     "text": [
      "1.497503257697523e+18 [ 3.0e-01  5.0e-03  6.0e-04  2.0e-01 -3.0e-01  7.0e-01  6.0e-03  1.1e+00]\n"
     ]
    },
    {
     "data": {
      "application/vnd.jupyter.widget-view+json": {
       "model_id": "5d1ace3e1506496c8eca4f98d1f0654b",
       "version_major": 2,
       "version_minor": 0
      },
      "text/plain": [
       "  0%|          | 0/4733 [00:00<?, ?it/s]"
      ]
     },
     "metadata": {},
     "output_type": "display_data"
    },
    {
     "data": {
      "application/vnd.jupyter.widget-view+json": {
       "model_id": "8eedcc005b02400b922192493418539e",
       "version_major": 2,
       "version_minor": 0
      },
      "text/plain": [
       "  0%|          | 0/2029 [00:00<?, ?it/s]"
      ]
     },
     "metadata": {},
     "output_type": "display_data"
    },
    {
     "name": "stdout",
     "output_type": "stream",
     "text": [
      "2.05402578436471e+18 [ 3.0e-01  7.0e-03  6.0e-04  8.0e-01 -4.0e-01  6.0e-01  6.0e-03  1.2e+00]\n"
     ]
    },
    {
     "data": {
      "application/vnd.jupyter.widget-view+json": {
       "model_id": "5005e4befe61485c87ec14741791e39b",
       "version_major": 2,
       "version_minor": 0
      },
      "text/plain": [
       "  0%|          | 0/4733 [00:00<?, ?it/s]"
      ]
     },
     "metadata": {},
     "output_type": "display_data"
    },
    {
     "data": {
      "application/vnd.jupyter.widget-view+json": {
       "model_id": "40c69d36ad714e47a2f2a46abeb47bde",
       "version_major": 2,
       "version_minor": 0
      },
      "text/plain": [
       "  0%|          | 0/2029 [00:00<?, ?it/s]"
      ]
     },
     "metadata": {},
     "output_type": "display_data"
    },
    {
     "name": "stdout",
     "output_type": "stream",
     "text": [
      "2.8892935655104973e+18 [ 7.0e-01  7.0e-03  6.0e-04  8.0e-01 -2.0e-01  6.0e-01  6.0e-03  1.1e+00]\n"
     ]
    },
    {
     "data": {
      "application/vnd.jupyter.widget-view+json": {
       "model_id": "f24d1b6086d242cab71a4d40a50ea41a",
       "version_major": 2,
       "version_minor": 0
      },
      "text/plain": [
       "  0%|          | 0/4733 [00:00<?, ?it/s]"
      ]
     },
     "metadata": {},
     "output_type": "display_data"
    },
    {
     "data": {
      "application/vnd.jupyter.widget-view+json": {
       "model_id": "53807a47ef134a9aaa78179334a0014f",
       "version_major": 2,
       "version_minor": 0
      },
      "text/plain": [
       "  0%|          | 0/2029 [00:00<?, ?it/s]"
      ]
     },
     "metadata": {},
     "output_type": "display_data"
    },
    {
     "name": "stdout",
     "output_type": "stream",
     "text": [
      "3.7720152597013094e+18 [ 7.0e-01  7.0e-03  7.0e-04  8.0e-01 -6.0e-01  7.0e-01  4.0e-03  1.1e+00]\n"
     ]
    },
    {
     "data": {
      "application/vnd.jupyter.widget-view+json": {
       "model_id": "09169238e86a4d3198095496d4aeefcc",
       "version_major": 2,
       "version_minor": 0
      },
      "text/plain": [
       "  0%|          | 0/4733 [00:00<?, ?it/s]"
      ]
     },
     "metadata": {},
     "output_type": "display_data"
    },
    {
     "data": {
      "application/vnd.jupyter.widget-view+json": {
       "model_id": "c30ec859568749d8acdec639c74c0cb1",
       "version_major": 2,
       "version_minor": 0
      },
      "text/plain": [
       "  0%|          | 0/2029 [00:00<?, ?it/s]"
      ]
     },
     "metadata": {},
     "output_type": "display_data"
    },
    {
     "name": "stdout",
     "output_type": "stream",
     "text": [
      "1.58982852797875e+18 [ 7.e-01  9.e-03  9.e-04  8.e-01 -7.e-01  7.e-01  6.e-03  1.e+00]\n"
     ]
    },
    {
     "data": {
      "application/vnd.jupyter.widget-view+json": {
       "model_id": "67bd072440524d508f052eb807a59ce1",
       "version_major": 2,
       "version_minor": 0
      },
      "text/plain": [
       "  0%|          | 0/4733 [00:00<?, ?it/s]"
      ]
     },
     "metadata": {},
     "output_type": "display_data"
    },
    {
     "data": {
      "application/vnd.jupyter.widget-view+json": {
       "model_id": "7be4bffa457945978ca6e105ca910228",
       "version_major": 2,
       "version_minor": 0
      },
      "text/plain": [
       "  0%|          | 0/2029 [00:00<?, ?it/s]"
      ]
     },
     "metadata": {},
     "output_type": "display_data"
    },
    {
     "name": "stdout",
     "output_type": "stream",
     "text": [
      "1e+18 [ 7.e-01  3.e-03  7.e-04  3.e-01 -7.e-01  7.e-01  5.e-03  1.e+00]\n"
     ]
    },
    {
     "data": {
      "application/vnd.jupyter.widget-view+json": {
       "model_id": "f070d29251cf417ab0d9d654e9c8042d",
       "version_major": 2,
       "version_minor": 0
      },
      "text/plain": [
       "  0%|          | 0/4733 [00:00<?, ?it/s]"
      ]
     },
     "metadata": {},
     "output_type": "display_data"
    },
    {
     "data": {
      "application/vnd.jupyter.widget-view+json": {
       "model_id": "87501dceb0db4b62955592cd90ec8860",
       "version_major": 2,
       "version_minor": 0
      },
      "text/plain": [
       "  0%|          | 0/2029 [00:00<?, ?it/s]"
      ]
     },
     "metadata": {},
     "output_type": "display_data"
    },
    {
     "name": "stdout",
     "output_type": "stream",
     "text": [
      "1e+18 [ 7.00e-01  3.00e-03  8.00e-04  1.00e-01 -3.00e-01  1.00e-01  6.00e-03\n",
      "  1.05e+00]\n"
     ]
    },
    {
     "data": {
      "application/vnd.jupyter.widget-view+json": {
       "model_id": "ccea67e30b09407397ace6ffed5bf48c",
       "version_major": 2,
       "version_minor": 0
      },
      "text/plain": [
       "  0%|          | 0/4733 [00:00<?, ?it/s]"
      ]
     },
     "metadata": {},
     "output_type": "display_data"
    },
    {
     "data": {
      "application/vnd.jupyter.widget-view+json": {
       "model_id": "899ea957207640d884146016feafd05d",
       "version_major": 2,
       "version_minor": 0
      },
      "text/plain": [
       "  0%|          | 0/2029 [00:00<?, ?it/s]"
      ]
     },
     "metadata": {},
     "output_type": "display_data"
    },
    {
     "name": "stdout",
     "output_type": "stream",
     "text": [
      "2.9065687486866673e+18 [ 7.00e-01  3.00e-03  8.00e-04  8.00e-01 -3.00e-01  3.00e-01  1.00e-03\n",
      "  1.05e+00]\n"
     ]
    },
    {
     "data": {
      "application/vnd.jupyter.widget-view+json": {
       "model_id": "43c67d890d394c4a83016903eb8b82ac",
       "version_major": 2,
       "version_minor": 0
      },
      "text/plain": [
       "  0%|          | 0/4733 [00:00<?, ?it/s]"
      ]
     },
     "metadata": {},
     "output_type": "display_data"
    },
    {
     "data": {
      "application/vnd.jupyter.widget-view+json": {
       "model_id": "2747f13c86f9437ea86ce7490d33a61f",
       "version_major": 2,
       "version_minor": 0
      },
      "text/plain": [
       "  0%|          | 0/2029 [00:00<?, ?it/s]"
      ]
     },
     "metadata": {},
     "output_type": "display_data"
    },
    {
     "name": "stdout",
     "output_type": "stream",
     "text": [
      "2.22504962273938e+18 [ 7.00e-01  5.00e-03  7.00e-04  8.00e-01 -8.00e-01  7.00e-01  6.00e-03\n",
      "  1.05e+00]\n"
     ]
    },
    {
     "data": {
      "application/vnd.jupyter.widget-view+json": {
       "model_id": "519677721c4844b498cf9dc68240d1c9",
       "version_major": 2,
       "version_minor": 0
      },
      "text/plain": [
       "  0%|          | 0/4733 [00:00<?, ?it/s]"
      ]
     },
     "metadata": {},
     "output_type": "display_data"
    },
    {
     "data": {
      "application/vnd.jupyter.widget-view+json": {
       "model_id": "0ae000e8cc514784a4cce19c508782c7",
       "version_major": 2,
       "version_minor": 0
      },
      "text/plain": [
       "  0%|          | 0/2029 [00:00<?, ?it/s]"
      ]
     },
     "metadata": {},
     "output_type": "display_data"
    },
    {
     "name": "stdout",
     "output_type": "stream",
     "text": [
      "1.960392948311884e+18 [ 5.0e-01  7.0e-03  7.0e-04  8.0e-01 -3.0e-01  6.0e-01  6.0e-03  1.1e+00]\n"
     ]
    },
    {
     "data": {
      "application/vnd.jupyter.widget-view+json": {
       "model_id": "d070c0972573400bb9cab609b61f8531",
       "version_major": 2,
       "version_minor": 0
      },
      "text/plain": [
       "  0%|          | 0/4733 [00:00<?, ?it/s]"
      ]
     },
     "metadata": {},
     "output_type": "display_data"
    },
    {
     "data": {
      "application/vnd.jupyter.widget-view+json": {
       "model_id": "8267ed07e96f4b7fa6ee72fcff18da13",
       "version_major": 2,
       "version_minor": 0
      },
      "text/plain": [
       "  0%|          | 0/2029 [00:00<?, ?it/s]"
      ]
     },
     "metadata": {},
     "output_type": "display_data"
    },
    {
     "name": "stdout",
     "output_type": "stream",
     "text": [
      "1e+18 [ 4.0e-01  7.0e-03  7.0e-04  2.0e-01 -6.0e-01  7.0e-01  6.0e-03  1.1e+00]\n"
     ]
    },
    {
     "data": {
      "application/vnd.jupyter.widget-view+json": {
       "model_id": "650ce732c9c84d98929125c4911fc60d",
       "version_major": 2,
       "version_minor": 0
      },
      "text/plain": [
       "  0%|          | 0/4733 [00:00<?, ?it/s]"
      ]
     },
     "metadata": {},
     "output_type": "display_data"
    },
    {
     "data": {
      "application/vnd.jupyter.widget-view+json": {
       "model_id": "5412db7db513446cbedcee047dd87f7c",
       "version_major": 2,
       "version_minor": 0
      },
      "text/plain": [
       "  0%|          | 0/2029 [00:00<?, ?it/s]"
      ]
     },
     "metadata": {},
     "output_type": "display_data"
    },
    {
     "name": "stdout",
     "output_type": "stream",
     "text": [
      "1e+18 [ 4.0e-01  5.0e-03  6.0e-04  2.0e-01 -5.0e-01  7.0e-01  6.0e-03  1.2e+00]\n"
     ]
    },
    {
     "data": {
      "application/vnd.jupyter.widget-view+json": {
       "model_id": "8fe4a06304ad48e7a79adfa949ac40ed",
       "version_major": 2,
       "version_minor": 0
      },
      "text/plain": [
       "  0%|          | 0/4733 [00:00<?, ?it/s]"
      ]
     },
     "metadata": {},
     "output_type": "display_data"
    },
    {
     "data": {
      "application/vnd.jupyter.widget-view+json": {
       "model_id": "3a7eb4b0548d4847af7826d438d95c30",
       "version_major": 2,
       "version_minor": 0
      },
      "text/plain": [
       "  0%|          | 0/2029 [00:00<?, ?it/s]"
      ]
     },
     "metadata": {},
     "output_type": "display_data"
    },
    {
     "name": "stdout",
     "output_type": "stream",
     "text": [
      "2.1318223928180652e+18 [ 7.0e-01  5.0e-03  5.0e-04  8.0e-01 -3.0e-01  7.0e-01  6.0e-03  1.1e+00]\n"
     ]
    },
    {
     "data": {
      "application/vnd.jupyter.widget-view+json": {
       "model_id": "807f55d76e284c8fb1158f359aefbfd1",
       "version_major": 2,
       "version_minor": 0
      },
      "text/plain": [
       "  0%|          | 0/4733 [00:00<?, ?it/s]"
      ]
     },
     "metadata": {},
     "output_type": "display_data"
    },
    {
     "data": {
      "application/vnd.jupyter.widget-view+json": {
       "model_id": "0b0fcbf05c6f4f08a5ebc31e5296c736",
       "version_major": 2,
       "version_minor": 0
      },
      "text/plain": [
       "  0%|          | 0/2029 [00:00<?, ?it/s]"
      ]
     },
     "metadata": {},
     "output_type": "display_data"
    },
    {
     "name": "stdout",
     "output_type": "stream",
     "text": [
      "1.575081494710455e+18 [ 7.00e-01  7.00e-03  7.00e-04  8.00e-01 -3.00e-01  6.00e-01  6.00e-03\n",
      "  1.05e+00]\n"
     ]
    },
    {
     "data": {
      "application/vnd.jupyter.widget-view+json": {
       "model_id": "0da6bc4ded56485582ef2d5ada346ab2",
       "version_major": 2,
       "version_minor": 0
      },
      "text/plain": [
       "  0%|          | 0/4733 [00:00<?, ?it/s]"
      ]
     },
     "metadata": {},
     "output_type": "display_data"
    },
    {
     "data": {
      "application/vnd.jupyter.widget-view+json": {
       "model_id": "d866ce5c18b74081b4af3d734a2693e8",
       "version_major": 2,
       "version_minor": 0
      },
      "text/plain": [
       "  0%|          | 0/2029 [00:00<?, ?it/s]"
      ]
     },
     "metadata": {},
     "output_type": "display_data"
    },
    {
     "name": "stdout",
     "output_type": "stream",
     "text": [
      "2.106385219805032e+18 [ 7.0e-01  5.0e-03  7.0e-04  8.0e-01 -3.0e-01  7.0e-01  6.0e-03  1.1e+00]\n"
     ]
    },
    {
     "data": {
      "application/vnd.jupyter.widget-view+json": {
       "model_id": "23eb4be4d23540859911dffeb2667585",
       "version_major": 2,
       "version_minor": 0
      },
      "text/plain": [
       "  0%|          | 0/4733 [00:00<?, ?it/s]"
      ]
     },
     "metadata": {},
     "output_type": "display_data"
    },
    {
     "data": {
      "application/vnd.jupyter.widget-view+json": {
       "model_id": "9802f5afa5384f719beb51ceffe5c5f3",
       "version_major": 2,
       "version_minor": 0
      },
      "text/plain": [
       "  0%|          | 0/2029 [00:00<?, ?it/s]"
      ]
     },
     "metadata": {},
     "output_type": "display_data"
    },
    {
     "name": "stdout",
     "output_type": "stream",
     "text": [
      "2.131832114574307e+18 [ 4.0e-01  7.0e-03  7.0e-04  3.0e-01 -3.0e-01  7.0e-01  6.0e-03  1.1e+00]\n"
     ]
    },
    {
     "data": {
      "application/vnd.jupyter.widget-view+json": {
       "model_id": "e745a0711592411a96c5a75af0b25fcb",
       "version_major": 2,
       "version_minor": 0
      },
      "text/plain": [
       "  0%|          | 0/4733 [00:00<?, ?it/s]"
      ]
     },
     "metadata": {},
     "output_type": "display_data"
    },
    {
     "data": {
      "application/vnd.jupyter.widget-view+json": {
       "model_id": "9ffad17a2a7b4762bd91cfa322481374",
       "version_major": 2,
       "version_minor": 0
      },
      "text/plain": [
       "  0%|          | 0/2029 [00:00<?, ?it/s]"
      ]
     },
     "metadata": {},
     "output_type": "display_data"
    },
    {
     "name": "stdout",
     "output_type": "stream",
     "text": [
      "2.317026627266065e+18 [ 1.0e-01  5.0e-03  6.0e-04  3.0e-01 -4.0e-01  7.0e-01  6.0e-03  1.1e+00]\n"
     ]
    },
    {
     "data": {
      "application/vnd.jupyter.widget-view+json": {
       "model_id": "14a52fd14e98475299e40ff0a62af194",
       "version_major": 2,
       "version_minor": 0
      },
      "text/plain": [
       "  0%|          | 0/4733 [00:00<?, ?it/s]"
      ]
     },
     "metadata": {},
     "output_type": "display_data"
    },
    {
     "data": {
      "application/vnd.jupyter.widget-view+json": {
       "model_id": "0c7ceb480ede47ef8e8683b3023fc4c0",
       "version_major": 2,
       "version_minor": 0
      },
      "text/plain": [
       "  0%|          | 0/2029 [00:00<?, ?it/s]"
      ]
     },
     "metadata": {},
     "output_type": "display_data"
    },
    {
     "name": "stdout",
     "output_type": "stream",
     "text": [
      "1e+18 [ 7.0e-01  7.0e-03  7.0e-04  8.0e-01 -9.0e-01  6.0e-01  6.0e-03  1.1e+00]\n"
     ]
    },
    {
     "data": {
      "application/vnd.jupyter.widget-view+json": {
       "model_id": "dd380a2b99f443e49928e626106e1b36",
       "version_major": 2,
       "version_minor": 0
      },
      "text/plain": [
       "  0%|          | 0/4733 [00:00<?, ?it/s]"
      ]
     },
     "metadata": {},
     "output_type": "display_data"
    },
    {
     "data": {
      "application/vnd.jupyter.widget-view+json": {
       "model_id": "41671323516c47f8a37a7a2e190dc556",
       "version_major": 2,
       "version_minor": 0
      },
      "text/plain": [
       "  0%|          | 0/2029 [00:00<?, ?it/s]"
      ]
     },
     "metadata": {},
     "output_type": "display_data"
    },
    {
     "name": "stdout",
     "output_type": "stream",
     "text": [
      "1e+18 [ 7.0e-01  1.0e-03  7.0e-04  8.0e-01 -2.0e-01  7.0e-01  6.0e-03  1.1e+00]\n"
     ]
    },
    {
     "data": {
      "application/vnd.jupyter.widget-view+json": {
       "model_id": "bafeafb64991476eb03339f569b8587e",
       "version_major": 2,
       "version_minor": 0
      },
      "text/plain": [
       "  0%|          | 0/4733 [00:00<?, ?it/s]"
      ]
     },
     "metadata": {},
     "output_type": "display_data"
    },
    {
     "data": {
      "application/vnd.jupyter.widget-view+json": {
       "model_id": "38afcc6011b64a048dbd1be62a37f6e6",
       "version_major": 2,
       "version_minor": 0
      },
      "text/plain": [
       "  0%|          | 0/2029 [00:00<?, ?it/s]"
      ]
     },
     "metadata": {},
     "output_type": "display_data"
    },
    {
     "name": "stdout",
     "output_type": "stream",
     "text": [
      "1e+18 [ 7.e-01  9.e-03  7.e-04  1.e-01 -3.e-01  7.e-01  6.e-03  1.e+00]\n"
     ]
    },
    {
     "data": {
      "application/vnd.jupyter.widget-view+json": {
       "model_id": "ab7a7f52b8664ced9aee1bab61f41bc6",
       "version_major": 2,
       "version_minor": 0
      },
      "text/plain": [
       "  0%|          | 0/4733 [00:00<?, ?it/s]"
      ]
     },
     "metadata": {},
     "output_type": "display_data"
    },
    {
     "data": {
      "application/vnd.jupyter.widget-view+json": {
       "model_id": "4586dc3f5e6d48888952e822b5d1981e",
       "version_major": 2,
       "version_minor": 0
      },
      "text/plain": [
       "  0%|          | 0/2029 [00:00<?, ?it/s]"
      ]
     },
     "metadata": {},
     "output_type": "display_data"
    },
    {
     "name": "stdout",
     "output_type": "stream",
     "text": [
      "1.736169942715088e+18 [ 7.0e-01  9.0e-03  7.0e-04  3.0e-01 -3.0e-01  7.0e-01  1.0e-03  1.2e+00]\n"
     ]
    },
    {
     "data": {
      "application/vnd.jupyter.widget-view+json": {
       "model_id": "238ba47536164039b8d19d39417ba309",
       "version_major": 2,
       "version_minor": 0
      },
      "text/plain": [
       "  0%|          | 0/4733 [00:00<?, ?it/s]"
      ]
     },
     "metadata": {},
     "output_type": "display_data"
    },
    {
     "data": {
      "application/vnd.jupyter.widget-view+json": {
       "model_id": "46e3084386c14cee9729385dad6dfbb1",
       "version_major": 2,
       "version_minor": 0
      },
      "text/plain": [
       "  0%|          | 0/2029 [00:00<?, ?it/s]"
      ]
     },
     "metadata": {},
     "output_type": "display_data"
    },
    {
     "name": "stdout",
     "output_type": "stream",
     "text": [
      "1e+18 [ 7.00e-01  5.00e-03  7.00e-04  6.00e-01 -8.00e-01  7.00e-01  6.00e-03\n",
      "  1.05e+00]\n"
     ]
    },
    {
     "data": {
      "application/vnd.jupyter.widget-view+json": {
       "model_id": "b2716485edaf4c22a8b6602654f26de4",
       "version_major": 2,
       "version_minor": 0
      },
      "text/plain": [
       "  0%|          | 0/4733 [00:00<?, ?it/s]"
      ]
     },
     "metadata": {},
     "output_type": "display_data"
    },
    {
     "data": {
      "application/vnd.jupyter.widget-view+json": {
       "model_id": "18843a13005944dab23b6288a551d18b",
       "version_major": 2,
       "version_minor": 0
      },
      "text/plain": [
       "  0%|          | 0/2029 [00:00<?, ?it/s]"
      ]
     },
     "metadata": {},
     "output_type": "display_data"
    },
    {
     "name": "stdout",
     "output_type": "stream",
     "text": [
      "1.633600653592729e+18 [ 7.0e-01  7.0e-03  7.0e-04  5.0e-01 -2.0e-01  6.0e-01  6.0e-03  1.1e+00]\n"
     ]
    },
    {
     "data": {
      "application/vnd.jupyter.widget-view+json": {
       "model_id": "a5226c6e5b7a40ed80e6e43d013fcf3d",
       "version_major": 2,
       "version_minor": 0
      },
      "text/plain": [
       "  0%|          | 0/4733 [00:00<?, ?it/s]"
      ]
     },
     "metadata": {},
     "output_type": "display_data"
    },
    {
     "data": {
      "application/vnd.jupyter.widget-view+json": {
       "model_id": "6a6d9c761fae405cb8395f9bf4918456",
       "version_major": 2,
       "version_minor": 0
      },
      "text/plain": [
       "  0%|          | 0/2029 [00:00<?, ?it/s]"
      ]
     },
     "metadata": {},
     "output_type": "display_data"
    },
    {
     "name": "stdout",
     "output_type": "stream",
     "text": [
      "1e+18 [ 4.0e-01  7.0e-03  7.0e-04  3.0e-01 -6.0e-01  7.0e-01  6.0e-03  1.1e+00]\n"
     ]
    },
    {
     "data": {
      "application/vnd.jupyter.widget-view+json": {
       "model_id": "fcc686a5ae8f41d6aa4f7db3dc152a22",
       "version_major": 2,
       "version_minor": 0
      },
      "text/plain": [
       "  0%|          | 0/4733 [00:00<?, ?it/s]"
      ]
     },
     "metadata": {},
     "output_type": "display_data"
    },
    {
     "data": {
      "application/vnd.jupyter.widget-view+json": {
       "model_id": "4d6f511c641b4232bff955438f67e610",
       "version_major": 2,
       "version_minor": 0
      },
      "text/plain": [
       "  0%|          | 0/2029 [00:00<?, ?it/s]"
      ]
     },
     "metadata": {},
     "output_type": "display_data"
    },
    {
     "name": "stdout",
     "output_type": "stream",
     "text": [
      "2.351007525671125e+18 [ 7.0e-01  7.0e-03  7.0e-04  7.0e-01 -7.0e-01  7.0e-01  6.0e-03  1.1e+00]\n"
     ]
    },
    {
     "data": {
      "application/vnd.jupyter.widget-view+json": {
       "model_id": "d7cd333395224c6294dc10d16618c0fb",
       "version_major": 2,
       "version_minor": 0
      },
      "text/plain": [
       "  0%|          | 0/4733 [00:00<?, ?it/s]"
      ]
     },
     "metadata": {},
     "output_type": "display_data"
    },
    {
     "data": {
      "application/vnd.jupyter.widget-view+json": {
       "model_id": "b930eb3ff6bd408c96a2fe98219f385b",
       "version_major": 2,
       "version_minor": 0
      },
      "text/plain": [
       "  0%|          | 0/2029 [00:00<?, ?it/s]"
      ]
     },
     "metadata": {},
     "output_type": "display_data"
    },
    {
     "name": "stdout",
     "output_type": "stream",
     "text": [
      "1.0060786231478797e+18 [ 7.0e-01  5.0e-03  7.0e-04  7.0e-01 -3.0e-01  3.0e-01  1.0e-03  1.1e+00]\n"
     ]
    },
    {
     "data": {
      "application/vnd.jupyter.widget-view+json": {
       "model_id": "b7dd14f326404ebda846b0ca605f1fd3",
       "version_major": 2,
       "version_minor": 0
      },
      "text/plain": [
       "  0%|          | 0/4733 [00:00<?, ?it/s]"
      ]
     },
     "metadata": {},
     "output_type": "display_data"
    },
    {
     "data": {
      "application/vnd.jupyter.widget-view+json": {
       "model_id": "f8419a79b6a240c391a38d0fcabae1b5",
       "version_major": 2,
       "version_minor": 0
      },
      "text/plain": [
       "  0%|          | 0/2029 [00:00<?, ?it/s]"
      ]
     },
     "metadata": {},
     "output_type": "display_data"
    },
    {
     "name": "stdout",
     "output_type": "stream",
     "text": [
      "1.9936695210306068e+18 [ 7.0e-01  7.0e-03  6.0e-04  8.0e-01 -2.0e-01  3.0e-01  6.0e-03  1.2e+00]\n"
     ]
    },
    {
     "data": {
      "application/vnd.jupyter.widget-view+json": {
       "model_id": "9b4969f7a68a4efca1e23a0f0eec737d",
       "version_major": 2,
       "version_minor": 0
      },
      "text/plain": [
       "  0%|          | 0/4733 [00:00<?, ?it/s]"
      ]
     },
     "metadata": {},
     "output_type": "display_data"
    },
    {
     "data": {
      "application/vnd.jupyter.widget-view+json": {
       "model_id": "929ebbfeb7764f3881bfaa6d58fda8b6",
       "version_major": 2,
       "version_minor": 0
      },
      "text/plain": [
       "  0%|          | 0/2029 [00:00<?, ?it/s]"
      ]
     },
     "metadata": {},
     "output_type": "display_data"
    },
    {
     "name": "stdout",
     "output_type": "stream",
     "text": [
      "2.22047721737131e+18 [ 7.00e-01  5.00e-03  5.00e-04  8.00e-01 -2.00e-01  7.00e-01  6.00e-03\n",
      "  1.15e+00]\n"
     ]
    },
    {
     "data": {
      "application/vnd.jupyter.widget-view+json": {
       "model_id": "1c417c3082e54ae0a9835f54636289dc",
       "version_major": 2,
       "version_minor": 0
      },
      "text/plain": [
       "  0%|          | 0/4733 [00:00<?, ?it/s]"
      ]
     },
     "metadata": {},
     "output_type": "display_data"
    },
    {
     "data": {
      "application/vnd.jupyter.widget-view+json": {
       "model_id": "714670e1eb7748cdb8fb611c92794ee2",
       "version_major": 2,
       "version_minor": 0
      },
      "text/plain": [
       "  0%|          | 0/2029 [00:00<?, ?it/s]"
      ]
     },
     "metadata": {},
     "output_type": "display_data"
    },
    {
     "name": "stdout",
     "output_type": "stream",
     "text": [
      "1.5573219480974797e+18 [ 5.00e-01  3.00e-03  5.00e-04  8.00e-01 -3.00e-01  7.00e-01  1.00e-03\n",
      "  1.05e+00]\n"
     ]
    },
    {
     "data": {
      "application/vnd.jupyter.widget-view+json": {
       "model_id": "b0b8516ff9574a2c8aaf203d9c12bbe7",
       "version_major": 2,
       "version_minor": 0
      },
      "text/plain": [
       "  0%|          | 0/4733 [00:00<?, ?it/s]"
      ]
     },
     "metadata": {},
     "output_type": "display_data"
    },
    {
     "data": {
      "application/vnd.jupyter.widget-view+json": {
       "model_id": "64cd58e1c3fc4ca1b435767ed054936d",
       "version_major": 2,
       "version_minor": 0
      },
      "text/plain": [
       "  0%|          | 0/2029 [00:00<?, ?it/s]"
      ]
     },
     "metadata": {},
     "output_type": "display_data"
    },
    {
     "name": "stdout",
     "output_type": "stream",
     "text": [
      "1.3392512278162296e+18 [ 7.e-01  3.e-03  8.e-04  8.e-01 -5.e-01  3.e-01  6.e-03  1.e+00]\n"
     ]
    },
    {
     "data": {
      "application/vnd.jupyter.widget-view+json": {
       "model_id": "4d0c608d872149b58b44d06b3d96965e",
       "version_major": 2,
       "version_minor": 0
      },
      "text/plain": [
       "  0%|          | 0/4733 [00:00<?, ?it/s]"
      ]
     },
     "metadata": {},
     "output_type": "display_data"
    },
    {
     "data": {
      "application/vnd.jupyter.widget-view+json": {
       "model_id": "267242e8483c4b95a814d0b7a73e8f32",
       "version_major": 2,
       "version_minor": 0
      },
      "text/plain": [
       "  0%|          | 0/2029 [00:00<?, ?it/s]"
      ]
     },
     "metadata": {},
     "output_type": "display_data"
    },
    {
     "name": "stdout",
     "output_type": "stream",
     "text": [
      "1.5013983162406702e+18 [ 7.e-01  7.e-03  9.e-04  8.e-01 -7.e-01  4.e-01  7.e-03  1.e+00]\n"
     ]
    },
    {
     "data": {
      "application/vnd.jupyter.widget-view+json": {
       "model_id": "171c21202a21467597a9a57948de7a6f",
       "version_major": 2,
       "version_minor": 0
      },
      "text/plain": [
       "  0%|          | 0/4733 [00:00<?, ?it/s]"
      ]
     },
     "metadata": {},
     "output_type": "display_data"
    },
    {
     "data": {
      "application/vnd.jupyter.widget-view+json": {
       "model_id": "db036e29262143b0a8e3410ff573a172",
       "version_major": 2,
       "version_minor": 0
      },
      "text/plain": [
       "  0%|          | 0/2029 [00:00<?, ?it/s]"
      ]
     },
     "metadata": {},
     "output_type": "display_data"
    },
    {
     "name": "stdout",
     "output_type": "stream",
     "text": [
      "2.317026627266065e+18 [ 3.0e-01  7.0e-03  7.0e-04  2.0e-01 -3.0e-01  4.0e-01  6.0e-03  1.1e+00]\n"
     ]
    },
    {
     "data": {
      "application/vnd.jupyter.widget-view+json": {
       "model_id": "60c5fd0111984d6eb80fc190748f6deb",
       "version_major": 2,
       "version_minor": 0
      },
      "text/plain": [
       "  0%|          | 0/4733 [00:00<?, ?it/s]"
      ]
     },
     "metadata": {},
     "output_type": "display_data"
    },
    {
     "data": {
      "application/vnd.jupyter.widget-view+json": {
       "model_id": "6b25f7c0fe7c4eb9a6e7f59b2a7d498c",
       "version_major": 2,
       "version_minor": 0
      },
      "text/plain": [
       "  0%|          | 0/2029 [00:00<?, ?it/s]"
      ]
     },
     "metadata": {},
     "output_type": "display_data"
    },
    {
     "name": "stdout",
     "output_type": "stream",
     "text": [
      "2.450443743497115e+18 [ 7.0e-01  5.0e-03  7.0e-04  8.0e-01 -3.0e-01  7.0e-01  2.0e-03  1.1e+00]\n"
     ]
    },
    {
     "data": {
      "application/vnd.jupyter.widget-view+json": {
       "model_id": "7f9dd484373c467898fe11dd59912c74",
       "version_major": 2,
       "version_minor": 0
      },
      "text/plain": [
       "  0%|          | 0/4733 [00:00<?, ?it/s]"
      ]
     },
     "metadata": {},
     "output_type": "display_data"
    },
    {
     "data": {
      "application/vnd.jupyter.widget-view+json": {
       "model_id": "34ea7155d64846b6ad5594a7f1d4bf0f",
       "version_major": 2,
       "version_minor": 0
      },
      "text/plain": [
       "  0%|          | 0/2029 [00:00<?, ?it/s]"
      ]
     },
     "metadata": {},
     "output_type": "display_data"
    },
    {
     "name": "stdout",
     "output_type": "stream",
     "text": [
      "1.008077985109738e+18 [ 4.0e-01  7.0e-03  7.0e-04  8.0e-01 -3.0e-01  3.0e-01  6.0e-03  1.1e+00]\n"
     ]
    },
    {
     "data": {
      "application/vnd.jupyter.widget-view+json": {
       "model_id": "12d055f36b494b08a32aae6f22778dcd",
       "version_major": 2,
       "version_minor": 0
      },
      "text/plain": [
       "  0%|          | 0/4733 [00:00<?, ?it/s]"
      ]
     },
     "metadata": {},
     "output_type": "display_data"
    },
    {
     "data": {
      "application/vnd.jupyter.widget-view+json": {
       "model_id": "cbcac49baa0d4346a1ed6591c26aebc6",
       "version_major": 2,
       "version_minor": 0
      },
      "text/plain": [
       "  0%|          | 0/2029 [00:00<?, ?it/s]"
      ]
     },
     "metadata": {},
     "output_type": "display_data"
    },
    {
     "name": "stdout",
     "output_type": "stream",
     "text": [
      "1.355669485853437e+18 [ 4.0e-01  7.0e-03  7.0e-04  3.0e-01 -3.0e-01  4.0e-01  6.0e-03  1.1e+00]\n"
     ]
    },
    {
     "data": {
      "application/vnd.jupyter.widget-view+json": {
       "model_id": "97a2e6e4d0e44374958e00998cdd30d3",
       "version_major": 2,
       "version_minor": 0
      },
      "text/plain": [
       "  0%|          | 0/4733 [00:00<?, ?it/s]"
      ]
     },
     "metadata": {},
     "output_type": "display_data"
    },
    {
     "data": {
      "application/vnd.jupyter.widget-view+json": {
       "model_id": "9d043540fc3542138a268fc312265ed6",
       "version_major": 2,
       "version_minor": 0
      },
      "text/plain": [
       "  0%|          | 0/2029 [00:00<?, ?it/s]"
      ]
     },
     "metadata": {},
     "output_type": "display_data"
    },
    {
     "name": "stdout",
     "output_type": "stream",
     "text": [
      "1e+18 [ 7.00e-01  5.00e-03  7.00e-04  3.00e-01 -4.00e-01  7.00e-01  6.00e-03\n",
      "  1.05e+00]\n"
     ]
    },
    {
     "data": {
      "application/vnd.jupyter.widget-view+json": {
       "model_id": "d6553877c4b7404b8eb7ab17168f2a06",
       "version_major": 2,
       "version_minor": 0
      },
      "text/plain": [
       "  0%|          | 0/4733 [00:00<?, ?it/s]"
      ]
     },
     "metadata": {},
     "output_type": "display_data"
    },
    {
     "data": {
      "application/vnd.jupyter.widget-view+json": {
       "model_id": "5a4233dc341148e09113b74611e699ec",
       "version_major": 2,
       "version_minor": 0
      },
      "text/plain": [
       "  0%|          | 0/2029 [00:00<?, ?it/s]"
      ]
     },
     "metadata": {},
     "output_type": "display_data"
    },
    {
     "name": "stdout",
     "output_type": "stream",
     "text": [
      "1e+18 [ 7.0e-01  5.0e-03  7.0e-04  8.0e-01 -8.0e-01  6.0e-01  6.0e-03  1.2e+00]\n"
     ]
    },
    {
     "data": {
      "application/vnd.jupyter.widget-view+json": {
       "model_id": "9a8b2cdc9f774872928a0cb8116f128f",
       "version_major": 2,
       "version_minor": 0
      },
      "text/plain": [
       "  0%|          | 0/4733 [00:00<?, ?it/s]"
      ]
     },
     "metadata": {},
     "output_type": "display_data"
    },
    {
     "data": {
      "application/vnd.jupyter.widget-view+json": {
       "model_id": "f0c20ca6e2d1404683f8b37338407972",
       "version_major": 2,
       "version_minor": 0
      },
      "text/plain": [
       "  0%|          | 0/2029 [00:00<?, ?it/s]"
      ]
     },
     "metadata": {},
     "output_type": "display_data"
    },
    {
     "name": "stdout",
     "output_type": "stream",
     "text": [
      "2.50780571968048e+18 [ 7.0e-01  3.0e-03  6.0e-04  7.0e-01 -3.0e-01  6.0e-01  6.0e-03  1.1e+00]\n"
     ]
    },
    {
     "data": {
      "application/vnd.jupyter.widget-view+json": {
       "model_id": "9c75fbdcfd1e402b97b3d35ef2a69b24",
       "version_major": 2,
       "version_minor": 0
      },
      "text/plain": [
       "  0%|          | 0/4733 [00:00<?, ?it/s]"
      ]
     },
     "metadata": {},
     "output_type": "display_data"
    },
    {
     "data": {
      "application/vnd.jupyter.widget-view+json": {
       "model_id": "e4b8eb9b7acc4c019aec2f5eb815e55c",
       "version_major": 2,
       "version_minor": 0
      },
      "text/plain": [
       "  0%|          | 0/2029 [00:00<?, ?it/s]"
      ]
     },
     "metadata": {},
     "output_type": "display_data"
    },
    {
     "name": "stdout",
     "output_type": "stream",
     "text": [
      "1.7098015220570266e+18 [ 7.0e-01  7.0e-03  7.0e-04  6.0e-01 -3.0e-01  7.0e-01  6.0e-03  1.1e+00]\n"
     ]
    },
    {
     "data": {
      "application/vnd.jupyter.widget-view+json": {
       "model_id": "023dccf061964e97bb4bd997fb264d12",
       "version_major": 2,
       "version_minor": 0
      },
      "text/plain": [
       "  0%|          | 0/4733 [00:00<?, ?it/s]"
      ]
     },
     "metadata": {},
     "output_type": "display_data"
    },
    {
     "data": {
      "application/vnd.jupyter.widget-view+json": {
       "model_id": "60e8678aab6d4f49b71f07d0860c218a",
       "version_major": 2,
       "version_minor": 0
      },
      "text/plain": [
       "  0%|          | 0/2029 [00:00<?, ?it/s]"
      ]
     },
     "metadata": {},
     "output_type": "display_data"
    },
    {
     "name": "stdout",
     "output_type": "stream",
     "text": [
      "2.457801739245244e+18 [ 4.0e-01  3.0e-03  7.0e-04  3.0e-01 -3.0e-01  7.0e-01  6.0e-03  1.1e+00]\n"
     ]
    },
    {
     "data": {
      "application/vnd.jupyter.widget-view+json": {
       "model_id": "c9d19cfd31834d74801121c0cfffaf7f",
       "version_major": 2,
       "version_minor": 0
      },
      "text/plain": [
       "  0%|          | 0/4733 [00:00<?, ?it/s]"
      ]
     },
     "metadata": {},
     "output_type": "display_data"
    },
    {
     "data": {
      "application/vnd.jupyter.widget-view+json": {
       "model_id": "a6be56eed9b749ce8b444fa0aa2b7ab8",
       "version_major": 2,
       "version_minor": 0
      },
      "text/plain": [
       "  0%|          | 0/2029 [00:00<?, ?it/s]"
      ]
     },
     "metadata": {},
     "output_type": "display_data"
    },
    {
     "name": "stdout",
     "output_type": "stream",
     "text": [
      "2.365457657330945e+18 [ 7.00e-01  3.00e-03  8.00e-04  7.00e-01 -3.00e-01  7.00e-01  1.00e-03\n",
      "  1.05e+00]\n"
     ]
    },
    {
     "data": {
      "application/vnd.jupyter.widget-view+json": {
       "model_id": "3244b4f81c664eb3ae0c1e073eb68852",
       "version_major": 2,
       "version_minor": 0
      },
      "text/plain": [
       "  0%|          | 0/4733 [00:00<?, ?it/s]"
      ]
     },
     "metadata": {},
     "output_type": "display_data"
    },
    {
     "data": {
      "application/vnd.jupyter.widget-view+json": {
       "model_id": "b4989f806a9c4650bd61990d056dc8c4",
       "version_major": 2,
       "version_minor": 0
      },
      "text/plain": [
       "  0%|          | 0/2029 [00:00<?, ?it/s]"
      ]
     },
     "metadata": {},
     "output_type": "display_data"
    },
    {
     "name": "stdout",
     "output_type": "stream",
     "text": [
      "2.1863219682586493e+18 [ 7.00e-01  5.00e-03  8.00e-04  8.00e-01 -2.00e-01  3.00e-01  1.00e-03\n",
      "  1.05e+00]\n"
     ]
    },
    {
     "data": {
      "application/vnd.jupyter.widget-view+json": {
       "model_id": "fbfdf94ab50a42caa6163a74c0e3f19e",
       "version_major": 2,
       "version_minor": 0
      },
      "text/plain": [
       "  0%|          | 0/4733 [00:00<?, ?it/s]"
      ]
     },
     "metadata": {},
     "output_type": "display_data"
    },
    {
     "data": {
      "application/vnd.jupyter.widget-view+json": {
       "model_id": "a4c074730ee24518940aac8c3ca6644c",
       "version_major": 2,
       "version_minor": 0
      },
      "text/plain": [
       "  0%|          | 0/2029 [00:00<?, ?it/s]"
      ]
     },
     "metadata": {},
     "output_type": "display_data"
    },
    {
     "name": "stdout",
     "output_type": "stream",
     "text": [
      "1.906372112602052e+18 [ 7.0e-01  5.0e-03  6.0e-04  8.0e-01 -5.0e-01  6.0e-01  6.0e-03  1.1e+00]\n"
     ]
    },
    {
     "data": {
      "application/vnd.jupyter.widget-view+json": {
       "model_id": "112564f5f542495182d4001511afd811",
       "version_major": 2,
       "version_minor": 0
      },
      "text/plain": [
       "  0%|          | 0/4733 [00:00<?, ?it/s]"
      ]
     },
     "metadata": {},
     "output_type": "display_data"
    },
    {
     "data": {
      "application/vnd.jupyter.widget-view+json": {
       "model_id": "3da7481356244034af72067e706257cd",
       "version_major": 2,
       "version_minor": 0
      },
      "text/plain": [
       "  0%|          | 0/2029 [00:00<?, ?it/s]"
      ]
     },
     "metadata": {},
     "output_type": "display_data"
    },
    {
     "name": "stdout",
     "output_type": "stream",
     "text": [
      "1.5366614069210988e+18 [ 2.00e-01  3.00e-03  8.00e-04  8.00e-01 -3.00e-01  7.00e-01  1.00e-03\n",
      "  1.05e+00]\n"
     ]
    },
    {
     "data": {
      "application/vnd.jupyter.widget-view+json": {
       "model_id": "3255730f730847278a85a0ec052f73f9",
       "version_major": 2,
       "version_minor": 0
      },
      "text/plain": [
       "  0%|          | 0/4733 [00:00<?, ?it/s]"
      ]
     },
     "metadata": {},
     "output_type": "display_data"
    },
    {
     "data": {
      "application/vnd.jupyter.widget-view+json": {
       "model_id": "fdef371514b047ae8c174dbe68ef1eac",
       "version_major": 2,
       "version_minor": 0
      },
      "text/plain": [
       "  0%|          | 0/2029 [00:00<?, ?it/s]"
      ]
     },
     "metadata": {},
     "output_type": "display_data"
    },
    {
     "name": "stdout",
     "output_type": "stream",
     "text": [
      "1.4036455895542162e+18 [ 7.0e-01  3.0e-03  8.0e-04  8.0e-01 -3.0e-01  3.0e-01  1.0e-03  1.1e+00]\n"
     ]
    },
    {
     "data": {
      "application/vnd.jupyter.widget-view+json": {
       "model_id": "3937959a41cc49899674f3fdc617464a",
       "version_major": 2,
       "version_minor": 0
      },
      "text/plain": [
       "  0%|          | 0/4733 [00:00<?, ?it/s]"
      ]
     },
     "metadata": {},
     "output_type": "display_data"
    },
    {
     "data": {
      "application/vnd.jupyter.widget-view+json": {
       "model_id": "22ebefe1deaa431a9743b8f2ebc60db8",
       "version_major": 2,
       "version_minor": 0
      },
      "text/plain": [
       "  0%|          | 0/2029 [00:00<?, ?it/s]"
      ]
     },
     "metadata": {},
     "output_type": "display_data"
    },
    {
     "name": "stdout",
     "output_type": "stream",
     "text": [
      "1e+18 [ 7.e-01  9.e-03  9.e-04  2.e-01 -7.e-01  7.e-01  2.e-03  1.e+00]\n"
     ]
    },
    {
     "data": {
      "application/vnd.jupyter.widget-view+json": {
       "model_id": "684a3f0c2e2f47c5ba9a42c0e7629970",
       "version_major": 2,
       "version_minor": 0
      },
      "text/plain": [
       "  0%|          | 0/4733 [00:00<?, ?it/s]"
      ]
     },
     "metadata": {},
     "output_type": "display_data"
    },
    {
     "data": {
      "application/vnd.jupyter.widget-view+json": {
       "model_id": "ca4379a5553f4f1698e29616c330b7a9",
       "version_major": 2,
       "version_minor": 0
      },
      "text/plain": [
       "  0%|          | 0/2029 [00:00<?, ?it/s]"
      ]
     },
     "metadata": {},
     "output_type": "display_data"
    },
    {
     "name": "stdout",
     "output_type": "stream",
     "text": [
      "2.501697303556785e+18 [ 7.0e-01  5.0e-03  5.0e-04  2.0e-01 -3.0e-01  4.0e-01  6.0e-03  1.1e+00]\n"
     ]
    },
    {
     "data": {
      "application/vnd.jupyter.widget-view+json": {
       "model_id": "2980b60fea2742cc8d35b4f8d976bf7d",
       "version_major": 2,
       "version_minor": 0
      },
      "text/plain": [
       "  0%|          | 0/4733 [00:00<?, ?it/s]"
      ]
     },
     "metadata": {},
     "output_type": "display_data"
    },
    {
     "data": {
      "application/vnd.jupyter.widget-view+json": {
       "model_id": "3f25fb7afecd47dd9cddf0d17ae15e0f",
       "version_major": 2,
       "version_minor": 0
      },
      "text/plain": [
       "  0%|          | 0/2029 [00:00<?, ?it/s]"
      ]
     },
     "metadata": {},
     "output_type": "display_data"
    },
    {
     "name": "stdout",
     "output_type": "stream",
     "text": [
      "2.38807489692664e+18 [ 7.0e-01  5.0e-03  7.0e-04  3.0e-01 -3.0e-01  6.0e-01  6.0e-03  1.1e+00]\n"
     ]
    },
    {
     "data": {
      "application/vnd.jupyter.widget-view+json": {
       "model_id": "3e891def4146440282b19ceb67abb929",
       "version_major": 2,
       "version_minor": 0
      },
      "text/plain": [
       "  0%|          | 0/4733 [00:00<?, ?it/s]"
      ]
     },
     "metadata": {},
     "output_type": "display_data"
    },
    {
     "data": {
      "application/vnd.jupyter.widget-view+json": {
       "model_id": "050428ae3db146bc9b54af169754d1d4",
       "version_major": 2,
       "version_minor": 0
      },
      "text/plain": [
       "  0%|          | 0/2029 [00:00<?, ?it/s]"
      ]
     },
     "metadata": {},
     "output_type": "display_data"
    },
    {
     "name": "stdout",
     "output_type": "stream",
     "text": [
      "1.4051624645847188e+18 [ 4.0e-01  8.0e-03  7.0e-04  3.0e-01 -3.0e-01  7.0e-01  6.0e-03  1.1e+00]\n"
     ]
    },
    {
     "data": {
      "application/vnd.jupyter.widget-view+json": {
       "model_id": "fe172d29a9044ff5a8ee4124f385b00a",
       "version_major": 2,
       "version_minor": 0
      },
      "text/plain": [
       "  0%|          | 0/4733 [00:00<?, ?it/s]"
      ]
     },
     "metadata": {},
     "output_type": "display_data"
    },
    {
     "data": {
      "application/vnd.jupyter.widget-view+json": {
       "model_id": "72a975ce81414f9f8570815b6779f544",
       "version_major": 2,
       "version_minor": 0
      },
      "text/plain": [
       "  0%|          | 0/2029 [00:00<?, ?it/s]"
      ]
     },
     "metadata": {},
     "output_type": "display_data"
    },
    {
     "name": "stdout",
     "output_type": "stream",
     "text": [
      "1.8026445208508493e+18 [ 7.00e-01  5.00e-03  8.00e-04  8.00e-01 -3.00e-01  2.00e-01  2.00e-03\n",
      "  1.05e+00]\n"
     ]
    },
    {
     "data": {
      "application/vnd.jupyter.widget-view+json": {
       "model_id": "d39e9f855dbb4b07b09f713fbc2c0462",
       "version_major": 2,
       "version_minor": 0
      },
      "text/plain": [
       "  0%|          | 0/4733 [00:00<?, ?it/s]"
      ]
     },
     "metadata": {},
     "output_type": "display_data"
    },
    {
     "data": {
      "application/vnd.jupyter.widget-view+json": {
       "model_id": "ea8d301972be4a93820307aaf30ccde3",
       "version_major": 2,
       "version_minor": 0
      },
      "text/plain": [
       "  0%|          | 0/2029 [00:00<?, ?it/s]"
      ]
     },
     "metadata": {},
     "output_type": "display_data"
    },
    {
     "name": "stdout",
     "output_type": "stream",
     "text": [
      "2.787611814636208e+18 [ 7.00e-01  5.00e-03  7.00e-04  2.00e-01 -3.00e-01  6.00e-01  6.00e-03\n",
      "  1.05e+00]\n"
     ]
    },
    {
     "data": {
      "application/vnd.jupyter.widget-view+json": {
       "model_id": "8378f2a066044f218afd182439fe5cc8",
       "version_major": 2,
       "version_minor": 0
      },
      "text/plain": [
       "  0%|          | 0/4733 [00:00<?, ?it/s]"
      ]
     },
     "metadata": {},
     "output_type": "display_data"
    },
    {
     "data": {
      "application/vnd.jupyter.widget-view+json": {
       "model_id": "dbe2fc546e1e47408402af8a54b60ba6",
       "version_major": 2,
       "version_minor": 0
      },
      "text/plain": [
       "  0%|          | 0/2029 [00:00<?, ?it/s]"
      ]
     },
     "metadata": {},
     "output_type": "display_data"
    },
    {
     "name": "stdout",
     "output_type": "stream",
     "text": [
      "2.356195475715772e+18 [ 7.0e-01  5.0e-03  5.0e-04  3.0e-01 -3.0e-01  7.0e-01  6.0e-03  1.1e+00]\n"
     ]
    },
    {
     "data": {
      "application/vnd.jupyter.widget-view+json": {
       "model_id": "8da44478620448c980c620b0b3ff76a0",
       "version_major": 2,
       "version_minor": 0
      },
      "text/plain": [
       "  0%|          | 0/4733 [00:00<?, ?it/s]"
      ]
     },
     "metadata": {},
     "output_type": "display_data"
    },
    {
     "data": {
      "application/vnd.jupyter.widget-view+json": {
       "model_id": "4fa7f4e9e4034796998cc0196e3297c4",
       "version_major": 2,
       "version_minor": 0
      },
      "text/plain": [
       "  0%|          | 0/2029 [00:00<?, ?it/s]"
      ]
     },
     "metadata": {},
     "output_type": "display_data"
    },
    {
     "name": "stdout",
     "output_type": "stream",
     "text": [
      "1.8063962749283366e+18 [ 7.00e-01  5.00e-03  6.00e-04  8.00e-01 -3.00e-01  7.00e-01  1.00e-03\n",
      "  1.05e+00]\n"
     ]
    },
    {
     "data": {
      "application/vnd.jupyter.widget-view+json": {
       "model_id": "9afef696cb4d47dcbb41d601b000a350",
       "version_major": 2,
       "version_minor": 0
      },
      "text/plain": [
       "  0%|          | 0/4733 [00:00<?, ?it/s]"
      ]
     },
     "metadata": {},
     "output_type": "display_data"
    },
    {
     "data": {
      "application/vnd.jupyter.widget-view+json": {
       "model_id": "e2f19d83c19147df9d3ccd8a0ee39a4e",
       "version_major": 2,
       "version_minor": 0
      },
      "text/plain": [
       "  0%|          | 0/2029 [00:00<?, ?it/s]"
      ]
     },
     "metadata": {},
     "output_type": "display_data"
    },
    {
     "name": "stdout",
     "output_type": "stream",
     "text": [
      "1e+18 [ 4.00e-01  5.00e-03  8.00e-04  3.00e-01 -7.00e-01  7.00e-01  6.00e-03\n",
      "  1.05e+00]\n"
     ]
    },
    {
     "data": {
      "application/vnd.jupyter.widget-view+json": {
       "model_id": "55847ab4f1884eec905961e863184acd",
       "version_major": 2,
       "version_minor": 0
      },
      "text/plain": [
       "  0%|          | 0/4733 [00:00<?, ?it/s]"
      ]
     },
     "metadata": {},
     "output_type": "display_data"
    },
    {
     "data": {
      "application/vnd.jupyter.widget-view+json": {
       "model_id": "94162885d96f451b98ddaeb1f2115865",
       "version_major": 2,
       "version_minor": 0
      },
      "text/plain": [
       "  0%|          | 0/2029 [00:00<?, ?it/s]"
      ]
     },
     "metadata": {},
     "output_type": "display_data"
    },
    {
     "name": "stdout",
     "output_type": "stream",
     "text": [
      "1.922630017766932e+18 [ 4.0e-01  5.0e-03  7.0e-04  8.0e-01 -2.0e-01  7.0e-01  6.0e-03  1.2e+00]\n"
     ]
    },
    {
     "data": {
      "application/vnd.jupyter.widget-view+json": {
       "model_id": "211043f79dbc421ba372c966afe8ab46",
       "version_major": 2,
       "version_minor": 0
      },
      "text/plain": [
       "  0%|          | 0/4733 [00:00<?, ?it/s]"
      ]
     },
     "metadata": {},
     "output_type": "display_data"
    },
    {
     "data": {
      "application/vnd.jupyter.widget-view+json": {
       "model_id": "775e7aea393749f0899abd99d302cced",
       "version_major": 2,
       "version_minor": 0
      },
      "text/plain": [
       "  0%|          | 0/2029 [00:00<?, ?it/s]"
      ]
     },
     "metadata": {},
     "output_type": "display_data"
    },
    {
     "name": "stdout",
     "output_type": "stream",
     "text": [
      "1.7532103629490002e+18 [ 9.0e-01  5.0e-03  5.0e-04  3.0e-01 -2.0e-01  7.0e-01  6.0e-03  1.1e+00]\n"
     ]
    },
    {
     "data": {
      "application/vnd.jupyter.widget-view+json": {
       "model_id": "4eea554f0e7a4049b2d777767b0ebe50",
       "version_major": 2,
       "version_minor": 0
      },
      "text/plain": [
       "  0%|          | 0/4733 [00:00<?, ?it/s]"
      ]
     },
     "metadata": {},
     "output_type": "display_data"
    },
    {
     "data": {
      "application/vnd.jupyter.widget-view+json": {
       "model_id": "3798dcfc527f45e880635195a949dee1",
       "version_major": 2,
       "version_minor": 0
      },
      "text/plain": [
       "  0%|          | 0/2029 [00:00<?, ?it/s]"
      ]
     },
     "metadata": {},
     "output_type": "display_data"
    },
    {
     "name": "stdout",
     "output_type": "stream",
     "text": [
      "1e+18 [ 7.0e-01  5.0e-03  7.0e-04  3.0e-01 -8.0e-01  6.0e-01  6.0e-03  1.1e+00]\n"
     ]
    },
    {
     "data": {
      "application/vnd.jupyter.widget-view+json": {
       "model_id": "3a7011aaf96f4717b2ca3f64dddcccfe",
       "version_major": 2,
       "version_minor": 0
      },
      "text/plain": [
       "  0%|          | 0/4733 [00:00<?, ?it/s]"
      ]
     },
     "metadata": {},
     "output_type": "display_data"
    },
    {
     "data": {
      "application/vnd.jupyter.widget-view+json": {
       "model_id": "6c158c8331634464a666f367e35d89e6",
       "version_major": 2,
       "version_minor": 0
      },
      "text/plain": [
       "  0%|          | 0/2029 [00:00<?, ?it/s]"
      ]
     },
     "metadata": {},
     "output_type": "display_data"
    },
    {
     "name": "stdout",
     "output_type": "stream",
     "text": [
      "2.4342755781651446e+18 [ 7.0e-01  7.0e-03  7.0e-04  8.0e-01 -6.0e-01  6.0e-01  4.0e-03  1.1e+00]\n"
     ]
    },
    {
     "data": {
      "application/vnd.jupyter.widget-view+json": {
       "model_id": "20e1f9cddcbc41e998568c691b016ac6",
       "version_major": 2,
       "version_minor": 0
      },
      "text/plain": [
       "  0%|          | 0/4733 [00:00<?, ?it/s]"
      ]
     },
     "metadata": {},
     "output_type": "display_data"
    },
    {
     "data": {
      "application/vnd.jupyter.widget-view+json": {
       "model_id": "bd4a5d75f17e4ed694c62a13f84f0522",
       "version_major": 2,
       "version_minor": 0
      },
      "text/plain": [
       "  0%|          | 0/2029 [00:00<?, ?it/s]"
      ]
     },
     "metadata": {},
     "output_type": "display_data"
    },
    {
     "name": "stdout",
     "output_type": "stream",
     "text": [
      "1.916094296891233e+18 [ 7.0e-01  7.0e-03  6.0e-04  5.0e-01 -3.0e-01  7.0e-01  6.0e-03  1.1e+00]\n"
     ]
    },
    {
     "data": {
      "application/vnd.jupyter.widget-view+json": {
       "model_id": "907d3b16a880481080eb35e190476e97",
       "version_major": 2,
       "version_minor": 0
      },
      "text/plain": [
       "  0%|          | 0/4733 [00:00<?, ?it/s]"
      ]
     },
     "metadata": {},
     "output_type": "display_data"
    },
    {
     "data": {
      "application/vnd.jupyter.widget-view+json": {
       "model_id": "5f515dc6e8574d1b8582442963913cac",
       "version_major": 2,
       "version_minor": 0
      },
      "text/plain": [
       "  0%|          | 0/2029 [00:00<?, ?it/s]"
      ]
     },
     "metadata": {},
     "output_type": "display_data"
    },
    {
     "name": "stdout",
     "output_type": "stream",
     "text": [
      "1.9599485306079846e+18 [ 7.0e-01  3.0e-03  6.0e-04  7.0e-01 -3.0e-01  4.0e-01  6.0e-03  1.1e+00]\n"
     ]
    },
    {
     "data": {
      "application/vnd.jupyter.widget-view+json": {
       "model_id": "06bad89f6f7547069a0976e6698793fa",
       "version_major": 2,
       "version_minor": 0
      },
      "text/plain": [
       "  0%|          | 0/4733 [00:00<?, ?it/s]"
      ]
     },
     "metadata": {},
     "output_type": "display_data"
    },
    {
     "data": {
      "application/vnd.jupyter.widget-view+json": {
       "model_id": "b9c93af1475b45f9901160a81fee02c9",
       "version_major": 2,
       "version_minor": 0
      },
      "text/plain": [
       "  0%|          | 0/2029 [00:00<?, ?it/s]"
      ]
     },
     "metadata": {},
     "output_type": "display_data"
    },
    {
     "name": "stdout",
     "output_type": "stream",
     "text": [
      "1.3856400036562627e+18 [ 7.0e-01  3.0e-03  7.0e-04  7.0e-01 -3.0e-01  2.0e-01  6.0e-03  1.1e+00]\n"
     ]
    },
    {
     "data": {
      "application/vnd.jupyter.widget-view+json": {
       "model_id": "cccaad47b45c40388b27b7916d2e10e8",
       "version_major": 2,
       "version_minor": 0
      },
      "text/plain": [
       "  0%|          | 0/4733 [00:00<?, ?it/s]"
      ]
     },
     "metadata": {},
     "output_type": "display_data"
    },
    {
     "data": {
      "application/vnd.jupyter.widget-view+json": {
       "model_id": "c9e0355df8ea43a9913f6c7d19b72530",
       "version_major": 2,
       "version_minor": 0
      },
      "text/plain": [
       "  0%|          | 0/2029 [00:00<?, ?it/s]"
      ]
     },
     "metadata": {},
     "output_type": "display_data"
    },
    {
     "name": "stdout",
     "output_type": "stream",
     "text": [
      "1e+18 [ 7.0e-01  7.0e-03  7.0e-04  7.0e-01 -7.0e-01  7.0e-01  7.0e-03  1.1e+00]\n"
     ]
    },
    {
     "data": {
      "application/vnd.jupyter.widget-view+json": {
       "model_id": "923c18d52a624ccfa37b52367396d46e",
       "version_major": 2,
       "version_minor": 0
      },
      "text/plain": [
       "  0%|          | 0/4733 [00:00<?, ?it/s]"
      ]
     },
     "metadata": {},
     "output_type": "display_data"
    },
    {
     "data": {
      "application/vnd.jupyter.widget-view+json": {
       "model_id": "d98da952be2242b0aac7656ee4a64d19",
       "version_major": 2,
       "version_minor": 0
      },
      "text/plain": [
       "  0%|          | 0/2029 [00:00<?, ?it/s]"
      ]
     },
     "metadata": {},
     "output_type": "display_data"
    },
    {
     "name": "stdout",
     "output_type": "stream",
     "text": [
      "2.4658094669054536e+18 [ 7.0e-01  5.0e-03  5.0e-04  8.0e-01 -3.0e-01  7.0e-01  2.0e-03  1.1e+00]\n"
     ]
    },
    {
     "data": {
      "application/vnd.jupyter.widget-view+json": {
       "model_id": "20f6adef2d5a4b50af7f16c8a4544cf7",
       "version_major": 2,
       "version_minor": 0
      },
      "text/plain": [
       "  0%|          | 0/4733 [00:00<?, ?it/s]"
      ]
     },
     "metadata": {},
     "output_type": "display_data"
    },
    {
     "data": {
      "application/vnd.jupyter.widget-view+json": {
       "model_id": "c0261d5c1c1441a38bbf35cdd4ada00b",
       "version_major": 2,
       "version_minor": 0
      },
      "text/plain": [
       "  0%|          | 0/2029 [00:00<?, ?it/s]"
      ]
     },
     "metadata": {},
     "output_type": "display_data"
    },
    {
     "name": "stdout",
     "output_type": "stream",
     "text": [
      "1.9853322332311675e+18 [ 7.0e-01  5.0e-03  7.0e-04  8.0e-01 -7.0e-01  7.0e-01  2.0e-03  1.1e+00]\n"
     ]
    },
    {
     "data": {
      "application/vnd.jupyter.widget-view+json": {
       "model_id": "175fa301be064749bb728c34e29f4f10",
       "version_major": 2,
       "version_minor": 0
      },
      "text/plain": [
       "  0%|          | 0/4733 [00:00<?, ?it/s]"
      ]
     },
     "metadata": {},
     "output_type": "display_data"
    },
    {
     "data": {
      "application/vnd.jupyter.widget-view+json": {
       "model_id": "b24ba43734664f08a322d80fd2b23436",
       "version_major": 2,
       "version_minor": 0
      },
      "text/plain": [
       "  0%|          | 0/2029 [00:00<?, ?it/s]"
      ]
     },
     "metadata": {},
     "output_type": "display_data"
    },
    {
     "name": "stdout",
     "output_type": "stream",
     "text": [
      "1.7593374254567987e+18 [ 7.00e-01  5.00e-03  8.00e-04  7.00e-01 -3.00e-01  7.00e-01  4.00e-03\n",
      "  1.05e+00]\n"
     ]
    },
    {
     "data": {
      "application/vnd.jupyter.widget-view+json": {
       "model_id": "eef26e6622084c23863a1fd6d728f0d7",
       "version_major": 2,
       "version_minor": 0
      },
      "text/plain": [
       "  0%|          | 0/4733 [00:00<?, ?it/s]"
      ]
     },
     "metadata": {},
     "output_type": "display_data"
    },
    {
     "data": {
      "application/vnd.jupyter.widget-view+json": {
       "model_id": "31444fc68d7e4167b3e48bb89806f704",
       "version_major": 2,
       "version_minor": 0
      },
      "text/plain": [
       "  0%|          | 0/2029 [00:00<?, ?it/s]"
      ]
     },
     "metadata": {},
     "output_type": "display_data"
    },
    {
     "name": "stdout",
     "output_type": "stream",
     "text": [
      "3.019400568984578e+18 [ 7.0e-01  3.0e-03  7.0e-04  3.0e-01 -3.0e-01  7.0e-01  1.0e-03  1.1e+00]\n"
     ]
    },
    {
     "data": {
      "application/vnd.jupyter.widget-view+json": {
       "model_id": "e94c371120ed436f9551e2d063716dfd",
       "version_major": 2,
       "version_minor": 0
      },
      "text/plain": [
       "  0%|          | 0/4733 [00:00<?, ?it/s]"
      ]
     },
     "metadata": {},
     "output_type": "display_data"
    },
    {
     "data": {
      "application/vnd.jupyter.widget-view+json": {
       "model_id": "4c5f94f7775e4086bc5c8c5e77000bf8",
       "version_major": 2,
       "version_minor": 0
      },
      "text/plain": [
       "  0%|          | 0/2029 [00:00<?, ?it/s]"
      ]
     },
     "metadata": {},
     "output_type": "display_data"
    },
    {
     "name": "stdout",
     "output_type": "stream",
     "text": [
      "2.140319679610048e+18 [ 7.0e-01  5.0e-03  7.0e-04  8.0e-01 -3.0e-01  7.0e-01  6.0e-03  1.2e+00]\n"
     ]
    },
    {
     "data": {
      "application/vnd.jupyter.widget-view+json": {
       "model_id": "5cbb047a046c4d8489843e16e97e6eb8",
       "version_major": 2,
       "version_minor": 0
      },
      "text/plain": [
       "  0%|          | 0/4733 [00:00<?, ?it/s]"
      ]
     },
     "metadata": {},
     "output_type": "display_data"
    },
    {
     "data": {
      "application/vnd.jupyter.widget-view+json": {
       "model_id": "da80db982592431ca1ad9d386f331d01",
       "version_major": 2,
       "version_minor": 0
      },
      "text/plain": [
       "  0%|          | 0/2029 [00:00<?, ?it/s]"
      ]
     },
     "metadata": {},
     "output_type": "display_data"
    },
    {
     "name": "stdout",
     "output_type": "stream",
     "text": [
      "1.036746346745031e+18 [ 7.0e-01  2.0e-03  7.0e-04  8.0e-01 -2.0e-01  3.0e-01  2.0e-03  1.1e+00]\n"
     ]
    },
    {
     "data": {
      "application/vnd.jupyter.widget-view+json": {
       "model_id": "cc1c9f3c30b34c6b8f148a2bb94c9912",
       "version_major": 2,
       "version_minor": 0
      },
      "text/plain": [
       "  0%|          | 0/4733 [00:00<?, ?it/s]"
      ]
     },
     "metadata": {},
     "output_type": "display_data"
    },
    {
     "data": {
      "application/vnd.jupyter.widget-view+json": {
       "model_id": "f69d1361305047de9975d870f35eeec0",
       "version_major": 2,
       "version_minor": 0
      },
      "text/plain": [
       "  0%|          | 0/2029 [00:00<?, ?it/s]"
      ]
     },
     "metadata": {},
     "output_type": "display_data"
    },
    {
     "name": "stdout",
     "output_type": "stream",
     "text": [
      "1.7482714266101343e+18 [ 7.0e-01  8.0e-03  7.0e-04  3.0e-01 -3.0e-01  3.0e-01  1.0e-03  1.1e+00]\n"
     ]
    },
    {
     "data": {
      "application/vnd.jupyter.widget-view+json": {
       "model_id": "cd5839c7fd0b4fdda7ed62818b2a9709",
       "version_major": 2,
       "version_minor": 0
      },
      "text/plain": [
       "  0%|          | 0/4733 [00:00<?, ?it/s]"
      ]
     },
     "metadata": {},
     "output_type": "display_data"
    },
    {
     "data": {
      "application/vnd.jupyter.widget-view+json": {
       "model_id": "6cc23cfa7ed54d7fb4da0ba33b0c0f59",
       "version_major": 2,
       "version_minor": 0
      },
      "text/plain": [
       "  0%|          | 0/2029 [00:00<?, ?it/s]"
      ]
     },
     "metadata": {},
     "output_type": "display_data"
    },
    {
     "name": "stdout",
     "output_type": "stream",
     "text": [
      "2.348700952633233e+18 [ 4.00e-01  8.00e-03  7.00e-04  8.00e-01 -2.00e-01  7.00e-01  6.00e-03\n",
      "  1.15e+00]\n"
     ]
    },
    {
     "data": {
      "application/vnd.jupyter.widget-view+json": {
       "model_id": "ae28788d49554cfda8d134d9f04a65a5",
       "version_major": 2,
       "version_minor": 0
      },
      "text/plain": [
       "  0%|          | 0/4733 [00:00<?, ?it/s]"
      ]
     },
     "metadata": {},
     "output_type": "display_data"
    },
    {
     "data": {
      "application/vnd.jupyter.widget-view+json": {
       "model_id": "e2d0e9d0f372487bbdd2620ba86753b1",
       "version_major": 2,
       "version_minor": 0
      },
      "text/plain": [
       "  0%|          | 0/2029 [00:00<?, ?it/s]"
      ]
     },
     "metadata": {},
     "output_type": "display_data"
    },
    {
     "name": "stdout",
     "output_type": "stream",
     "text": [
      "2.56005680891767e+18 [ 7.0e-01  4.0e-03  5.0e-04  3.0e-01 -3.0e-01  7.0e-01  6.0e-03  1.1e+00]\n"
     ]
    },
    {
     "data": {
      "application/vnd.jupyter.widget-view+json": {
       "model_id": "3f8b874687ec4123b39686d359919436",
       "version_major": 2,
       "version_minor": 0
      },
      "text/plain": [
       "  0%|          | 0/4733 [00:00<?, ?it/s]"
      ]
     },
     "metadata": {},
     "output_type": "display_data"
    },
    {
     "data": {
      "application/vnd.jupyter.widget-view+json": {
       "model_id": "930b8f3edd324c19b1bf0b82aa5a93c8",
       "version_major": 2,
       "version_minor": 0
      },
      "text/plain": [
       "  0%|          | 0/2029 [00:00<?, ?it/s]"
      ]
     },
     "metadata": {},
     "output_type": "display_data"
    },
    {
     "name": "stdout",
     "output_type": "stream",
     "text": [
      "2.643918286370556e+18 [ 7.0e-01  7.0e-03  7.0e-04  8.0e-01 -3.0e-01  4.0e-01  6.0e-03  1.1e+00]\n"
     ]
    },
    {
     "data": {
      "application/vnd.jupyter.widget-view+json": {
       "model_id": "564989364e1549729bced5b28c33c7c7",
       "version_major": 2,
       "version_minor": 0
      },
      "text/plain": [
       "  0%|          | 0/4733 [00:00<?, ?it/s]"
      ]
     },
     "metadata": {},
     "output_type": "display_data"
    },
    {
     "data": {
      "application/vnd.jupyter.widget-view+json": {
       "model_id": "e77bc72d5d2149659232690989acb242",
       "version_major": 2,
       "version_minor": 0
      },
      "text/plain": [
       "  0%|          | 0/2029 [00:00<?, ?it/s]"
      ]
     },
     "metadata": {},
     "output_type": "display_data"
    },
    {
     "name": "stdout",
     "output_type": "stream",
     "text": [
      "9.5060721313781e+17 [ 7.0e-01  7.0e-03  7.0e-04  4.0e-01 -6.0e-01  7.0e-01  4.0e-03  1.1e+00]\n"
     ]
    },
    {
     "data": {
      "application/vnd.jupyter.widget-view+json": {
       "model_id": "7db9d21d6ae54588bf0f7eac0b31be76",
       "version_major": 2,
       "version_minor": 0
      },
      "text/plain": [
       "  0%|          | 0/4733 [00:00<?, ?it/s]"
      ]
     },
     "metadata": {},
     "output_type": "display_data"
    },
    {
     "data": {
      "application/vnd.jupyter.widget-view+json": {
       "model_id": "e90ec9871c4d4f71a33cc91429f7a156",
       "version_major": 2,
       "version_minor": 0
      },
      "text/plain": [
       "  0%|          | 0/2029 [00:00<?, ?it/s]"
      ]
     },
     "metadata": {},
     "output_type": "display_data"
    },
    {
     "name": "stdout",
     "output_type": "stream",
     "text": [
      "1.4484483993849992e+18 [ 7.0e-01  3.0e-03  7.0e-04  8.0e-01 -6.0e-01  6.0e-01  3.0e-03  1.1e+00]\n"
     ]
    },
    {
     "data": {
      "application/vnd.jupyter.widget-view+json": {
       "model_id": "e8fd4102f0554500a609849aab2509da",
       "version_major": 2,
       "version_minor": 0
      },
      "text/plain": [
       "  0%|          | 0/4733 [00:00<?, ?it/s]"
      ]
     },
     "metadata": {},
     "output_type": "display_data"
    },
    {
     "data": {
      "application/vnd.jupyter.widget-view+json": {
       "model_id": "49ab8c249b2a4058ab0fa74c524a5aaf",
       "version_major": 2,
       "version_minor": 0
      },
      "text/plain": [
       "  0%|          | 0/2029 [00:00<?, ?it/s]"
      ]
     },
     "metadata": {},
     "output_type": "display_data"
    },
    {
     "name": "stdout",
     "output_type": "stream",
     "text": [
      "1e+18 [ 7.0e-01  3.0e-03  6.0e-04  7.0e-01 -6.0e-01  6.0e-01  6.0e-03  1.1e+00]\n"
     ]
    },
    {
     "data": {
      "application/vnd.jupyter.widget-view+json": {
       "model_id": "07fdd19b63cf4064b71c0334789c1bda",
       "version_major": 2,
       "version_minor": 0
      },
      "text/plain": [
       "  0%|          | 0/4733 [00:00<?, ?it/s]"
      ]
     },
     "metadata": {},
     "output_type": "display_data"
    },
    {
     "data": {
      "application/vnd.jupyter.widget-view+json": {
       "model_id": "1315282b075b4277897bf36e53f9ed83",
       "version_major": 2,
       "version_minor": 0
      },
      "text/plain": [
       "  0%|          | 0/2029 [00:00<?, ?it/s]"
      ]
     },
     "metadata": {},
     "output_type": "display_data"
    },
    {
     "name": "stdout",
     "output_type": "stream",
     "text": [
      "1.2062717691002575e+18 [ 4.0e-01  3.0e-03  7.0e-04  7.0e-01 -3.0e-01  6.0e-01  6.0e-03  1.1e+00]\n"
     ]
    },
    {
     "data": {
      "application/vnd.jupyter.widget-view+json": {
       "model_id": "7b586cfc07c6433485e32ca13e3e7cea",
       "version_major": 2,
       "version_minor": 0
      },
      "text/plain": [
       "  0%|          | 0/4733 [00:00<?, ?it/s]"
      ]
     },
     "metadata": {},
     "output_type": "display_data"
    },
    {
     "data": {
      "application/vnd.jupyter.widget-view+json": {
       "model_id": "754be86a8576493595dcf656fd6a39c5",
       "version_major": 2,
       "version_minor": 0
      },
      "text/plain": [
       "  0%|          | 0/2029 [00:00<?, ?it/s]"
      ]
     },
     "metadata": {},
     "output_type": "display_data"
    },
    {
     "name": "stdout",
     "output_type": "stream",
     "text": [
      "1e+18 [ 4.0e-01  3.0e-03  5.0e-04  3.0e-01 -7.0e-01  7.0e-01  6.0e-03  1.1e+00]\n"
     ]
    },
    {
     "data": {
      "application/vnd.jupyter.widget-view+json": {
       "model_id": "e9d75473351c42bb9c4454cb6586aab5",
       "version_major": 2,
       "version_minor": 0
      },
      "text/plain": [
       "  0%|          | 0/4733 [00:00<?, ?it/s]"
      ]
     },
     "metadata": {},
     "output_type": "display_data"
    },
    {
     "data": {
      "application/vnd.jupyter.widget-view+json": {
       "model_id": "4fabb1fa4ed34b2bb3f468995929c576",
       "version_major": 2,
       "version_minor": 0
      },
      "text/plain": [
       "  0%|          | 0/2029 [00:00<?, ?it/s]"
      ]
     },
     "metadata": {},
     "output_type": "display_data"
    },
    {
     "name": "stdout",
     "output_type": "stream",
     "text": [
      "1.7907821339243581e+18 [ 4.0e-01  3.0e-03  6.0e-04  3.0e-01 -3.0e-01  7.0e-01  2.0e-03  1.1e+00]\n"
     ]
    },
    {
     "data": {
      "application/vnd.jupyter.widget-view+json": {
       "model_id": "aad9f6ad929248caa4e82387ca166ffd",
       "version_major": 2,
       "version_minor": 0
      },
      "text/plain": [
       "  0%|          | 0/4733 [00:00<?, ?it/s]"
      ]
     },
     "metadata": {},
     "output_type": "display_data"
    },
    {
     "data": {
      "application/vnd.jupyter.widget-view+json": {
       "model_id": "725efd3e9f49436bba2acf1fb9304904",
       "version_major": 2,
       "version_minor": 0
      },
      "text/plain": [
       "  0%|          | 0/2029 [00:00<?, ?it/s]"
      ]
     },
     "metadata": {},
     "output_type": "display_data"
    },
    {
     "name": "stdout",
     "output_type": "stream",
     "text": [
      "2.3004615311122598e+18 [ 1.0e-01  7.0e-03  7.0e-04  8.0e-01 -2.0e-01  6.0e-01  6.0e-03  1.2e+00]\n"
     ]
    },
    {
     "data": {
      "application/vnd.jupyter.widget-view+json": {
       "model_id": "799d8a8b369044339dc26dba31c3bfcb",
       "version_major": 2,
       "version_minor": 0
      },
      "text/plain": [
       "  0%|          | 0/4733 [00:00<?, ?it/s]"
      ]
     },
     "metadata": {},
     "output_type": "display_data"
    },
    {
     "data": {
      "application/vnd.jupyter.widget-view+json": {
       "model_id": "07c5bbf1957d448591b1824597d73acb",
       "version_major": 2,
       "version_minor": 0
      },
      "text/plain": [
       "  0%|          | 0/2029 [00:00<?, ?it/s]"
      ]
     },
     "metadata": {},
     "output_type": "display_data"
    },
    {
     "name": "stdout",
     "output_type": "stream",
     "text": [
      "2.253398833817728e+18 [ 7.0e-01  4.0e-03  7.0e-04  8.0e-01 -3.0e-01  7.0e-01  6.0e-03  1.1e+00]\n"
     ]
    },
    {
     "data": {
      "application/vnd.jupyter.widget-view+json": {
       "model_id": "daf76083613b424f97451342a442b39c",
       "version_major": 2,
       "version_minor": 0
      },
      "text/plain": [
       "  0%|          | 0/4733 [00:00<?, ?it/s]"
      ]
     },
     "metadata": {},
     "output_type": "display_data"
    },
    {
     "data": {
      "application/vnd.jupyter.widget-view+json": {
       "model_id": "ccaef7c3c8c441ff97cea5a7f5df1085",
       "version_major": 2,
       "version_minor": 0
      },
      "text/plain": [
       "  0%|          | 0/2029 [00:00<?, ?it/s]"
      ]
     },
     "metadata": {},
     "output_type": "display_data"
    },
    {
     "name": "stdout",
     "output_type": "stream",
     "text": [
      "1.6287637433150313e+18 [ 8.0e-01  5.0e-03  7.0e-04  7.0e-01 -3.0e-01  2.0e-01  6.0e-03  1.1e+00]\n"
     ]
    },
    {
     "data": {
      "application/vnd.jupyter.widget-view+json": {
       "model_id": "c6536fb84bd0439fbbca7084f5ba2f9d",
       "version_major": 2,
       "version_minor": 0
      },
      "text/plain": [
       "  0%|          | 0/4733 [00:00<?, ?it/s]"
      ]
     },
     "metadata": {},
     "output_type": "display_data"
    },
    {
     "data": {
      "application/vnd.jupyter.widget-view+json": {
       "model_id": "56d1510d1f66492da48c92e177097c95",
       "version_major": 2,
       "version_minor": 0
      },
      "text/plain": [
       "  0%|          | 0/2029 [00:00<?, ?it/s]"
      ]
     },
     "metadata": {},
     "output_type": "display_data"
    },
    {
     "name": "stdout",
     "output_type": "stream",
     "text": [
      "1e+18 [ 4.0e-01  5.0e-03  7.0e-04  3.0e-01 -6.0e-01  7.0e-01  6.0e-03  1.1e+00]\n"
     ]
    },
    {
     "data": {
      "application/vnd.jupyter.widget-view+json": {
       "model_id": "92fbac1481b6451cba307f2d7315fbc4",
       "version_major": 2,
       "version_minor": 0
      },
      "text/plain": [
       "  0%|          | 0/4733 [00:00<?, ?it/s]"
      ]
     },
     "metadata": {},
     "output_type": "display_data"
    },
    {
     "data": {
      "application/vnd.jupyter.widget-view+json": {
       "model_id": "b35df7fafe3e4da995cc99cb8975a3c6",
       "version_major": 2,
       "version_minor": 0
      },
      "text/plain": [
       "  0%|          | 0/2029 [00:00<?, ?it/s]"
      ]
     },
     "metadata": {},
     "output_type": "display_data"
    },
    {
     "name": "stdout",
     "output_type": "stream",
     "text": [
      "1.1960194644462976e+18 [ 7.00e-01  8.00e-03  7.00e-04  8.00e-01 -6.00e-01  3.00e-01  3.00e-03\n",
      "  1.15e+00]\n"
     ]
    },
    {
     "data": {
      "application/vnd.jupyter.widget-view+json": {
       "model_id": "792ef37da4554698a96012f1b07497b4",
       "version_major": 2,
       "version_minor": 0
      },
      "text/plain": [
       "  0%|          | 0/4733 [00:00<?, ?it/s]"
      ]
     },
     "metadata": {},
     "output_type": "display_data"
    },
    {
     "data": {
      "application/vnd.jupyter.widget-view+json": {
       "model_id": "eaf6e3c7a8fa45f68aefd0709e8e1114",
       "version_major": 2,
       "version_minor": 0
      },
      "text/plain": [
       "  0%|          | 0/2029 [00:00<?, ?it/s]"
      ]
     },
     "metadata": {},
     "output_type": "display_data"
    },
    {
     "name": "stdout",
     "output_type": "stream",
     "text": [
      "1.7163822642134671e+18 [ 7.0e-01  7.0e-03  9.0e-04  8.0e-01 -6.0e-01  6.0e-01  3.0e-03  1.1e+00]\n"
     ]
    },
    {
     "data": {
      "application/vnd.jupyter.widget-view+json": {
       "model_id": "d52601928afc4373a4a22eadab08bba1",
       "version_major": 2,
       "version_minor": 0
      },
      "text/plain": [
       "  0%|          | 0/4733 [00:00<?, ?it/s]"
      ]
     },
     "metadata": {},
     "output_type": "display_data"
    },
    {
     "data": {
      "application/vnd.jupyter.widget-view+json": {
       "model_id": "c093ca8b23c3470689accdf0e878bca8",
       "version_major": 2,
       "version_minor": 0
      },
      "text/plain": [
       "  0%|          | 0/2029 [00:00<?, ?it/s]"
      ]
     },
     "metadata": {},
     "output_type": "display_data"
    },
    {
     "name": "stdout",
     "output_type": "stream",
     "text": [
      "1.455707514358324e+18 [ 7.00e-01  5.00e-03  7.00e-04  8.00e-01 -7.00e-01  7.00e-01  4.00e-03\n",
      "  1.15e+00]\n"
     ]
    },
    {
     "data": {
      "application/vnd.jupyter.widget-view+json": {
       "model_id": "fc4e5f1a7f4d4d01a82400b823c7acf0",
       "version_major": 2,
       "version_minor": 0
      },
      "text/plain": [
       "  0%|          | 0/4733 [00:00<?, ?it/s]"
      ]
     },
     "metadata": {},
     "output_type": "display_data"
    },
    {
     "data": {
      "application/vnd.jupyter.widget-view+json": {
       "model_id": "fcfb18142fed4a3fa62b3cdfaff180e3",
       "version_major": 2,
       "version_minor": 0
      },
      "text/plain": [
       "  0%|          | 0/2029 [00:00<?, ?it/s]"
      ]
     },
     "metadata": {},
     "output_type": "display_data"
    },
    {
     "name": "stdout",
     "output_type": "stream",
     "text": [
      "2.13182018332801e+18 [ 7.0e-01  5.0e-03  5.0e-04  8.0e-01 -3.0e-01  7.0e-01  5.0e-03  1.1e+00]\n"
     ]
    },
    {
     "data": {
      "application/vnd.jupyter.widget-view+json": {
       "model_id": "01919341ab814517b4da48b510663cc5",
       "version_major": 2,
       "version_minor": 0
      },
      "text/plain": [
       "  0%|          | 0/4733 [00:00<?, ?it/s]"
      ]
     },
     "metadata": {},
     "output_type": "display_data"
    },
    {
     "data": {
      "application/vnd.jupyter.widget-view+json": {
       "model_id": "536520e3cf7646cdb534e4651fb7c0b6",
       "version_major": 2,
       "version_minor": 0
      },
      "text/plain": [
       "  0%|          | 0/2029 [00:00<?, ?it/s]"
      ]
     },
     "metadata": {},
     "output_type": "display_data"
    },
    {
     "name": "stdout",
     "output_type": "stream",
     "text": [
      "1.9450813945356465e+18 [ 2.0e-01  5.0e-03  6.0e-04  8.0e-01 -3.0e-01  7.0e-01  2.0e-03  1.1e+00]\n"
     ]
    },
    {
     "data": {
      "application/vnd.jupyter.widget-view+json": {
       "model_id": "9b33015015f24c4bb1cc04aa9cf98887",
       "version_major": 2,
       "version_minor": 0
      },
      "text/plain": [
       "  0%|          | 0/4733 [00:00<?, ?it/s]"
      ]
     },
     "metadata": {},
     "output_type": "display_data"
    },
    {
     "data": {
      "application/vnd.jupyter.widget-view+json": {
       "model_id": "2ba33199fca74531bac8ee95cb6acda1",
       "version_major": 2,
       "version_minor": 0
      },
      "text/plain": [
       "  0%|          | 0/2029 [00:00<?, ?it/s]"
      ]
     },
     "metadata": {},
     "output_type": "display_data"
    },
    {
     "name": "stdout",
     "output_type": "stream",
     "text": [
      "2.50780571968048e+18 [ 7.0e-01  3.0e-03  6.0e-04  8.0e-01 -3.0e-01  7.0e-01  5.0e-03  1.1e+00]\n"
     ]
    },
    {
     "data": {
      "application/vnd.jupyter.widget-view+json": {
       "model_id": "1842e99ad50f4d0a9b104d8da4425ffc",
       "version_major": 2,
       "version_minor": 0
      },
      "text/plain": [
       "  0%|          | 0/4733 [00:00<?, ?it/s]"
      ]
     },
     "metadata": {},
     "output_type": "display_data"
    },
    {
     "data": {
      "application/vnd.jupyter.widget-view+json": {
       "model_id": "85599666e07d41ac842665064089b49f",
       "version_major": 2,
       "version_minor": 0
      },
      "text/plain": [
       "  0%|          | 0/2029 [00:00<?, ?it/s]"
      ]
     },
     "metadata": {},
     "output_type": "display_data"
    },
    {
     "name": "stdout",
     "output_type": "stream",
     "text": [
      "1.3477559566799468e+18 [ 7.00e-01  3.00e-03  5.00e-04  3.00e-01 -3.00e-01  7.00e-01  1.00e-03\n",
      "  1.05e+00]\n"
     ]
    },
    {
     "data": {
      "application/vnd.jupyter.widget-view+json": {
       "model_id": "6e5157053fee441e9b02cdb008d7d00d",
       "version_major": 2,
       "version_minor": 0
      },
      "text/plain": [
       "  0%|          | 0/4733 [00:00<?, ?it/s]"
      ]
     },
     "metadata": {},
     "output_type": "display_data"
    },
    {
     "data": {
      "application/vnd.jupyter.widget-view+json": {
       "model_id": "394992fb344d47e58d92d268331f23bd",
       "version_major": 2,
       "version_minor": 0
      },
      "text/plain": [
       "  0%|          | 0/2029 [00:00<?, ?it/s]"
      ]
     },
     "metadata": {},
     "output_type": "display_data"
    },
    {
     "name": "stdout",
     "output_type": "stream",
     "text": [
      "2.17521550662349e+18 [ 7.0e-01  7.0e-03  5.0e-04  2.0e-01 -3.0e-01  7.0e-01  6.0e-03  1.1e+00]\n"
     ]
    },
    {
     "data": {
      "application/vnd.jupyter.widget-view+json": {
       "model_id": "aa4c1021165746788d1e0c57cebb2c8e",
       "version_major": 2,
       "version_minor": 0
      },
      "text/plain": [
       "  0%|          | 0/4733 [00:00<?, ?it/s]"
      ]
     },
     "metadata": {},
     "output_type": "display_data"
    },
    {
     "data": {
      "application/vnd.jupyter.widget-view+json": {
       "model_id": "7bba1539acbf454383cfe7089f128745",
       "version_major": 2,
       "version_minor": 0
      },
      "text/plain": [
       "  0%|          | 0/2029 [00:00<?, ?it/s]"
      ]
     },
     "metadata": {},
     "output_type": "display_data"
    },
    {
     "name": "stdout",
     "output_type": "stream",
     "text": [
      "1e+18 [ 7.0e-01  7.0e-03  5.0e-04  3.0e-01 -6.0e-01  7.0e-01  7.0e-03  1.1e+00]\n"
     ]
    },
    {
     "data": {
      "application/vnd.jupyter.widget-view+json": {
       "model_id": "e7c1a51e5ce74440b97f765750627e5e",
       "version_major": 2,
       "version_minor": 0
      },
      "text/plain": [
       "  0%|          | 0/4733 [00:00<?, ?it/s]"
      ]
     },
     "metadata": {},
     "output_type": "display_data"
    },
    {
     "data": {
      "application/vnd.jupyter.widget-view+json": {
       "model_id": "045f7a56fa0a4452a7a55b77493bd831",
       "version_major": 2,
       "version_minor": 0
      },
      "text/plain": [
       "  0%|          | 0/2029 [00:00<?, ?it/s]"
      ]
     },
     "metadata": {},
     "output_type": "display_data"
    },
    {
     "name": "stdout",
     "output_type": "stream",
     "text": [
      "2.593452973027115e+18 [ 7.e-01  5.e-03  5.e-04  8.e-01 -3.e-01  7.e-01  2.e-03  1.e+00]\n"
     ]
    },
    {
     "data": {
      "application/vnd.jupyter.widget-view+json": {
       "model_id": "5e90591d67e14b2fa8cd8986bbb97037",
       "version_major": 2,
       "version_minor": 0
      },
      "text/plain": [
       "  0%|          | 0/4733 [00:00<?, ?it/s]"
      ]
     },
     "metadata": {},
     "output_type": "display_data"
    },
    {
     "data": {
      "application/vnd.jupyter.widget-view+json": {
       "model_id": "1e3dd27acca94d51a068b3e169f7322c",
       "version_major": 2,
       "version_minor": 0
      },
      "text/plain": [
       "  0%|          | 0/2029 [00:00<?, ?it/s]"
      ]
     },
     "metadata": {},
     "output_type": "display_data"
    },
    {
     "name": "stdout",
     "output_type": "stream",
     "text": [
      "2.137155726798938e+18 [ 7.0e-01  3.0e-03  7.0e-04  8.0e-01 -3.0e-01  7.0e-01  2.0e-03  1.1e+00]\n"
     ]
    },
    {
     "data": {
      "application/vnd.jupyter.widget-view+json": {
       "model_id": "b1daeb92d8b04a7a874778a35bb0f078",
       "version_major": 2,
       "version_minor": 0
      },
      "text/plain": [
       "  0%|          | 0/4733 [00:00<?, ?it/s]"
      ]
     },
     "metadata": {},
     "output_type": "display_data"
    },
    {
     "data": {
      "application/vnd.jupyter.widget-view+json": {
       "model_id": "693a4f45c036473da249339352e4e516",
       "version_major": 2,
       "version_minor": 0
      },
      "text/plain": [
       "  0%|          | 0/2029 [00:00<?, ?it/s]"
      ]
     },
     "metadata": {},
     "output_type": "display_data"
    },
    {
     "name": "stdout",
     "output_type": "stream",
     "text": [
      "1.0597572076433951e+18 [ 4.0e-01  5.0e-03  7.0e-04  6.0e-01 -6.0e-01  7.0e-01  4.0e-03  1.1e+00]\n"
     ]
    },
    {
     "data": {
      "application/vnd.jupyter.widget-view+json": {
       "model_id": "b869e673f99947bd89d22db8125c567d",
       "version_major": 2,
       "version_minor": 0
      },
      "text/plain": [
       "  0%|          | 0/4733 [00:00<?, ?it/s]"
      ]
     },
     "metadata": {},
     "output_type": "display_data"
    },
    {
     "data": {
      "application/vnd.jupyter.widget-view+json": {
       "model_id": "dc27d9943d2c40918a8d3760cce58680",
       "version_major": 2,
       "version_minor": 0
      },
      "text/plain": [
       "  0%|          | 0/2029 [00:00<?, ?it/s]"
      ]
     },
     "metadata": {},
     "output_type": "display_data"
    },
    {
     "name": "stdout",
     "output_type": "stream",
     "text": [
      "1.0714912823239868e+18 [ 2.0e-01  3.0e-03  7.0e-04  7.0e-01 -3.0e-01  2.0e-01  6.0e-03  1.2e+00]\n"
     ]
    },
    {
     "data": {
      "application/vnd.jupyter.widget-view+json": {
       "model_id": "52ea2e58a22f42af9e350112ec955b6d",
       "version_major": 2,
       "version_minor": 0
      },
      "text/plain": [
       "  0%|          | 0/4733 [00:00<?, ?it/s]"
      ]
     },
     "metadata": {},
     "output_type": "display_data"
    },
    {
     "data": {
      "application/vnd.jupyter.widget-view+json": {
       "model_id": "a1ee7cd6e2a9403ab5ef4013ee80c7fd",
       "version_major": 2,
       "version_minor": 0
      },
      "text/plain": [
       "  0%|          | 0/2029 [00:00<?, ?it/s]"
      ]
     },
     "metadata": {},
     "output_type": "display_data"
    },
    {
     "name": "stdout",
     "output_type": "stream",
     "text": [
      "1e+18 [ 7.0e-01  5.0e-03  5.0e-04  1.0e-01 -3.0e-01  7.0e-01  6.0e-03  1.1e+00]\n"
     ]
    },
    {
     "data": {
      "application/vnd.jupyter.widget-view+json": {
       "model_id": "da66e04e3e254dad9c153f240703c125",
       "version_major": 2,
       "version_minor": 0
      },
      "text/plain": [
       "  0%|          | 0/4733 [00:00<?, ?it/s]"
      ]
     },
     "metadata": {},
     "output_type": "display_data"
    },
    {
     "data": {
      "application/vnd.jupyter.widget-view+json": {
       "model_id": "a9732bfe54034c0983ccb7fb74abc230",
       "version_major": 2,
       "version_minor": 0
      },
      "text/plain": [
       "  0%|          | 0/2029 [00:00<?, ?it/s]"
      ]
     },
     "metadata": {},
     "output_type": "display_data"
    },
    {
     "name": "stdout",
     "output_type": "stream",
     "text": [
      "1e+18 [ 7.00e-01  5.00e-03  5.00e-04  1.00e-01 -3.00e-01  7.00e-01  6.00e-03\n",
      "  1.15e+00]\n"
     ]
    },
    {
     "data": {
      "application/vnd.jupyter.widget-view+json": {
       "model_id": "31ef836ab00a4ca984243cf55f96bbcc",
       "version_major": 2,
       "version_minor": 0
      },
      "text/plain": [
       "  0%|          | 0/4733 [00:00<?, ?it/s]"
      ]
     },
     "metadata": {},
     "output_type": "display_data"
    },
    {
     "data": {
      "application/vnd.jupyter.widget-view+json": {
       "model_id": "e4036bf092fa43e2a3d248fc396141b3",
       "version_major": 2,
       "version_minor": 0
      },
      "text/plain": [
       "  0%|          | 0/2029 [00:00<?, ?it/s]"
      ]
     },
     "metadata": {},
     "output_type": "display_data"
    },
    {
     "name": "stdout",
     "output_type": "stream",
     "text": [
      "1.9444971759614272e+18 [ 4.0e-01  8.0e-03  7.0e-04  8.0e-01 -6.0e-01  6.0e-01  6.0e-03  1.1e+00]\n"
     ]
    },
    {
     "data": {
      "application/vnd.jupyter.widget-view+json": {
       "model_id": "d215c1a8c47c4fa2b7799c37de09e31f",
       "version_major": 2,
       "version_minor": 0
      },
      "text/plain": [
       "  0%|          | 0/4733 [00:00<?, ?it/s]"
      ]
     },
     "metadata": {},
     "output_type": "display_data"
    },
    {
     "data": {
      "application/vnd.jupyter.widget-view+json": {
       "model_id": "3acf39281ecf43879d58e0edf4e3e0f2",
       "version_major": 2,
       "version_minor": 0
      },
      "text/plain": [
       "  0%|          | 0/2029 [00:00<?, ?it/s]"
      ]
     },
     "metadata": {},
     "output_type": "display_data"
    },
    {
     "name": "stdout",
     "output_type": "stream",
     "text": [
      "2.5832616348716073e+18 [ 7.0e-01  7.0e-03  8.0e-04  8.0e-01 -6.0e-01  6.0e-01  4.0e-03  1.1e+00]\n"
     ]
    },
    {
     "data": {
      "application/vnd.jupyter.widget-view+json": {
       "model_id": "ea022f6cad7642f0831417c860e9eeb8",
       "version_major": 2,
       "version_minor": 0
      },
      "text/plain": [
       "  0%|          | 0/4733 [00:00<?, ?it/s]"
      ]
     },
     "metadata": {},
     "output_type": "display_data"
    },
    {
     "data": {
      "application/vnd.jupyter.widget-view+json": {
       "model_id": "9f10784c408744cebfe1e679a8ef0457",
       "version_major": 2,
       "version_minor": 0
      },
      "text/plain": [
       "  0%|          | 0/2029 [00:00<?, ?it/s]"
      ]
     },
     "metadata": {},
     "output_type": "display_data"
    },
    {
     "name": "stdout",
     "output_type": "stream",
     "text": [
      "1e+18 [ 7.0e-01  2.0e-03  7.0e-04  8.0e-01 -6.0e-01  6.0e-01  2.0e-03  1.1e+00]\n"
     ]
    },
    {
     "data": {
      "application/vnd.jupyter.widget-view+json": {
       "model_id": "c3838253f3474482975dc45a4e73a724",
       "version_major": 2,
       "version_minor": 0
      },
      "text/plain": [
       "  0%|          | 0/4733 [00:00<?, ?it/s]"
      ]
     },
     "metadata": {},
     "output_type": "display_data"
    },
    {
     "data": {
      "application/vnd.jupyter.widget-view+json": {
       "model_id": "6010c3b0607940b5aa29ccd62e83671b",
       "version_major": 2,
       "version_minor": 0
      },
      "text/plain": [
       "  0%|          | 0/2029 [00:00<?, ?it/s]"
      ]
     },
     "metadata": {},
     "output_type": "display_data"
    },
    {
     "name": "stdout",
     "output_type": "stream",
     "text": [
      "2.390133751282954e+18 [ 7.0e-01  5.0e-03  7.0e-04  8.0e-01 -3.0e-01  8.0e-01  2.0e-03  1.1e+00]\n"
     ]
    },
    {
     "data": {
      "application/vnd.jupyter.widget-view+json": {
       "model_id": "944e8a8f92a44a6bb3de581993697643",
       "version_major": 2,
       "version_minor": 0
      },
      "text/plain": [
       "  0%|          | 0/4733 [00:00<?, ?it/s]"
      ]
     },
     "metadata": {},
     "output_type": "display_data"
    },
    {
     "data": {
      "application/vnd.jupyter.widget-view+json": {
       "model_id": "a7bae5ab899f49e39c08ef90aaaa4fed",
       "version_major": 2,
       "version_minor": 0
      },
      "text/plain": [
       "  0%|          | 0/2029 [00:00<?, ?it/s]"
      ]
     },
     "metadata": {},
     "output_type": "display_data"
    },
    {
     "name": "stdout",
     "output_type": "stream",
     "text": [
      "2.3349691613291095e+18 [ 7.00e-01  5.00e-03  6.00e-04  8.00e-01 -5.00e-01  7.00e-01  2.00e-03\n",
      "  1.05e+00]\n"
     ]
    },
    {
     "data": {
      "application/vnd.jupyter.widget-view+json": {
       "model_id": "db06e04b62cf43bd91431064132583aa",
       "version_major": 2,
       "version_minor": 0
      },
      "text/plain": [
       "  0%|          | 0/4733 [00:00<?, ?it/s]"
      ]
     },
     "metadata": {},
     "output_type": "display_data"
    },
    {
     "data": {
      "application/vnd.jupyter.widget-view+json": {
       "model_id": "e902ff63017f476cb93112aeac5f4bb5",
       "version_major": 2,
       "version_minor": 0
      },
      "text/plain": [
       "  0%|          | 0/2029 [00:00<?, ?it/s]"
      ]
     },
     "metadata": {},
     "output_type": "display_data"
    },
    {
     "name": "stdout",
     "output_type": "stream",
     "text": [
      "9.531185084535151e+17 [ 7.0e-01  5.0e-03  6.0e-04  3.0e-01 -8.0e-01  7.0e-01  1.0e-03  1.1e+00]\n"
     ]
    },
    {
     "data": {
      "application/vnd.jupyter.widget-view+json": {
       "model_id": "50d276df14e44eab93b47908473128e1",
       "version_major": 2,
       "version_minor": 0
      },
      "text/plain": [
       "  0%|          | 0/4733 [00:00<?, ?it/s]"
      ]
     },
     "metadata": {},
     "output_type": "display_data"
    },
    {
     "data": {
      "application/vnd.jupyter.widget-view+json": {
       "model_id": "6a629ab87f754d9899288910e0c97ab9",
       "version_major": 2,
       "version_minor": 0
      },
      "text/plain": [
       "  0%|          | 0/2029 [00:00<?, ?it/s]"
      ]
     },
     "metadata": {},
     "output_type": "display_data"
    },
    {
     "name": "stdout",
     "output_type": "stream",
     "text": [
      "2.407856678544808e+18 [ 7.0e-01  4.0e-03  7.0e-04  3.0e-01 -3.0e-01  7.0e-01  5.0e-03  1.1e+00]\n"
     ]
    },
    {
     "data": {
      "application/vnd.jupyter.widget-view+json": {
       "model_id": "152a3413b0fd4e1baefa373565d7829f",
       "version_major": 2,
       "version_minor": 0
      },
      "text/plain": [
       "  0%|          | 0/4733 [00:00<?, ?it/s]"
      ]
     },
     "metadata": {},
     "output_type": "display_data"
    },
    {
     "data": {
      "application/vnd.jupyter.widget-view+json": {
       "model_id": "b0a915881f0c4646865f281769d62809",
       "version_major": 2,
       "version_minor": 0
      },
      "text/plain": [
       "  0%|          | 0/2029 [00:00<?, ?it/s]"
      ]
     },
     "metadata": {},
     "output_type": "display_data"
    },
    {
     "name": "stdout",
     "output_type": "stream",
     "text": [
      "2.106385219805032e+18 [ 7.0e-01  5.0e-03  7.0e-04  8.0e-01 -3.0e-01  7.0e-01  6.0e-03  1.1e+00]\n"
     ]
    },
    {
     "data": {
      "application/vnd.jupyter.widget-view+json": {
       "model_id": "7e8859262ce746409f52a313b73b9924",
       "version_major": 2,
       "version_minor": 0
      },
      "text/plain": [
       "  0%|          | 0/4733 [00:00<?, ?it/s]"
      ]
     },
     "metadata": {},
     "output_type": "display_data"
    },
    {
     "data": {
      "application/vnd.jupyter.widget-view+json": {
       "model_id": "07a3f72f94454bee86ad2ff4ae381c63",
       "version_major": 2,
       "version_minor": 0
      },
      "text/plain": [
       "  0%|          | 0/2029 [00:00<?, ?it/s]"
      ]
     },
     "metadata": {},
     "output_type": "display_data"
    },
    {
     "name": "stdout",
     "output_type": "stream",
     "text": [
      "2.770111609864852e+18 [ 9.e-01  7.e-03  7.e-04  8.e-01 -6.e-01  7.e-01  6.e-03  1.e+00]\n"
     ]
    },
    {
     "data": {
      "application/vnd.jupyter.widget-view+json": {
       "model_id": "669313d629f84d89985a3679bf4c1d07",
       "version_major": 2,
       "version_minor": 0
      },
      "text/plain": [
       "  0%|          | 0/4733 [00:00<?, ?it/s]"
      ]
     },
     "metadata": {},
     "output_type": "display_data"
    },
    {
     "data": {
      "application/vnd.jupyter.widget-view+json": {
       "model_id": "74693253294548dabc1cae626f74cc5c",
       "version_major": 2,
       "version_minor": 0
      },
      "text/plain": [
       "  0%|          | 0/2029 [00:00<?, ?it/s]"
      ]
     },
     "metadata": {},
     "output_type": "display_data"
    },
    {
     "name": "stdout",
     "output_type": "stream",
     "text": [
      "1.424096337243275e+18 [ 7.0e-01  5.0e-03  5.0e-04  1.0e-01 -3.0e-01  7.0e-01  2.0e-03  1.1e+00]\n"
     ]
    },
    {
     "data": {
      "application/vnd.jupyter.widget-view+json": {
       "model_id": "1adb8a807fea4ce8845a43e9ad93db37",
       "version_major": 2,
       "version_minor": 0
      },
      "text/plain": [
       "  0%|          | 0/4733 [00:00<?, ?it/s]"
      ]
     },
     "metadata": {},
     "output_type": "display_data"
    },
    {
     "data": {
      "application/vnd.jupyter.widget-view+json": {
       "model_id": "2971df0a740d445e80c2bfc5b6c892d3",
       "version_major": 2,
       "version_minor": 0
      },
      "text/plain": [
       "  0%|          | 0/2029 [00:00<?, ?it/s]"
      ]
     },
     "metadata": {},
     "output_type": "display_data"
    },
    {
     "name": "stdout",
     "output_type": "stream",
     "text": [
      "1.6438610090049219e+18 [ 7.0e-01  4.0e-03  7.0e-04  8.0e-01 -7.0e-01  7.0e-01  4.0e-03  1.1e+00]\n"
     ]
    },
    {
     "data": {
      "application/vnd.jupyter.widget-view+json": {
       "model_id": "e386a98502f8496dbd359a91af438bdd",
       "version_major": 2,
       "version_minor": 0
      },
      "text/plain": [
       "  0%|          | 0/4733 [00:00<?, ?it/s]"
      ]
     },
     "metadata": {},
     "output_type": "display_data"
    },
    {
     "data": {
      "application/vnd.jupyter.widget-view+json": {
       "model_id": "f7fda7a2e6d347d691a52f65fe79fe50",
       "version_major": 2,
       "version_minor": 0
      },
      "text/plain": [
       "  0%|          | 0/2029 [00:00<?, ?it/s]"
      ]
     },
     "metadata": {},
     "output_type": "display_data"
    },
    {
     "name": "stdout",
     "output_type": "stream",
     "text": [
      "2.1620049681134802e+18 [ 7.0e-01  7.0e-03  6.0e-04  2.0e-01 -3.0e-01  7.0e-01  6.0e-03  1.1e+00]\n"
     ]
    },
    {
     "data": {
      "application/vnd.jupyter.widget-view+json": {
       "model_id": "c11153f44fdd4440a86a26a49309c438",
       "version_major": 2,
       "version_minor": 0
      },
      "text/plain": [
       "  0%|          | 0/4733 [00:00<?, ?it/s]"
      ]
     },
     "metadata": {},
     "output_type": "display_data"
    },
    {
     "data": {
      "application/vnd.jupyter.widget-view+json": {
       "model_id": "75fb3ff5a3d74e42a7331d1c57a50319",
       "version_major": 2,
       "version_minor": 0
      },
      "text/plain": [
       "  0%|          | 0/2029 [00:00<?, ?it/s]"
      ]
     },
     "metadata": {},
     "output_type": "display_data"
    },
    {
     "name": "stdout",
     "output_type": "stream",
     "text": [
      "1e+18 [ 7.e-01  7.e-03  7.e-04  2.e-01 -7.e-01  7.e-01  4.e-03  1.e+00]\n"
     ]
    },
    {
     "data": {
      "application/vnd.jupyter.widget-view+json": {
       "model_id": "128c9facc483429a9b6c39dea9cd5217",
       "version_major": 2,
       "version_minor": 0
      },
      "text/plain": [
       "  0%|          | 0/4733 [00:00<?, ?it/s]"
      ]
     },
     "metadata": {},
     "output_type": "display_data"
    },
    {
     "data": {
      "application/vnd.jupyter.widget-view+json": {
       "model_id": "1b07e1c6b3ea46b888380e16f7725999",
       "version_major": 2,
       "version_minor": 0
      },
      "text/plain": [
       "  0%|          | 0/2029 [00:00<?, ?it/s]"
      ]
     },
     "metadata": {},
     "output_type": "display_data"
    },
    {
     "name": "stdout",
     "output_type": "stream",
     "text": [
      "1e+18 [ 7.00e-01  5.00e-03  7.00e-04  8.00e-01 -7.00e-01  7.00e-01  8.00e-03\n",
      "  1.15e+00]\n"
     ]
    },
    {
     "data": {
      "application/vnd.jupyter.widget-view+json": {
       "model_id": "dba6b14416984b9a94dff5b922709a88",
       "version_major": 2,
       "version_minor": 0
      },
      "text/plain": [
       "  0%|          | 0/4733 [00:00<?, ?it/s]"
      ]
     },
     "metadata": {},
     "output_type": "display_data"
    },
    {
     "data": {
      "application/vnd.jupyter.widget-view+json": {
       "model_id": "31e13275c45040a68bbaea27f012bf9d",
       "version_major": 2,
       "version_minor": 0
      },
      "text/plain": [
       "  0%|          | 0/2029 [00:00<?, ?it/s]"
      ]
     },
     "metadata": {},
     "output_type": "display_data"
    },
    {
     "name": "stdout",
     "output_type": "stream",
     "text": [
      "1e+18 [ 7.0e-01  5.0e-03  7.0e-04  3.0e-01 -9.0e-01  7.0e-01  5.0e-03  1.1e+00]\n"
     ]
    },
    {
     "data": {
      "application/vnd.jupyter.widget-view+json": {
       "model_id": "8a0dd12e41834abfb2bb413c27f19ab8",
       "version_major": 2,
       "version_minor": 0
      },
      "text/plain": [
       "  0%|          | 0/4733 [00:00<?, ?it/s]"
      ]
     },
     "metadata": {},
     "output_type": "display_data"
    },
    {
     "data": {
      "application/vnd.jupyter.widget-view+json": {
       "model_id": "4d04a0ed59474ffca6658c01a97d3afb",
       "version_major": 2,
       "version_minor": 0
      },
      "text/plain": [
       "  0%|          | 0/2029 [00:00<?, ?it/s]"
      ]
     },
     "metadata": {},
     "output_type": "display_data"
    },
    {
     "name": "stdout",
     "output_type": "stream",
     "text": [
      "1.88390280799928e+18 [ 8.0e-01  9.0e-03  7.0e-04  3.0e-01 -3.0e-01  2.0e-01  6.0e-03  1.1e+00]\n"
     ]
    },
    {
     "data": {
      "application/vnd.jupyter.widget-view+json": {
       "model_id": "6e3a4914832a42b7ac4757cce48f1c38",
       "version_major": 2,
       "version_minor": 0
      },
      "text/plain": [
       "  0%|          | 0/4733 [00:00<?, ?it/s]"
      ]
     },
     "metadata": {},
     "output_type": "display_data"
    },
    {
     "data": {
      "application/vnd.jupyter.widget-view+json": {
       "model_id": "63b0a434351341bda7351116ca756b70",
       "version_major": 2,
       "version_minor": 0
      },
      "text/plain": [
       "  0%|          | 0/2029 [00:00<?, ?it/s]"
      ]
     },
     "metadata": {},
     "output_type": "display_data"
    },
    {
     "name": "stdout",
     "output_type": "stream",
     "text": [
      "1e+18 [ 8.0e-01  5.0e-03  7.0e-04  7.0e-01 -6.0e-01  6.0e-01  6.0e-03  1.1e+00]\n"
     ]
    },
    {
     "data": {
      "application/vnd.jupyter.widget-view+json": {
       "model_id": "d81d10d689584357a1ffac3873795abc",
       "version_major": 2,
       "version_minor": 0
      },
      "text/plain": [
       "  0%|          | 0/4733 [00:00<?, ?it/s]"
      ]
     },
     "metadata": {},
     "output_type": "display_data"
    },
    {
     "data": {
      "application/vnd.jupyter.widget-view+json": {
       "model_id": "e127a7b00cae4eeba38043408dd0ed5f",
       "version_major": 2,
       "version_minor": 0
      },
      "text/plain": [
       "  0%|          | 0/2029 [00:00<?, ?it/s]"
      ]
     },
     "metadata": {},
     "output_type": "display_data"
    },
    {
     "name": "stdout",
     "output_type": "stream",
     "text": [
      "3.5586343914190797e+18 [ 7.0e-01  7.0e-03  7.0e-04  8.0e-01 -6.0e-01  6.0e-01  6.0e-03  1.1e+00]\n"
     ]
    },
    {
     "data": {
      "application/vnd.jupyter.widget-view+json": {
       "model_id": "e26c590f54de428486445e378ac5d822",
       "version_major": 2,
       "version_minor": 0
      },
      "text/plain": [
       "  0%|          | 0/4733 [00:00<?, ?it/s]"
      ]
     },
     "metadata": {},
     "output_type": "display_data"
    },
    {
     "data": {
      "application/vnd.jupyter.widget-view+json": {
       "model_id": "9cd3e0140d1644f985c65206aaeb4719",
       "version_major": 2,
       "version_minor": 0
      },
      "text/plain": [
       "  0%|          | 0/2029 [00:00<?, ?it/s]"
      ]
     },
     "metadata": {},
     "output_type": "display_data"
    },
    {
     "name": "stdout",
     "output_type": "stream",
     "text": [
      "1.333621406985631e+18 [ 2.00e-01  8.00e-03  7.00e-04  8.00e-01 -6.00e-01  3.00e-01  3.00e-03\n",
      "  1.15e+00]\n"
     ]
    },
    {
     "data": {
      "application/vnd.jupyter.widget-view+json": {
       "model_id": "cb5bd255401043d894a11c43f8e0ecde",
       "version_major": 2,
       "version_minor": 0
      },
      "text/plain": [
       "  0%|          | 0/4733 [00:00<?, ?it/s]"
      ]
     },
     "metadata": {},
     "output_type": "display_data"
    },
    {
     "data": {
      "application/vnd.jupyter.widget-view+json": {
       "model_id": "a90e4aea9e1f414d9ebd81ecb6f91f7d",
       "version_major": 2,
       "version_minor": 0
      },
      "text/plain": [
       "  0%|          | 0/2029 [00:00<?, ?it/s]"
      ]
     },
     "metadata": {},
     "output_type": "display_data"
    },
    {
     "name": "stdout",
     "output_type": "stream",
     "text": [
      "2.420591340333502e+18 [ 8.0e-01  7.0e-03  7.0e-04  2.0e-01 -3.0e-01  7.0e-01  6.0e-03  1.1e+00]\n"
     ]
    },
    {
     "data": {
      "application/vnd.jupyter.widget-view+json": {
       "model_id": "cdf3c60e966e43a1900e7d91f747573a",
       "version_major": 2,
       "version_minor": 0
      },
      "text/plain": [
       "  0%|          | 0/4733 [00:00<?, ?it/s]"
      ]
     },
     "metadata": {},
     "output_type": "display_data"
    },
    {
     "data": {
      "application/vnd.jupyter.widget-view+json": {
       "model_id": "1f085e4df4674aaea83227596f391535",
       "version_major": 2,
       "version_minor": 0
      },
      "text/plain": [
       "  0%|          | 0/2029 [00:00<?, ?it/s]"
      ]
     },
     "metadata": {},
     "output_type": "display_data"
    },
    {
     "name": "stdout",
     "output_type": "stream",
     "text": [
      "1e+18 [ 7.0e-01  7.0e-03  9.0e-04  2.0e-01 -6.0e-01  7.0e-01  6.0e-03  1.1e+00]\n"
     ]
    },
    {
     "data": {
      "application/vnd.jupyter.widget-view+json": {
       "model_id": "c4326ebe649044588045072b42fd3014",
       "version_major": 2,
       "version_minor": 0
      },
      "text/plain": [
       "  0%|          | 0/4733 [00:00<?, ?it/s]"
      ]
     },
     "metadata": {},
     "output_type": "display_data"
    },
    {
     "data": {
      "application/vnd.jupyter.widget-view+json": {
       "model_id": "e43fa1bd1cb849c685080a3b04e9c125",
       "version_major": 2,
       "version_minor": 0
      },
      "text/plain": [
       "  0%|          | 0/2029 [00:00<?, ?it/s]"
      ]
     },
     "metadata": {},
     "output_type": "display_data"
    },
    {
     "name": "stdout",
     "output_type": "stream",
     "text": [
      "1.7288790141067218e+18 [ 2.0e-01  7.0e-03  7.0e-04  8.0e-01 -6.0e-01  7.0e-01  4.0e-03  1.1e+00]\n"
     ]
    },
    {
     "data": {
      "application/vnd.jupyter.widget-view+json": {
       "model_id": "e4318ab03c2241ae917254be0e818017",
       "version_major": 2,
       "version_minor": 0
      },
      "text/plain": [
       "  0%|          | 0/4733 [00:00<?, ?it/s]"
      ]
     },
     "metadata": {},
     "output_type": "display_data"
    },
    {
     "data": {
      "application/vnd.jupyter.widget-view+json": {
       "model_id": "fa148b7e26bf4c00afd6243facd42d56",
       "version_major": 2,
       "version_minor": 0
      },
      "text/plain": [
       "  0%|          | 0/2029 [00:00<?, ?it/s]"
      ]
     },
     "metadata": {},
     "output_type": "display_data"
    },
    {
     "name": "stdout",
     "output_type": "stream",
     "text": [
      "1.16223730343433e+18 [ 7.0e-01  7.0e-03  9.0e-04  8.0e-01 -6.0e-01  2.0e-01  4.0e-03  1.1e+00]\n"
     ]
    },
    {
     "data": {
      "application/vnd.jupyter.widget-view+json": {
       "model_id": "917980f2a25b449d96ba64e35b9aaa94",
       "version_major": 2,
       "version_minor": 0
      },
      "text/plain": [
       "  0%|          | 0/4733 [00:00<?, ?it/s]"
      ]
     },
     "metadata": {},
     "output_type": "display_data"
    },
    {
     "data": {
      "application/vnd.jupyter.widget-view+json": {
       "model_id": "38722730ceb547c680c6e8ffe8005dc9",
       "version_major": 2,
       "version_minor": 0
      },
      "text/plain": [
       "  0%|          | 0/2029 [00:00<?, ?it/s]"
      ]
     },
     "metadata": {},
     "output_type": "display_data"
    },
    {
     "name": "stdout",
     "output_type": "stream",
     "text": [
      "2.1110169126081236e+18 [ 7.e-01  7.e-03  9.e-04  3.e-01 -6.e-01  6.e-01  3.e-03  1.e+00]\n"
     ]
    },
    {
     "data": {
      "application/vnd.jupyter.widget-view+json": {
       "model_id": "991a14ae26964482819431775d92dd5d",
       "version_major": 2,
       "version_minor": 0
      },
      "text/plain": [
       "  0%|          | 0/4733 [00:00<?, ?it/s]"
      ]
     },
     "metadata": {},
     "output_type": "display_data"
    },
    {
     "data": {
      "application/vnd.jupyter.widget-view+json": {
       "model_id": "5f0e85dacd9c4808a7d751f1ec459876",
       "version_major": 2,
       "version_minor": 0
      },
      "text/plain": [
       "  0%|          | 0/2029 [00:00<?, ?it/s]"
      ]
     },
     "metadata": {},
     "output_type": "display_data"
    },
    {
     "name": "stdout",
     "output_type": "stream",
     "text": [
      "2.8173809689546235e+18 [ 7.00e-01  7.00e-03  7.00e-04  8.00e-01 -6.00e-01  7.00e-01  6.00e-03\n",
      "  1.15e+00]\n"
     ]
    },
    {
     "data": {
      "application/vnd.jupyter.widget-view+json": {
       "model_id": "0eaa4085bd7349d9b30c37b51d6fae2e",
       "version_major": 2,
       "version_minor": 0
      },
      "text/plain": [
       "  0%|          | 0/4733 [00:00<?, ?it/s]"
      ]
     },
     "metadata": {},
     "output_type": "display_data"
    },
    {
     "data": {
      "application/vnd.jupyter.widget-view+json": {
       "model_id": "9208881bce9c4210b72687f6663179ff",
       "version_major": 2,
       "version_minor": 0
      },
      "text/plain": [
       "  0%|          | 0/2029 [00:00<?, ?it/s]"
      ]
     },
     "metadata": {},
     "output_type": "display_data"
    },
    {
     "name": "stdout",
     "output_type": "stream",
     "text": [
      "1.650758141857105e+18 [ 7.0e-01  4.0e-03  7.0e-04  8.0e-01 -6.0e-01  7.0e-01  4.0e-03  1.1e+00]\n"
     ]
    },
    {
     "data": {
      "application/vnd.jupyter.widget-view+json": {
       "model_id": "5f2e0c4a28c24d7c9737c5e9cf01f0a5",
       "version_major": 2,
       "version_minor": 0
      },
      "text/plain": [
       "  0%|          | 0/4733 [00:00<?, ?it/s]"
      ]
     },
     "metadata": {},
     "output_type": "display_data"
    },
    {
     "data": {
      "application/vnd.jupyter.widget-view+json": {
       "model_id": "d8901f6a2f89473e8d394b23822f9f01",
       "version_major": 2,
       "version_minor": 0
      },
      "text/plain": [
       "  0%|          | 0/2029 [00:00<?, ?it/s]"
      ]
     },
     "metadata": {},
     "output_type": "display_data"
    },
    {
     "name": "stdout",
     "output_type": "stream",
     "text": [
      "1e+18 [ 7.e-01  4.e-03  7.e-04  2.e-01 -3.e-01  7.e-01  6.e-03  1.e+00]\n"
     ]
    },
    {
     "data": {
      "application/vnd.jupyter.widget-view+json": {
       "model_id": "fe1f96f6ecc64ce181d32c3ed965d42b",
       "version_major": 2,
       "version_minor": 0
      },
      "text/plain": [
       "  0%|          | 0/4733 [00:00<?, ?it/s]"
      ]
     },
     "metadata": {},
     "output_type": "display_data"
    },
    {
     "data": {
      "application/vnd.jupyter.widget-view+json": {
       "model_id": "c3fcbd05f8b34c10a3a6a75e89885753",
       "version_major": 2,
       "version_minor": 0
      },
      "text/plain": [
       "  0%|          | 0/2029 [00:00<?, ?it/s]"
      ]
     },
     "metadata": {},
     "output_type": "display_data"
    },
    {
     "name": "stdout",
     "output_type": "stream",
     "text": [
      "2.747279363272414e+18 [ 7.00e-01  7.00e-03  7.00e-04  8.00e-01 -7.00e-01  7.00e-01  6.00e-03\n",
      "  1.15e+00]\n"
     ]
    },
    {
     "data": {
      "application/vnd.jupyter.widget-view+json": {
       "model_id": "816beb8d5a05488eaa074408a893e39d",
       "version_major": 2,
       "version_minor": 0
      },
      "text/plain": [
       "  0%|          | 0/4733 [00:00<?, ?it/s]"
      ]
     },
     "metadata": {},
     "output_type": "display_data"
    },
    {
     "data": {
      "application/vnd.jupyter.widget-view+json": {
       "model_id": "11dd42d9a5964559a3cbf84fc50755f8",
       "version_major": 2,
       "version_minor": 0
      },
      "text/plain": [
       "  0%|          | 0/2029 [00:00<?, ?it/s]"
      ]
     },
     "metadata": {},
     "output_type": "display_data"
    },
    {
     "name": "stdout",
     "output_type": "stream",
     "text": [
      "1e+18 [ 7.00e-01  1.00e-03  7.00e-04  8.00e-01 -7.00e-01  8.00e-01  2.00e-03\n",
      "  1.15e+00]\n"
     ]
    },
    {
     "data": {
      "application/vnd.jupyter.widget-view+json": {
       "model_id": "42442b3aa0154757ad486ae7712b3837",
       "version_major": 2,
       "version_minor": 0
      },
      "text/plain": [
       "  0%|          | 0/4733 [00:00<?, ?it/s]"
      ]
     },
     "metadata": {},
     "output_type": "display_data"
    },
    {
     "data": {
      "application/vnd.jupyter.widget-view+json": {
       "model_id": "5a59210324174bcaa31f04d6f1c1b4bc",
       "version_major": 2,
       "version_minor": 0
      },
      "text/plain": [
       "  0%|          | 0/2029 [00:00<?, ?it/s]"
      ]
     },
     "metadata": {},
     "output_type": "display_data"
    },
    {
     "name": "stdout",
     "output_type": "stream",
     "text": [
      "1.9350461789796352e+18 [ 7.0e-01  4.0e-03  7.0e-04  3.0e-01 -5.0e-01  7.0e-01  2.0e-03  1.1e+00]\n"
     ]
    },
    {
     "data": {
      "application/vnd.jupyter.widget-view+json": {
       "model_id": "29e4a136bc99418db1bdb240baba1aed",
       "version_major": 2,
       "version_minor": 0
      },
      "text/plain": [
       "  0%|          | 0/4733 [00:00<?, ?it/s]"
      ]
     },
     "metadata": {},
     "output_type": "display_data"
    },
    {
     "data": {
      "application/vnd.jupyter.widget-view+json": {
       "model_id": "5bbcb8e5d01e49abbe9731d3f4935a7a",
       "version_major": 2,
       "version_minor": 0
      },
      "text/plain": [
       "  0%|          | 0/2029 [00:00<?, ?it/s]"
      ]
     },
     "metadata": {},
     "output_type": "display_data"
    },
    {
     "name": "stdout",
     "output_type": "stream",
     "text": [
      "2.2241736572542643e+18 [ 7.0e-01  5.0e-03  7.0e-04  5.0e-01 -3.0e-01  7.0e-01  5.0e-03  1.1e+00]\n"
     ]
    },
    {
     "data": {
      "application/vnd.jupyter.widget-view+json": {
       "model_id": "82b9882e0afb4638bcdaa9fb7e8750aa",
       "version_major": 2,
       "version_minor": 0
      },
      "text/plain": [
       "  0%|          | 0/4733 [00:00<?, ?it/s]"
      ]
     },
     "metadata": {},
     "output_type": "display_data"
    },
    {
     "data": {
      "application/vnd.jupyter.widget-view+json": {
       "model_id": "25e040eedb354a8e84661929a09748fb",
       "version_major": 2,
       "version_minor": 0
      },
      "text/plain": [
       "  0%|          | 0/2029 [00:00<?, ?it/s]"
      ]
     },
     "metadata": {},
     "output_type": "display_data"
    },
    {
     "name": "stdout",
     "output_type": "stream",
     "text": [
      "1.3103903011257398e+18 [ 8.e-01  5.e-03  7.e-04  8.e-01 -6.e-01  2.e-01  6.e-03  1.e+00]\n"
     ]
    },
    {
     "data": {
      "application/vnd.jupyter.widget-view+json": {
       "model_id": "e8c2b62fb2064b73b29a8b6c7e2c2471",
       "version_major": 2,
       "version_minor": 0
      },
      "text/plain": [
       "  0%|          | 0/4733 [00:00<?, ?it/s]"
      ]
     },
     "metadata": {},
     "output_type": "display_data"
    },
    {
     "data": {
      "application/vnd.jupyter.widget-view+json": {
       "model_id": "d7c94bc6ebe54c789c7a6c356ce85ace",
       "version_major": 2,
       "version_minor": 0
      },
      "text/plain": [
       "  0%|          | 0/2029 [00:00<?, ?it/s]"
      ]
     },
     "metadata": {},
     "output_type": "display_data"
    },
    {
     "name": "stdout",
     "output_type": "stream",
     "text": [
      "2.224311920572756e+18 [ 7.0e-01  8.0e-03  7.0e-04  1.0e-01 -3.0e-01  6.0e-01  2.0e-03  1.1e+00]\n"
     ]
    },
    {
     "data": {
      "application/vnd.jupyter.widget-view+json": {
       "model_id": "a9bb5cb9bb304a5da3e58871610ee953",
       "version_major": 2,
       "version_minor": 0
      },
      "text/plain": [
       "  0%|          | 0/4733 [00:00<?, ?it/s]"
      ]
     },
     "metadata": {},
     "output_type": "display_data"
    },
    {
     "data": {
      "application/vnd.jupyter.widget-view+json": {
       "model_id": "97148f89402441ffa8f76effcc102ee5",
       "version_major": 2,
       "version_minor": 0
      },
      "text/plain": [
       "  0%|          | 0/2029 [00:00<?, ?it/s]"
      ]
     },
     "metadata": {},
     "output_type": "display_data"
    },
    {
     "name": "stdout",
     "output_type": "stream",
     "text": [
      "1.1909109449416658e+18 [ 7.00e-01  5.00e-03  7.00e-04  8.00e-01 -6.00e-01  1.00e-01  3.00e-03\n",
      "  1.15e+00]\n"
     ]
    },
    {
     "data": {
      "application/vnd.jupyter.widget-view+json": {
       "model_id": "e1b5f977aea34755ba8ec60773bbb5b5",
       "version_major": 2,
       "version_minor": 0
      },
      "text/plain": [
       "  0%|          | 0/4733 [00:00<?, ?it/s]"
      ]
     },
     "metadata": {},
     "output_type": "display_data"
    },
    {
     "data": {
      "application/vnd.jupyter.widget-view+json": {
       "model_id": "0cb38f9c06b140c69309cfec00f2131a",
       "version_major": 2,
       "version_minor": 0
      },
      "text/plain": [
       "  0%|          | 0/2029 [00:00<?, ?it/s]"
      ]
     },
     "metadata": {},
     "output_type": "display_data"
    },
    {
     "name": "stdout",
     "output_type": "stream",
     "text": [
      "1e+18 [ 7.0e-01  1.0e-03  5.0e-04  8.0e-01 -3.0e-01  3.0e-01  6.0e-03  1.1e+00]\n"
     ]
    },
    {
     "data": {
      "application/vnd.jupyter.widget-view+json": {
       "model_id": "11afd2d6ca5740baa0823ab2b7cf66a8",
       "version_major": 2,
       "version_minor": 0
      },
      "text/plain": [
       "  0%|          | 0/4733 [00:00<?, ?it/s]"
      ]
     },
     "metadata": {},
     "output_type": "display_data"
    },
    {
     "data": {
      "application/vnd.jupyter.widget-view+json": {
       "model_id": "87be3ca12bbb4256b85318e803ba7728",
       "version_major": 2,
       "version_minor": 0
      },
      "text/plain": [
       "  0%|          | 0/2029 [00:00<?, ?it/s]"
      ]
     },
     "metadata": {},
     "output_type": "display_data"
    },
    {
     "name": "stdout",
     "output_type": "stream",
     "text": [
      "2.351007525671125e+18 [ 7.0e-01  7.0e-03  5.0e-04  7.0e-01 -6.0e-01  7.0e-01  6.0e-03  1.1e+00]\n"
     ]
    },
    {
     "data": {
      "application/vnd.jupyter.widget-view+json": {
       "model_id": "af3438ab67664df8ae3cd37c3840e841",
       "version_major": 2,
       "version_minor": 0
      },
      "text/plain": [
       "  0%|          | 0/4733 [00:00<?, ?it/s]"
      ]
     },
     "metadata": {},
     "output_type": "display_data"
    },
    {
     "data": {
      "application/vnd.jupyter.widget-view+json": {
       "model_id": "db1f0eae657a413f8ca43444a39323c3",
       "version_major": 2,
       "version_minor": 0
      },
      "text/plain": [
       "  0%|          | 0/2029 [00:00<?, ?it/s]"
      ]
     },
     "metadata": {},
     "output_type": "display_data"
    },
    {
     "name": "stdout",
     "output_type": "stream",
     "text": [
      "1.0220339413701755e+18 [ 7.0e-01  7.0e-03  7.0e-04  8.0e-01 -6.0e-01  3.0e-01  4.0e-03  1.1e+00]\n"
     ]
    },
    {
     "data": {
      "application/vnd.jupyter.widget-view+json": {
       "model_id": "9441a5cd345e4a908fc1c06ba6bbf9a9",
       "version_major": 2,
       "version_minor": 0
      },
      "text/plain": [
       "  0%|          | 0/4733 [00:00<?, ?it/s]"
      ]
     },
     "metadata": {},
     "output_type": "display_data"
    },
    {
     "data": {
      "application/vnd.jupyter.widget-view+json": {
       "model_id": "f0a1de542e904803afdf6ddb6176a530",
       "version_major": 2,
       "version_minor": 0
      },
      "text/plain": [
       "  0%|          | 0/2029 [00:00<?, ?it/s]"
      ]
     },
     "metadata": {},
     "output_type": "display_data"
    },
    {
     "name": "stdout",
     "output_type": "stream",
     "text": [
      "1.919661490689574e+18 [ 7.0e-01  8.0e-03  7.0e-04  8.0e-01 -6.0e-01  7.0e-01  4.0e-03  1.1e+00]\n"
     ]
    },
    {
     "data": {
      "application/vnd.jupyter.widget-view+json": {
       "model_id": "69b4b210b56f46de863b974433427841",
       "version_major": 2,
       "version_minor": 0
      },
      "text/plain": [
       "  0%|          | 0/4733 [00:00<?, ?it/s]"
      ]
     },
     "metadata": {},
     "output_type": "display_data"
    },
    {
     "data": {
      "application/vnd.jupyter.widget-view+json": {
       "model_id": "12cc06d44a69490f89d34ca8de3a62e2",
       "version_major": 2,
       "version_minor": 0
      },
      "text/plain": [
       "  0%|          | 0/2029 [00:00<?, ?it/s]"
      ]
     },
     "metadata": {},
     "output_type": "display_data"
    },
    {
     "name": "stdout",
     "output_type": "stream",
     "text": [
      "1.487001413911952e+18 [ 7.e-01  7.e-03  7.e-04  8.e-01 -6.e-01  8.e-01  3.e-03  1.e+00]\n"
     ]
    },
    {
     "data": {
      "application/vnd.jupyter.widget-view+json": {
       "model_id": "22a8f12240a049748cb17c55500f5929",
       "version_major": 2,
       "version_minor": 0
      },
      "text/plain": [
       "  0%|          | 0/4733 [00:00<?, ?it/s]"
      ]
     },
     "metadata": {},
     "output_type": "display_data"
    },
    {
     "data": {
      "application/vnd.jupyter.widget-view+json": {
       "model_id": "ce01473f67b54f91a134dcedf57387cf",
       "version_major": 2,
       "version_minor": 0
      },
      "text/plain": [
       "  0%|          | 0/2029 [00:00<?, ?it/s]"
      ]
     },
     "metadata": {},
     "output_type": "display_data"
    },
    {
     "name": "stdout",
     "output_type": "stream",
     "text": [
      "1.733362882869815e+18 [ 7.0e-01  4.0e-03  7.0e-04  6.0e-01 -6.0e-01  7.0e-01  4.0e-03  1.1e+00]\n"
     ]
    },
    {
     "data": {
      "application/vnd.jupyter.widget-view+json": {
       "model_id": "f5afe2b2b8a0431d98205d2c27cfe463",
       "version_major": 2,
       "version_minor": 0
      },
      "text/plain": [
       "  0%|          | 0/4733 [00:00<?, ?it/s]"
      ]
     },
     "metadata": {},
     "output_type": "display_data"
    },
    {
     "data": {
      "application/vnd.jupyter.widget-view+json": {
       "model_id": "636e7316d59545ee855b2b04f3311ddb",
       "version_major": 2,
       "version_minor": 0
      },
      "text/plain": [
       "  0%|          | 0/2029 [00:00<?, ?it/s]"
      ]
     },
     "metadata": {},
     "output_type": "display_data"
    },
    {
     "name": "stdout",
     "output_type": "stream",
     "text": [
      "2.379152993582617e+18 [ 8.0e-01  7.0e-03  8.0e-04  2.0e-01 -3.0e-01  7.0e-01  6.0e-03  1.1e+00]\n"
     ]
    },
    {
     "data": {
      "application/vnd.jupyter.widget-view+json": {
       "model_id": "1923bed378e8431e8416ffb57193a9da",
       "version_major": 2,
       "version_minor": 0
      },
      "text/plain": [
       "  0%|          | 0/4733 [00:00<?, ?it/s]"
      ]
     },
     "metadata": {},
     "output_type": "display_data"
    },
    {
     "data": {
      "application/vnd.jupyter.widget-view+json": {
       "model_id": "d460d1cdcac04149b9deaf74194add9e",
       "version_major": 2,
       "version_minor": 0
      },
      "text/plain": [
       "  0%|          | 0/2029 [00:00<?, ?it/s]"
      ]
     },
     "metadata": {},
     "output_type": "display_data"
    },
    {
     "name": "stdout",
     "output_type": "stream",
     "text": [
      "2.7541076767484856e+18 [ 8.e-01  7.e-03  7.e-04  2.e-01 -3.e-01  6.e-01  6.e-03  1.e+00]\n"
     ]
    },
    {
     "data": {
      "application/vnd.jupyter.widget-view+json": {
       "model_id": "2d08dd60961a4f78bd53e220ccae6bc4",
       "version_major": 2,
       "version_minor": 0
      },
      "text/plain": [
       "  0%|          | 0/4733 [00:00<?, ?it/s]"
      ]
     },
     "metadata": {},
     "output_type": "display_data"
    },
    {
     "data": {
      "application/vnd.jupyter.widget-view+json": {
       "model_id": "0e4506ba2c1f4942b32e6ccb67c95df7",
       "version_major": 2,
       "version_minor": 0
      },
      "text/plain": [
       "  0%|          | 0/2029 [00:00<?, ?it/s]"
      ]
     },
     "metadata": {},
     "output_type": "display_data"
    },
    {
     "name": "stdout",
     "output_type": "stream",
     "text": [
      "1e+18 [ 7.0e-01  1.0e-03  7.0e-04  8.0e-01 -6.0e-01  6.0e-01  6.0e-03  1.1e+00]\n"
     ]
    },
    {
     "data": {
      "application/vnd.jupyter.widget-view+json": {
       "model_id": "10a902f31e294017aceefca35221f12c",
       "version_major": 2,
       "version_minor": 0
      },
      "text/plain": [
       "  0%|          | 0/4733 [00:00<?, ?it/s]"
      ]
     },
     "metadata": {},
     "output_type": "display_data"
    },
    {
     "data": {
      "application/vnd.jupyter.widget-view+json": {
       "model_id": "50dc4261338243719cf8a480bdbfb160",
       "version_major": 2,
       "version_minor": 0
      },
      "text/plain": [
       "  0%|          | 0/2029 [00:00<?, ?it/s]"
      ]
     },
     "metadata": {},
     "output_type": "display_data"
    },
    {
     "name": "stdout",
     "output_type": "stream",
     "text": [
      "1.288973608851523e+18 [ 7.0e-01  5.0e-03  7.0e-04  5.0e-01 -7.0e-01  6.0e-01  5.0e-03  1.1e+00]\n"
     ]
    },
    {
     "data": {
      "application/vnd.jupyter.widget-view+json": {
       "model_id": "3af19580d9cd4c67b8a1bac2ce9ede84",
       "version_major": 2,
       "version_minor": 0
      },
      "text/plain": [
       "  0%|          | 0/4733 [00:00<?, ?it/s]"
      ]
     },
     "metadata": {},
     "output_type": "display_data"
    },
    {
     "data": {
      "application/vnd.jupyter.widget-view+json": {
       "model_id": "75ec07a8fcc645d2990d8fc170591bbd",
       "version_major": 2,
       "version_minor": 0
      },
      "text/plain": [
       "  0%|          | 0/2029 [00:00<?, ?it/s]"
      ]
     },
     "metadata": {},
     "output_type": "display_data"
    },
    {
     "name": "stdout",
     "output_type": "stream",
     "text": [
      "1.864040945739106e+18 [ 7.0e-01  5.0e-03  7.0e-04  5.0e-01 -5.0e-01  7.0e-01  5.0e-03  1.1e+00]\n"
     ]
    },
    {
     "data": {
      "application/vnd.jupyter.widget-view+json": {
       "model_id": "d7baece1809d4e58904f5f7a6ef3db53",
       "version_major": 2,
       "version_minor": 0
      },
      "text/plain": [
       "  0%|          | 0/4733 [00:00<?, ?it/s]"
      ]
     },
     "metadata": {},
     "output_type": "display_data"
    },
    {
     "data": {
      "application/vnd.jupyter.widget-view+json": {
       "model_id": "94080f4c30db434089d12908908fab10",
       "version_major": 2,
       "version_minor": 0
      },
      "text/plain": [
       "  0%|          | 0/2029 [00:00<?, ?it/s]"
      ]
     },
     "metadata": {},
     "output_type": "display_data"
    },
    {
     "name": "stdout",
     "output_type": "stream",
     "text": [
      "1.6147232918793021e+18 [ 7.0e-01  4.0e-03  7.0e-04  8.0e-01 -8.0e-01  7.0e-01  4.0e-03  1.1e+00]\n"
     ]
    },
    {
     "data": {
      "application/vnd.jupyter.widget-view+json": {
       "model_id": "94f460bd633149a0b97cb29bb17fbd45",
       "version_major": 2,
       "version_minor": 0
      },
      "text/plain": [
       "  0%|          | 0/4733 [00:00<?, ?it/s]"
      ]
     },
     "metadata": {},
     "output_type": "display_data"
    },
    {
     "data": {
      "application/vnd.jupyter.widget-view+json": {
       "model_id": "faa02592b6694167a585cf27404e1995",
       "version_major": 2,
       "version_minor": 0
      },
      "text/plain": [
       "  0%|          | 0/2029 [00:00<?, ?it/s]"
      ]
     },
     "metadata": {},
     "output_type": "display_data"
    },
    {
     "name": "stdout",
     "output_type": "stream",
     "text": [
      "2.4427504433675315e+18 [ 7.0e-01  2.0e-03  7.0e-04  2.0e-01 -3.0e-01  7.0e-01  4.0e-03  1.1e+00]\n"
     ]
    },
    {
     "data": {
      "application/vnd.jupyter.widget-view+json": {
       "model_id": "3baff03e3b1e42f68804dfae30c55a5c",
       "version_major": 2,
       "version_minor": 0
      },
      "text/plain": [
       "  0%|          | 0/4733 [00:00<?, ?it/s]"
      ]
     },
     "metadata": {},
     "output_type": "display_data"
    },
    {
     "data": {
      "application/vnd.jupyter.widget-view+json": {
       "model_id": "ac4cb99faa9a46308552f174d6fccce4",
       "version_major": 2,
       "version_minor": 0
      },
      "text/plain": [
       "  0%|          | 0/2029 [00:00<?, ?it/s]"
      ]
     },
     "metadata": {},
     "output_type": "display_data"
    },
    {
     "name": "stdout",
     "output_type": "stream",
     "text": [
      "1e+18 [ 7.0e-01  7.0e-03  6.0e-04  1.0e-01 -6.0e-01  7.0e-01  4.0e-03  1.1e+00]\n"
     ]
    },
    {
     "data": {
      "application/vnd.jupyter.widget-view+json": {
       "model_id": "d5659904a6c242afa99d574e3bf71941",
       "version_major": 2,
       "version_minor": 0
      },
      "text/plain": [
       "  0%|          | 0/4733 [00:00<?, ?it/s]"
      ]
     },
     "metadata": {},
     "output_type": "display_data"
    },
    {
     "data": {
      "application/vnd.jupyter.widget-view+json": {
       "model_id": "ca1e2ef3ce094426b93a0ec7e2261c9c",
       "version_major": 2,
       "version_minor": 0
      },
      "text/plain": [
       "  0%|          | 0/2029 [00:00<?, ?it/s]"
      ]
     },
     "metadata": {},
     "output_type": "display_data"
    },
    {
     "name": "stdout",
     "output_type": "stream",
     "text": [
      "2.20675810168717e+18 [ 2.0e-01  7.0e-03  7.0e-04  8.0e-01 -3.0e-01  7.0e-01  7.0e-03  1.1e+00]\n"
     ]
    },
    {
     "data": {
      "application/vnd.jupyter.widget-view+json": {
       "model_id": "8e88a31217bc404383728ae4b75a43fd",
       "version_major": 2,
       "version_minor": 0
      },
      "text/plain": [
       "  0%|          | 0/4733 [00:00<?, ?it/s]"
      ]
     },
     "metadata": {},
     "output_type": "display_data"
    },
    {
     "data": {
      "application/vnd.jupyter.widget-view+json": {
       "model_id": "7dc81a0e342047a1ad004c80b3256e1f",
       "version_major": 2,
       "version_minor": 0
      },
      "text/plain": [
       "  0%|          | 0/2029 [00:00<?, ?it/s]"
      ]
     },
     "metadata": {},
     "output_type": "display_data"
    },
    {
     "name": "stdout",
     "output_type": "stream",
     "text": [
      "2.22047721737131e+18 [ 7.0e-01  7.0e-03  7.0e-04  2.0e-01 -3.0e-01  7.0e-01  4.0e-03  1.1e+00]\n"
     ]
    },
    {
     "data": {
      "application/vnd.jupyter.widget-view+json": {
       "model_id": "690bb1fd3d8d493293b98e7a11dca0a6",
       "version_major": 2,
       "version_minor": 0
      },
      "text/plain": [
       "  0%|          | 0/4733 [00:00<?, ?it/s]"
      ]
     },
     "metadata": {},
     "output_type": "display_data"
    },
    {
     "data": {
      "application/vnd.jupyter.widget-view+json": {
       "model_id": "a042536d3a384748ad23701d1ae98700",
       "version_major": 2,
       "version_minor": 0
      },
      "text/plain": [
       "  0%|          | 0/2029 [00:00<?, ?it/s]"
      ]
     },
     "metadata": {},
     "output_type": "display_data"
    },
    {
     "name": "stdout",
     "output_type": "stream",
     "text": [
      "1e+18 [ 7.0e-01  9.0e-03  7.0e-04  2.0e-01 -6.0e-01  7.0e-01  6.0e-03  1.1e+00]\n"
     ]
    },
    {
     "data": {
      "application/vnd.jupyter.widget-view+json": {
       "model_id": "fa12626020484b68ba77ad7fbd98cde2",
       "version_major": 2,
       "version_minor": 0
      },
      "text/plain": [
       "  0%|          | 0/4733 [00:00<?, ?it/s]"
      ]
     },
     "metadata": {},
     "output_type": "display_data"
    },
    {
     "data": {
      "application/vnd.jupyter.widget-view+json": {
       "model_id": "6e95f793eff24f8988a4b41f70432c18",
       "version_major": 2,
       "version_minor": 0
      },
      "text/plain": [
       "  0%|          | 0/2029 [00:00<?, ?it/s]"
      ]
     },
     "metadata": {},
     "output_type": "display_data"
    },
    {
     "name": "stdout",
     "output_type": "stream",
     "text": [
      "2.67585600266188e+18 [ 8.0e-01  7.0e-03  7.0e-04  4.0e-01 -3.0e-01  7.0e-01  6.0e-03  1.1e+00]\n"
     ]
    },
    {
     "data": {
      "application/vnd.jupyter.widget-view+json": {
       "model_id": "8a6faee8be1449b09d503e44a0efca57",
       "version_major": 2,
       "version_minor": 0
      },
      "text/plain": [
       "  0%|          | 0/4733 [00:00<?, ?it/s]"
      ]
     },
     "metadata": {},
     "output_type": "display_data"
    },
    {
     "data": {
      "application/vnd.jupyter.widget-view+json": {
       "model_id": "fae873d3427d431f836051ab14c63bd0",
       "version_major": 2,
       "version_minor": 0
      },
      "text/plain": [
       "  0%|          | 0/2029 [00:00<?, ?it/s]"
      ]
     },
     "metadata": {},
     "output_type": "display_data"
    },
    {
     "name": "stdout",
     "output_type": "stream",
     "text": [
      "2.7083449116261565e+18 [ 2.0e-01  5.0e-03  7.0e-04  5.0e-01 -3.0e-01  6.0e-01  6.0e-03  1.1e+00]\n"
     ]
    },
    {
     "data": {
      "application/vnd.jupyter.widget-view+json": {
       "model_id": "682e30417d604c41845fb53682705f00",
       "version_major": 2,
       "version_minor": 0
      },
      "text/plain": [
       "  0%|          | 0/4733 [00:00<?, ?it/s]"
      ]
     },
     "metadata": {},
     "output_type": "display_data"
    },
    {
     "data": {
      "application/vnd.jupyter.widget-view+json": {
       "model_id": "057164566fbb4d0282684af78467d954",
       "version_major": 2,
       "version_minor": 0
      },
      "text/plain": [
       "  0%|          | 0/2029 [00:00<?, ?it/s]"
      ]
     },
     "metadata": {},
     "output_type": "display_data"
    },
    {
     "name": "stdout",
     "output_type": "stream",
     "text": [
      "1e+18 [ 9.0e-01  4.0e-03  7.0e-04  8.0e-01 -6.0e-01  7.0e-01  6.0e-03  1.1e+00]\n"
     ]
    },
    {
     "data": {
      "application/vnd.jupyter.widget-view+json": {
       "model_id": "a91bc5398a3a4a219d2a53bd17dbc219",
       "version_major": 2,
       "version_minor": 0
      },
      "text/plain": [
       "  0%|          | 0/4733 [00:00<?, ?it/s]"
      ]
     },
     "metadata": {},
     "output_type": "display_data"
    },
    {
     "data": {
      "application/vnd.jupyter.widget-view+json": {
       "model_id": "652f969f5e5f4150aae005e5b5ceabb6",
       "version_major": 2,
       "version_minor": 0
      },
      "text/plain": [
       "  0%|          | 0/2029 [00:00<?, ?it/s]"
      ]
     },
     "metadata": {},
     "output_type": "display_data"
    },
    {
     "name": "stdout",
     "output_type": "stream",
     "text": [
      "2.219574077198914e+18 [ 1.0e-01  4.0e-03  7.0e-04  8.0e-01 -6.0e-01  7.0e-01  4.0e-03  1.1e+00]\n"
     ]
    },
    {
     "data": {
      "application/vnd.jupyter.widget-view+json": {
       "model_id": "e486216253a14cfcb33c187e50a56010",
       "version_major": 2,
       "version_minor": 0
      },
      "text/plain": [
       "  0%|          | 0/4733 [00:00<?, ?it/s]"
      ]
     },
     "metadata": {},
     "output_type": "display_data"
    },
    {
     "data": {
      "application/vnd.jupyter.widget-view+json": {
       "model_id": "b33e11346bb948b18c29dd5072d0ea39",
       "version_major": 2,
       "version_minor": 0
      },
      "text/plain": [
       "  0%|          | 0/2029 [00:00<?, ?it/s]"
      ]
     },
     "metadata": {},
     "output_type": "display_data"
    },
    {
     "name": "stdout",
     "output_type": "stream",
     "text": [
      "1e+18 [ 8.0e-01  4.0e-03  7.0e-04  2.0e-01 -4.0e-01  7.0e-01  4.0e-03  1.1e+00]\n"
     ]
    },
    {
     "data": {
      "application/vnd.jupyter.widget-view+json": {
       "model_id": "82b10cf741d54aa082ed773b7c06fff0",
       "version_major": 2,
       "version_minor": 0
      },
      "text/plain": [
       "  0%|          | 0/4733 [00:00<?, ?it/s]"
      ]
     },
     "metadata": {},
     "output_type": "display_data"
    },
    {
     "data": {
      "application/vnd.jupyter.widget-view+json": {
       "model_id": "93315803ff724db69ea571e83f9c5332",
       "version_major": 2,
       "version_minor": 0
      },
      "text/plain": [
       "  0%|          | 0/2029 [00:00<?, ?it/s]"
      ]
     },
     "metadata": {},
     "output_type": "display_data"
    },
    {
     "name": "stdout",
     "output_type": "stream",
     "text": [
      "1.4352457226859515e+18 [ 8.0e-01  7.0e-03  7.0e-04  8.0e-01 -5.0e-01  7.0e-01  6.0e-03  1.1e+00]\n"
     ]
    },
    {
     "data": {
      "application/vnd.jupyter.widget-view+json": {
       "model_id": "e5f338f34fe54e58ba4b7e505b6b2d30",
       "version_major": 2,
       "version_minor": 0
      },
      "text/plain": [
       "  0%|          | 0/4733 [00:00<?, ?it/s]"
      ]
     },
     "metadata": {},
     "output_type": "display_data"
    },
    {
     "data": {
      "application/vnd.jupyter.widget-view+json": {
       "model_id": "5b10f166f8a341ae8236820da483b544",
       "version_major": 2,
       "version_minor": 0
      },
      "text/plain": [
       "  0%|          | 0/2029 [00:00<?, ?it/s]"
      ]
     },
     "metadata": {},
     "output_type": "display_data"
    },
    {
     "name": "stdout",
     "output_type": "stream",
     "text": [
      "9.93704864301025e+17 [ 7.0e-01  7.0e-03  7.0e-04  3.0e-01 -6.0e-01  6.0e-01  6.0e-03  1.1e+00]\n"
     ]
    },
    {
     "data": {
      "application/vnd.jupyter.widget-view+json": {
       "model_id": "f0fb0c2df10d4e908411499b659ded0e",
       "version_major": 2,
       "version_minor": 0
      },
      "text/plain": [
       "  0%|          | 0/4733 [00:00<?, ?it/s]"
      ]
     },
     "metadata": {},
     "output_type": "display_data"
    },
    {
     "data": {
      "application/vnd.jupyter.widget-view+json": {
       "model_id": "558c67db9837478f91aee01a5ad5f7af",
       "version_major": 2,
       "version_minor": 0
      },
      "text/plain": [
       "  0%|          | 0/2029 [00:00<?, ?it/s]"
      ]
     },
     "metadata": {},
     "output_type": "display_data"
    },
    {
     "name": "stdout",
     "output_type": "stream",
     "text": [
      "2.793678940606465e+18 [ 7.0e-01  5.0e-03  7.0e-04  6.0e-01 -3.0e-01  6.0e-01  6.0e-03  1.1e+00]\n"
     ]
    },
    {
     "data": {
      "application/vnd.jupyter.widget-view+json": {
       "model_id": "b0ca8de465524c62a314740e52699614",
       "version_major": 2,
       "version_minor": 0
      },
      "text/plain": [
       "  0%|          | 0/4733 [00:00<?, ?it/s]"
      ]
     },
     "metadata": {},
     "output_type": "display_data"
    },
    {
     "data": {
      "application/vnd.jupyter.widget-view+json": {
       "model_id": "5a08a33b6b0e4d5bb875faaf33abfbbb",
       "version_major": 2,
       "version_minor": 0
      },
      "text/plain": [
       "  0%|          | 0/2029 [00:00<?, ?it/s]"
      ]
     },
     "metadata": {},
     "output_type": "display_data"
    },
    {
     "name": "stdout",
     "output_type": "stream",
     "text": [
      "1.8363697562713103e+18 [ 7.0e-01  8.0e-03  9.0e-04  8.0e-01 -6.0e-01  7.0e-01  4.0e-03  1.1e+00]\n"
     ]
    },
    {
     "data": {
      "application/vnd.jupyter.widget-view+json": {
       "model_id": "806303f14be742469468fb033ffaf7f1",
       "version_major": 2,
       "version_minor": 0
      },
      "text/plain": [
       "  0%|          | 0/4733 [00:00<?, ?it/s]"
      ]
     },
     "metadata": {},
     "output_type": "display_data"
    },
    {
     "data": {
      "application/vnd.jupyter.widget-view+json": {
       "model_id": "91c402ec494848488ed22a6c649613b7",
       "version_major": 2,
       "version_minor": 0
      },
      "text/plain": [
       "  0%|          | 0/2029 [00:00<?, ?it/s]"
      ]
     },
     "metadata": {},
     "output_type": "display_data"
    },
    {
     "name": "stdout",
     "output_type": "stream",
     "text": [
      "1e+18 [ 7.0e-01  2.0e-03  7.0e-04  8.0e-01 -6.0e-01  7.0e-01  4.0e-03  1.1e+00]\n"
     ]
    },
    {
     "data": {
      "application/vnd.jupyter.widget-view+json": {
       "model_id": "cd93f3b919ae41508320cd54056109e5",
       "version_major": 2,
       "version_minor": 0
      },
      "text/plain": [
       "  0%|          | 0/4733 [00:00<?, ?it/s]"
      ]
     },
     "metadata": {},
     "output_type": "display_data"
    },
    {
     "name": "stdout",
     "output_type": "stream",
     "text": [
      "1.4822255582374822e+18 [ 7.0e-01  3.0e-03  7.0e-04  8.0e-01 -6.0e-01  7.0e-01  4.0e-03  1.1e+00]\n"
     ]
    },
    {
     "data": {
      "application/vnd.jupyter.widget-view+json": {
       "model_id": "e9781ab29f5f48c4866769969c39ef97",
       "version_major": 2,
       "version_minor": 0
      },
      "text/plain": [
       "  0%|          | 0/4733 [00:00<?, ?it/s]"
      ]
     },
     "metadata": {},
     "output_type": "display_data"
    },
    {
     "data": {
      "application/vnd.jupyter.widget-view+json": {
       "model_id": "18bbdf323e1b43cabaef557437ee3792",
       "version_major": 2,
       "version_minor": 0
      },
      "text/plain": [
       "  0%|          | 0/2029 [00:00<?, ?it/s]"
      ]
     },
     "metadata": {},
     "output_type": "display_data"
    },
    {
     "name": "stdout",
     "output_type": "stream",
     "text": [
      "1e+18 [ 2.0e-01  7.0e-03  6.0e-04  8.0e-01 -6.0e-01  3.0e-01  6.0e-03  1.1e+00]\n"
     ]
    },
    {
     "data": {
      "application/vnd.jupyter.widget-view+json": {
       "model_id": "eaf1ad2866aa4818a34a4daed0550c3d",
       "version_major": 2,
       "version_minor": 0
      },
      "text/plain": [
       "  0%|          | 0/4733 [00:00<?, ?it/s]"
      ]
     },
     "metadata": {},
     "output_type": "display_data"
    },
    {
     "data": {
      "application/vnd.jupyter.widget-view+json": {
       "model_id": "32091d3ff1734a2ca6718237d61ec049",
       "version_major": 2,
       "version_minor": 0
      },
      "text/plain": [
       "  0%|          | 0/2029 [00:00<?, ?it/s]"
      ]
     },
     "metadata": {},
     "output_type": "display_data"
    },
    {
     "name": "stdout",
     "output_type": "stream",
     "text": [
      "1.968411187338047e+18 [ 8.0e-01  7.0e-03  7.0e-04  8.0e-01 -2.0e-01  7.0e-01  4.0e-03  1.1e+00]\n"
     ]
    },
    {
     "data": {
      "application/vnd.jupyter.widget-view+json": {
       "model_id": "bb32c31189544c9ea98a1fb59c753c1a",
       "version_major": 2,
       "version_minor": 0
      },
      "text/plain": [
       "  0%|          | 0/4733 [00:00<?, ?it/s]"
      ]
     },
     "metadata": {},
     "output_type": "display_data"
    },
    {
     "data": {
      "application/vnd.jupyter.widget-view+json": {
       "model_id": "7e9d48bb16ac460695eac0d295a1cabd",
       "version_major": 2,
       "version_minor": 0
      },
      "text/plain": [
       "  0%|          | 0/2029 [00:00<?, ?it/s]"
      ]
     },
     "metadata": {},
     "output_type": "display_data"
    },
    {
     "name": "stdout",
     "output_type": "stream",
     "text": [
      "1e+18 [ 1.0e-01  7.0e-03  7.0e-04  2.0e-01 -6.0e-01  7.0e-01  6.0e-03  1.1e+00]\n"
     ]
    },
    {
     "data": {
      "application/vnd.jupyter.widget-view+json": {
       "model_id": "7c51ae1a2c7f4cbd802eafb8c43bc564",
       "version_major": 2,
       "version_minor": 0
      },
      "text/plain": [
       "  0%|          | 0/4733 [00:00<?, ?it/s]"
      ]
     },
     "metadata": {},
     "output_type": "display_data"
    },
    {
     "data": {
      "application/vnd.jupyter.widget-view+json": {
       "model_id": "6cb9be3497774173b59696c262439b52",
       "version_major": 2,
       "version_minor": 0
      },
      "text/plain": [
       "  0%|          | 0/2029 [00:00<?, ?it/s]"
      ]
     },
     "metadata": {},
     "output_type": "display_data"
    },
    {
     "name": "stdout",
     "output_type": "stream",
     "text": [
      "2.39008929078359e+18 [ 7.e-01  7.e-03  7.e-04  8.e-01 -3.e-01  7.e-01  6.e-03  1.e+00]\n"
     ]
    },
    {
     "data": {
      "application/vnd.jupyter.widget-view+json": {
       "model_id": "36f1500804064c5eba74c07d24d89fbe",
       "version_major": 2,
       "version_minor": 0
      },
      "text/plain": [
       "  0%|          | 0/4733 [00:00<?, ?it/s]"
      ]
     },
     "metadata": {},
     "output_type": "display_data"
    },
    {
     "data": {
      "application/vnd.jupyter.widget-view+json": {
       "model_id": "ae3253279a7c4a7b8a09c030856c29cf",
       "version_major": 2,
       "version_minor": 0
      },
      "text/plain": [
       "  0%|          | 0/2029 [00:00<?, ?it/s]"
      ]
     },
     "metadata": {},
     "output_type": "display_data"
    },
    {
     "name": "stdout",
     "output_type": "stream",
     "text": [
      "2.4427504433675315e+18 [ 7.0e-01  2.0e-03  7.0e-04  2.0e-01 -3.0e-01  7.0e-01  4.0e-03  1.1e+00]\n"
     ]
    },
    {
     "data": {
      "application/vnd.jupyter.widget-view+json": {
       "model_id": "9c31c74268794dd5bf5c794fbe0d09da",
       "version_major": 2,
       "version_minor": 0
      },
      "text/plain": [
       "  0%|          | 0/4733 [00:00<?, ?it/s]"
      ]
     },
     "metadata": {},
     "output_type": "display_data"
    },
    {
     "data": {
      "application/vnd.jupyter.widget-view+json": {
       "model_id": "2b7eec13f48f4b6c9e7850b2d2040a39",
       "version_major": 2,
       "version_minor": 0
      },
      "text/plain": [
       "  0%|          | 0/2029 [00:00<?, ?it/s]"
      ]
     },
     "metadata": {},
     "output_type": "display_data"
    },
    {
     "name": "stdout",
     "output_type": "stream",
     "text": [
      "1e+18 [ 7.0e-01  7.0e-03  6.0e-04  1.0e-01 -6.0e-01  7.0e-01  4.0e-03  1.1e+00]\n"
     ]
    },
    {
     "data": {
      "application/vnd.jupyter.widget-view+json": {
       "model_id": "21c8f2ce8af24a4e87bbbe1475e8ef6f",
       "version_major": 2,
       "version_minor": 0
      },
      "text/plain": [
       "  0%|          | 0/4733 [00:00<?, ?it/s]"
      ]
     },
     "metadata": {},
     "output_type": "display_data"
    },
    {
     "data": {
      "application/vnd.jupyter.widget-view+json": {
       "model_id": "70ecc8ae1b8647ff844df2d72b622adb",
       "version_major": 2,
       "version_minor": 0
      },
      "text/plain": [
       "  0%|          | 0/2029 [00:00<?, ?it/s]"
      ]
     },
     "metadata": {},
     "output_type": "display_data"
    },
    {
     "name": "stdout",
     "output_type": "stream",
     "text": [
      "2.20675810168717e+18 [ 2.0e-01  7.0e-03  7.0e-04  8.0e-01 -3.0e-01  7.0e-01  7.0e-03  1.1e+00]\n"
     ]
    },
    {
     "data": {
      "application/vnd.jupyter.widget-view+json": {
       "model_id": "b894ed66cbb5448f8ead435ad7c658dc",
       "version_major": 2,
       "version_minor": 0
      },
      "text/plain": [
       "  0%|          | 0/4733 [00:00<?, ?it/s]"
      ]
     },
     "metadata": {},
     "output_type": "display_data"
    },
    {
     "data": {
      "application/vnd.jupyter.widget-view+json": {
       "model_id": "d6a8531d7d944427945a7844f43a1e49",
       "version_major": 2,
       "version_minor": 0
      },
      "text/plain": [
       "  0%|          | 0/2029 [00:00<?, ?it/s]"
      ]
     },
     "metadata": {},
     "output_type": "display_data"
    },
    {
     "name": "stdout",
     "output_type": "stream",
     "text": [
      "2.22047721737131e+18 [ 7.0e-01  7.0e-03  7.0e-04  2.0e-01 -3.0e-01  7.0e-01  4.0e-03  1.1e+00]\n"
     ]
    },
    {
     "data": {
      "application/vnd.jupyter.widget-view+json": {
       "model_id": "f1409bc394824ebbabad9e35d6947c0a",
       "version_major": 2,
       "version_minor": 0
      },
      "text/plain": [
       "  0%|          | 0/4733 [00:00<?, ?it/s]"
      ]
     },
     "metadata": {},
     "output_type": "display_data"
    },
    {
     "data": {
      "application/vnd.jupyter.widget-view+json": {
       "model_id": "dde5d1ec30ed49628abac97066e744aa",
       "version_major": 2,
       "version_minor": 0
      },
      "text/plain": [
       "  0%|          | 0/2029 [00:00<?, ?it/s]"
      ]
     },
     "metadata": {},
     "output_type": "display_data"
    },
    {
     "name": "stdout",
     "output_type": "stream",
     "text": [
      "1e+18 [ 7.0e-01  9.0e-03  7.0e-04  2.0e-01 -6.0e-01  7.0e-01  6.0e-03  1.1e+00]\n"
     ]
    },
    {
     "data": {
      "application/vnd.jupyter.widget-view+json": {
       "model_id": "3ab8a4f63fed448fbe6dc0c3ac78c393",
       "version_major": 2,
       "version_minor": 0
      },
      "text/plain": [
       "  0%|          | 0/4733 [00:00<?, ?it/s]"
      ]
     },
     "metadata": {},
     "output_type": "display_data"
    }
   ],
   "source": [
    "optimize_ESN(X_train,y_train,X_test,df_bt)"
   ]
  },
  {
   "cell_type": "code",
   "execution_count": null,
   "metadata": {},
   "outputs": [],
   "source": [
    "max(best_portfolio_real.keys())"
   ]
  },
  {
   "cell_type": "markdown",
   "metadata": {},
   "source": [
    "## pyESN(optimization)"
   ]
  },
  {
   "cell_type": "code",
   "execution_count": 18,
   "metadata": {},
   "outputs": [],
   "source": [
    "import numpy as np\n",
    "\n",
    "\n",
    "def correct_dimensions(s, targetlength):\n",
    "    \"\"\"checks the dimensionality of some numeric argument s, broadcasts it\n",
    "       to the specified length if possible.\n",
    "\n",
    "    Args:\n",
    "        s: None, scalar or 1D array\n",
    "        targetlength: expected length of s\n",
    "\n",
    "    Returns:\n",
    "        None if s is None, else numpy vector of length targetlength\n",
    "    \"\"\"\n",
    "    if s is not None:\n",
    "        s = np.array(s)\n",
    "        if s.ndim == 0:\n",
    "            s = np.array([s] * targetlength)\n",
    "        elif s.ndim == 1:\n",
    "            if not len(s) == targetlength:\n",
    "                raise ValueError(\"arg must have length \" + str(targetlength))\n",
    "        else:\n",
    "            raise ValueError(\"Invalid argument\")\n",
    "    return s\n",
    "\n",
    "\n",
    "def identity(x):\n",
    "    return x\n",
    "\n",
    "\n",
    "class ESN():\n",
    "\n",
    "    def __init__(self, n_inputs, n_outputs, n_reservoir=200,\n",
    "                 spectral_radius=0.95, sparsity=0, noise=0.001, input_shift=None,\n",
    "                 input_scaling=None, teacher_forcing=True, feedback_scaling=None,\n",
    "                 teacher_scaling=None, teacher_shift=None,\n",
    "                 out_activation=identity, inverse_out_activation=identity,\n",
    "                 random_state=None, silent=True):\n",
    "        \"\"\"\n",
    "        Args:\n",
    "            n_inputs: nr of input dimensions\n",
    "            n_outputs: nr of output dimensions\n",
    "            n_reservoir: nr of reservoir neurons\n",
    "            spectral_radius: spectral radius of the recurrent weight matrix\n",
    "            sparsity: proportion of recurrent weights set to zero\n",
    "            noise: noise added to each neuron (regularization)\n",
    "            input_shift: scalar or vector of length n_inputs to add to each\n",
    "                        input dimension before feeding it to the network.\n",
    "            input_scaling: scalar or vector of length n_inputs to multiply\n",
    "                        with each input dimension before feeding it to the netw.\n",
    "            teacher_forcing: if True, feed the target back into output units\n",
    "            teacher_scaling: factor applied to the target signal\n",
    "            teacher_shift: additive term applied to the target signal\n",
    "            out_activation: output activation function (applied to the readout)\n",
    "            inverse_out_activation: inverse of the output activation function\n",
    "            random_state: positive integer seed, np.rand.RandomState object,\n",
    "                          or None to use numpy's builting RandomState.\n",
    "            silent: supress messages\n",
    "        \"\"\"\n",
    "        # check for proper dimensionality of all arguments and write them down.\n",
    "        self.n_inputs = n_inputs\n",
    "        self.n_reservoir = n_reservoir\n",
    "        self.n_outputs = n_outputs\n",
    "        self.spectral_radius = spectral_radius\n",
    "        self.sparsity = sparsity\n",
    "        self.noise = noise\n",
    "        self.input_shift = correct_dimensions(input_shift, n_inputs)\n",
    "        self.input_scaling = correct_dimensions(input_scaling, n_inputs)\n",
    "\n",
    "        self.teacher_scaling = teacher_scaling\n",
    "        self.teacher_shift = teacher_shift\n",
    "\n",
    "        self.out_activation = out_activation\n",
    "        self.inverse_out_activation = inverse_out_activation\n",
    "        self.random_state = random_state\n",
    "\n",
    "        # the given random_state might be either an actual RandomState object,\n",
    "        # a seed or None (in which case we use numpy's builtin RandomState)\n",
    "        if isinstance(random_state, np.random.RandomState):\n",
    "            self.random_state_ = random_state\n",
    "        elif random_state:\n",
    "            try:\n",
    "                self.random_state_ = np.random.RandomState(random_state)\n",
    "            except TypeError as e:\n",
    "                raise Exception(\"Invalid seed: \" + str(e))\n",
    "        else:\n",
    "            self.random_state_ = np.random.mtrand._rand\n",
    "\n",
    "        self.teacher_forcing = teacher_forcing\n",
    "        self.silent = silent\n",
    "        self.initweights()\n",
    "\n",
    "    def initweights(self):\n",
    "        # initialize recurrent weights:\n",
    "        # begin with a random matrix centered around zero:\n",
    "        W = self.random_state_.rand(self.n_reservoir, self.n_reservoir) - 0.5\n",
    "        # delete the fraction of connections given by (self.sparsity):\n",
    "        W[self.random_state_.rand(*W.shape) < self.sparsity] = 0\n",
    "        # compute the spectral radius of these weights:\n",
    "        radius = np.max(np.abs(np.linalg.eigvals(W)))\n",
    "        # rescale them to reach the requested spectral radius:\n",
    "        self.W = W * (self.spectral_radius / radius)\n",
    "\n",
    "        # random input weights:\n",
    "        self.W_in = self.random_state_.rand(\n",
    "            self.n_reservoir, self.n_inputs) * 2 - 1\n",
    "        # random feedback (teacher forcing) weights:\n",
    "        self.W_feedb = self.random_state_.rand(\n",
    "            self.n_reservoir, self.n_outputs) * 2 - 1\n",
    "\n",
    "    def _update(self, state, input_pattern, output_pattern):\n",
    "        \"\"\"performs one update step.\n",
    "\n",
    "        i.e., computes the next network state by applying the recurrent weights\n",
    "        to the last state & and feeding in the current input and output patterns\n",
    "        \"\"\"\n",
    "        if self.teacher_forcing:\n",
    "            preactivation = (np.dot(self.W, state)\n",
    "                             + np.dot(self.W_in, input_pattern)\n",
    "                             + np.dot(self.W_feedb, output_pattern))\n",
    "        else:\n",
    "            preactivation = (np.dot(self.W, state)\n",
    "                             + np.dot(self.W_in, input_pattern))\n",
    "        return (np.tanh(preactivation)\n",
    "                + self.noise * (self.random_state_.rand(self.n_reservoir) - 0.5))\n",
    "\n",
    "    def _scale_inputs(self, inputs):\n",
    "        \"\"\"for each input dimension j: multiplies by the j'th entry in the\n",
    "        input_scaling argument, then adds the j'th entry of the input_shift\n",
    "        argument.\"\"\"\n",
    "        if self.input_scaling is not None:\n",
    "            inputs = np.dot(inputs, np.diag(self.input_scaling))\n",
    "        if self.input_shift is not None:\n",
    "            inputs = inputs + self.input_shift\n",
    "        return inputs\n",
    "\n",
    "    def _scale_teacher(self, teacher):\n",
    "        \"\"\"multiplies the teacher/target signal by the teacher_scaling argument,\n",
    "        then adds the teacher_shift argument to it.\"\"\"\n",
    "        if self.teacher_scaling is not None:\n",
    "            teacher = teacher * self.teacher_scaling\n",
    "        if self.teacher_shift is not None:\n",
    "            teacher = teacher + self.teacher_shift\n",
    "        return teacher\n",
    "\n",
    "    def _unscale_teacher(self, teacher_scaled):\n",
    "        \"\"\"inverse operation of the _scale_teacher method.\"\"\"\n",
    "        if self.teacher_shift is not None:\n",
    "            teacher_scaled = teacher_scaled - self.teacher_shift\n",
    "        if self.teacher_scaling is not None:\n",
    "            teacher_scaled = teacher_scaled / self.teacher_scaling\n",
    "        return teacher_scaled\n",
    "\n",
    "    def fit(self, inputs, outputs, inspect=False):\n",
    "        \"\"\"\n",
    "        Collect the network's reaction to training data, train readout weights.\n",
    "\n",
    "        Args:\n",
    "            inputs: array of dimensions (N_training_samples x n_inputs)\n",
    "            outputs: array of dimension (N_training_samples x n_outputs)\n",
    "            inspect: show a visualisation of the collected reservoir states\n",
    "\n",
    "        Returns:\n",
    "            the network's output on the training data, using the trained weights\n",
    "        \"\"\"\n",
    "        # transform any vectors of shape (x,) into vectors of shape (x,1):\n",
    "        if inputs.ndim < 2:\n",
    "            inputs = np.reshape(inputs, (len(inputs), -1))\n",
    "        if outputs.ndim < 2:\n",
    "            outputs = np.reshape(outputs, (len(outputs), -1))\n",
    "        # transform input and teacher signal:\n",
    "        inputs_scaled = self._scale_inputs(inputs)\n",
    "        teachers_scaled = self._scale_teacher(outputs)\n",
    "\n",
    "        if not self.silent:\n",
    "            print(\"harvesting states...\")\n",
    "        # step the reservoir through the given input,output pairs:\n",
    "        states = np.zeros((inputs.shape[0], self.n_reservoir))\n",
    "        for n in range(1, inputs.shape[0]):\n",
    "            states[n, :] = self._update(states[n - 1], inputs_scaled[n, :],\n",
    "                                        teachers_scaled[n - 1, :])\n",
    "\n",
    "        # learn the weights, i.e. find the linear combination of collected\n",
    "        # network states that is closest to the target output\n",
    "        if not self.silent:\n",
    "            print(\"fitting...\")\n",
    "        # we'll disregard the first few states:\n",
    "        transient = min(int(inputs.shape[1] / 10), 100)\n",
    "        # include the raw inputs:\n",
    "        extended_states = np.hstack((states, inputs_scaled))\n",
    "        # Solve for W_out:\n",
    "        self.W_out = np.dot(np.linalg.pinv(extended_states[transient:, :]),\n",
    "                            self.inverse_out_activation(teachers_scaled[transient:, :])).T\n",
    "\n",
    "        # remember the last state for later:\n",
    "        self.laststate = states[-1, :]\n",
    "        self.lastinput = inputs[-1, :]\n",
    "        self.lastoutput = teachers_scaled[-1, :]\n",
    "\n",
    "        # optionally visualize the collected states\n",
    "        if inspect:\n",
    "            from matplotlib import pyplot as plt\n",
    "            # (^-- we depend on matplotlib only if this option is used)\n",
    "            plt.figure(\n",
    "                figsize=(states.shape[0] * 0.0025, states.shape[1] * 0.01))\n",
    "            plt.imshow(extended_states.T, aspect='auto',\n",
    "                       interpolation='nearest')\n",
    "            plt.colorbar()\n",
    "\n",
    "        if not self.silent:\n",
    "            print(\"training error:\")\n",
    "        # apply learned weights to the collected states:\n",
    "        pred_train = self._unscale_teacher(self.out_activation(\n",
    "            np.dot(extended_states, self.W_out.T)))\n",
    "        if not self.silent:\n",
    "            print(np.sqrt(np.mean((pred_train - outputs)**2)))\n",
    "        return pred_train\n",
    "\n",
    "    def predict(self, inputs, continuation=True):\n",
    "        \"\"\"\n",
    "        Apply the learned weights to the network's reactions to new input.\n",
    "\n",
    "        Args:\n",
    "            inputs: array of dimensions (N_test_samples x n_inputs)\n",
    "            continuation: if True, start the network from the last training state\n",
    "\n",
    "        Returns:\n",
    "            Array of output activations\n",
    "        \"\"\"\n",
    "        if inputs.ndim < 2:\n",
    "            inputs = np.reshape(inputs, (len(inputs), -1))\n",
    "        n_samples = inputs.shape[0]\n",
    "\n",
    "        if continuation:\n",
    "            laststate = self.laststate\n",
    "            lastinput = self.lastinput\n",
    "            lastoutput = self.lastoutput\n",
    "        else:\n",
    "            laststate = np.zeros(self.n_reservoir)\n",
    "            lastinput = np.zeros(self.n_inputs)\n",
    "            lastoutput = np.zeros(self.n_outputs)\n",
    "\n",
    "        inputs = np.vstack([lastinput, self._scale_inputs(inputs)])\n",
    "        states = np.vstack(\n",
    "            [laststate, np.zeros((n_samples, self.n_reservoir))])\n",
    "        outputs = np.vstack(\n",
    "            [lastoutput, np.zeros((n_samples, self.n_outputs))])\n",
    "\n",
    "        for n in range(n_samples):\n",
    "            states[\n",
    "                n + 1, :] = self._update(states[n, :], inputs[n + 1, :], outputs[n, :])\n",
    "            outputs[n + 1, :] = self.out_activation(np.dot(self.W_out,\n",
    "                                                           np.concatenate([states[n + 1, :], inputs[n + 1, :]])))\n",
    "\n",
    "        return self._unscale_teacher(self.out_activation(outputs[1:]))"
   ]
  },
  {
   "cell_type": "code",
   "execution_count": 19,
   "metadata": {},
   "outputs": [],
   "source": [
    "class ML_Trading:\n",
    "    def __init__(self, X_train, y_train, X_test, df_bt):\n",
    "        self.df_bt = df_bt.copy()\n",
    "\n",
    "\n",
    "    def esn_op(self, ga_instance, solution, solution_idx ):\n",
    "\n",
    "        # 수수료율 및 슬리피지율 설정 (예: 수수료 0.1%, 슬리피지 0.05%)\n",
    "        commission_rate = 0.001\n",
    "        slippage_rate = 0.0005\n",
    "\n",
    "        profit_value = 1.0\n",
    "        max_drawdown = 0.0\n",
    "        holding = False\n",
    "        buy_price = 0.0\n",
    "        asset_value = 1.0\n",
    "\n",
    "        \n",
    "        spectral_radius, sparsity, Trade_low, Trade_high ,noise, investment_ratio = solution\n",
    "        esn = ESN(5,\n",
    "                  1,\n",
    "                  noise=noise,\n",
    "                  n_reservoir=1000,\n",
    "                  sparsity=sparsity,\n",
    "                  spectral_radius=spectral_radius,\n",
    "                  random_state = 42\n",
    "                   )\n",
    "        esn.fit(X_train, y_train.reshape(-1,1))\n",
    "        y_pred = esn.predict(X_test)\n",
    "\n",
    "        df_bta = self.df_bt.iloc[int(len(self.df_bt)*0.7):].reset_index()[\"Marketcap\"]#.drop(columns=['index'])\n",
    "        \n",
    "        peak = df_bta.iloc[0]\n",
    "\n",
    "        Tr = pd.DataFrame(y_pred,columns = [\"pred_Trend\"])\n",
    "        Tr = pd.concat([Tr,df_bta,pd.DataFrame(y_test,columns=[\"Trend\"])],axis=1)\n",
    "        \n",
    "        for _, row in Tr.iterrows():\n",
    "            current_price = row['Marketcap']\n",
    "\n",
    "            if row[\"pred_Trend\"] < Trade_low and not holding:  # Buy\n",
    "                # 슬리피지 반영\n",
    "                slippage = current_price * slippage_rate\n",
    "                buy_price = current_price + slippage\n",
    "                # 수수료 반영\n",
    "                buy_commission = buy_price * commission_rate\n",
    "                asset_value -= (buy_commission + slippage)\n",
    "                holding = True\n",
    "\n",
    "            elif row[\"pred_Trend\"] >= Trade_high and holding:  # Sell\n",
    "                # 슬리피지 반영\n",
    "                slippage = current_price * slippage_rate\n",
    "                sell_price = current_price - slippage\n",
    "                # 수수료 반영\n",
    "                sell_commission = sell_price * commission_rate\n",
    "                profit = (sell_price - sell_commission - buy_price) / buy_price\n",
    "                profit_value *= (1 + profit)\n",
    "\n",
    "                holding = False\n",
    "                asset_value = profit_value\n",
    "                \n",
    "            elif holding:\n",
    "                asset_value = 1 + ((current_price - buy_price) / buy_price)\n",
    "\n",
    "            # Update peak\n",
    "            if holding:\n",
    "                peak = max(peak, current_price)\n",
    "\n",
    "            # Calculate drawdown\n",
    "            if holding:\n",
    "                drawdown = (peak - current_price) / peak\n",
    "                max_drawdown = max(max_drawdown, drawdown)\n",
    "            if max_drawdown <= 0.01:\n",
    "                max_drawdown = 0.01\n",
    "\n",
    "        return_value = 0.9 * (profit_value- 1.0)*100 + 0.1 * (1/max_drawdown)\n",
    "                \n",
    "        add_to_portfolio((profit_value - 1.0), list(solution))\n",
    "        return return_value"
   ]
  },
  {
   "cell_type": "code",
   "execution_count": 20,
   "metadata": {},
   "outputs": [],
   "source": [
    "def optimize_ESN(X_train,y_train,X_test,df_bt):\n",
    "    #인풋 데이터 모양 맞춰주기(backtest에 들어갈 데이터 모양)\n",
    "\n",
    "\n",
    "    hyper = ML_Trading(X_train,y_train,X_test,df_bt)\n",
    "    strategies = {\"ESN\":{\"spectral_radius\":0.1, \"sparsity\" : 0.01, \"Trade_low\" : -0.7, \"Trade_high\" : 0.7, \"noise\" : 0.001}}\n",
    "    g_space = [np.arange(0.1, 1, 0.1),np.arange(0.01,0.1, 0.01),np.arange(-0.9,-0,0.1), np.arange(0.1, 1, 0.1), np.arange(0.001,0.01,0.001),np.arange(0.6,1,0.1) ]\n",
    "    ESN_sol, ESN_fitness = genetic_hyper(g_space, hyper.esn_op, 6)\n",
    "    strategies['ESN'] = {\"spectral_radius\": ESN_sol[0], \"sparsity\": ESN_sol[1], \"Trade_low\": ESN_sol[2], \"Trade_high\": ESN_sol[3], \"noise\" : ESN_sol[4]}\n",
    "    #print(ESN_sol, ESN_fitness)\n",
    "    max_portfolio_value = max(best_portfolio.keys())\n",
    "    best_solution = best_portfolio[max_portfolio_value]\n",
    "    \n",
    "    return max_portfolio_value ,best_solution"
   ]
  },
  {
   "cell_type": "code",
   "execution_count": 21,
   "metadata": {},
   "outputs": [],
   "source": [
    "def genetic_hyper(g_space, Trading, n_gen):\n",
    "    ga_instance_hyper = pygad.GA(\n",
    "        num_generations=10,\n",
    "        num_parents_mating=15,\n",
    "        fitness_func=Trading,\n",
    "        sol_per_pop=30,\n",
    "        num_genes=n_gen,\n",
    "        gene_space=g_space,\n",
    "        parent_selection_type=\"rank\",\n",
    "        keep_parents=4,\n",
    "        crossover_type=\"uniform\",\n",
    "         #on_generation=callback_generation,\n",
    "        mutation_type=\"random\",\n",
    "        mutation_num_genes=2\n",
    "    )\n",
    "\n",
    "    ga_instance_hyper.run()\n",
    "\n",
    "    solution, solution_fitness, solution_idx = ga_instance_hyper.best_solution()\n",
    "    return solution, solution_fitness"
   ]
  },
  {
   "cell_type": "code",
   "execution_count": null,
   "metadata": {
    "scrolled": false
   },
   "outputs": [
    {
     "name": "stdout",
     "output_type": "stream",
     "text": [
      "136\n",
      "0\n",
      "대유플러스 --   buy_and_hold : 710.64%, rsi : 103356.44%, ema : 30433.04%, roc : 841.12%, sto : 36978.43%, sma : 49362.27%\t수익률 : 12762.26%\n",
      "\n"
     ]
    },
    {
     "data": {
      "image/png": "[encoded data removed]",
      "text/plain": [
       "<Figure size 800x800 with 1 Axes>"
      ]
     },
     "metadata": {},
     "output_type": "display_data"
    },
    {
     "data": {
      "text/plain": [
       "<Figure size 640x480 with 0 Axes>"
      ]
     },
     "metadata": {},
     "output_type": "display_data"
    },
    {
     "data": {
      "image/png": "[encoded data removed]",
      "text/plain": [
       "<Figure size 800x800 with 1 Axes>"
      ]
     },
     "metadata": {},
     "output_type": "display_data"
    },
    {
     "data": {
      "text/plain": [
       "<Figure size 640x480 with 0 Axes>"
      ]
     },
     "metadata": {},
     "output_type": "display_data"
    },
    {
     "data": {
      "image/png": "[encoded data removed]",
      "text/plain": [
       "<Figure size 800x800 with 1 Axes>"
      ]
     },
     "metadata": {},
     "output_type": "display_data"
    },
    {
     "name": "stdout",
     "output_type": "stream",
     "text": [
      "MDD(%):  2753898291.0520525\n",
      "buy and hold MDD(%):  inf\n",
      "Buy and Hold 대비 return(%):  824.1007332276059\n",
      "1\n",
      "가온전선 --   buy_and_hold : 210.36%, rsi : 1824.29%, ema : 3002.73%, roc : 3465.45%, sto : 413.37%, sma : 5562.39%\t수익률 : 1824.45%\n",
      "\n"
     ]
    },
    {
     "data": {
      "image/png": "[encoded data removed]",
      "text/plain": [
       "<Figure size 800x800 with 1 Axes>"
      ]
     },
     "metadata": {},
     "output_type": "display_data"
    },
    {
     "data": {
      "text/plain": [
       "<Figure size 640x480 with 0 Axes>"
      ]
     },
     "metadata": {},
     "output_type": "display_data"
    },
    {
     "data": {
      "image/png": "[encoded data removed]",
      "text/plain": [
       "<Figure size 800x800 with 1 Axes>"
      ]
     },
     "metadata": {},
     "output_type": "display_data"
    },
    {
     "data": {
      "text/plain": [
       "<Figure size 640x480 with 0 Axes>"
      ]
     },
     "metadata": {},
     "output_type": "display_data"
    },
    {
     "data": {
      "image/png": "[encoded data removed]",
      "text/plain": [
       "<Figure size 800x800 with 1 Axes>"
      ]
     },
     "metadata": {},
     "output_type": "display_data"
    },
    {
     "name": "stdout",
     "output_type": "stream",
     "text": [
      "MDD(%):  inf\n",
      "buy and hold MDD(%):  inf\n",
      "Buy and Hold 대비 return(%):  119.10068994317164\n",
      "2\n",
      "유니온 --   buy_and_hold : 250.72%, rsi : 3666.42%, ema : 962.11%, roc : 734.44%, sto : 653.75%, sma : 3815.67%\t수익률 : 1116.48%\n",
      "\n"
     ]
    }
   ],
   "source": [
    "from sklearn.model_selection import train_test_split\n",
    "import numpy as np\n",
    "import pickle\n",
    "from matplotlib.dates import DateFormatter\n",
    "import os\n",
    "\n",
    "\n",
    "train = True\n",
    "results = {}\n",
    "print(len(a))\n",
    "for i in range(len(a)):\n",
    "    print(i)\n",
    "    dfdf = dfs[a[i]].copy()\n",
    "    columns_to_check = ['TRD_DD', 'TDD_CLSPRC', 'TDD_OPNPRC', 'TDD_HGPRC',\n",
    "                    'TDD_LWPRC', 'MKTCAP', 'ACC_TRDVOL', 'LIST_SHRS','ISU_NM']\n",
    "\n",
    "    if not all(col in dfdf.columns for col in columns_to_check):\n",
    "        continue\n",
    "    dfdf = dfdf[['TRD_DD', 'TDD_CLSPRC', 'TDD_OPNPRC', 'TDD_HGPRC',\n",
    "                    'TDD_LWPRC', 'MKTCAP', 'ACC_TRDVOL', 'LIST_SHRS','ISU_NM']]\n",
    "    for column in dfdf.columns:\n",
    "        if dfdf[column].dtype == 'object' and column not in ['TRD_DD', 'ISU_NM']:\n",
    "            try:\n",
    "                dfdf[column] = dfdf[column].str.replace(',', '').astype('float')\n",
    "            except ValueError as e:\n",
    "                print(f\" {column}: {e}\")\n",
    "        elif column not in ['TRD_DD', 'ISU_NM']:\n",
    "            dfdf[column] = dfdf[column].astype('float')\n",
    "    df =pd.concat([dfdf['TRD_DD'],dfdf['LIST_SHRS'],dfdf['ISU_NM'],dfdf['TDD_CLSPRC'],dfdf['TDD_OPNPRC'],dfdf['TDD_HGPRC'],dfdf['TDD_LWPRC'],dfdf['MKTCAP'],dfdf['ACC_TRDVOL']],axis=1)\n",
    "    df = dfdf.sort_values(by=['TRD_DD'])\n",
    "    df.reset_index(drop=True,inplace=True)\n",
    "\n",
    "    #인풋 데이터 모양 맞춰주기(backtest에 들어갈 데이터 모양)\n",
    "    df_bt = df[['TRD_DD', 'TDD_CLSPRC', 'TDD_OPNPRC', 'TDD_HGPRC',\n",
    "                    'TDD_LWPRC', 'MKTCAP', 'ACC_TRDVOL']].copy()\n",
    "    df_bt['TRD_DD'] = pd.to_datetime(df_bt['TRD_DD'])\n",
    "    df_bt.rename(columns={'TRD_DD':'Date', 'TDD_OPNPRC':'Open', 'TDD_HGPRC':'High','TDD_LWPRC':'Low','TDD_CLSPRC':'Close', 'ACC_TRDVOL':'Volume', 'MKTCAP':'Marketcap'}, inplace=True)\n",
    "    df_bt.set_index('Date',drop=True,inplace=True)\n",
    "    df_bt['Open'] = bt_data(df_bt['Open'])\n",
    "    df_bt['High'] = bt_data(df_bt['High'])\n",
    "    df_bt['Low'] = bt_data(df_bt['Low'])\n",
    "    df_bt['Close'] = bt_data(df_bt['Close'])\n",
    "    df_bt['Volume'] = bt_data(df_bt['Volume'])\n",
    "    df_bt['Marketcap'] = bt_data(df_bt['Marketcap'])\n",
    "    signal_dataframes = get_signals(df_bt)\n",
    "\n",
    "    data = pd.DataFrame()\n",
    "    scaler = MinMaxScaler(feature_range=(0, 1))\n",
    "    result = scaler.fit_transform(np.array(df_bt['Marketcap']).reshape(-1,1))\n",
    "    data['A2'] = pd.DataFrame(result)\n",
    "\n",
    "    # PST 파라매터 설정\n",
    "    T=5  # time interval\n",
    "    P=0.5 # percentage\n",
    "    if data['A2'].size == 0 or len(data['A2']) <= 10:\n",
    "        data['PST'] = []\n",
    "        data['nPST'] = 0\n",
    "    else:\n",
    "        data['PST'], data['nPST'] = FNC_Func_PST(T, P, data['A2'])\n",
    "\n",
    "    signal_dataframes = signal_dataframes.reset_index()\n",
    "    signal_dataframes['Trend'] =data['PST']\n",
    "\n",
    "    signal_dataframe = signal_dataframes.copy()\n",
    "    df_bb = df_bt.reset_index(drop=True)\n",
    "    rdf = df_bb['Close']\n",
    "\n",
    "    signal_dataframes = pd.concat([signal_dataframe,rdf], axis=1)\n",
    "    signal_dataframes = pd.concat([signal_dataframes, df_bb['Marketcap']],axis=1)\n",
    "    signal_dataframes = signal_dataframes.rename(columns={'Close':'TDD_CLSPRC'})\n",
    "    \n",
    "    # 아래 backtest 5개는 각 ta마다 수익률을 확인해보기 위함\n",
    "\n",
    "    def backtest(df):\n",
    "        \"\"\"\n",
    "        Backtest function to calculate percentage of profit based on trading signals.\n",
    "\n",
    "        :param price_data: List of stock prices (time series data).\n",
    "        :param signals: List of trading signals (-1 for buy, 1 for sell, 0 for hold).\n",
    "        :return: Tuple containing percentage of profit and Maximum Drawdown (MDD).\n",
    "        \"\"\"\n",
    "        #portfolio_values = []\n",
    "        profit_values = []\n",
    "\n",
    "\n",
    "        # 수수료율 및 슬리피지율 설정 (예: 수수료 0.1%, 슬리피지 0.05%)\n",
    "        commission_rate = 0.001\n",
    "        slippage_rate = 0.0005\n",
    "\n",
    "        profit_value = 1.0\n",
    "        max_drawdown = 0.0\n",
    "        holding = False\n",
    "        buy_price = 0.0\n",
    "        asset_value = 1.0\n",
    "        peak = df['Marketcap'].iloc[0]\n",
    "\n",
    "        for _, row in df.iterrows():\n",
    "            current_price = row['Marketcap']\n",
    "            if row[\"rsi\"] == 1 and not holding:  # Buy\n",
    "                # 슬리피지 반영\n",
    "                slippage = current_price * slippage_rate\n",
    "                buy_price = current_price + slippage\n",
    "                # 수수료 반영\n",
    "                buy_commission = buy_price * commission_rate\n",
    "                asset_value -= (buy_commission + slippage)\n",
    "                holding = True\n",
    "                    \n",
    "            elif row['rsi'] == -1 and holding:  # Sell\n",
    "                # 슬리피지 반영\n",
    "                slippage = current_price * slippage_rate\n",
    "                sell_price = current_price - slippage\n",
    "                # 수수료 반영\n",
    "                sell_commission = sell_price * commission_rate\n",
    "                profit = (sell_price - sell_commission - buy_price) / buy_price\n",
    "                profit_value *= (1 + profit)\n",
    "\n",
    "                holding = False\n",
    "                asset_value = profit_value\n",
    "                \n",
    "            elif holding:\n",
    "                asset_value = 1 + ((current_price - buy_price) / buy_price)\n",
    "                \n",
    "            #portfolio_values.append(current_capital)\n",
    "            profit_values.append((profit_value - 1.0)*100)\n",
    "        #df['Portfolio_Value'] = portfolio_values\n",
    "        df['Profit_Value'] = profit_values\n",
    "        return df\n",
    "\n",
    "    sd = backtest(signal_dataframes)\n",
    "    rsi_per = sd['Profit_Value'].iloc[len(signal_dataframes)-1]\n",
    "\n",
    "    def backtest(df):\n",
    "        \"\"\"\n",
    "        Backtest function to calculate percentage of profit based on trading signals.\n",
    "\n",
    "        :param price_data: List of stock prices (time series data).\n",
    "        :param signals: List of trading signals (-1 for buy, 1 for sell, 0 for hold).\n",
    "        :return: Tuple containing percentage of profit and Maximum Drawdown (MDD).\n",
    "        \"\"\"\n",
    "        #portfolio_values = []\n",
    "        profit_values = []\n",
    "        \n",
    "        # 수수료율 및 슬리피지율 설정 (예: 수수료 0.1%, 슬리피지 0.05%)\n",
    "        commission_rate = 0.001\n",
    "        slippage_rate = 0.0005\n",
    "\n",
    "        profit_value = 1.0\n",
    "        max_drawdown = 0.0\n",
    "        holding = False\n",
    "        buy_price = 0.0\n",
    "        asset_value = 1.0\n",
    "        peak = df['Marketcap'].iloc[0]\n",
    "\n",
    "        for _, row in df.iterrows():\n",
    "            current_price = row['Marketcap']\n",
    "            if row[\"sma_cross\"] == 1 and not holding:  # Buy\n",
    "                # 슬리피지 반영\n",
    "                slippage = current_price * slippage_rate\n",
    "                buy_price = current_price + slippage\n",
    "                # 수수료 반영\n",
    "                buy_commission = buy_price * commission_rate\n",
    "                asset_value -= (buy_commission + slippage)\n",
    "                holding = True\n",
    "                    \n",
    "            elif row['sma_cross'] == -1 and holding:  # Sell\n",
    "                # 슬리피지 반영\n",
    "                slippage = current_price * slippage_rate\n",
    "                sell_price = current_price - slippage\n",
    "                # 수수료 반영\n",
    "                sell_commission = sell_price * commission_rate\n",
    "                profit = (sell_price - sell_commission - buy_price) / buy_price\n",
    "                profit_value *= (1 + profit)\n",
    "\n",
    "                holding = False\n",
    "                asset_value = profit_value\n",
    "                \n",
    "            elif holding:\n",
    "                asset_value = 1 + ((current_price - buy_price) / buy_price)\n",
    "                \n",
    "            #portfolio_values.append(current_capital)\n",
    "            profit_values.append((profit_value - 1.0)*100)\n",
    "        #df['Portfolio_Value'] = portfolio_values\n",
    "        df['Profit_Value'] = profit_values\n",
    "        return df\n",
    "    sd = backtest(signal_dataframes)\n",
    "\n",
    "    sma_per = sd['Profit_Value'].iloc[len(signal_dataframes)-1]\n",
    "\n",
    "    def backtest(df):\n",
    "        \"\"\"\n",
    "        Backtest function to calculate percentage of profit based on trading signals.\n",
    "\n",
    "        :param price_data: List of stock prices (time series data).\n",
    "        :param signals: List of trading signals (-1 for buy, 1 for sell, 0 for hold).\n",
    "        :return: Tuple containing percentage of profit and Maximum Drawdown (MDD).\n",
    "        \"\"\"\n",
    "        #portfolio_values = []\n",
    "        profit_values = []\n",
    "        \n",
    "        # 수수료율 및 슬리피지율 설정 (예: 수수료 0.1%, 슬리피지 0.05%)\n",
    "        commission_rate = 0.001\n",
    "        slippage_rate = 0.0005\n",
    "\n",
    "        profit_value = 1.0\n",
    "        max_drawdown = 0.0\n",
    "        holding = False\n",
    "        buy_price = 0.0\n",
    "        asset_value = 1.0\n",
    "        peak = df['Marketcap'].iloc[0]\n",
    "\n",
    "        for _, row in df.iterrows():\n",
    "            current_price = row['Marketcap']\n",
    "            if row[\"ema_cross\"] == 1 and not holding:  # Buy\n",
    "                # 슬리피지 반영\n",
    "                slippage = current_price * slippage_rate\n",
    "                buy_price = current_price + slippage\n",
    "                # 수수료 반영\n",
    "                buy_commission = buy_price * commission_rate\n",
    "                asset_value -= (buy_commission + slippage)\n",
    "                holding = True\n",
    "                    \n",
    "            elif row['ema_cross'] == -1 and holding:  # Sell\n",
    "                # 슬리피지 반영\n",
    "                slippage = current_price * slippage_rate\n",
    "                sell_price = current_price - slippage\n",
    "                # 수수료 반영\n",
    "                sell_commission = sell_price * commission_rate\n",
    "                profit = (sell_price - sell_commission - buy_price) / buy_price\n",
    "                profit_value *= (1 + profit)\n",
    "\n",
    "                holding = False\n",
    "                asset_value = profit_value\n",
    "                \n",
    "            elif holding:\n",
    "                asset_value = 1 + ((current_price - buy_price) / buy_price)\n",
    "                \n",
    "            #portfolio_values.append(current_capital)\n",
    "            profit_values.append((profit_value - 1.0)*100)\n",
    "        #df['Portfolio_Value'] = portfolio_values\n",
    "        df['Profit_Value'] = profit_values\n",
    "        return df\n",
    "\n",
    "    sd = backtest(signal_dataframes)\n",
    "\n",
    "    ema_per = sd['Profit_Value'].iloc[len(signal_dataframes)-1]\n",
    "\n",
    "    def backtest(df):\n",
    "        \"\"\"\n",
    "        Backtest function to calculate percentage of profit based on trading signals.\n",
    "\n",
    "        :param price_data: List of stock prices (time series data).\n",
    "        :param signals: List of trading signals (-1 for buy, 1 for sell, 0 for hold).\n",
    "        :return: Tuple containing percentage of profit and Maximum Drawdown (MDD).\n",
    "        \"\"\"\n",
    "\n",
    "        #portfolio_values = []\n",
    "        profit_values = []\n",
    "        \n",
    "        # 수수료율 및 슬리피지율 설정 (예: 수수료 0.1%, 슬리피지 0.05%)\n",
    "        commission_rate = 0.001\n",
    "        slippage_rate = 0.0005\n",
    "\n",
    "        profit_value = 1.0\n",
    "        max_drawdown = 0.0\n",
    "        holding = False\n",
    "        buy_price = 0.0\n",
    "        asset_value = 1.0\n",
    "        peak = df['Marketcap'].iloc[0]\n",
    "\n",
    "        for _, row in df.iterrows():\n",
    "            current_price = row['Marketcap']\n",
    "            if row[\"roc\"] == 1 and not holding:  # Buy\n",
    "                # 슬리피지 반영\n",
    "                slippage = current_price * slippage_rate\n",
    "                buy_price = current_price + slippage\n",
    "                # 수수료 반영\n",
    "                buy_commission = buy_price * commission_rate\n",
    "                asset_value -= (buy_commission + slippage)\n",
    "                holding = True\n",
    "                    \n",
    "            elif row['roc'] == -1 and holding:  # Sell\n",
    "                # 슬리피지 반영\n",
    "                slippage = current_price * slippage_rate\n",
    "                sell_price = current_price - slippage\n",
    "                # 수수료 반영\n",
    "                sell_commission = sell_price * commission_rate\n",
    "                profit = (sell_price - sell_commission - buy_price) / buy_price\n",
    "                profit_value *= (1 + profit)\n",
    "\n",
    "                holding = False\n",
    "                asset_value = profit_value\n",
    "                \n",
    "            elif holding:\n",
    "                asset_value = 1 + ((current_price - buy_price) / buy_price)\n",
    "                \n",
    "            #portfolio_values.append(current_capital)\n",
    "            profit_values.append((profit_value - 1.0)*100)\n",
    "        #df['Portfolio_Value'] = portfolio_values\n",
    "        df['Profit_Value'] = profit_values\n",
    "        return df\n",
    "        \n",
    "  \n",
    "\n",
    "    sd = backtest(signal_dataframes)\n",
    "\n",
    "    roc_per = sd['Profit_Value'].iloc[len(signal_dataframes)-1]\n",
    "\n",
    "    def backtest(df):\n",
    "        \"\"\"\n",
    "        Backtest function to calculate percentage of profit based on trading signals.\n",
    "\n",
    "        :param price_data: List of stock prices (time series data).\n",
    "        :param signals: List of trading signals (-1 for buy, 1 for sell, 0 for hold).\n",
    "        :return: Tuple containing percentage of profit and Maximum Drawdown (MDD).\n",
    "        \"\"\"\n",
    "        #portfolio_values = []\n",
    "        profit_values = []\n",
    "        \n",
    "        # 수수료율 및 슬리피지율 설정 (예: 수수료 0.1%, 슬리피지 0.05%)\n",
    "        commission_rate = 0.001\n",
    "        slippage_rate = 0.0005\n",
    "\n",
    "        profit_value = 1.0\n",
    "        max_drawdown = 0.0\n",
    "        holding = False\n",
    "        buy_price = 0.0\n",
    "        asset_value = 1.0\n",
    "        peak = df['Marketcap'].iloc[0]\n",
    "\n",
    "        for _, row in df.iterrows():\n",
    "            current_price = row['Marketcap']\n",
    "            if row[\"stochastic\"] == 1 and not holding:  # Buy\n",
    "                # 슬리피지 반영\n",
    "                slippage = current_price * slippage_rate\n",
    "                buy_price = current_price + slippage\n",
    "                # 수수료 반영\n",
    "                buy_commission = buy_price * commission_rate\n",
    "                asset_value -= (buy_commission + slippage)\n",
    "                holding = True\n",
    "                    \n",
    "            elif row['stochastic'] == -1 and holding:  # Sell\n",
    "                # 슬리피지 반영\n",
    "                slippage = current_price * slippage_rate\n",
    "                sell_price = current_price - slippage\n",
    "                # 수수료 반영\n",
    "                sell_commission = sell_price * commission_rate\n",
    "                profit = (sell_price - sell_commission - buy_price) / buy_price\n",
    "                profit_value *= (1 + profit)\n",
    "                holding = False\n",
    "                asset_value = profit_value\n",
    "                \n",
    "            elif holding:\n",
    "                asset_value = (1 + (current_price - buy_price) / buy_price)\n",
    "                \n",
    "            #portfolio_values.append(current_capital)\n",
    "            profit_values.append((profit_value - 1.0)*100)\n",
    "        #df['Portfolio_Value'] = portfolio_values\n",
    "        df['Profit_Value'] = profit_values\n",
    "        return df\n",
    "\n",
    "    sd = backtest(signal_dataframes)\n",
    "\n",
    "    sto_per = sd['Profit_Value'].iloc[len(signal_dataframes)-1]\n",
    "\n",
    "    origin_per = (df_bt['Marketcap'].iloc[len(df_bt)-1]-df_bt['Marketcap'].iloc[0])/df_bt['Marketcap'].iloc[0] *100\n",
    "    print(dfdf['ISU_NM'][0],\"--   buy_and_hold : {:0.2f}%, rsi : {:0.2f}%, ema : {:0.2f}%, roc : {:0.2f}%, sto : {:0.2f}%, sma : {:0.2f}%\".format(origin_per, rsi_per, ema_per, roc_per, sto_per, sma_per),end ='\\t')\n",
    "    if origin_per<rsi_per or origin_per<ema_per or origin_per<roc_per or origin_per<sto_per or origin_per<sma_per:\n",
    "        print(\"수익률 : {:0.2f}%\".format((100 + max(rsi_per, ema_per, roc_per, sto_per,sma_per))/(100 + origin_per) *100),end=\"\")\n",
    "    isu_name = dfdf['ISU_NM'][0]\n",
    "\n",
    "    # 결과 저장\n",
    "    results[isu_name] = {\n",
    "        \"buy_and_hold\": origin_per,\n",
    "        \"rsi\": rsi_per,\n",
    "        \"ema\": ema_per,\n",
    "        \"roc\": roc_per,\n",
    "        \"sto\": sto_per,\n",
    "        \"수익률\":max(rsi_per, ema_per, roc_per, roc_per, sto_per)/origin_per *100\n",
    "    }\n",
    "\n",
    "    print(\"\\n\")\n",
    "    \n",
    "    # ML learning\n",
    "    X = signal_dataframes.iloc[:,1:6].values\n",
    "    Y = signal_dataframes['Trend'].values\n",
    "\n",
    "    X_train, X_test, y_train, y_test = train_test_split( X, Y, test_size=0.3, shuffle = False, random_state=42)\n",
    "    X_train, X_val, y_train, y_val = train_test_split( X_train, y_train, test_size=0.2, shuffle = False, random_state=42)\n",
    "    \n",
    "    # train이 True일 경우에 사용\n",
    "    if train:\n",
    "        \n",
    "        global best_portfolio \n",
    "\n",
    "        best_portfolio = {}\n",
    "        # 딕셔너리에 portfolio와 solution을 추가함\n",
    "        def add_to_portfolio(portfolio_value, solution):\n",
    "            # portfolio_value와 solution의 유효성을 확인\n",
    "            if isinstance(portfolio_value, (int, float)) and isinstance(solution, list):\n",
    "                best_portfolio[portfolio_value] = solution\n",
    "            else:\n",
    "                print(\"잘못된 portfolio_value 또는 solution 형식입니다.\")\n",
    "        optimize_ESN(X_train,y_train,X_val,df_bt)\n",
    "\n",
    "\n",
    "        # best solution은 txt 형태로 저장 후 Test 할 때 load해서 사용        \n",
    "        file_path = \"/home/ec2-user/SageMaker/Capstone/optimize_parameter/\"\n",
    "        np.savetxt(file_path+a[i]+'.txt',best_portfolio[max(best_portfolio.keys())], fmt='%s')\n",
    "\n",
    "\n",
    "        # 수수료율 및 슬리피지율 설정 (예: 수수료 0.1%, 슬리피지 0.05%)\n",
    "        commission_rate = 0.001\n",
    "        slippage_rate = 0.0005\n",
    "\n",
    "        profit_value = 1.0\n",
    "        max_drawdown = 0.0\n",
    "        holding = False\n",
    "        buy_price = 0.0\n",
    "        asset_value = 1.0\n",
    "\n",
    "\n",
    "        sell_buy = []\n",
    "        profit_pred = []\n",
    "        total_performances = []\n",
    "\n",
    "        spectral_radius, sparsity, Trade_low, Trade_high ,noise,investment_ratio  = best_portfolio[max(best_portfolio.keys())]\n",
    "        # 시계열 예측에 적합한 모델인 ESN을 사용 -> 이를 통해 동적 시계열 특성으로 적절한 해를 구할 수 있음\n",
    "        esn = ESN(5,\n",
    "                  1,\n",
    "                  noise=noise,\n",
    "                  n_reservoir=1000,\n",
    "                  sparsity=sparsity,\n",
    "                  spectral_radius=spectral_radius,\n",
    "                  random_state = 42\n",
    "                   )\n",
    "        esn.fit(X_train, y_train.reshape(-1,1))\n",
    "        y_pred = esn.predict(X_test)\n",
    "        \n",
    "        # 7:3 split이기 때문에, 예측 데이터로 3을 사용\n",
    "\n",
    "        df_bta = df_bt.iloc[int(len(df_bt)*0.7):].reset_index()[[\"Date\",\"Marketcap\"]]#.drop(columns=['index'])\n",
    "        peak = df_bta[\"Marketcap\"].iloc[0]\n",
    "        Tr = pd.DataFrame(y_pred,columns = [\"pred_Trend\"])\n",
    "        Tr = pd.concat([Tr,df_bta,pd.DataFrame(y_test,columns=[\"Trend\"])],axis=1)\n",
    "        \n",
    "        # Trade Logic은 보유 자산에서 investment_ratio만큼의 가격으로 거래함.\n",
    "        # 이때 minimum_capital보다 보유 자산이 작으면 거래를 하지 않음\n",
    "        # 1 일때 buy, 0일 때 stay, -1일 때 sell 전략\n",
    "        for _, row in Tr.iterrows():\n",
    "            current_price = row['Marketcap']\n",
    "\n",
    "            if row[\"pred_Trend\"] < Trade_low and not holding:  # Buy\n",
    "                # 슬리피지 반영\n",
    "                slippage = current_price * slippage_rate\n",
    "                buy_price = current_price + slippage\n",
    "                # 수수료 반영\n",
    "                buy_commission = buy_price * commission_rate\n",
    "                asset_value -= (buy_commission + slippage)\n",
    "                holding = True\n",
    "                sell_buy.append(1)\n",
    "                \n",
    "            elif row[\"pred_Trend\"] >= Trade_high and holding:  # Sell\n",
    "                # 슬리피지 반영\n",
    "                slippage = current_price * slippage_rate\n",
    "                sell_price = current_price - slippage\n",
    "                # 수수료 반영\n",
    "                sell_commission = sell_price * commission_rate\n",
    "                profit = (sell_price - sell_commission - buy_price) / buy_price\n",
    "                profit_value *= (1 + profit)\n",
    "                holding = False\n",
    "                asset_value = profit_value\n",
    "                sell_buy.append(-1)\n",
    "            \n",
    "            elif holding:\n",
    "                asset_value = 1 + ((current_price - buy_price) / buy_price)\n",
    "                sell_buy.append(0)\n",
    "                \n",
    "            else:\n",
    "                sell_buy.append(0)\n",
    "                \n",
    "            # Update peak\n",
    "            if holding:\n",
    "                peak = max(peak, current_price)\n",
    "\n",
    "            # Calculate drawdown\n",
    "            if holding:\n",
    "                drawdown = (peak - current_price) / peak\n",
    "                max_drawdown = max(max_drawdown, drawdown)\n",
    "            if max_drawdown <= 0.01:\n",
    "                max_drawdown = 0.01\n",
    "                \n",
    "\n",
    "\n",
    "            profit_pred.append((profit_value - 1)*100)\n",
    "            total_performances.append((asset_value - 1)*100)\n",
    "\n",
    "        Tr['profit'] = profit_pred\n",
    "        Tr['sell_buy'] = sell_buy\n",
    "        Tr['total'] = total_performances\n",
    "\n",
    "\n",
    "        def buy_and_hold(Tr):\n",
    "            initial = Tr['Marketcap'].iloc[0]\n",
    "            Profit_Value = []\n",
    "            for _, row in Tr.iterrows():\n",
    "\n",
    "                Profit_Value.append((row['Marketcap']-initial)/initial * 100)\n",
    "            Tr['buy_and_hold'] = Profit_Value\n",
    "            return Tr\n",
    "        \n",
    "        globals()['df_{}'.format(a[i])] = buy_and_hold(Tr)\n",
    "\n",
    "\n",
    "\n",
    "        file_path = \"/home/ec2-user/SageMaker/Capstone/model/\"\n",
    "        # 모델을 pickle 파일로 저장\n",
    "        with open(file_path +a[i][:-4]+ '.pkl', 'wb') as file:\n",
    "            pickle.dump(esn, file)\n",
    "\n",
    "        file_path = \"/home/ec2-user/SageMaker/Capstone/fig/\"\n",
    "\n",
    "        def UT(df,file_path, name):\n",
    "            file_path= \"/home/ec2-user/SageMaker/Capstone/fig/\"\n",
    "            if not os.path.exists(file_path + name):\n",
    "                os.mkdir(file_path + name)\n",
    "            \n",
    "            df['cum_max'] = df['total'].cummax()\n",
    "            # 낙폭 계산\n",
    "            df['drawdown'] = (df['cum_max'] - df['total']) / df['cum_max']\n",
    "            # 최대 낙폭 (MDD) 계산\n",
    "            mdd = df['drawdown'].max()\n",
    "            \n",
    "            df['bh_cum_max'] = df['buy_and_hold'].cummax()\n",
    "            # 낙폭 계산\n",
    "            df['bh_drawdown'] = (df['bh_cum_max'] - df['buy_and_hold']) / df['bh_cum_max']\n",
    "            # 최대 낙폭 (MDD) 계산\n",
    "            bh_mdd = df['bh_drawdown'].max()\n",
    "\n",
    "            bh = df['buy_and_hold'].iloc[-1]+100\n",
    "            port = df['profit'].iloc[-1]+100\n",
    "            dif = port-bh\n",
    "            percen = (dif / bh) *100\n",
    "\n",
    "            df['Date'] = pd.to_datetime(df['Date'])\n",
    "            df['Year'] = df['Date'].dt.year\n",
    "            df['Date'] = pd.to_datetime(df['Date'])\n",
    "\n",
    "            plt.figure(figsize=(8,8))\n",
    "\n",
    "            # 년도 컬럼 추가\n",
    "            df['Year'] = df['Date'].dt.year\n",
    "            plt.subplot(3,1,1)\n",
    "            # 그래프 그리기\n",
    "            plt.plot(df['Date'], df['total'], label='Profit', color='Coral')\n",
    "            plt.plot(df['Date'], df['profit'], label = 'real profit')\n",
    "            plt.plot(df['Date'], df['buy_and_hold'], label='Buy and Hold', color='Teal')\n",
    "            plt.xlabel('Date')\n",
    "            plt.ylabel('Return')\n",
    "            plt.title('Profit vs BuyandHold')\n",
    "            plt.legend()\n",
    "\n",
    "            # x 축 눈금 간격 조정\n",
    "            plt.gca().xaxis.set_major_locator(plt.MultipleLocator(365))  # 1년 간격\n",
    "\n",
    "            # 날짜 형식 변경\n",
    "            date_format = DateFormatter(\"%Y\")\n",
    "            plt.gca().xaxis.set_major_formatter(date_format)\n",
    "\n",
    "            plt.savefig(file_path+name+'/'+'_1.png', dpi=300, bbox_inches='tight')\n",
    "            plt.show()\n",
    "            plt.clf()\n",
    "\n",
    "            df['Date'] = pd.to_datetime(df['Date'])\n",
    "            df['Year'] = df['Date'].dt.year\n",
    "            df['Date'] = pd.to_datetime(df['Date'])\n",
    "\n",
    "            # 년도 컬럼 추가\n",
    "            df['Year'] = df['Date'].dt.year\n",
    "\n",
    "            plt.figure(figsize=(8,8))\n",
    "            plt.subplot(3,1,2) \n",
    "            # 그래프 그리기\n",
    "            plt.plot(df['Date'], df['Marketcap'], label='Marketcap', color='Coral')\n",
    "            #plt.plot(df['Date'], df['buy_and_hold'], label='BuyandHold', color='Teal')\n",
    "\n",
    "            plt.scatter(df['Date'][df['sell_buy'] == 1], df['Marketcap'][df['sell_buy'] == 1], marker='^', color='red', label='Buy')\n",
    "            plt.scatter(df['Date'][df['sell_buy'] == -1], df['Marketcap'][df['sell_buy'] == -1], marker='v', color='blue', label='Sell')\n",
    "            plt.xlabel('Date')\n",
    "            plt.ylabel('Equity')\n",
    "            plt.title('Marketcap & sell_buy')\n",
    "            plt.legend()\n",
    "\n",
    "            # x 축 눈금 간격 조정\n",
    "            plt.gca().xaxis.set_major_locator(plt.MultipleLocator(365))  # 1년 간격\n",
    "\n",
    "            # 날짜 형식 변경\n",
    "            date_format = DateFormatter(\"%Y\")\n",
    "            plt.gca().xaxis.set_major_formatter(date_format)\n",
    "\n",
    "            plt.savefig(file_path+name+'/'+'_2.png', dpi=300, bbox_inches='tight')\n",
    "            plt.show()\n",
    "            plt.clf()\n",
    "\n",
    "            df['Date'] = pd.to_datetime(df['Date'])\n",
    "            df['Year'] = df['Date'].dt.year\n",
    "            df['Date'] = pd.to_datetime(df['Date'])\n",
    "\n",
    "            # 년도 컬럼 추가\n",
    "            df['Year'] = df['Date'].dt.year\n",
    "            plt.figure(figsize=(8,8))\n",
    "            plt.subplot(3,1,3) \n",
    "            # 그래프 그리기\n",
    "            plt.plot(df['Date'], df['Marketcap'], label='Marketcap', color='Coral')\n",
    "            #plt.plot(df['Date'], df['buy_and_hold'], label='BuyandHold', color='Teal')\n",
    "\n",
    "            plt.scatter(df['Date'][df['sell_buy'] == 1], df['Marketcap'][df['sell_buy'] == 1], marker='^', color='red', label='Buy')\n",
    "            plt.scatter(df['Date'][df['sell_buy'] == -1], df['Marketcap'][df['sell_buy'] == -1], marker='v', color='blue', label='Sell')\n",
    "            plt.xlabel('Date')\n",
    "            plt.ylabel('Equity')\n",
    "            plt.title('Portfolio vs BuyandHold')\n",
    "            plt.legend()\n",
    "\n",
    "            # x 축 눈금 간격 조정\n",
    "            plt.gca().xaxis.set_major_locator(plt.MultipleLocator(365))  # 1년 간격\n",
    "\n",
    "            # 날짜 형식 변경\n",
    "            date_format = DateFormatter(\"%Y\")\n",
    "            plt.gca().xaxis.set_major_formatter(date_format)\n",
    "\n",
    "            # 확대 기능 추가 (원하는 날짜 범위로 설정)\n",
    "            plt.xlim(pd.Timestamp('2016-10-01'), pd.Timestamp('2019-01-01'))  # x 축 범위 설정\n",
    "            #plt.ylim(0.8e6, 2.0e6)\n",
    "\n",
    "            plt.savefig(file_path+name+'/'+'_3.png', dpi=300, bbox_inches='tight') \n",
    "            plt.show()\n",
    "            \n",
    "            print(\"MDD(%): \", mdd)\n",
    "            print(\"buy and hold MDD(%): \", bh_mdd)\n",
    "            print(\"Buy and Hold 대비 return(%): \", percen)\n",
    "            \n",
    "        #UT를 통해 figure 3개와 MDD, buy and hold 대비 수익률을 얻을 수 있음\n",
    "        UT(globals()['df_{}'.format(a[i])],file_path, a[i])\n",
    "    \n",
    "    # Test는 아직 수정이 필요로 함\n",
    "    elif not train:\n",
    "        spectral_radius, sparsity, Trade_low, Trade_high ,noise,investment_ratio = np.loadtxt(file_path+a[0]+'.txt')\n",
    "        # 모델 불러오기\n",
    "        file_path = \"/home/ec2-user/SageMaker/Capstone/model/\"\n",
    "        with open(file_path +a[i][:-4]+ '.pkl', 'rb') as file:\n",
    "            esn = pickle.load(file)\n",
    "\n",
    "        y_pred = esn.predict(X_test)\n",
    "        df_bta = df_bt[\"Marketcap\"].iloc[int(len(df_bt)*0.7):].reset_index()#.drop(columns=['index'])\n",
    "        Tr = pd.DataFrame(y_pred,columns = [\"pred_Trend\"])\n",
    "        Tr = pd.concat([Tr,df_bta,pd.DataFrame(y_test,columns=[\"Trend\"])],axis=1)\n",
    "        for _, row in Tr.iterrows():\n",
    "            if row[\"pred_Trend\"] <Trade_low and not holding:\n",
    "                if current_capital > minimum_capital:  # 최소 자본보다 클 때만 매수\n",
    "                    investment = current_capital * investment_ratio\n",
    "                    owned_shares = investment / row['Marketcap']\n",
    "                    buy_price = row['Marketcap']\n",
    "                    current_capital -= investment\n",
    "                    holding = True\n",
    "                    sell_buy.append(1)\n",
    "                else:\n",
    "                    sell_buy.append(0)\n",
    "\n",
    "\n",
    "            elif row[\"pred_Trend\"] >= Trade_high and holding:\n",
    "                sell_value = owned_shares * row['Marketcap']\n",
    "                profit += (row['Marketcap'] - buy_price) / buy_price * 100\n",
    "                current_capital += sell_value\n",
    "                owned_shares = 0.0\n",
    "                holding = False\n",
    "                sell_buy.append(-1)\n",
    "\n",
    "            else:\n",
    "                sell_buy.append(0)\n",
    "\n",
    "            portfolio_pred.append(current_capital+owned_shares * row['Marketcap'])\n",
    "\n",
    "        Tr['portfolio'] = portfolio_pred\n",
    "        Tr['sell_buy'] = sell_buy\n",
    "\n",
    "        def buy_and_hold(Tr):\n",
    "            current_capital = 1000000.0  # 현재 자본\n",
    "            Portfolio_Value = []\n",
    "            shares = current_capital/Tr['Marketcap'].iloc[0]\n",
    "            for _, row in Tr.iterrows():\n",
    "\n",
    "                Portfolio_Value.append(row['Marketcap'] * shares)\n",
    "            Tr['buy_and_hold'] = Portfolio_Value\n",
    "            return Tr\n",
    "        globals()['df_{}'.format(a[i])] = buy_and_hold(Tr)\n",
    "\n",
    "\n",
    "\n",
    "        file_path = \"/home/ec2-user/SageMaker/Capstone/model/\"\n",
    "        # 모델을 pickle 파일로 저장\n",
    "        with open(file_path +a[i][:-4]+ '.pkl', 'wb') as file:\n",
    "            pickle.dump(esn, file)\n",
    "\n",
    "        file_path = \"/home/ec2-user/SageMaker/Capstone/fig/\"\n",
    "\n",
    "        def UT(df,file_path, name):\n",
    "            file_path= \"/home/ec2-user/SageMaker/Capstone/fig/\"\n",
    "            os.mkdir(file_path + name)\n",
    "            \n",
    "            df['cum_max'] = df['portfolio'].cummax()\n",
    "            # 낙폭 계산\n",
    "            df['drawdown'] = (df['cum_max'] - df['portfolio']) / df['cum_max']\n",
    "            # 최대 낙폭 (MDD) 계산\n",
    "            mdd = df['drawdown'].max()\n",
    "            \n",
    "            df['bh_cum_max'] = df['buy_and_hold'].cummax()\n",
    "            # 낙폭 계산\n",
    "            df['bh_drawdown'] = (df['bh_cum_max'] - df['buy_and_hold']) / df['bh_cum_max']\n",
    "            # 최대 낙폭 (MDD) 계산\n",
    "            bh_mdd = df['bh_drawdown'].max()\n",
    "\n",
    "            bh = df['buy_and_hold'].iloc[-1]\n",
    "            port = df['portfolio'].iloc[-1]\n",
    "            dif = port-bh\n",
    "            percen = (dif / bh) *100\n",
    "\n",
    "            df['Date'] = pd.to_datetime(df['Date'])\n",
    "            df['Year'] = df['Date'].dt.year\n",
    "            df['Date'] = pd.to_datetime(df['Date'])\n",
    "\n",
    "            plt.figure(figsize=(8,8))\n",
    "\n",
    "            # 년도 컬럼 추가\n",
    "            df['Year'] = df['Date'].dt.year\n",
    "            plt.subplot(3,1,1)\n",
    "            # 그래프 그리기\n",
    "            plt.plot(df['Date'], df['portfolio'], label='Portfolio', color='Coral')\n",
    "            plt.plot(df['Date'], df['buy_and_hold'], label='BuyandHold', color='Teal')\n",
    "            plt.xlabel('Date')\n",
    "            plt.ylabel('Equity')\n",
    "            plt.title('Portfolio vs BuyandHold')\n",
    "            plt.legend()\n",
    "\n",
    "            # x 축 눈금 간격 조정\n",
    "            plt.gca().xaxis.set_major_locator(plt.MultipleLocator(365))  # 1년 간격\n",
    "\n",
    "            # 날짜 형식 변경\n",
    "            date_format = DateFormatter(\"%Y\")\n",
    "            plt.gca().xaxis.set_major_formatter(date_format)\n",
    "\n",
    "            #plt.savefig(file_path+name+'/'+'_1.png', dpi=300, bbox_inches='tight')\n",
    "            plt.show()\n",
    "            plt.clf()\n",
    "\n",
    "            df['Date'] = pd.to_datetime(df['Date'])\n",
    "            df['Year'] = df['Date'].dt.year\n",
    "            df['Date'] = pd.to_datetime(df['Date'])\n",
    "\n",
    "            # 년도 컬럼 추가\n",
    "            df['Year'] = df['Date'].dt.year\n",
    "\n",
    "            plt.figure(figsize=(8,8))\n",
    "            plt.subplot(3,1,2) \n",
    "            # 그래프 그리기\n",
    "            plt.plot(df['Date'], df['portfolio'], label='Portfolio', color='Coral')\n",
    "            plt.plot(df['Date'], df['buy_and_hold'], label='BuyandHold', color='Teal')\n",
    "\n",
    "            plt.scatter(df['Date'][df['sell_buy'] == 1], df['portfolio'][df['sell_buy'] == 1], marker='^', color='red', label='Buy')\n",
    "            plt.scatter(df['Date'][df['sell_buy'] == -1], df['portfolio'][df['sell_buy'] == -1], marker='v', color='blue', label='Sell')\n",
    "            plt.xlabel('Date')\n",
    "            plt.ylabel('Equity')\n",
    "            plt.title('Portfolio vs BuyandHold')\n",
    "            plt.legend()\n",
    "\n",
    "            # x 축 눈금 간격 조정\n",
    "            plt.gca().xaxis.set_major_locator(plt.MultipleLocator(365))  # 1년 간격\n",
    "\n",
    "            # 날짜 형식 변경\n",
    "            date_format = DateFormatter(\"%Y\")\n",
    "            plt.gca().xaxis.set_major_formatter(date_format)\n",
    "\n",
    "            #plt.savefig(file_path+name+'/'+'_2.png', dpi=300, bbox_inches='tight')\n",
    "            plt.show()\n",
    "            plt.clf()\n",
    "\n",
    "            df['Date'] = pd.to_datetime(df['Date'])\n",
    "            df['Year'] = df['Date'].dt.year\n",
    "            df['Date'] = pd.to_datetime(df['Date'])\n",
    "\n",
    "            # 년도 컬럼 추가\n",
    "            df['Year'] = df['Date'].dt.year\n",
    "            plt.figure(figsize=(8,8))\n",
    "            plt.subplot(3,1,3) \n",
    "            # 그래프 그리기\n",
    "            plt.plot(df['Date'], df['portfolio'], label='Portfolio', color='Coral')\n",
    "            plt.plot(df['Date'], df['buy_and_hold'], label='BuyandHold', color='Teal')\n",
    "\n",
    "            plt.scatter(df['Date'][df['sell_buy'] == 1], df['portfolio'][df['sell_buy'] == 1], marker='^', color='red', label='Buy')\n",
    "            plt.scatter(df['Date'][df['sell_buy'] == -1], df['portfolio'][df['sell_buy'] == -1], marker='v', color='blue', label='Sell')\n",
    "            plt.xlabel('Date')\n",
    "            plt.ylabel('Equity')\n",
    "            plt.title('Portfolio vs BuyandHold')\n",
    "            plt.legend()\n",
    "\n",
    "            # x 축 눈금 간격 조정\n",
    "            plt.gca().xaxis.set_major_locator(plt.MultipleLocator(365))  # 1년 간격\n",
    "\n",
    "            # 날짜 형식 변경\n",
    "            date_format = DateFormatter(\"%Y\")\n",
    "            plt.gca().xaxis.set_major_formatter(date_format)\n",
    "\n",
    "            # 확대 기능 추가 (원하는 날짜 범위로 설정)\n",
    "            plt.xlim(pd.Timestamp('2018-10-01'), pd.Timestamp('2019-01-01'))  # x 축 범위 설정\n",
    "            plt.ylim(0.8e6, 2.0e6)\n",
    "\n",
    "            #plt.savefig(file_path+name+'/'+'_3.png', dpi=300, bbox_inches='tight') \n",
    "            plt.show()\n",
    "            \n",
    "            print(\"MDD(%): \", mdd)\n",
    "            print(\"buy and hold MDD(%): \", bh_mdd)\n",
    "            print(\"Buy and Hold 대비 return(%): \", percen)\n",
    "\n",
    "        UT(globals()['df_{}'.format(a[i])],file_path, a[i])\n",
    "    \n",
    "            \n",
    "\n"
   ]
  },
  {
   "cell_type": "code",
   "execution_count": 42,
   "metadata": {},
   "outputs": [
    {
     "data": {
      "text/html": [
       "<div>\n",
       "<style scoped>\n",
       "    .dataframe tbody tr th:only-of-type {\n",
       "        vertical-align: middle;\n",
       "    }\n",
       "\n",
       "    .dataframe tbody tr th {\n",
       "        vertical-align: top;\n",
       "    }\n",
       "\n",
       "    .dataframe thead th {\n",
       "        text-align: right;\n",
       "    }\n",
       "</style>\n",
       "<table border=\"1\" class=\"dataframe\">\n",
       "  <thead>\n",
       "    <tr style=\"text-align: right;\">\n",
       "      <th></th>\n",
       "      <th>pred_Trend</th>\n",
       "      <th>Date</th>\n",
       "      <th>Marketcap</th>\n",
       "      <th>Trend</th>\n",
       "      <th>profit</th>\n",
       "      <th>sell_buy</th>\n",
       "      <th>total</th>\n",
       "      <th>buy_and_hold</th>\n",
       "      <th>cum_max</th>\n",
       "      <th>drawdown</th>\n",
       "      <th>bh_cum_max</th>\n",
       "      <th>bh_drawdown</th>\n",
       "      <th>Year</th>\n",
       "    </tr>\n",
       "  </thead>\n",
       "  <tbody>\n",
       "    <tr>\n",
       "      <th>0</th>\n",
       "      <td>0.444931</td>\n",
       "      <td>2015-02-06</td>\n",
       "      <td>1.172003e+11</td>\n",
       "      <td>0.438356</td>\n",
       "      <td>0.000000</td>\n",
       "      <td>0</td>\n",
       "      <td>0.000000</td>\n",
       "      <td>0.000000</td>\n",
       "      <td>0.000000</td>\n",
       "      <td>NaN</td>\n",
       "      <td>0.000000</td>\n",
       "      <td>NaN</td>\n",
       "      <td>2015</td>\n",
       "    </tr>\n",
       "    <tr>\n",
       "      <th>1</th>\n",
       "      <td>0.460335</td>\n",
       "      <td>2015-02-09</td>\n",
       "      <td>1.154379e+11</td>\n",
       "      <td>0.424658</td>\n",
       "      <td>0.000000</td>\n",
       "      <td>0</td>\n",
       "      <td>0.000000</td>\n",
       "      <td>-1.503759</td>\n",
       "      <td>0.000000</td>\n",
       "      <td>NaN</td>\n",
       "      <td>0.000000</td>\n",
       "      <td>inf</td>\n",
       "      <td>2015</td>\n",
       "    </tr>\n",
       "    <tr>\n",
       "      <th>2</th>\n",
       "      <td>0.473448</td>\n",
       "      <td>2015-02-10</td>\n",
       "      <td>1.189627e+11</td>\n",
       "      <td>0.410959</td>\n",
       "      <td>0.000000</td>\n",
       "      <td>0</td>\n",
       "      <td>0.000000</td>\n",
       "      <td>1.503759</td>\n",
       "      <td>0.000000</td>\n",
       "      <td>NaN</td>\n",
       "      <td>1.503759</td>\n",
       "      <td>0.000000</td>\n",
       "      <td>2015</td>\n",
       "    </tr>\n",
       "    <tr>\n",
       "      <th>3</th>\n",
       "      <td>0.516346</td>\n",
       "      <td>2015-02-11</td>\n",
       "      <td>1.172003e+11</td>\n",
       "      <td>0.397260</td>\n",
       "      <td>0.000000</td>\n",
       "      <td>0</td>\n",
       "      <td>0.000000</td>\n",
       "      <td>0.000000</td>\n",
       "      <td>0.000000</td>\n",
       "      <td>NaN</td>\n",
       "      <td>1.503759</td>\n",
       "      <td>1.000000</td>\n",
       "      <td>2015</td>\n",
       "    </tr>\n",
       "    <tr>\n",
       "      <th>4</th>\n",
       "      <td>0.568129</td>\n",
       "      <td>2015-02-12</td>\n",
       "      <td>1.132349e+11</td>\n",
       "      <td>0.383562</td>\n",
       "      <td>0.000000</td>\n",
       "      <td>0</td>\n",
       "      <td>0.000000</td>\n",
       "      <td>-3.383459</td>\n",
       "      <td>0.000000</td>\n",
       "      <td>NaN</td>\n",
       "      <td>1.503759</td>\n",
       "      <td>3.250000</td>\n",
       "      <td>2015</td>\n",
       "    </tr>\n",
       "    <tr>\n",
       "      <th>...</th>\n",
       "      <td>...</td>\n",
       "      <td>...</td>\n",
       "      <td>...</td>\n",
       "      <td>...</td>\n",
       "      <td>...</td>\n",
       "      <td>...</td>\n",
       "      <td>...</td>\n",
       "      <td>...</td>\n",
       "      <td>...</td>\n",
       "      <td>...</td>\n",
       "      <td>...</td>\n",
       "      <td>...</td>\n",
       "      <td>...</td>\n",
       "    </tr>\n",
       "    <tr>\n",
       "      <th>2163</th>\n",
       "      <td>0.613999</td>\n",
       "      <td>2023-11-22</td>\n",
       "      <td>4.350049e+10</td>\n",
       "      <td>0.000000</td>\n",
       "      <td>2.499831</td>\n",
       "      <td>0</td>\n",
       "      <td>2.499831</td>\n",
       "      <td>-62.883637</td>\n",
       "      <td>3.132052</td>\n",
       "      <td>0.201855</td>\n",
       "      <td>82.703067</td>\n",
       "      <td>1.760354</td>\n",
       "      <td>2023</td>\n",
       "    </tr>\n",
       "    <tr>\n",
       "      <th>2164</th>\n",
       "      <td>0.589137</td>\n",
       "      <td>2023-11-23</td>\n",
       "      <td>4.185657e+10</td>\n",
       "      <td>0.000000</td>\n",
       "      <td>2.499831</td>\n",
       "      <td>0</td>\n",
       "      <td>2.499831</td>\n",
       "      <td>-64.286290</td>\n",
       "      <td>3.132052</td>\n",
       "      <td>0.201855</td>\n",
       "      <td>82.703067</td>\n",
       "      <td>1.777314</td>\n",
       "      <td>2023</td>\n",
       "    </tr>\n",
       "    <tr>\n",
       "      <th>2165</th>\n",
       "      <td>0.561330</td>\n",
       "      <td>2023-11-24</td>\n",
       "      <td>4.109785e+10</td>\n",
       "      <td>0.000000</td>\n",
       "      <td>2.499831</td>\n",
       "      <td>0</td>\n",
       "      <td>2.499831</td>\n",
       "      <td>-64.933669</td>\n",
       "      <td>3.132052</td>\n",
       "      <td>0.201855</td>\n",
       "      <td>82.703067</td>\n",
       "      <td>1.785142</td>\n",
       "      <td>2023</td>\n",
       "    </tr>\n",
       "    <tr>\n",
       "      <th>2166</th>\n",
       "      <td>0.544591</td>\n",
       "      <td>2023-11-27</td>\n",
       "      <td>3.528092e+10</td>\n",
       "      <td>0.000000</td>\n",
       "      <td>2.499831</td>\n",
       "      <td>0</td>\n",
       "      <td>2.499831</td>\n",
       "      <td>-69.896903</td>\n",
       "      <td>3.132052</td>\n",
       "      <td>0.201855</td>\n",
       "      <td>82.703067</td>\n",
       "      <td>1.845155</td>\n",
       "      <td>2023</td>\n",
       "    </tr>\n",
       "    <tr>\n",
       "      <th>2167</th>\n",
       "      <td>0.526311</td>\n",
       "      <td>2023-11-28</td>\n",
       "      <td>3.477510e+10</td>\n",
       "      <td>0.000000</td>\n",
       "      <td>2.499831</td>\n",
       "      <td>0</td>\n",
       "      <td>2.499831</td>\n",
       "      <td>-70.328489</td>\n",
       "      <td>3.132052</td>\n",
       "      <td>0.201855</td>\n",
       "      <td>82.703067</td>\n",
       "      <td>1.850373</td>\n",
       "      <td>2023</td>\n",
       "    </tr>\n",
       "  </tbody>\n",
       "</table>\n",
       "<p>2168 rows × 13 columns</p>\n",
       "</div>"
      ],
      "text/plain": [
       "      pred_Trend       Date     Marketcap     Trend    profit  sell_buy  \\\n",
       "0       0.444931 2015-02-06  1.172003e+11  0.438356  0.000000         0   \n",
       "1       0.460335 2015-02-09  1.154379e+11  0.424658  0.000000         0   \n",
       "2       0.473448 2015-02-10  1.189627e+11  0.410959  0.000000         0   \n",
       "3       0.516346 2015-02-11  1.172003e+11  0.397260  0.000000         0   \n",
       "4       0.568129 2015-02-12  1.132349e+11  0.383562  0.000000         0   \n",
       "...          ...        ...           ...       ...       ...       ...   \n",
       "2163    0.613999 2023-11-22  4.350049e+10  0.000000  2.499831         0   \n",
       "2164    0.589137 2023-11-23  4.185657e+10  0.000000  2.499831         0   \n",
       "2165    0.561330 2023-11-24  4.109785e+10  0.000000  2.499831         0   \n",
       "2166    0.544591 2023-11-27  3.528092e+10  0.000000  2.499831         0   \n",
       "2167    0.526311 2023-11-28  3.477510e+10  0.000000  2.499831         0   \n",
       "\n",
       "         total  buy_and_hold   cum_max  drawdown  bh_cum_max  bh_drawdown  \\\n",
       "0     0.000000      0.000000  0.000000       NaN    0.000000          NaN   \n",
       "1     0.000000     -1.503759  0.000000       NaN    0.000000          inf   \n",
       "2     0.000000      1.503759  0.000000       NaN    1.503759     0.000000   \n",
       "3     0.000000      0.000000  0.000000       NaN    1.503759     1.000000   \n",
       "4     0.000000     -3.383459  0.000000       NaN    1.503759     3.250000   \n",
       "...        ...           ...       ...       ...         ...          ...   \n",
       "2163  2.499831    -62.883637  3.132052  0.201855   82.703067     1.760354   \n",
       "2164  2.499831    -64.286290  3.132052  0.201855   82.703067     1.777314   \n",
       "2165  2.499831    -64.933669  3.132052  0.201855   82.703067     1.785142   \n",
       "2166  2.499831    -69.896903  3.132052  0.201855   82.703067     1.845155   \n",
       "2167  2.499831    -70.328489  3.132052  0.201855   82.703067     1.850373   \n",
       "\n",
       "      Year  \n",
       "0     2015  \n",
       "1     2015  \n",
       "2     2015  \n",
       "3     2015  \n",
       "4     2015  \n",
       "...    ...  \n",
       "2163  2023  \n",
       "2164  2023  \n",
       "2165  2023  \n",
       "2166  2023  \n",
       "2167  2023  \n",
       "\n",
       "[2168 rows x 13 columns]"
      ]
     },
     "execution_count": 42,
     "metadata": {},
     "output_type": "execute_result"
    }
   ],
   "source": [
    "df_KR7000300004"
   ]
  },
  {
   "cell_type": "code",
   "execution_count": 43,
   "metadata": {},
   "outputs": [
    {
     "data": {
      "text/plain": [
       "<Axes: >"
      ]
     },
     "execution_count": 43,
     "metadata": {},
     "output_type": "execute_result"
    },
    {
     "data": {
      "image/png": "[encoded data removed]",
      "text/plain": [
       "<Figure size 640x480 with 1 Axes>"
      ]
     },
     "metadata": {},
     "output_type": "display_data"
    }
   ],
   "source": [
    "df_KR7000300004['profit'].plot()\n",
    "df_KR7000300004['buy_and_hold'].plot()"
   ]
  },
  {
   "cell_type": "code",
   "execution_count": 44,
   "metadata": {},
   "outputs": [
    {
     "data": {
      "text/plain": [
       "<Axes: >"
      ]
     },
     "execution_count": 44,
     "metadata": {},
     "output_type": "execute_result"
    },
    {
     "data": {
      "image/png": "[encoded data removed]",
      "text/plain": [
       "<Figure size 640x480 with 1 Axes>"
      ]
     },
     "metadata": {},
     "output_type": "display_data"
    }
   ],
   "source": [
    "df_KR7000300004['total'].plot()"
   ]
  },
  {
   "cell_type": "code",
   "execution_count": null,
   "metadata": {},
   "outputs": [],
   "source": []
  }
 ],
 "metadata": {
  "accelerator": "GPU",
  "colab": {
   "provenance": []
  },
  "kernelspec": {
   "display_name": "conda_python3",
   "language": "python",
   "name": "conda_python3"
  },
  "language_info": {
   "codemirror_mode": {
    "name": "ipython",
    "version": 3
   },
   "file_extension": ".py",
   "mimetype": "text/x-python",
   "name": "python",
   "nbconvert_exporter": "python",
   "pygments_lexer": "ipython3",
   "version": "3.10.13"
  },
  "widgets": {
   "application/vnd.jupyter.widget-state+json": {
    "00945f68585f44abb380252bd9b90a1c": {
     "model_module": "@jupyter-widgets/controls",
     "model_module_version": "1.5.0",
     "model_name": "HTMLModel",
     "state": {
      "_dom_classes": [],
      "_model_module": "@jupyter-widgets/controls",
      "_model_module_version": "1.5.0",
      "_model_name": "HTMLModel",
      "_view_count": null,
      "_view_module": "@jupyter-widgets/controls",
      "_view_module_version": "1.5.0",
      "_view_name": "HTMLView",
      "description": "",
      "description_tooltip": null,
      "layout": "IPY_MODEL_48f4919445864217a4928c260717a475",
      "placeholder": "​",
      "style": "IPY_MODEL_aba75320e34e409085f591ada31d5abf",
      "value": " 64%"
     }
    },
    "1eb3df931920452e88c95a6ab1098bf2": {
     "model_module": "@jupyter-widgets/controls",
     "model_module_version": "1.5.0",
     "model_name": "HTMLModel",
     "state": {
      "_dom_classes": [],
      "_model_module": "@jupyter-widgets/controls",
      "_model_module_version": "1.5.0",
      "_model_name": "HTMLModel",
      "_view_count": null,
      "_view_module": "@jupyter-widgets/controls",
      "_view_module_version": "1.5.0",
      "_view_name": "HTMLView",
      "description": "",
      "description_tooltip": null,
      "layout": "IPY_MODEL_2e3179711c6442928ab77d636c1632c8",
      "placeholder": "​",
      "style": "IPY_MODEL_2cbfe78fe2864cab8097f01dcb71d298",
      "value": " 2806/4391 [02:26&lt;01:22, 19.25it/s]"
     }
    },
    "2813c141b61146d8827d57d87309c392": {
     "model_module": "@jupyter-widgets/controls",
     "model_module_version": "1.5.0",
     "model_name": "FloatProgressModel",
     "state": {
      "_dom_classes": [],
      "_model_module": "@jupyter-widgets/controls",
      "_model_module_version": "1.5.0",
      "_model_name": "FloatProgressModel",
      "_view_count": null,
      "_view_module": "@jupyter-widgets/controls",
      "_view_module_version": "1.5.0",
      "_view_name": "ProgressView",
      "bar_style": "",
      "description": "",
      "description_tooltip": null,
      "layout": "IPY_MODEL_3206edfb4e914444be93a86e749372de",
      "max": 4391,
      "min": 0,
      "orientation": "horizontal",
      "style": "IPY_MODEL_e74b44901a1f4c8dbaa94ddc8a8b7706",
      "value": 2806
     }
    },
    "2cbfe78fe2864cab8097f01dcb71d298": {
     "model_module": "@jupyter-widgets/controls",
     "model_module_version": "1.5.0",
     "model_name": "DescriptionStyleModel",
     "state": {
      "_model_module": "@jupyter-widgets/controls",
      "_model_module_version": "1.5.0",
      "_model_name": "DescriptionStyleModel",
      "_view_count": null,
      "_view_module": "@jupyter-widgets/base",
      "_view_module_version": "1.2.0",
      "_view_name": "StyleView",
      "description_width": ""
     }
    },
    "2e3179711c6442928ab77d636c1632c8": {
     "model_module": "@jupyter-widgets/base",
     "model_module_version": "1.2.0",
     "model_name": "LayoutModel",
     "state": {
      "_model_module": "@jupyter-widgets/base",
      "_model_module_version": "1.2.0",
      "_model_name": "LayoutModel",
      "_view_count": null,
      "_view_module": "@jupyter-widgets/base",
      "_view_module_version": "1.2.0",
      "_view_name": "LayoutView",
      "align_content": null,
      "align_items": null,
      "align_self": null,
      "border": null,
      "bottom": null,
      "display": null,
      "flex": null,
      "flex_flow": null,
      "grid_area": null,
      "grid_auto_columns": null,
      "grid_auto_flow": null,
      "grid_auto_rows": null,
      "grid_column": null,
      "grid_gap": null,
      "grid_row": null,
      "grid_template_areas": null,
      "grid_template_columns": null,
      "grid_template_rows": null,
      "height": null,
      "justify_content": null,
      "justify_items": null,
      "left": null,
      "margin": null,
      "max_height": null,
      "max_width": null,
      "min_height": null,
      "min_width": null,
      "object_fit": null,
      "object_position": null,
      "order": null,
      "overflow": null,
      "overflow_x": null,
      "overflow_y": null,
      "padding": null,
      "right": null,
      "top": null,
      "visibility": null,
      "width": null
     }
    },
    "3206edfb4e914444be93a86e749372de": {
     "model_module": "@jupyter-widgets/base",
     "model_module_version": "1.2.0",
     "model_name": "LayoutModel",
     "state": {
      "_model_module": "@jupyter-widgets/base",
      "_model_module_version": "1.2.0",
      "_model_name": "LayoutModel",
      "_view_count": null,
      "_view_module": "@jupyter-widgets/base",
      "_view_module_version": "1.2.0",
      "_view_name": "LayoutView",
      "align_content": null,
      "align_items": null,
      "align_self": null,
      "border": null,
      "bottom": null,
      "display": null,
      "flex": null,
      "flex_flow": null,
      "grid_area": null,
      "grid_auto_columns": null,
      "grid_auto_flow": null,
      "grid_auto_rows": null,
      "grid_column": null,
      "grid_gap": null,
      "grid_row": null,
      "grid_template_areas": null,
      "grid_template_columns": null,
      "grid_template_rows": null,
      "height": null,
      "justify_content": null,
      "justify_items": null,
      "left": null,
      "margin": null,
      "max_height": null,
      "max_width": null,
      "min_height": null,
      "min_width": null,
      "object_fit": null,
      "object_position": null,
      "order": null,
      "overflow": null,
      "overflow_x": null,
      "overflow_y": null,
      "padding": null,
      "right": null,
      "top": null,
      "visibility": null,
      "width": null
     }
    },
    "3b8da4f0a77d43f6bbb14696e2f8a0cd": {
     "model_module": "@jupyter-widgets/base",
     "model_module_version": "1.2.0",
     "model_name": "LayoutModel",
     "state": {
      "_model_module": "@jupyter-widgets/base",
      "_model_module_version": "1.2.0",
      "_model_name": "LayoutModel",
      "_view_count": null,
      "_view_module": "@jupyter-widgets/base",
      "_view_module_version": "1.2.0",
      "_view_name": "LayoutView",
      "align_content": null,
      "align_items": null,
      "align_self": null,
      "border": null,
      "bottom": null,
      "display": null,
      "flex": null,
      "flex_flow": null,
      "grid_area": null,
      "grid_auto_columns": null,
      "grid_auto_flow": null,
      "grid_auto_rows": null,
      "grid_column": null,
      "grid_gap": null,
      "grid_row": null,
      "grid_template_areas": null,
      "grid_template_columns": null,
      "grid_template_rows": null,
      "height": null,
      "justify_content": null,
      "justify_items": null,
      "left": null,
      "margin": null,
      "max_height": null,
      "max_width": null,
      "min_height": null,
      "min_width": null,
      "object_fit": null,
      "object_position": null,
      "order": null,
      "overflow": null,
      "overflow_x": null,
      "overflow_y": null,
      "padding": null,
      "right": null,
      "top": null,
      "visibility": null,
      "width": null
     }
    },
    "3c2b7b52c750425aa9065a693993a387": {
     "model_module": "@jupyter-widgets/controls",
     "model_module_version": "1.5.0",
     "model_name": "HBoxModel",
     "state": {
      "_dom_classes": [],
      "_model_module": "@jupyter-widgets/controls",
      "_model_module_version": "1.5.0",
      "_model_name": "HBoxModel",
      "_view_count": null,
      "_view_module": "@jupyter-widgets/controls",
      "_view_module_version": "1.5.0",
      "_view_name": "HBoxView",
      "box_style": "",
      "children": [
       "IPY_MODEL_00945f68585f44abb380252bd9b90a1c",
       "IPY_MODEL_2813c141b61146d8827d57d87309c392",
       "IPY_MODEL_1eb3df931920452e88c95a6ab1098bf2"
      ],
      "layout": "IPY_MODEL_3b8da4f0a77d43f6bbb14696e2f8a0cd"
     }
    },
    "48f4919445864217a4928c260717a475": {
     "model_module": "@jupyter-widgets/base",
     "model_module_version": "1.2.0",
     "model_name": "LayoutModel",
     "state": {
      "_model_module": "@jupyter-widgets/base",
      "_model_module_version": "1.2.0",
      "_model_name": "LayoutModel",
      "_view_count": null,
      "_view_module": "@jupyter-widgets/base",
      "_view_module_version": "1.2.0",
      "_view_name": "LayoutView",
      "align_content": null,
      "align_items": null,
      "align_self": null,
      "border": null,
      "bottom": null,
      "display": null,
      "flex": null,
      "flex_flow": null,
      "grid_area": null,
      "grid_auto_columns": null,
      "grid_auto_flow": null,
      "grid_auto_rows": null,
      "grid_column": null,
      "grid_gap": null,
      "grid_row": null,
      "grid_template_areas": null,
      "grid_template_columns": null,
      "grid_template_rows": null,
      "height": null,
      "justify_content": null,
      "justify_items": null,
      "left": null,
      "margin": null,
      "max_height": null,
      "max_width": null,
      "min_height": null,
      "min_width": null,
      "object_fit": null,
      "object_position": null,
      "order": null,
      "overflow": null,
      "overflow_x": null,
      "overflow_y": null,
      "padding": null,
      "right": null,
      "top": null,
      "visibility": null,
      "width": null
     }
    },
    "aba75320e34e409085f591ada31d5abf": {
     "model_module": "@jupyter-widgets/controls",
     "model_module_version": "1.5.0",
     "model_name": "DescriptionStyleModel",
     "state": {
      "_model_module": "@jupyter-widgets/controls",
      "_model_module_version": "1.5.0",
      "_model_name": "DescriptionStyleModel",
      "_view_count": null,
      "_view_module": "@jupyter-widgets/base",
      "_view_module_version": "1.2.0",
      "_view_name": "StyleView",
      "description_width": ""
     }
    },
    "e74b44901a1f4c8dbaa94ddc8a8b7706": {
     "model_module": "@jupyter-widgets/controls",
     "model_module_version": "1.5.0",
     "model_name": "ProgressStyleModel",
     "state": {
      "_model_module": "@jupyter-widgets/controls",
      "_model_module_version": "1.5.0",
      "_model_name": "ProgressStyleModel",
      "_view_count": null,
      "_view_module": "@jupyter-widgets/base",
      "_view_module_version": "1.2.0",
      "_view_name": "StyleView",
      "bar_color": null,
      "description_width": ""
     }
    }
   }
  }
 },
 "nbformat": 4,
 "nbformat_minor": 1
}
